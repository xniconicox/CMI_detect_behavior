{
 "cells": [
  {
   "cell_type": "markdown",
   "metadata": {},
   "source": [
    "# 前処理可視化ノート\n",
    "前処理モジュール `src/utils/preprocessing.py` で実装した各種処理の効果を確認するためのデモです。\n",
    "ハイパーパラメータは `config.yaml` から読み込みます。"
   ]
  },
  {
   "cell_type": "code",
   "metadata": {},
   "execution_count": null,
   "outputs": [],
   "source": [
    "import numpy as np\n",
    "import pandas as pd\n",
    "import matplotlib.pyplot as plt\n",
    "from src.utils import preprocessing\n",
    "from src.utils.config_utils import get_preprocessing_params\n",
    "\n",
    "params = get_preprocessing_params()\n",
    "window_size = params.get('window_size', 256)\n",
    "stride = params.get('stride', 128)\n",
    "\n",
    "t = np.linspace(0, window_size/params['sampling_rate'], window_size)\n",
    "acc_x = np.sin(2*np.pi*1*t)\n",
    "acc_y = np.cos(2*np.pi*1*t)\n",
    "acc_z = np.sin(2*np.pi*0.5*t)\n",
    "quat = np.array([np.ones_like(t), np.zeros_like(t), np.zeros_like(t), np.zeros_like(t)]).T\n",
    "df = pd.DataFrame({\n",
    "    'acc_x': acc_x,\n",
    "    'acc_y': acc_y,\n",
    "    'acc_z': acc_z,\n",
    "    'rot_w': quat[:,0],\n",
    "    'rot_x': quat[:,1],\n",
    "    'rot_y': quat[:,2],\n",
    "    'rot_z': quat[:,3],\n",
    "    'handedness': 1,\n",
    "    'gesture': 0,\n",
    "    'subject': 0,\n",
    "    'sequence_id': 0,\n",
    "})"
   ]
  },
  {
   "cell_type": "code",
   "metadata": {},
   "execution_count": null,
   "outputs": [],
   "source": [
    "# 線形加速度の計算例\n",
    "lin_acc = np.array([\n",
    "    preprocessing.linear_acceleration(row[['acc_x','acc_y','acc_z']].values,\n",
    "                                      row[['rot_w','rot_x','rot_y','rot_z']].values)\n",
    "    for _, row in df.iterrows()\n",
    "])\n",
    "df[['lin_acc_x','lin_acc_y','lin_acc_z']] = lin_acc\n",
    "\n",
    "# FFT バンドエネルギー\n",
    "bands = params['fft_bands']\n",
    "window = df[['lin_acc_x','lin_acc_y','lin_acc_z']].values[np.newaxis, :, :]\n",
    "fft_energy = preprocessing.compute_fft_band_energy(window, fs=params['sampling_rate'], bands=bands)\n",
    "fft_energy"
   ]
  },
  {
   "cell_type": "code",
   "metadata": {},
   "execution_count": null,
   "outputs": [],
   "source": [
    "plt.figure(figsize=(6,3))\n",
    "plt.plot(t, df['acc_x'], label='acc_x')\n",
    "plt.plot(t, df['lin_acc_x'], label='lin_acc_x')\n",
    "plt.legend()\n",
    "plt.title('Linear Acceleration Example')\n",
    "plt.show()"
   ]
  }
 ],
 "metadata": {
  "kernelspec": {
   "display_name": ".venv",
   "language": "python",
   "name": "python3"
  },
  "language_info": {
   "name": "python",
   "pygments_lexer": "ipython3",
   "codemirror_mode": {
    "name": "ipython",
    "version": 3
   },
   "nbconvert_exporter": "python",
   "mimetype": "text/x-python",
   "file_extension": ".py"
  }
 },
 "nbformat": 4,
 "nbformat_minor": 5
}
