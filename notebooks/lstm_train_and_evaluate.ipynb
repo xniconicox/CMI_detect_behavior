{
  "cells": [
    {
      "cell_type": "markdown",
      "metadata": {
        "vscode": {
          "languageId": "raw"
        }
      },
      "source": [
        "# LSTM学習と評価 - Optuna最適化版\n",
        "\n",
        "このノートブックでは、前処理済みデータを使用してLSTMモデルを学習し、Optunaでハイパーパラメータ最適化を行います。\n",
        "\n",
        "## 処理内容\n",
        "1. **環境設定とライブラリのインポート**: 必要なライブラリの読み込み\n",
        "2. **前処理済みデータの読み込み**: 複数のウィンドウ設定から選択\n",
        "3. **ウィンドウ設定の比較**: 軽量学習で最適設定を特定\n",
        "4. **Optunaハイパーパラメータ最適化**: 選択された設定で詳細最適化\n",
        "5. **最終モデルの学習**: 最適パラメータでの本格学習\n",
        "6. **結果の可視化と保存**: 学習結果の分析と保存\n",
        "\n",
        "## 利用可能なウィンドウ設定\n",
        "- **w64_s16**: 高解像度（短期パターン重視）\n",
        "- **w128_s32**: バランス型（中期パターン）\n",
        "\n",
        "注意: w256_s64は処理時間が長すぎるため削除されました。\n"
      ]
    },
    {
      "cell_type": "code",
      "execution_count": 1,
      "metadata": {},
      "outputs": [
        {
          "name": "stdout",
          "output_type": "stream",
          "text": [
            "ライブラリのインポート完了\n",
            "プロジェクトルート: /mnt/c/Users/ShunK/works/CMI_comp\n",
            "利用可能なウィンドウ設定: ['w64_s16', 'w128_s32']\n",
            "選択された設定: w64_s16\n"
          ]
        }
      ],
      "source": [
        "# ライブラリのインポート\n",
        "import os\n",
        "import sys\n",
        "import numpy as np\n",
        "import pandas as pd\n",
        "import matplotlib.pyplot as plt\n",
        "import seaborn as sns\n",
        "from pathlib import Path\n",
        "import pickle\n",
        "import json\n",
        "import warnings\n",
        "warnings.filterwarnings('ignore')\n",
        "\n",
        "# Optuna関連\n",
        "import optuna\n",
        "from optuna.samplers import TPESampler\n",
        "\n",
        "# プロジェクトルートをパスに追加\n",
        "project_root = Path.cwd().parent\n",
        "sys.path.append(str(project_root))\n",
        "\n",
        "# 設定\n",
        "plt.rcParams['figure.figsize'] = (14, 8)\n",
        "plt.rcParams['font.size'] = 12\n",
        "sns.set_style(\"whitegrid\")\n",
        "\n",
        "# 利用可能なウィンドウ設定（w256_s64は処理時間が長すぎるため削除）\n",
        "AVAILABLE_CONFIGS = ['w64_s16', 'w128_s32']\n",
        "\n",
        "# 選択可能なウィンドウ設定（変更可能）\n",
        "SELECTED_CONFIG = 'w64_s16'  # デフォルト設定\n",
        "\n",
        "print(\"ライブラリのインポート完了\")\n",
        "print(f\"プロジェクトルート: {project_root}\")\n",
        "print(f\"利用可能なウィンドウ設定: {AVAILABLE_CONFIGS}\")\n",
        "print(f\"選択された設定: {SELECTED_CONFIG}\")\n"
      ]
    },
    {
      "cell_type": "code",
      "execution_count": 2,
      "metadata": {},
      "outputs": [
        {
          "name": "stderr",
          "output_type": "stream",
          "text": [
            "2025-07-06 18:47:17.739868: I tensorflow/core/util/port.cc:153] oneDNN custom operations are on. You may see slightly different numerical results due to floating-point round-off errors from different computation orders. To turn them off, set the environment variable `TF_ENABLE_ONEDNN_OPTS=0`.\n",
            "2025-07-06 18:47:19.553875: E external/local_xla/xla/stream_executor/cuda/cuda_fft.cc:467] Unable to register cuFFT factory: Attempting to register factory for plugin cuFFT when one has already been registered\n",
            "WARNING: All log messages before absl::InitializeLog() is called are written to STDERR\n",
            "E0000 00:00:1751795240.128918   84619 cuda_dnn.cc:8579] Unable to register cuDNN factory: Attempting to register factory for plugin cuDNN when one has already been registered\n",
            "E0000 00:00:1751795240.292141   84619 cuda_blas.cc:1407] Unable to register cuBLAS factory: Attempting to register factory for plugin cuBLAS when one has already been registered\n",
            "W0000 00:00:1751795241.534468   84619 computation_placer.cc:177] computation placer already registered. Please check linkage and avoid linking the same target more than once.\n",
            "W0000 00:00:1751795241.534507   84619 computation_placer.cc:177] computation placer already registered. Please check linkage and avoid linking the same target more than once.\n",
            "W0000 00:00:1751795241.534508   84619 computation_placer.cc:177] computation placer already registered. Please check linkage and avoid linking the same target more than once.\n",
            "W0000 00:00:1751795241.534510   84619 computation_placer.cc:177] computation placer already registered. Please check linkage and avoid linking the same target more than once.\n",
            "2025-07-06 18:47:21.686383: I tensorflow/core/platform/cpu_feature_guard.cc:210] This TensorFlow binary is optimized to use available CPU instructions in performance-critical operations.\n",
            "To enable the following instructions: AVX2 AVX_VNNI FMA, in other operations, rebuild TensorFlow with the appropriate compiler flags.\n"
          ]
        },
        {
          "name": "stdout",
          "output_type": "stream",
          "text": [
            "=== GPU設定確認 ===\n",
            "TensorFlow バージョン: 2.19.0\n",
            "利用可能なGPU: 1台\n",
            "GPU詳細:\n",
            "  GPU 0: /physical_device:GPU:0\n",
            "GPU メモリ成長設定: 有効\n"
          ]
        },
        {
          "name": "stderr",
          "output_type": "stream",
          "text": [
            "I0000 00:00:1751795259.050239   84619 gpu_device.cc:2019] Created device /job:localhost/replica:0/task:0/device:GPU:0 with 5660 MB memory:  -> device: 0, name: NVIDIA GeForce RTX 3050, pci bus id: 0000:01:00.0, compute capability: 8.6\n"
          ]
        },
        {
          "name": "stdout",
          "output_type": "stream",
          "text": [
            "GPU動作テスト: 成功\n",
            "=================\n"
          ]
        }
      ],
      "source": [
        "# GPU設定と確認\n",
        "import tensorflow as tf\n",
        "\n",
        "print(\"=== GPU設定確認 ===\")\n",
        "print(f\"TensorFlow バージョン: {tf.__version__}\")\n",
        "\n",
        "# GPU利用可能性確認\n",
        "gpus = tf.config.list_physical_devices('GPU')\n",
        "print(f\"利用可能なGPU: {len(gpus)}台\")\n",
        "\n",
        "if gpus:\n",
        "    print(\"GPU詳細:\")\n",
        "    for i, gpu in enumerate(gpus):\n",
        "        print(f\"  GPU {i}: {gpu.name}\")\n",
        "    \n",
        "    # GPU メモリ成長設定\n",
        "    try:\n",
        "        for gpu in gpus:\n",
        "            tf.config.experimental.set_memory_growth(gpu, True)\n",
        "        print(\"GPU メモリ成長設定: 有効\")\n",
        "    except RuntimeError as e:\n",
        "        print(f\"GPU設定エラー: {e}\")\n",
        "    \n",
        "    # GPU動作テスト\n",
        "    try:\n",
        "        with tf.device('/GPU:0'):\n",
        "            test_tensor = tf.constant([[1.0, 2.0], [3.0, 4.0]])\n",
        "            result = tf.matmul(test_tensor, test_tensor)\n",
        "        print(\"GPU動作テスト: 成功\")\n",
        "    except Exception as e:\n",
        "        print(f\"GPU動作テスト失敗: {e}\")\n",
        "else:\n",
        "    print(\"GPU が見つかりません\")\n",
        "    print(\"GPU を使用したい場合は以下をインストール:\")\n",
        "    print(\"  pip install tensorflow[and-cuda]\")\n",
        "    print(\"  または pip install tensorflow-gpu\")\n",
        "\n",
        "print(\"=================\")\n"
      ]
    },
    {
      "cell_type": "code",
      "execution_count": 3,
      "metadata": {},
      "outputs": [
        {
          "name": "stdout",
          "output_type": "stream",
          "text": [
            "tqdm は既にインストール済み\n",
            "optuna-dashboard をインストール中...\n",
            "optuna-dashboard インストール失敗\n",
            "tqdm インポート成功\n",
            "進捗表示ライブラリ設定完了\n"
          ]
        },
        {
          "name": "stderr",
          "output_type": "stream",
          "text": [
            "/mnt/c/Users/ShunK/works/CMI_comp/.venv/bin/python: No module named pip\n"
          ]
        }
      ],
      "source": [
        "# 進捗表示ライブラリのインストールと設定\n",
        "import subprocess\n",
        "import sys\n",
        "\n",
        "def install_package(package):\n",
        "    \"\"\"パッケージをインストールする\"\"\"\n",
        "    try:\n",
        "        subprocess.check_call([sys.executable, \"-m\", \"pip\", \"install\", package])\n",
        "        print(f\"{package} インストール完了\")\n",
        "        return True\n",
        "    except subprocess.CalledProcessError:\n",
        "        print(f\"{package} インストール失敗\")\n",
        "        return False\n",
        "\n",
        "# 必要なパッケージをインストール\n",
        "required_packages = ['tqdm', 'optuna-dashboard']\n",
        "for package in required_packages:\n",
        "    try:\n",
        "        __import__(package.replace('-', '_'))\n",
        "        print(f\"{package} は既にインストール済み\")\n",
        "    except ImportError:\n",
        "        print(f\"{package} をインストール中...\")\n",
        "        install_package(package)\n",
        "\n",
        "# インポート確認\n",
        "try:\n",
        "    from tqdm import tqdm\n",
        "    from tqdm.keras import TqdmCallback\n",
        "    print(\"tqdm インポート成功\")\n",
        "except ImportError:\n",
        "    print(\"tqdm インポート失敗\")\n",
        "\n",
        "print(\"進捗表示ライブラリ設定完了\")\n"
      ]
    },
    {
      "cell_type": "code",
      "execution_count": 4,
      "metadata": {},
      "outputs": [
        {
          "name": "stdout",
          "output_type": "stream",
          "text": [
            "モジュールを再読み込みしました\n"
          ]
        }
      ],
      "source": [
        "# モジュールの強制再読み込み（修正後の確認用）\n",
        "import importlib\n",
        "import sys\n",
        "if 'src.lstm_model' in sys.modules:\n",
        "    importlib.reload(sys.modules['src.lstm_model'])\n",
        "if 'src.lstm_trainer' in sys.modules:\n",
        "    importlib.reload(sys.modules['src.lstm_trainer'])\n",
        "\n",
        "print(\"モジュールを再読み込みしました\")\n"
      ]
    },
    {
      "cell_type": "code",
      "execution_count": 5,
      "metadata": {},
      "outputs": [
        {
          "name": "stdout",
          "output_type": "stream",
          "text": [
            "LSTMTrainerのインポート成功\n",
            "学習環境の準備完了\n"
          ]
        }
      ],
      "source": [
        "# LSTM学習クラスのインポート\n",
        "try:\n",
        "    from src.lstm_trainer import LSTMTrainer\n",
        "    print(\"LSTMTrainerのインポート成功\")\n",
        "except ImportError as e:\n",
        "    print(f\"LSTMTrainerのインポートエラー: {e}\")\n",
        "    print(\"TensorFlowがインストールされていない可能性があります\")\n",
        "    print(\"以下のコマンドでインストールしてください：\")\n",
        "    print(\"pip install tensorflow\")\n",
        "    raise\n",
        "\n",
        "print(\"学習環境の準備完了\")\n"
      ]
    },
    {
      "cell_type": "markdown",
      "metadata": {
        "vscode": {
          "languageId": "raw"
        }
      },
      "source": [
        "# 1. 前処理済みデータの読み込み\n"
      ]
    },
    {
      "cell_type": "code",
      "execution_count": 6,
      "metadata": {},
      "outputs": [
        {
          "name": "stdout",
          "output_type": "stream",
          "text": [
            "=== Optuna結果の確認 ===\n",
            "対象設定: w64_s16\n",
            "✅ 保存されたOptuna結果を発見: w64_s16\n",
            "   - 最適化試行数: 20\n",
            "   - 最高F1-macro: 0.0000\n",
            "   - 最適パラメータ: 7個\n"
          ]
        },
        {
          "name": "stderr",
          "output_type": "stream",
          "text": [
            "[I 2025-07-06 18:47:53,116] A new study created in memory with name: no-name-6a8ceb7b-5746-49ee-8c7b-dd287e6c19ec\n"
          ]
        },
        {
          "name": "stdout",
          "output_type": "stream",
          "text": [
            "\n",
            "✅ 既存のOptuna結果を使用します\n",
            "✅ スタディオブジェクトを復元しました\n",
            "   - 試行数: 20\n",
            "   - 最高F1-macro: 0.0000\n",
            "   - 最適パラメータ:\n",
            "     lstm_units_1: 64\n",
            "     lstm_units_2: 64\n",
            "     dense_units: 48\n",
            "     dropout_rate: 0.30000000000000004\n",
            "     dense_dropout_rate: 0.1\n",
            "     learning_rate: 0.00020511104188433984\n",
            "     batch_size: 32\n",
            "========================\n"
          ]
        }
      ],
      "source": [
        "# Optuna結果の読み込み機能\n",
        "def load_optuna_results(config_name):\n",
        "    \"\"\"保存されたOptuna結果を読み込む\"\"\"\n",
        "    result_path = Path(f\"../output/experiments/lstm_{config_name}/optuna_results.json\")\n",
        "    \n",
        "    if result_path.exists():\n",
        "        with open(result_path, 'r') as f:\n",
        "            return json.load(f)\n",
        "    else:\n",
        "        return None\n",
        "\n",
        "def should_run_optimization(config_name):\n",
        "    \"\"\"最適化を実行するかどうかを判定\"\"\"\n",
        "    results = load_optuna_results(config_name)\n",
        "    \n",
        "    if results is None:\n",
        "        print(f\"⚠️  保存されたOptuna結果が見つかりません: {config_name}\")\n",
        "        return True\n",
        "    \n",
        "    print(f\"✅ 保存されたOptuna結果を発見: {config_name}\")\n",
        "    print(f\"   - 最適化試行数: {results['n_trials']}\")\n",
        "    print(f\"   - 最高F1-macro: {results['best_value']:.4f}\")\n",
        "    print(f\"   - 最適パラメータ: {len(results['best_params'])}個\")\n",
        "    \n",
        "    # ユーザーに確認\n",
        "    response = input(f\"\\n既存の結果を使用しますか？ (y/n): \").lower().strip()\n",
        "    return response not in ['y', 'yes', 'はい']\n",
        "\n",
        "# 既存結果の確認\n",
        "print(f\"=== Optuna結果の確認 ===\")\n",
        "print(f\"対象設定: {SELECTED_CONFIG}\")\n",
        "\n",
        "existing_results = load_optuna_results(SELECTED_CONFIG)\n",
        "run_optimization = should_run_optimization(SELECTED_CONFIG)\n",
        "\n",
        "if not run_optimization and existing_results:\n",
        "    print(f\"\\n✅ 既存のOptuna結果を使用します\")\n",
        "    # 既存結果からスタディオブジェクトを再構築\n",
        "    study = optuna.create_study(direction='maximize', sampler=TPESampler(seed=42))\n",
        "    \n",
        "    # 既存の試行結果を追加\n",
        "    for value, params in existing_results['study_trials']:\n",
        "        trial = optuna.trial.create_trial(\n",
        "            params=params,\n",
        "            distributions={\n",
        "                'lstm_units_1': optuna.distributions.IntDistribution(32, 128, step=16),\n",
        "                'lstm_units_2': optuna.distributions.IntDistribution(16, 64, step=16),\n",
        "                'dense_units': optuna.distributions.IntDistribution(16, 64, step=16),\n",
        "                'dropout_rate': optuna.distributions.FloatDistribution(0.1, 0.5, step=0.1),\n",
        "                'dense_dropout_rate': optuna.distributions.FloatDistribution(0.1, 0.5, step=0.1),\n",
        "                'learning_rate': optuna.distributions.FloatDistribution(1e-4, 1e-2, log=True),\n",
        "                'batch_size': optuna.distributions.CategoricalDistribution([16, 32, 64])\n",
        "            },\n",
        "            value=value\n",
        "        )\n",
        "        study.add_trial(trial)\n",
        "    \n",
        "    print(f\"✅ スタディオブジェクトを復元しました\")\n",
        "    print(f\"   - 試行数: {len(study.trials)}\")\n",
        "    print(f\"   - 最高F1-macro: {study.best_value:.4f}\")\n",
        "    print(f\"   - 最適パラメータ:\")\n",
        "    for key, value in study.best_params.items():\n",
        "        print(f\"     {key}: {value}\")\n",
        "else:\n",
        "    print(f\"\\n🔄 新しいOptuna最適化を実行します\")\n",
        "    study = None  # 後で新しく作成\n",
        "\n",
        "print(f\"========================\")\n"
      ]
    },
    {
      "cell_type": "code",
      "execution_count": 7,
      "metadata": {},
      "outputs": [
        {
          "name": "stdout",
          "output_type": "stream",
          "text": [
            "利用可能な前処理済み設定: ['w64_s16', 'w128_s32']\n",
            "\n",
            "選択された設定: w64_s16\n",
            "\n",
            "データ読み込み完了:\n",
            "- X_windows形状: (13393, 64, 332)\n",
            "- y_windows形状: (13393,)\n",
            "- ウィンドウサイズ: 64\n",
            "- ストライド: 16\n",
            "- クラス数: 18\n",
            "- 特徴量数: 332\n"
          ]
        }
      ],
      "source": [
        "def load_preprocessed_data(config_name):\n",
        "    \"\"\"前処理済みデータを読み込む\"\"\"\n",
        "    data_dir = Path(f\"../output/experiments/lstm_{config_name}/preprocessed\")\n",
        "    \n",
        "    if not data_dir.exists():\n",
        "        raise FileNotFoundError(f\"前処理済みデータが見つかりません: {data_dir}\")\n",
        "    \n",
        "    # データを読み込み\n",
        "    with open(data_dir / \"X_windows.pkl\", \"rb\") as f:\n",
        "        X_windows = pickle.load(f)\n",
        "    \n",
        "    with open(data_dir / \"y_windows.pkl\", \"rb\") as f:\n",
        "        y_windows = pickle.load(f)\n",
        "    \n",
        "    with open(data_dir / \"sequence_info.pkl\", \"rb\") as f:\n",
        "        sequence_info = pickle.load(f)\n",
        "    \n",
        "    with open(data_dir / \"scaler.pkl\", \"rb\") as f:\n",
        "        scaler = pickle.load(f)\n",
        "    \n",
        "    with open(data_dir / \"label_encoder.pkl\", \"rb\") as f:\n",
        "        label_encoder = pickle.load(f)\n",
        "    \n",
        "    with open(data_dir / \"config.pkl\", \"rb\") as f:\n",
        "        config = pickle.load(f)\n",
        "    \n",
        "    return X_windows, y_windows, sequence_info, scaler, label_encoder, config\n",
        "\n",
        "# 利用可能な設定を確認\n",
        "available_configs = []\n",
        "for config_name in AVAILABLE_CONFIGS:\n",
        "    data_dir = Path(f\"../output/experiments/lstm_{config_name}/preprocessed\")\n",
        "    if data_dir.exists():\n",
        "        available_configs.append(config_name)\n",
        "\n",
        "print(f\"利用可能な前処理済み設定: {available_configs}\")\n",
        "\n",
        "if not available_configs:\n",
        "    print(\"エラー: 前処理済みデータが見つかりません\")\n",
        "    print(\"前処理ノートブック (lstm_preprocessing_and_visualization.ipynb) を先に実行してください\")\n",
        "    raise FileNotFoundError(\"前処理済みデータが見つかりません\")\n",
        "else:\n",
        "    print(f\"\\n選択された設定: {SELECTED_CONFIG}\")\n",
        "    if SELECTED_CONFIG not in available_configs:\n",
        "        print(f\"警告: 選択された設定 '{SELECTED_CONFIG}' が利用できません\")\n",
        "        SELECTED_CONFIG = available_configs[0]\n",
        "        print(f\"代わりに '{SELECTED_CONFIG}' を使用します\")\n",
        "    \n",
        "    # データを読み込み\n",
        "    X_windows, y_windows, sequence_info, scaler, label_encoder, config = load_preprocessed_data(SELECTED_CONFIG)\n",
        "    \n",
        "    print(f\"\\nデータ読み込み完了:\")\n",
        "    print(f\"- X_windows形状: {X_windows.shape}\")\n",
        "    print(f\"- y_windows形状: {y_windows.shape}\")\n",
        "    print(f\"- ウィンドウサイズ: {config['window_size']}\")\n",
        "    print(f\"- ストライド: {config['stride']}\")\n",
        "    print(f\"- クラス数: {len(label_encoder.classes_)}\")\n",
        "    print(f\"- 特徴量数: {X_windows.shape[2]}\")\n"
      ]
    },
    {
      "cell_type": "markdown",
      "metadata": {
        "vscode": {
          "languageId": "raw"
        }
      },
      "source": [
        "# 2. Optunaハイパーパラメータ最適化\n"
      ]
    },
    {
      "cell_type": "code",
      "execution_count": 8,
      "metadata": {},
      "outputs": [
        {
          "name": "stdout",
          "output_type": "stream",
          "text": [
            "✅ 既存のOptuna結果を使用します - 最適化をスキップ\n",
            "   最高F1-macro: 0.0000\n",
            "   最適パラメータ:\n",
            "     lstm_units_1: 64\n",
            "     lstm_units_2: 64\n",
            "     dense_units: 48\n",
            "     dropout_rate: 0.30000000000000004\n",
            "     dense_dropout_rate: 0.1\n",
            "     learning_rate: 0.00020511104188433984\n",
            "     batch_size: 32\n",
            "✅ 既存のOptuna結果を使用します - 最適化をスキップ\n",
            "   最高F1-macro: 0.0000\n",
            "   最適パラメータ:\n",
            "     lstm_units_1: 64\n",
            "     lstm_units_2: 64\n",
            "     dense_units: 48\n",
            "     dropout_rate: 0.30000000000000004\n",
            "     dense_dropout_rate: 0.1\n",
            "     learning_rate: 0.00020511104188433984\n",
            "     batch_size: 32\n"
          ]
        }
      ],
      "source": [
        "# Optuna最適化の実行（条件分岐）\n",
        "if study is None:  # 新しい最適化を実行\n",
        "    print(\"🔄 新しいOptuna最適化を実行します...\")\n",
        "    \n",
        "    # Optunaハイパーパラメータ最適化の設定\n",
        "    N_TRIALS = 20  # 試行回数（時間に応じて調整）\n",
        "    OPTIMIZATION_TIMEOUT = 3600  # 最大実行時間（秒）\n",
        "\n",
        "    def objective(trial):\n",
        "        \"\"\"Optuna最適化の目的関数\"\"\"\n",
        "        \n",
        "        # ハイパーパラメータの提案\n",
        "        params = {\n",
        "            'lstm_units_1': trial.suggest_int('lstm_units_1', 32, 128, step=16),\n",
        "            'lstm_units_2': trial.suggest_int('lstm_units_2', 16, 64, step=16),\n",
        "            'dense_units': trial.suggest_int('dense_units', 16, 64, step=16),\n",
        "            'dropout_rate': trial.suggest_float('dropout_rate', 0.1, 0.5, step=0.1),\n",
        "            'dense_dropout_rate': trial.suggest_float('dense_dropout_rate', 0.1, 0.5, step=0.1),\n",
        "            'learning_rate': trial.suggest_float('learning_rate', 1e-4, 1e-2, log=True),\n",
        "            'batch_size': trial.suggest_categorical('batch_size', [16, 32, 64]),\n",
        "            'epochs': 30,  # 固定（最適化時は短めに）\n",
        "            'patience': 10,\n",
        "            'reduce_lr_patience': 5\n",
        "        }\n",
        "        \n",
        "        # 実験名を設定\n",
        "        experiment_name = f\"lstm_{SELECTED_CONFIG}_optuna_trial_{trial.number}\"\n",
        "        \n",
        "        # 学習環境を初期化\n",
        "        trainer = LSTMTrainer(experiment_name)\n",
        "        \n",
        "        try:\n",
        "            # データを適切な形式で準備\n",
        "            trial_data = {\n",
        "                'X_windows': X_windows,\n",
        "                'y_windows': y_windows,\n",
        "                'scaler': scaler,\n",
        "                'label_encoder': label_encoder,\n",
        "                'meta': {\n",
        "                    'window_size': config['window_size'],\n",
        "                    'n_features': X_windows.shape[2],\n",
        "                    'n_classes': len(label_encoder.classes_),\n",
        "                    'n_samples': len(X_windows)\n",
        "                }\n",
        "            }\n",
        "            \n",
        "            # データを一時的に保存\n",
        "            import pickle\n",
        "            temp_data_path = f\"../output/temp_trial_{trial.number}_data.pkl\"\n",
        "            with open(temp_data_path, 'wb') as f:\n",
        "                pickle.dump(trial_data, f)\n",
        "            \n",
        "            # 実験を実行\n",
        "            results = trainer.run_experiment(\n",
        "                data_path=temp_data_path,\n",
        "                model_params=params\n",
        "            )\n",
        "            \n",
        "            if results is None:\n",
        "                return 0.0\n",
        "            \n",
        "            # F1-macroを最大化\n",
        "            f1_macro = results['eval_results']['f1_macro']\n",
        "            \n",
        "            # 優良なモデルのみ保存（F1 > 0.3）\n",
        "            if f1_macro > 0.3:\n",
        "                print(f\"Trial {trial.number}: F1={f1_macro:.4f} - モデル保存\")\n",
        "            else:\n",
        "                print(f\"Trial {trial.number}: F1={f1_macro:.4f} - スキップ\")\n",
        "                # 低性能モデルのディレクトリを削除\n",
        "                import shutil\n",
        "                experiment_dir = Path(f\"../output/experiments/{experiment_name}\")\n",
        "                if experiment_dir.exists():\n",
        "                    shutil.rmtree(experiment_dir)\n",
        "            \n",
        "            # 一時ファイルをクリーンアップ\n",
        "            import os\n",
        "            if os.path.exists(temp_data_path):\n",
        "                os.remove(temp_data_path)\n",
        "            \n",
        "            return f1_macro\n",
        "            \n",
        "        except Exception as e:\n",
        "            print(f\"Trial {trial.number} でエラー: {e}\")\n",
        "            # エラー時も一時ファイルをクリーンアップ\n",
        "            import os\n",
        "            temp_data_path = f\"../output/temp_trial_{trial.number}_data.pkl\"\n",
        "            if os.path.exists(temp_data_path):\n",
        "                os.remove(temp_data_path)\n",
        "            return 0.0\n",
        "\n",
        "    print(f\"試行回数: {N_TRIALS}\")\n",
        "    print(f\"最大実行時間: {OPTIMIZATION_TIMEOUT}秒\")\n",
        "    print(f\"対象設定: {SELECTED_CONFIG}\")\n",
        "    print(f\"データ形状: {X_windows.shape}\")\n",
        "\n",
        "    # Optunaスタディを作成\n",
        "    study = optuna.create_study(\n",
        "        direction='maximize',\n",
        "        sampler=TPESampler(seed=42)\n",
        "    )\n",
        "\n",
        "    # 最適化を実行\n",
        "    study.optimize(\n",
        "        objective, \n",
        "        n_trials=N_TRIALS,\n",
        "        timeout=OPTIMIZATION_TIMEOUT,\n",
        "        show_progress_bar=True\n",
        "    )\n",
        "\n",
        "    # 結果を表示\n",
        "    print(f\"\\n{'='*60}\")\n",
        "    print(\"Optunaハイパーパラメータ最適化完了！\")\n",
        "    print(f\"{'='*60}\")\n",
        "    print(f\"最適化試行数: {len(study.trials)}\")\n",
        "    print(f\"最高F1-macro: {study.best_value:.4f}\")\n",
        "    print(f\"最適パラメータ:\")\n",
        "    for key, value in study.best_params.items():\n",
        "        print(f\"  {key}: {value}\")\n",
        "\n",
        "    # 結果を保存\n",
        "    optuna_results = {\n",
        "        'best_params': study.best_params,\n",
        "        'best_value': study.best_value,\n",
        "        'n_trials': len(study.trials),\n",
        "        'config': SELECTED_CONFIG,\n",
        "        'study_trials': [(t.value, t.params) for t in study.trials if t.value is not None]\n",
        "    }\n",
        "    \n",
        "    output_dir = Path(f\"../output/experiments/lstm_{SELECTED_CONFIG}\")\n",
        "    output_dir.mkdir(parents=True, exist_ok=True)\n",
        "\n",
        "    with open(output_dir / \"optuna_results.json\", \"w\") as f:\n",
        "        json.dump(optuna_results, f, indent=2)\n",
        "\n",
        "    print(f\"\\nOptuna結果を保存しました: {output_dir}/optuna_results.json\")\n",
        "    \n",
        "else:  # 既存結果を使用\n",
        "    print(\"✅ 既存のOptuna結果を使用します - 最適化をスキップ\")\n",
        "    print(f\"   最高F1-macro: {study.best_value:.4f}\")\n",
        "    print(f\"   最適パラメータ:\")\n",
        "    for key, value in study.best_params.items():\n",
        "        print(f\"     {key}: {value}\")\n",
        "\n",
        "\n",
        "# Optuna最適化の実行（条件分岐）\n",
        "if study is None:  # 新しい最適化を実行\n",
        "    print(\"🔄 新しいOptuna最適化を実行します...\")\n",
        "    \n",
        "    # Optunaハイパーパラメータ最適化の設定\n",
        "    N_TRIALS = 20  # 試行回数（時間に応じて調整）\n",
        "    OPTIMIZATION_TIMEOUT = 3600  # 最大実行時間（秒）\n",
        "\n",
        "    def objective(trial):\n",
        "        \"\"\"Optuna最適化の目的関数\"\"\"\n",
        "        \n",
        "        # ハイパーパラメータの提案\n",
        "        params = {\n",
        "            'lstm_units_1': trial.suggest_int('lstm_units_1', 32, 128, step=16),\n",
        "            'lstm_units_2': trial.suggest_int('lstm_units_2', 16, 64, step=16),\n",
        "            'dense_units': trial.suggest_int('dense_units', 16, 64, step=16),\n",
        "            'dropout_rate': trial.suggest_float('dropout_rate', 0.1, 0.5, step=0.1),\n",
        "            'dense_dropout_rate': trial.suggest_float('dense_dropout_rate', 0.1, 0.5, step=0.1),\n",
        "            'learning_rate': trial.suggest_float('learning_rate', 1e-4, 1e-2, log=True),\n",
        "            'batch_size': trial.suggest_categorical('batch_size', [16, 32, 64]),\n",
        "            'epochs': 30,  # 固定（最適化時は短めに）\n",
        "            'patience': 10,\n",
        "            'reduce_lr_patience': 5\n",
        "        }\n",
        "        \n",
        "        # 実験名を設定\n",
        "        experiment_name = f\"lstm_{SELECTED_CONFIG}_optuna_trial_{trial.number}\"\n",
        "        \n",
        "        # 学習環境を初期化\n",
        "        trainer = LSTMTrainer(experiment_name)\n",
        "        \n",
        "        try:\n",
        "            # データを適切な形式で準備\n",
        "            trial_data = {\n",
        "                'X_windows': X_windows,\n",
        "                'y_windows': y_windows,\n",
        "                'scaler': scaler,\n",
        "                'label_encoder': label_encoder,\n",
        "                'meta': {\n",
        "                    'window_size': config['window_size'],\n",
        "                    'n_features': X_windows.shape[2],\n",
        "                    'n_classes': len(label_encoder.classes_),\n",
        "                    'n_samples': len(X_windows)\n",
        "                }\n",
        "            }\n",
        "            \n",
        "            # データを一時的に保存\n",
        "            import pickle\n",
        "            temp_data_path = f\"../output/temp_trial_{trial.number}_data.pkl\"\n",
        "            with open(temp_data_path, 'wb') as f:\n",
        "                pickle.dump(trial_data, f)\n",
        "            \n",
        "            # 実験を実行\n",
        "            results = trainer.run_experiment(\n",
        "                data_path=temp_data_path,\n",
        "                model_params=params\n",
        "            )\n",
        "            \n",
        "            if results is None:\n",
        "                return 0.0\n",
        "            \n",
        "            # F1-macroを最大化\n",
        "            f1_macro = results['eval_results']['f1_macro']\n",
        "            \n",
        "            # 優良なモデルのみ保存（F1 > 0.3）\n",
        "            if f1_macro > 0.3:\n",
        "                print(f\"Trial {trial.number}: F1={f1_macro:.4f} - モデル保存\")\n",
        "            else:\n",
        "                print(f\"Trial {trial.number}: F1={f1_macro:.4f} - スキップ\")\n",
        "                # 低性能モデルのディレクトリを削除\n",
        "                import shutil\n",
        "                experiment_dir = Path(f\"../output/experiments/{experiment_name}\")\n",
        "                if experiment_dir.exists():\n",
        "                    shutil.rmtree(experiment_dir)\n",
        "            \n",
        "            # 一時ファイルをクリーンアップ\n",
        "            import os\n",
        "            if os.path.exists(temp_data_path):\n",
        "                os.remove(temp_data_path)\n",
        "            \n",
        "            return f1_macro\n",
        "            \n",
        "        except Exception as e:\n",
        "            print(f\"Trial {trial.number} でエラー: {e}\")\n",
        "            # エラー時も一時ファイルをクリーンアップ\n",
        "            import os\n",
        "            temp_data_path = f\"../output/temp_trial_{trial.number}_data.pkl\"\n",
        "            if os.path.exists(temp_data_path):\n",
        "                os.remove(temp_data_path)\n",
        "            return 0.0\n",
        "\n",
        "    print(f\"試行回数: {N_TRIALS}\")\n",
        "    print(f\"最大実行時間: {OPTIMIZATION_TIMEOUT}秒\")\n",
        "    print(f\"対象設定: {SELECTED_CONFIG}\")\n",
        "    print(f\"データ形状: {X_windows.shape}\")\n",
        "\n",
        "    # Optunaスタディを作成\n",
        "    study = optuna.create_study(\n",
        "        direction='maximize',\n",
        "        sampler=TPESampler(seed=42)\n",
        "    )\n",
        "\n",
        "    # 最適化を実行\n",
        "    study.optimize(\n",
        "        objective, \n",
        "        n_trials=N_TRIALS,\n",
        "        timeout=OPTIMIZATION_TIMEOUT,\n",
        "        show_progress_bar=True\n",
        "    )\n",
        "\n",
        "    # 結果を表示\n",
        "    print(f\"\\n{'='*60}\")\n",
        "    print(\"Optunaハイパーパラメータ最適化完了！\")\n",
        "    print(f\"{'='*60}\")\n",
        "    print(f\"最適化試行数: {len(study.trials)}\")\n",
        "    print(f\"最高F1-macro: {study.best_value:.4f}\")\n",
        "    print(f\"最適パラメータ:\")\n",
        "    for key, value in study.best_params.items():\n",
        "        print(f\"  {key}: {value}\")\n",
        "\n",
        "    # 結果を保存\n",
        "    optuna_results = {\n",
        "        'best_params': study.best_params,\n",
        "        'best_value': study.best_value,\n",
        "        'n_trials': len(study.trials),\n",
        "        'config': SELECTED_CONFIG,\n",
        "        'study_trials': [(t.value, t.params) for t in study.trials if t.value is not None]\n",
        "    }\n",
        "    \n",
        "    output_dir = Path(f\"../output/experiments/lstm_{SELECTED_CONFIG}\")\n",
        "    output_dir.mkdir(parents=True, exist_ok=True)\n",
        "\n",
        "    with open(output_dir / \"optuna_results.json\", \"w\") as f:\n",
        "        json.dump(optuna_results, f, indent=2)\n",
        "\n",
        "    print(f\"\\nOptuna結果を保存しました: {output_dir}/optuna_results.json\")\n",
        "    \n",
        "else:  # 既存結果を使用\n",
        "    print(\"✅ 既存のOptuna結果を使用します - 最適化をスキップ\")\n",
        "    print(f\"   最高F1-macro: {study.best_value:.4f}\")\n",
        "    print(f\"   最適パラメータ:\")\n",
        "    for key, value in study.best_params.items():\n",
        "        print(f\"     {key}: {value}\")"
      ]
    },
    {
      "cell_type": "markdown",
      "metadata": {
        "vscode": {
          "languageId": "raw"
        }
      },
      "source": [
        "# 3. 最終モデルの学習\n",
        "\n",
        "最適化されたハイパーパラメータで本格的な学習を実行します。\n"
      ]
    },
    {
      "cell_type": "code",
      "execution_count": 9,
      "metadata": {},
      "outputs": [
        {
          "name": "stdout",
          "output_type": "stream",
          "text": [
            "最適パラメータで最終学習を開始します...\n",
            "最終学習パラメータ:\n",
            "  lstm_units_1: 64\n",
            "  lstm_units_2: 64\n",
            "  dense_units: 48\n",
            "  dropout_rate: 0.30000000000000004\n",
            "  dense_dropout_rate: 0.1\n",
            "  learning_rate: 0.00020511104188433984\n",
            "  batch_size: 32\n",
            "  epochs: 50\n",
            "  patience: 15\n",
            "  reduce_lr_patience: 7\n",
            "LSTM学習環境初期化完了\n",
            "実験名: lstm_w64_s16_final_model\n",
            "出力ディレクトリ: ../output/experiments/lstm_w64_s16_final_model\n",
            "\n",
            "最終学習実行中...\n",
            "実験名: lstm_w64_s16_final_model\n",
            "実験開始: lstm_w64_s16_final_model\n",
            "==================================================\n",
            "前処理済みデータを読み込み中...\n",
            "単一ファイルからデータを読み込み: ../output/temp_final_data.pkl\n",
            "データ読み込み完了\n",
            "X_windows形状: (13393, 64, 332)\n",
            "y_windows形状: (13393,)\n",
            "ウィンドウサイズ: 64\n",
            "特徴量数: 332\n",
            "クラス数: 18\n",
            "モデル学習開始...\n",
            "データ分割中... (test_size=0.2)\n",
            "ラベル数: 18\n",
            "最小ラベル数: 201\n",
            "層化抽出を使用してデータを分割しました\n",
            "訓練データ: (10714, 64, 332)\n",
            "検証データ: (2679, 64, 332)\n",
            "訓練ラベル: (10714,)\n",
            "検証ラベル: (2679,)\n",
            "入力形状: (64, 332)\n",
            "クラス数: 18\n",
            "GPU設定を確認中...\n",
            "利用可能なGPU: 1台\n",
            "GPU メモリ成長設定: 有効\n",
            "使用予定GPU: /physical_device:GPU:0\n",
            "GPU動作テスト: 成功\n",
            "LSTMモデル初期化完了\n",
            "入力形状: (64, 332)\n",
            "クラス数: 18\n",
            "GPU利用可能: True\n",
            "進捗表示: tqdm=True, TensorBoard=True\n",
            "モデル学習開始...\n",
            "訓練データ形状: (10714, 64, 332)\n",
            "検証データ形状: (2679, 64, 332)\n",
            "訓練ラベル形状: (10714,)\n",
            "検証ラベル形状: (2679,)\n",
            "LSTMモデルを構築中...\n",
            "モデル構築完了\n",
            "総パラメータ数: 139,170\n",
            "TensorBoard ログ: logs\n"
          ]
        },
        {
          "data": {
            "application/vnd.jupyter.widget-view+json": {
              "model_id": "53dad7bc76f34ee08c12b7c9816073cf",
              "version_major": 2,
              "version_minor": 0
            },
            "text/plain": [
              "0epoch [00:00, ?epoch/s]"
            ]
          },
          "metadata": {},
          "output_type": "display_data"
        },
        {
          "data": {
            "application/vnd.jupyter.widget-view+json": {
              "model_id": "f653a86147c04fd4942e9e2d6a24f9f9",
              "version_major": 2,
              "version_minor": 0
            },
            "text/plain": [
              "0batch [00:00, ?batch/s]"
            ]
          },
          "metadata": {},
          "output_type": "display_data"
        },
        {
          "name": "stderr",
          "output_type": "stream",
          "text": [
            "I0000 00:00:1751795300.768947   85051 cuda_dnn.cc:529] Loaded cuDNN version 90501\n"
          ]
        },
        {
          "name": "stdout",
          "output_type": "stream",
          "text": [
            "\n",
            "Epoch 1: val_loss improved from inf to 2.36257, saving model to ../output/experiments/lstm_w64_s16_final_model/models/lstm_best.h5\n"
          ]
        },
        {
          "name": "stderr",
          "output_type": "stream",
          "text": [
            "WARNING:absl:You are saving your model as an HDF5 file via `model.save()` or `keras.saving.save_model(model)`. This file format is considered legacy. We recommend using instead the native Keras format, e.g. `model.save('my_model.keras')` or `keras.saving.save_model(model, 'my_model.keras')`. \n"
          ]
        },
        {
          "name": "stdout",
          "output_type": "stream",
          "text": [
            "\n",
            "Epoch 2: val_loss improved from 2.36257 to 2.13024, saving model to ../output/experiments/lstm_w64_s16_final_model/models/lstm_best.h5\n"
          ]
        },
        {
          "name": "stderr",
          "output_type": "stream",
          "text": [
            "WARNING:absl:You are saving your model as an HDF5 file via `model.save()` or `keras.saving.save_model(model)`. This file format is considered legacy. We recommend using instead the native Keras format, e.g. `model.save('my_model.keras')` or `keras.saving.save_model(model, 'my_model.keras')`. \n"
          ]
        },
        {
          "name": "stdout",
          "output_type": "stream",
          "text": [
            "\n",
            "Epoch 3: val_loss improved from 2.13024 to 1.97774, saving model to ../output/experiments/lstm_w64_s16_final_model/models/lstm_best.h5\n"
          ]
        },
        {
          "name": "stderr",
          "output_type": "stream",
          "text": [
            "WARNING:absl:You are saving your model as an HDF5 file via `model.save()` or `keras.saving.save_model(model)`. This file format is considered legacy. We recommend using instead the native Keras format, e.g. `model.save('my_model.keras')` or `keras.saving.save_model(model, 'my_model.keras')`. \n"
          ]
        },
        {
          "name": "stdout",
          "output_type": "stream",
          "text": [
            "\n",
            "Epoch 4: val_loss improved from 1.97774 to 1.87492, saving model to ../output/experiments/lstm_w64_s16_final_model/models/lstm_best.h5\n"
          ]
        },
        {
          "name": "stderr",
          "output_type": "stream",
          "text": [
            "WARNING:absl:You are saving your model as an HDF5 file via `model.save()` or `keras.saving.save_model(model)`. This file format is considered legacy. We recommend using instead the native Keras format, e.g. `model.save('my_model.keras')` or `keras.saving.save_model(model, 'my_model.keras')`. \n"
          ]
        },
        {
          "name": "stdout",
          "output_type": "stream",
          "text": [
            "\n",
            "Epoch 5: val_loss improved from 1.87492 to 1.80916, saving model to ../output/experiments/lstm_w64_s16_final_model/models/lstm_best.h5\n"
          ]
        },
        {
          "name": "stderr",
          "output_type": "stream",
          "text": [
            "WARNING:absl:You are saving your model as an HDF5 file via `model.save()` or `keras.saving.save_model(model)`. This file format is considered legacy. We recommend using instead the native Keras format, e.g. `model.save('my_model.keras')` or `keras.saving.save_model(model, 'my_model.keras')`. \n"
          ]
        },
        {
          "name": "stdout",
          "output_type": "stream",
          "text": [
            "\n",
            "Epoch 6: val_loss improved from 1.80916 to 1.73511, saving model to ../output/experiments/lstm_w64_s16_final_model/models/lstm_best.h5\n"
          ]
        },
        {
          "name": "stderr",
          "output_type": "stream",
          "text": [
            "WARNING:absl:You are saving your model as an HDF5 file via `model.save()` or `keras.saving.save_model(model)`. This file format is considered legacy. We recommend using instead the native Keras format, e.g. `model.save('my_model.keras')` or `keras.saving.save_model(model, 'my_model.keras')`. \n"
          ]
        },
        {
          "name": "stdout",
          "output_type": "stream",
          "text": [
            "\n",
            "Epoch 7: val_loss improved from 1.73511 to 1.68230, saving model to ../output/experiments/lstm_w64_s16_final_model/models/lstm_best.h5\n"
          ]
        },
        {
          "name": "stderr",
          "output_type": "stream",
          "text": [
            "WARNING:absl:You are saving your model as an HDF5 file via `model.save()` or `keras.saving.save_model(model)`. This file format is considered legacy. We recommend using instead the native Keras format, e.g. `model.save('my_model.keras')` or `keras.saving.save_model(model, 'my_model.keras')`. \n"
          ]
        },
        {
          "name": "stdout",
          "output_type": "stream",
          "text": [
            "\n",
            "Epoch 8: val_loss improved from 1.68230 to 1.60790, saving model to ../output/experiments/lstm_w64_s16_final_model/models/lstm_best.h5\n"
          ]
        },
        {
          "name": "stderr",
          "output_type": "stream",
          "text": [
            "WARNING:absl:You are saving your model as an HDF5 file via `model.save()` or `keras.saving.save_model(model)`. This file format is considered legacy. We recommend using instead the native Keras format, e.g. `model.save('my_model.keras')` or `keras.saving.save_model(model, 'my_model.keras')`. \n"
          ]
        },
        {
          "name": "stdout",
          "output_type": "stream",
          "text": [
            "\n",
            "Epoch 9: val_loss improved from 1.60790 to 1.56805, saving model to ../output/experiments/lstm_w64_s16_final_model/models/lstm_best.h5\n"
          ]
        },
        {
          "name": "stderr",
          "output_type": "stream",
          "text": [
            "WARNING:absl:You are saving your model as an HDF5 file via `model.save()` or `keras.saving.save_model(model)`. This file format is considered legacy. We recommend using instead the native Keras format, e.g. `model.save('my_model.keras')` or `keras.saving.save_model(model, 'my_model.keras')`. \n"
          ]
        },
        {
          "name": "stdout",
          "output_type": "stream",
          "text": [
            "\n",
            "Epoch 10: val_loss improved from 1.56805 to 1.53944, saving model to ../output/experiments/lstm_w64_s16_final_model/models/lstm_best.h5\n"
          ]
        },
        {
          "name": "stderr",
          "output_type": "stream",
          "text": [
            "WARNING:absl:You are saving your model as an HDF5 file via `model.save()` or `keras.saving.save_model(model)`. This file format is considered legacy. We recommend using instead the native Keras format, e.g. `model.save('my_model.keras')` or `keras.saving.save_model(model, 'my_model.keras')`. \n"
          ]
        },
        {
          "name": "stdout",
          "output_type": "stream",
          "text": [
            "\n",
            "Epoch 11: val_loss improved from 1.53944 to 1.48599, saving model to ../output/experiments/lstm_w64_s16_final_model/models/lstm_best.h5\n"
          ]
        },
        {
          "name": "stderr",
          "output_type": "stream",
          "text": [
            "WARNING:absl:You are saving your model as an HDF5 file via `model.save()` or `keras.saving.save_model(model)`. This file format is considered legacy. We recommend using instead the native Keras format, e.g. `model.save('my_model.keras')` or `keras.saving.save_model(model, 'my_model.keras')`. \n"
          ]
        },
        {
          "name": "stdout",
          "output_type": "stream",
          "text": [
            "\n",
            "Epoch 12: val_loss improved from 1.48599 to 1.47067, saving model to ../output/experiments/lstm_w64_s16_final_model/models/lstm_best.h5\n"
          ]
        },
        {
          "name": "stderr",
          "output_type": "stream",
          "text": [
            "WARNING:absl:You are saving your model as an HDF5 file via `model.save()` or `keras.saving.save_model(model)`. This file format is considered legacy. We recommend using instead the native Keras format, e.g. `model.save('my_model.keras')` or `keras.saving.save_model(model, 'my_model.keras')`. \n"
          ]
        },
        {
          "name": "stdout",
          "output_type": "stream",
          "text": [
            "\n",
            "Epoch 13: val_loss improved from 1.47067 to 1.45758, saving model to ../output/experiments/lstm_w64_s16_final_model/models/lstm_best.h5\n"
          ]
        },
        {
          "name": "stderr",
          "output_type": "stream",
          "text": [
            "WARNING:absl:You are saving your model as an HDF5 file via `model.save()` or `keras.saving.save_model(model)`. This file format is considered legacy. We recommend using instead the native Keras format, e.g. `model.save('my_model.keras')` or `keras.saving.save_model(model, 'my_model.keras')`. \n"
          ]
        },
        {
          "name": "stdout",
          "output_type": "stream",
          "text": [
            "\n",
            "Epoch 14: val_loss did not improve from 1.45758\n",
            "\n",
            "Epoch 15: val_loss improved from 1.45758 to 1.43645, saving model to ../output/experiments/lstm_w64_s16_final_model/models/lstm_best.h5\n"
          ]
        },
        {
          "name": "stderr",
          "output_type": "stream",
          "text": [
            "WARNING:absl:You are saving your model as an HDF5 file via `model.save()` or `keras.saving.save_model(model)`. This file format is considered legacy. We recommend using instead the native Keras format, e.g. `model.save('my_model.keras')` or `keras.saving.save_model(model, 'my_model.keras')`. \n"
          ]
        },
        {
          "name": "stdout",
          "output_type": "stream",
          "text": [
            "\n",
            "Epoch 16: val_loss improved from 1.43645 to 1.42236, saving model to ../output/experiments/lstm_w64_s16_final_model/models/lstm_best.h5\n"
          ]
        },
        {
          "name": "stderr",
          "output_type": "stream",
          "text": [
            "WARNING:absl:You are saving your model as an HDF5 file via `model.save()` or `keras.saving.save_model(model)`. This file format is considered legacy. We recommend using instead the native Keras format, e.g. `model.save('my_model.keras')` or `keras.saving.save_model(model, 'my_model.keras')`. \n"
          ]
        },
        {
          "name": "stdout",
          "output_type": "stream",
          "text": [
            "\n",
            "Epoch 17: val_loss did not improve from 1.42236\n",
            "\n",
            "Epoch 18: val_loss improved from 1.42236 to 1.39379, saving model to ../output/experiments/lstm_w64_s16_final_model/models/lstm_best.h5\n"
          ]
        },
        {
          "name": "stderr",
          "output_type": "stream",
          "text": [
            "WARNING:absl:You are saving your model as an HDF5 file via `model.save()` or `keras.saving.save_model(model)`. This file format is considered legacy. We recommend using instead the native Keras format, e.g. `model.save('my_model.keras')` or `keras.saving.save_model(model, 'my_model.keras')`. \n"
          ]
        },
        {
          "name": "stdout",
          "output_type": "stream",
          "text": [
            "\n",
            "Epoch 19: val_loss improved from 1.39379 to 1.39329, saving model to ../output/experiments/lstm_w64_s16_final_model/models/lstm_best.h5\n"
          ]
        },
        {
          "name": "stderr",
          "output_type": "stream",
          "text": [
            "WARNING:absl:You are saving your model as an HDF5 file via `model.save()` or `keras.saving.save_model(model)`. This file format is considered legacy. We recommend using instead the native Keras format, e.g. `model.save('my_model.keras')` or `keras.saving.save_model(model, 'my_model.keras')`. \n"
          ]
        },
        {
          "name": "stdout",
          "output_type": "stream",
          "text": [
            "\n",
            "Epoch 20: val_loss improved from 1.39329 to 1.37219, saving model to ../output/experiments/lstm_w64_s16_final_model/models/lstm_best.h5\n"
          ]
        },
        {
          "name": "stderr",
          "output_type": "stream",
          "text": [
            "WARNING:absl:You are saving your model as an HDF5 file via `model.save()` or `keras.saving.save_model(model)`. This file format is considered legacy. We recommend using instead the native Keras format, e.g. `model.save('my_model.keras')` or `keras.saving.save_model(model, 'my_model.keras')`. \n"
          ]
        },
        {
          "name": "stdout",
          "output_type": "stream",
          "text": [
            "\n",
            "Epoch 21: val_loss did not improve from 1.37219\n",
            "\n",
            "Epoch 22: val_loss did not improve from 1.37219\n",
            "\n",
            "Epoch 23: val_loss did not improve from 1.37219\n",
            "\n",
            "Epoch 24: val_loss did not improve from 1.37219\n",
            "\n",
            "Epoch 25: val_loss improved from 1.37219 to 1.35976, saving model to ../output/experiments/lstm_w64_s16_final_model/models/lstm_best.h5\n"
          ]
        },
        {
          "name": "stderr",
          "output_type": "stream",
          "text": [
            "WARNING:absl:You are saving your model as an HDF5 file via `model.save()` or `keras.saving.save_model(model)`. This file format is considered legacy. We recommend using instead the native Keras format, e.g. `model.save('my_model.keras')` or `keras.saving.save_model(model, 'my_model.keras')`. \n"
          ]
        },
        {
          "name": "stdout",
          "output_type": "stream",
          "text": [
            "\n",
            "Epoch 26: val_loss did not improve from 1.35976\n",
            "\n",
            "Epoch 27: val_loss did not improve from 1.35976\n",
            "\n",
            "Epoch 28: val_loss did not improve from 1.35976\n",
            "\n",
            "Epoch 29: val_loss did not improve from 1.35976\n",
            "\n",
            "Epoch 30: val_loss did not improve from 1.35976\n",
            "\n",
            "Epoch 31: val_loss did not improve from 1.35976\n",
            "\n",
            "Epoch 32: val_loss did not improve from 1.35976\n",
            "\n",
            "Epoch 32: ReduceLROnPlateau reducing learning rate to 0.00010255551751470193.\n",
            "\n",
            "Epoch 33: val_loss did not improve from 1.35976\n",
            "\n",
            "Epoch 34: val_loss did not improve from 1.35976\n",
            "\n",
            "Epoch 35: val_loss did not improve from 1.35976\n",
            "\n",
            "Epoch 36: val_loss did not improve from 1.35976\n",
            "\n",
            "Epoch 37: val_loss did not improve from 1.35976\n",
            "\n",
            "Epoch 38: val_loss did not improve from 1.35976\n",
            "\n",
            "Epoch 39: val_loss did not improve from 1.35976\n",
            "\n",
            "Epoch 39: ReduceLROnPlateau reducing learning rate to 5.1277758757350966e-05.\n",
            "\n",
            "Epoch 40: val_loss did not improve from 1.35976\n",
            "Epoch 40: early stopping\n",
            "Restoring model weights from the end of the best epoch: 25.\n",
            "学習完了！学習時間: 328.28秒\n",
            "最良検証Loss: 1.3598\n",
            "最良検証Accuracy: 0.5913\n",
            "モデル評価中...\n"
          ]
        },
        {
          "name": "stderr",
          "output_type": "stream",
          "text": [
            "WARNING:absl:You are saving your model as an HDF5 file via `model.save()` or `keras.saving.save_model(model)`. This file format is considered legacy. We recommend using instead the native Keras format, e.g. `model.save('my_model.keras')` or `keras.saving.save_model(model, 'my_model.keras')`. \n",
            "WARNING:absl:You are saving your model as an HDF5 file via `model.save()` or `keras.saving.save_model(model)`. This file format is considered legacy. We recommend using instead the native Keras format, e.g. `model.save('my_model.keras')` or `keras.saving.save_model(model, 'my_model.keras')`. \n"
          ]
        },
        {
          "name": "stdout",
          "output_type": "stream",
          "text": [
            "テストLoss: 1.3598\n",
            "テストAccuracy: 0.5558\n",
            "F1-Score (macro): 0.5200\n",
            "F1-Score (weighted): 0.5480\n",
            "結果保存中...\n",
            "モデル保存エラー: The filename must end in `.weights.h5`. Received: filepath=../output/experiments/lstm_w64_s16_final_model/models/lstm_best_weights.h5\n",
            "基本的なモデル保存のみ実行します\n",
            "基本モデル保存完了: ../output/experiments/lstm_w64_s16_final_model/models/lstm_best.h5\n",
            "学習履歴保存完了: ../output/experiments/lstm_w64_s16_final_model/results/training_history.json\n",
            "結果保存完了\n",
            "モデル: ../output/experiments/lstm_w64_s16_final_model/models/lstm_best.h5\n",
            "学習履歴: ../output/experiments/lstm_w64_s16_final_model/results/training_history.json\n",
            "評価結果: ../output/experiments/lstm_w64_s16_final_model/results/evaluation_results.json\n",
            "学習履歴可視化中...\n",
            "学習履歴保存: ../output/experiments/lstm_w64_s16_final_model/results/training_history.png\n",
            "==================================================\n",
            "実験完了: lstm_w64_s16_final_model\n",
            "最終F1スコア (macro): 0.5200\n",
            "最終Accuracy: 0.5558\n",
            "==================================================\n",
            "\n",
            "============================================================\n",
            "最終学習完了！\n",
            "============================================================\n",
            "最終F1-macro: 0.5200\n",
            "最終Accuracy: 0.5558\n",
            "学習時間: 0.0秒\n",
            "\n",
            "最終結果を保存しました: ../output/experiments/lstm_w64_s16_final_model/final_results.json\n"
          ]
        },
        {
          "data": {
            "image/png": "[encoded data removed]",
            "text/plain": [
              "<Figure size 1500x500 with 3 Axes>"
            ]
          },
          "metadata": {},
          "output_type": "display_data"
        },
        {
          "name": "stdout",
          "output_type": "stream",
          "text": [
            "学習結果の可視化を保存しました: ../output/experiments/lstm_w64_s16_final_model/training_results.png\n",
            "一時ファイルをクリーンアップしました: ../output/temp_final_data.pkl\n",
            "\n",
            "============================================================\n",
            "LSTM学習パイプライン完了！\n",
            "============================================================\n",
            "使用した設定: w64_s16\n",
            "ウィンドウサイズ: 64\n",
            "ストライド: 16\n",
            "Optuna試行数: 20\n",
            "最終F1-macro: 0.5200\n",
            "\n",
            "保存先:../output/experiments/lstm_w64_s16_final_model/\n",
            "次のステップ: 推論・提出用スクリプトの作成\n"
          ]
        }
      ],
      "source": [
        "# 最適パラメータで最終学習を実行\n",
        "print(\"最適パラメータで最終学習を開始します...\")\n",
        "\n",
        "# studyオブジェクトが存在することを確認\n",
        "if 'study' not in locals():\n",
        "    print(\"エラー: studyオブジェクトが見つかりません\")\n",
        "    print(\"先にOptuna最適化を実行してください\")\n",
        "    raise ValueError(\"studyオブジェクトが未定義です\")\n",
        "\n",
        "# 最適パラメータを取得\n",
        "final_params = study.best_params.copy()\n",
        "final_params['epochs'] = 50  # 最終学習では十分なエポック数\n",
        "final_params['patience'] = 15\n",
        "final_params['reduce_lr_patience'] = 7\n",
        "\n",
        "print(f\"最終学習パラメータ:\")\n",
        "for key, value in final_params.items():\n",
        "    print(f\"  {key}: {value}\")\n",
        "\n",
        "# 最終学習を実行\n",
        "final_experiment_name = f\"lstm_{SELECTED_CONFIG}_final_model\"\n",
        "final_trainer = LSTMTrainer(final_experiment_name)\n",
        "\n",
        "print(f\"\\n最終学習実行中...\")\n",
        "print(f\"実験名: {final_experiment_name}\")\n",
        "\n",
        "# データを適切な形式で準備\n",
        "final_data = {\n",
        "    'X_windows': X_windows,\n",
        "    'y_windows': y_windows,\n",
        "    'scaler': scaler,\n",
        "    'label_encoder': label_encoder,\n",
        "    'meta': {\n",
        "        'window_size': config['window_size'],\n",
        "        'n_features': X_windows.shape[2],\n",
        "        'n_classes': len(label_encoder.classes_),\n",
        "        'n_samples': len(X_windows)\n",
        "    }\n",
        "}\n",
        "\n",
        "# データを一時的に保存\n",
        "import pickle\n",
        "temp_data_path = \"../output/temp_final_data.pkl\"\n",
        "with open(temp_data_path, 'wb') as f:\n",
        "    pickle.dump(final_data, f)\n",
        "\n",
        "# 正しい引数で実行\n",
        "final_results = final_trainer.run_experiment(\n",
        "    data_path=temp_data_path,\n",
        "    model_params=final_params\n",
        ")\n",
        "\n",
        "if final_results:\n",
        "    print(f\"\\n{'='*60}\")\n",
        "    print(\"最終学習完了！\")\n",
        "    print(f\"{'='*60}\")\n",
        "    print(f\"最終F1-macro: {final_results['eval_results']['f1_macro']:.4f}\")\n",
        "    print(f\"最終Accuracy: {final_results['eval_results']['test_accuracy']:.4f}\")\n",
        "    print(f\"学習時間: {final_results.get('training_time', 0):.1f}秒\")\n",
        "    \n",
        "    # 最終結果を保存\n",
        "    final_result_summary = {\n",
        "        'config': SELECTED_CONFIG,\n",
        "        'window_size': config['window_size'],\n",
        "        'stride': config['stride'],\n",
        "        'final_params': final_params,\n",
        "        'final_f1_macro': final_results['eval_results']['f1_macro'],\n",
        "        'final_accuracy': final_results['eval_results']['test_accuracy'],\n",
        "        'training_time': final_results.get('training_time', 0),\n",
        "        'optuna_best_value': study.best_value,\n",
        "        'optuna_trials': len(study.trials)\n",
        "    }\n",
        "    \n",
        "    output_dir = Path(f\"../output/experiments/{final_experiment_name}\")\n",
        "    with open(output_dir / \"final_results.json\", \"w\") as f:\n",
        "        json.dump(final_result_summary, f, indent=2)\n",
        "    \n",
        "    print(f\"\\n最終結果を保存しました: {output_dir}/final_results.json\")\n",
        "    \n",
        "    # 結果の可視化\n",
        "    if 'history' in final_results:\n",
        "        history = final_results['history']\n",
        "        \n",
        "        plt.figure(figsize=(15, 5))\n",
        "        \n",
        "        # 損失の履歴\n",
        "        plt.subplot(1, 3, 1)\n",
        "        plt.plot(history.history['loss'], label='Training Loss', color='blue')\n",
        "        plt.plot(history.history['val_loss'], label='Validation Loss', color='red')\n",
        "        plt.title('学習損失の推移')\n",
        "        plt.xlabel('Epoch')\n",
        "        plt.ylabel('Loss')\n",
        "        plt.legend()\n",
        "        plt.grid(True, alpha=0.3)\n",
        "        \n",
        "        # 精度の履歴\n",
        "        plt.subplot(1, 3, 2)\n",
        "        plt.plot(history.history['accuracy'], label='Training Accuracy', color='blue')\n",
        "        plt.plot(history.history['val_accuracy'], label='Validation Accuracy', color='red')\n",
        "        plt.title('学習精度の推移')\n",
        "        plt.xlabel('Epoch')\n",
        "        plt.ylabel('Accuracy')\n",
        "        plt.legend()\n",
        "        plt.grid(True, alpha=0.3)\n",
        "        \n",
        "        # 最終評価結果\n",
        "        plt.subplot(1, 3, 3)\n",
        "        metrics = ['F1-macro', 'Accuracy', 'Precision', 'Recall']\n",
        "        values = [\n",
        "            final_results['eval_results']['f1_macro'],\n",
        "            final_results['eval_results']['test_accuracy'],\n",
        "            final_results['eval_results'].get('precision_macro', 0),\n",
        "            final_results['eval_results'].get('recall_macro', 0)\n",
        "        ]\n",
        "        \n",
        "        bars = plt.bar(metrics, values, color=['skyblue', 'lightgreen', 'coral', 'gold'])\n",
        "        plt.title('最終評価結果')\n",
        "        plt.ylabel('Score')\n",
        "        plt.ylim(0, 1)\n",
        "        \n",
        "        # 値をバーの上に表示\n",
        "        for bar, value in zip(bars, values):\n",
        "            plt.text(bar.get_x() + bar.get_width()/2, bar.get_height() + 0.01,\n",
        "                    f'{value:.3f}', ha='center', va='bottom')\n",
        "        \n",
        "        plt.tight_layout()\n",
        "        plt.savefig(output_dir / \"training_results.png\", dpi=300, bbox_inches='tight')\n",
        "        plt.show()\n",
        "        \n",
        "        print(f\"学習結果の可視化を保存しました: {output_dir}/training_results.png\")\n",
        "\n",
        "else:\n",
        "    print(\"最終学習に失敗しました\")\n",
        "\n",
        "# 一時ファイルをクリーンアップ\n",
        "import os\n",
        "if os.path.exists(temp_data_path):\n",
        "    os.remove(temp_data_path)\n",
        "    print(f\"一時ファイルをクリーンアップしました: {temp_data_path}\")\n",
        "\n",
        "print(f\"\\n{'='*60}\")\n",
        "print(\"LSTM学習パイプライン完了！\")\n",
        "print(f\"{'='*60}\")\n",
        "print(f\"使用した設定: {SELECTED_CONFIG}\")\n",
        "print(f\"ウィンドウサイズ: {config['window_size']}\")\n",
        "print(f\"ストライド: {config['stride']}\")\n",
        "print(f\"Optuna試行数: {len(study.trials)}\")\n",
        "print(f\"最終F1-macro: {final_results['eval_results']['f1_macro']:.4f}\" if final_results else \"N/A\")\n",
        "print(f\"\\n保存先:../output/experiments/{final_experiment_name}/\")\n",
        "print(f\"次のステップ: 推論・提出用スクリプトの作成\")\n"
      ]
    },
    {
      "cell_type": "code",
      "execution_count": 10,
      "metadata": {},
      "outputs": [
        {
          "name": "stdout",
          "output_type": "stream",
          "text": [
            "=== TensorBoard起動方法 ===\n",
            "学習中のログをリアルタイムで確認するには、以下のコマンドを別のターミナルで実行してください:\n",
            "\n",
            "cd /mnt/c/Users/ShunK/works/CMI_comp\n",
            "tensorboard --logdir=output/experiments/*/results/logs --port=6006\n",
            "\n",
            "その後、ブラウザで http://localhost:6006 にアクセスしてください\n",
            "========================\n",
            "\n",
            "=== Optuna Dashboard起動方法 ===\n",
            "Optunaの最適化状況をリアルタイムで確認するには:\n",
            "1. 別のターミナルで以下を実行:\n",
            "   optuna-dashboard sqlite:///optuna_study.db\n",
            "2. ブラウザで http://localhost:8080 にアクセス\n",
            "===============================\n",
            "\n",
            "=== 学習完了後の確認項目 ===\n",
            "1. GPU使用状況:\n",
            "   - 学習ログに 'Created device /job:localhost/replica:0/task:0/device:GPU:0' が表示されているか\n",
            "   - 学習中に nvidia-smi でGPU使用率が上がっているか\n",
            "\n",
            "2. 進捗表示:\n",
            "   - Keras: エポック毎のプログレスバーと指標\n",
            "   - tqdm: より詳細な進捗バー（インストール済みの場合）\n",
            "   - Optuna: 各Trial完了時の結果表示\n",
            "\n",
            "3. 保存されるファイル:\n",
            "   - models/: 学習済みモデル\n",
            "   - results/: 学習履歴、評価結果\n",
            "   - results/logs/: TensorBoard用ログ\n",
            "===========================\n"
          ]
        }
      ],
      "source": [
        "# TensorBoard起動用セル\n",
        "print(\"=== TensorBoard起動方法 ===\")\n",
        "print(\"学習中のログをリアルタイムで確認するには、以下のコマンドを別のターミナルで実行してください:\")\n",
        "print()\n",
        "print(\"cd /mnt/c/Users/ShunK/works/CMI_comp\")\n",
        "print(\"tensorboard --logdir=output/experiments/*/results/logs --port=6006\")\n",
        "print()\n",
        "print(\"その後、ブラウザで http://localhost:6006 にアクセスしてください\")\n",
        "print(\"========================\")\n",
        "\n",
        "# Optuna Dashboard起動方法\n",
        "print()\n",
        "print(\"=== Optuna Dashboard起動方法 ===\")\n",
        "print(\"Optunaの最適化状況をリアルタイムで確認するには:\")\n",
        "print(\"1. 別のターミナルで以下を実行:\")\n",
        "print(\"   optuna-dashboard sqlite:///optuna_study.db\")\n",
        "print(\"2. ブラウザで http://localhost:8080 にアクセス\")\n",
        "print(\"===============================\")\n",
        "\n",
        "# 学習完了後の確認項目\n",
        "print()\n",
        "print(\"=== 学習完了後の確認項目 ===\")\n",
        "print(\"1. GPU使用状況:\")\n",
        "print(\"   - 学習ログに 'Created device /job:localhost/replica:0/task:0/device:GPU:0' が表示されているか\")\n",
        "print(\"   - 学習中に nvidia-smi でGPU使用率が上がっているか\")\n",
        "print()\n",
        "print(\"2. 進捗表示:\")\n",
        "print(\"   - Keras: エポック毎のプログレスバーと指標\")\n",
        "print(\"   - tqdm: より詳細な進捗バー（インストール済みの場合）\")\n",
        "print(\"   - Optuna: 各Trial完了時の結果表示\")\n",
        "print()\n",
        "print(\"3. 保存されるファイル:\")\n",
        "print(\"   - models/: 学習済みモデル\")\n",
        "print(\"   - results/: 学習履歴、評価結果\")\n",
        "print(\"   - results/logs/: TensorBoard用ログ\")\n",
        "print(\"===========================\")\n"
      ]
    }
  ],
  "metadata": {
    "kernelspec": {
      "display_name": ".venv",
      "language": "python",
      "name": "python3"
    },
    "language_info": {
      "codemirror_mode": {
        "name": "ipython",
        "version": 3
      },
      "file_extension": ".py",
      "mimetype": "text/x-python",
      "name": "python",
      "nbconvert_exporter": "python",
      "pygments_lexer": "ipython3",
      "version": "3.11.5"
    }
  },
  "nbformat": 4,
  "nbformat_minor": 2
}
