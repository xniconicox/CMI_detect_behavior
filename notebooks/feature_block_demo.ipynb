{
 "cells": [
  {
   "cell_type": "markdown",
   "metadata": {},
   "source": [
    "# 前処理機能のデモ\n",
    "\n",
    "このノートでは、`src/utils/preprocessing.py` で実装した各機能を用いて合成データから特徴量を計算し、図で確認します。"
   ]
  },
  {
   "cell_type": "code",
   "execution_count": null,
   "metadata": {},
   "outputs": [],
   "source": [
    "import numpy as np\n",
    "import pandas as pd\n",
    "import matplotlib.pyplot as plt\n",
    "from src.utils import preprocessing\n",
    "from src.utils.config_utils import get_preprocessing_params\n",
    "\n",
    "params = get_preprocessing_params()\n",
    "window_size = params['window_size']\n",
    "fs = params['sampling_rate']\n",
    "\n",
    "t = np.linspace(0, window_size/fs, window_size)\n",
    "acc = np.stack([\n",
    "    np.sin(2*np.pi*1*t),\n",
    "    np.sin(2*np.pi*0.5*t),\n",
    "    np.cos(2*np.pi*1.5*t)\n",
    "], axis=1)\n",
    "quat = np.tile([1,0,0,0], (window_size,1))\n",
    "df = pd.DataFrame(acc, columns=['acc_x','acc_y','acc_z'])\n",
    "for i,col in enumerate(['rot_w','rot_x','rot_y','rot_z']):\n",
    "    df[col] = quat[:,i]\n"
   ]
  },
  {
   "cell_type": "code",
   "execution_count": null,
   "metadata": {},
   "outputs": [],
   "source": [
    "# world linear acceleration\n",
    "df[['lin_acc_x','lin_acc_y','lin_acc_z']] = [\n",
    "    preprocessing.linear_acceleration(row[['acc_x','acc_y','acc_z']].values,\n",
    "                                      row[['rot_w','rot_x','rot_y','rot_z']].values)\n",
    "    for _, row in df.iterrows()\n",
    "]\n",
    "\n",
    "# compute statistics and peaks\n",
    "window = df[['lin_acc_x','lin_acc_y','lin_acc_z']].values[np.newaxis,:,:]\n",
    "stats = preprocessing.compute_basic_statistics(window)\n",
    "peaks = preprocessing.compute_peak_features(window)\n",
    "fft_energy = preprocessing.compute_fft_band_energy(window, fs=fs, bands=params['fft_bands'])\n"
   ]
  },
  {
   "cell_type": "code",
   "execution_count": null,
   "metadata": {},
   "outputs": [],
   "source": [
    "# plot linear acceleration\n",
    "plt.figure(figsize=(6,3))\n",
    "plt.plot(t, df['lin_acc_x'], label='lin_acc_x')\n",
    "plt.xlabel('Time [s]')\n",
    "plt.ylabel('Acceleration')\n",
    "plt.title('Linear Acceleration Example')\n",
    "plt.legend()\n",
    "plt.show()\n",
    "\n",
    "# plot statistics as bar chart\n",
    "plt.figure(figsize=(6,3))\n",
    "labels = [f'stat_{i}' for i in range(stats.shape[1])]\n",
    "plt.bar(labels, stats[0])\n",
    "plt.title('Basic Statistics')\n",
    "plt.xticks(rotation=45)\n",
    "plt.show()\n",
    "\n",
    "# plot FFT energy\n",
    "plt.figure(figsize=(6,3))\n",
    "for i, band in enumerate(params['fft_bands']):\n",
    "    plt.bar(i, fft_energy[0, i], label=f'{band[0]}-{band[1]}Hz')\n",
    "plt.title('FFT Band Energy')\n",
    "plt.ylabel('Power')\n",
    "plt.xticks(range(len(params['fft_bands'])), [f'{b[0]}-{b[1]}Hz' for b in params['fft_bands']])\n",
    "plt.show()\n"
   ]
  }
 ],
 "metadata": {
  "kernelspec": {
   "display_name": "Python 3",
   "language": "python",
   "name": "python3"
  },
  "language_info": {
   "name": "python",
   "pygments_lexer": "ipython3"
  }
 },
 "nbformat": 4,
 "nbformat_minor": 5
}
