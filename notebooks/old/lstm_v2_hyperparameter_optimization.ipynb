{
  "cells": [
    {
      "cell_type": "markdown",
      "metadata": {
        "vscode": {
          "languageId": "raw"
        }
      },
      "source": [
        "# LSTM v2 ハイパーパラメータ最適化\n",
        "\n",
        "このノートブックでは、LSTM v2ハイブリッドモデルのハイパーパラメータをOptunaを使用して最適化します。\n",
        "\n",
        "## 分析結果に基づく最適化戦略\n",
        "\n",
        "### 性能低下の主要因\n",
        "1. **ハイパーパラメータ最適化の欠如**（主要因）\n",
        "   - LSTM v1: Optuna 20試行で最適化済み\n",
        "   - LSTM v2: デフォルトパラメータのみ使用\n",
        "\n",
        "2. **attention融合方式のエラー**（修正済み）\n",
        "   - 次元不一致によるエラーを修正\n",
        "\n",
        "3. **demographics特徴量エンジニアリングの未検証**\n",
        "   - 最適化プロセスで検証\n",
        "\n",
        "### 最適化目標\n",
        "- LSTM v1性能（F1-macro: 0.5200）を上回る\n",
        "- 融合方式の最適選択\n",
        "- 効率的なトレーニング時間\n"
      ]
    },
    {
      "cell_type": "code",
      "execution_count": 3,
      "metadata": {},
      "outputs": [
        {
          "name": "stdout",
          "output_type": "stream",
          "text": [
            "Mixed precision enabled for better GPU performance\n",
            "GPU利用可能: 1台\n",
            "使用GPU: PhysicalDevice(name='/physical_device:GPU:0', device_type='GPU')\n",
            "LSTM v2学習環境初期化完了\n",
            "実験名: lstm_v2\n",
            "ウィンドウ設定: w64_s16\n",
            "出力ディレクトリ: ../output/experiments/lstm_v2_w64_s16\n",
            "前処理済みデータ: ../output/experiments/lstm_v2_w64_s16/preprocessed\n",
            "GPU利用可能: True\n",
            "前処理済みデータを読み込み中...\n",
            "データ読み込み完了:\n",
            "  センサーデータ: (13393, 64, 332)\n",
            "  Demographics: (13393, 20)\n",
            "  ラベル: (13393,)\n",
            "  クラス数: 18\n",
            "ライブラリ読み込み完了\n",
            "実行時刻: 2025-07-07 11:35:12.469583\n"
          ]
        }
      ],
      "source": [
        "import sys\n",
        "import os\n",
        "import numpy as np\n",
        "import pandas as pd\n",
        "import matplotlib.pyplot as plt\n",
        "import seaborn as sns\n",
        "from datetime import datetime\n",
        "import json\n",
        "import pickle\n",
        "import warnings\n",
        "warnings.filterwarnings('ignore')\n",
        "\n",
        "# プロジェクトルートを追加\n",
        "project_root = os.path.abspath('..')\n",
        "if project_root not in sys.path:\n",
        "    sys.path.append(project_root)\n",
        "\n",
        "# Optuna関連\n",
        "import optuna\n",
        "from optuna.samplers import TPESampler\n",
        "from optuna.pruners import MedianPruner\n",
        "import optuna.visualization as vis\n",
        "\n",
        "# 自作モジュール\n",
        "from src.lstm_v2_model import LSTMv2HybridModel\n",
        "from src.lstm_v2_trainer import LSTMv2Trainer\n",
        "\n",
        "# LSTMv2Trainerクラスをインスタンス化してデータをロード\n",
        "trainer = LSTMv2Trainer()\n",
        "data = trainer.load_preprocessed_data()\n",
        "# 結果保存用ディレクトリ\n",
        "os.makedirs('../output/experiments/lstm_v2_optimization', exist_ok=True)\n",
        "os.makedirs('../output/experiments/lstm_v2_optimized', exist_ok=True)\n",
        "\n",
        "print(\"ライブラリ読み込み完了\")\n",
        "print(f\"実行時刻: {datetime.now()}\")\n"
      ]
    },
    {
      "cell_type": "markdown",
      "metadata": {
        "vscode": {
          "languageId": "raw"
        }
      },
      "source": [
        "## データ読み込み\n"
      ]
    },
    {
      "cell_type": "code",
      "execution_count": 4,
      "metadata": {},
      "outputs": [
        {
          "name": "stdout",
          "output_type": "stream",
          "text": [
            "データ読み込み中...\n",
            "訓練データ: センサー(10714, 64, 332), demographics(10714, 20), ラベル(10714,)\n",
            "検証データ: センサー(2679, 64, 332), demographics(2679, 20), ラベル(2679,)\n",
            "センサー入力形状: (64, 332)\n",
            "Demographics入力形状: (20,)\n",
            "クラス数: 18\n"
          ]
        }
      ],
      "source": [
        "# データ読み込み\n",
        "print(\"データ読み込み中...\")\n",
        "# 参考ノートブックの構造に合わせてデータ読み込み\n",
        "import pickle\n",
        "\n",
        "# LSTM v2の前処理済みデータを読み込み\n",
        "config_name = \"w64_s16\"  # LSTM v1と同じ設定で比較\n",
        "data_dir = f\"../output/experiments/lstm_v2_{config_name}/preprocessed\"\n",
        "\n",
        "with open(f\"{data_dir}/X_sensor_windows.pkl\", \"rb\") as f:\n",
        "    X_sensor_all = pickle.load(f)\n",
        "\n",
        "with open(f\"{data_dir}/X_demographics_windows.pkl\", \"rb\") as f:\n",
        "    X_demographics_all = pickle.load(f)\n",
        "\n",
        "with open(f\"{data_dir}/y_windows.pkl\", \"rb\") as f:\n",
        "    y_all = pickle.load(f)\n",
        "\n",
        "with open(f\"{data_dir}/label_encoder.pkl\", \"rb\") as f:\n",
        "    label_encoder = pickle.load(f)\n",
        "\n",
        "# 訓練・検証データの分割（8:2）\n",
        "from sklearn.model_selection import train_test_split\n",
        "import numpy as np\n",
        "\n",
        "# numpyアレイに変換\n",
        "X_sensor_all = np.array(X_sensor_all)\n",
        "X_demographics_all = np.array(X_demographics_all)\n",
        "y_all = np.array(y_all)\n",
        "\n",
        "X_sensor_train, X_sensor_val, X_demographics_train, X_demographics_val, y_train, y_val = train_test_split(\n",
        "    X_sensor_all, X_demographics_all, y_all, \n",
        "    test_size=0.2, random_state=42, stratify=y_all\n",
        ")\n",
        "\n",
        "print(f\"訓練データ: センサー{np.array(X_sensor_train).shape}, demographics{np.array(X_demographics_train).shape}, ラベル{np.array(y_train).shape}\")\n",
        "print(f\"検証データ: センサー{np.array(X_sensor_val).shape}, demographics{np.array(X_demographics_val).shape}, ラベル{np.array(y_val).shape}\")\n",
        "\n",
        "# 入力形状とクラス数\n",
        "sensor_input_shape = np.array(X_sensor_train).shape[1:]\n",
        "demographics_input_shape = np.array(X_demographics_train).shape[1:]\n",
        "num_classes = len(np.unique(y_train))\n",
        "\n",
        "print(f\"センサー入力形状: {sensor_input_shape}\")\n",
        "print(f\"Demographics入力形状: {demographics_input_shape}\")\n",
        "print(f\"クラス数: {num_classes}\")\n"
      ]
    },
    {
      "cell_type": "code",
      "execution_count": 5,
      "metadata": {},
      "outputs": [
        {
          "name": "stdout",
          "output_type": "stream",
          "text": [
            "最適化設定:\n",
            "  試行回数: 30\n",
            "  タイムアウト: 7200秒 (2時間)\n",
            "  ベンチマーク: F1-macro 0.5200\n"
          ]
        }
      ],
      "source": [
        "# 最適化設定\n",
        "N_TRIALS = 30  # 試行回数\n",
        "TIMEOUT = 7200  # 2時間のタイムアウト\n",
        "STUDY_NAME = \"lstm_v2_hyperopt\"\n",
        "STORAGE_URL = f\"sqlite:///../output/experiments/lstm_v2_optimization/{STUDY_NAME}.db\"\n",
        "\n",
        "# LSTM v1ベンチマーク性能\n",
        "LSTM_V1_BENCHMARK = {\n",
        "    'f1_macro': 0.5200,\n",
        "    'accuracy': 0.5558\n",
        "}\n",
        "\n",
        "print(f\"最適化設定:\")\n",
        "print(f\"  試行回数: {N_TRIALS}\")\n",
        "print(f\"  タイムアウト: {TIMEOUT}秒 ({TIMEOUT//3600}時間)\")\n",
        "print(f\"  ベンチマーク: F1-macro {LSTM_V1_BENCHMARK['f1_macro']:.4f}\")\n"
      ]
    },
    {
      "cell_type": "code",
      "execution_count": 6,
      "metadata": {},
      "outputs": [
        {
          "name": "stdout",
          "output_type": "stream",
          "text": [
            "目的関数定義完了\n"
          ]
        }
      ],
      "source": [
        "def objective(trial):\n",
        "    \"\"\"\n",
        "    Optuna目的関数\n",
        "    \"\"\"\n",
        "    # ハイパーパラメータ提案\n",
        "    params = {\n",
        "        # アーキテクチャパラメータ\n",
        "        'lstm_units_1': trial.suggest_int('lstm_units_1', 32, 128, step=16),\n",
        "        'lstm_units_2': trial.suggest_int('lstm_units_2', 16, 64, step=8),\n",
        "        'dense_units': trial.suggest_int('dense_units', 16, 64, step=8),\n",
        "        'demographics_dense_units': trial.suggest_int('demographics_dense_units', 8, 32, step=4),\n",
        "        'fusion_dense_units': trial.suggest_int('fusion_dense_units', 16, 48, step=8),\n",
        "        \n",
        "        # 正則化パラメータ\n",
        "        'dropout_rate': trial.suggest_float('dropout_rate', 0.1, 0.5, step=0.1),\n",
        "        'dense_dropout_rate': trial.suggest_float('dense_dropout_rate', 0.1, 0.4, step=0.1),\n",
        "        \n",
        "        # 訓練パラメータ\n",
        "        'learning_rate': trial.suggest_float('learning_rate', 1e-4, 1e-2, log=True),\n",
        "        'batch_size': trial.suggest_categorical('batch_size', [16, 32, 64]),\n",
        "        \n",
        "        # 融合方式\n",
        "        'fusion_type': trial.suggest_categorical('fusion_type', ['concatenate', 'attention', 'gated']),\n",
        "        \n",
        "        # 早期停止\n",
        "        'patience': trial.suggest_int('patience', 10, 20),\n",
        "        'reduce_lr_patience': trial.suggest_int('reduce_lr_patience', 5, 10),\n",
        "        \n",
        "        # 固定パラメータ\n",
        "        'epochs': 50,  # 最大エポック数\n",
        "        'use_tqdm': False,  # プログレスバー無効\n",
        "        'use_tensorboard': False  # TensorBoard無効\n",
        "    }\n",
        "    \n",
        "    try:\n",
        "        # モデル作成\n",
        "        model = LSTMv2HybridModel(\n",
        "            sensor_input_shape=sensor_input_shape,\n",
        "            demographics_input_shape=demographics_input_shape,\n",
        "            num_classes=num_classes,\n",
        "            **params\n",
        "        )\n",
        "        \n",
        "        # モデル構築\n",
        "        model.build_model()\n",
        "        \n",
        "        # 訓練\n",
        "        history = model.train(\n",
        "            X_sensor_train, X_demographics_train, y_train,\n",
        "            X_sensor_val, X_demographics_val, y_val,\n",
        "            verbose=0\n",
        "        )\n",
        "        \n",
        "        # 評価\n",
        "        results = model.evaluate(\n",
        "            X_sensor_val, X_demographics_val, y_val\n",
        "        )\n",
        "        \n",
        "        # F1-macroスコアを最大化\n",
        "        f1_macro = results['f1_macro']\n",
        "        \n",
        "        # 追加メトリクス記録\n",
        "        trial.set_user_attr('accuracy', results['accuracy'])\n",
        "        trial.set_user_attr('f1_weighted', results['f1_weighted'])\n",
        "        trial.set_user_attr('precision_macro', results['precision_macro'])\n",
        "        trial.set_user_attr('recall_macro', results['recall_macro'])\n",
        "        trial.set_user_attr('training_time', results.get('training_time', 0))\n",
        "        \n",
        "        # メモリクリア\n",
        "        del model\n",
        "        \n",
        "        return f1_macro\n",
        "        \n",
        "    except Exception as e:\n",
        "        print(f\"Trial {trial.number} failed: {str(e)}\")\n",
        "        return 0.0  # 失敗時は最低スコア\n",
        "\n",
        "print(\"目的関数定義完了\")\n"
      ]
    },
    {
      "cell_type": "code",
      "execution_count": 7,
      "metadata": {},
      "outputs": [
        {
          "name": "stderr",
          "output_type": "stream",
          "text": [
            "[I 2025-07-07 11:35:34,602] A new study created in RDB with name: lstm_v2_hyperopt\n"
          ]
        },
        {
          "name": "stdout",
          "output_type": "stream",
          "text": [
            "最適化開始: 2025-07-07 11:35:34.607697\n",
            "目標: F1-macro > 0.5200\n",
            "==================================================\n"
          ]
        },
        {
          "data": {
            "application/vnd.jupyter.widget-view+json": {
              "model_id": "57d7685347e24b649a0ffca9b2fc3b7a",
              "version_major": 2,
              "version_minor": 0
            },
            "text/plain": [
              "  0%|          | 0/30 [00:00<?, ?it/s]"
            ]
          },
          "metadata": {},
          "output_type": "display_data"
        },
        {
          "name": "stdout",
          "output_type": "stream",
          "text": [
            "Mixed precision enabled for better GPU performance\n",
            "GPU利用可能: 1台\n",
            "使用GPU: PhysicalDevice(name='/physical_device:GPU:0', device_type='GPU')\n",
            "LSTM v2ハイブリッドモデル初期化完了\n",
            "センサー入力形状: (64, 332)\n",
            "Demographics入力形状: (20,)\n",
            "クラス数: 18\n",
            "融合方式: concatenate\n",
            "GPU利用可能: True\n",
            "LSTM v2ハイブリッドモデルを構築中...\n"
          ]
        },
        {
          "name": "stderr",
          "output_type": "stream",
          "text": [
            "I0000 00:00:1751855735.021324   17074 gpu_device.cc:2019] Created device /job:localhost/replica:0/task:0/device:GPU:0 with 5660 MB memory:  -> device: 0, name: NVIDIA GeForce RTX 3050, pci bus id: 0000:01:00.0, compute capability: 8.6\n"
          ]
        },
        {
          "name": "stdout",
          "output_type": "stream",
          "text": [
            "モデル構築完了\n",
            "総パラメータ数: 141,514\n",
            "ハイブリッドモデル学習開始...\n",
            "センサー訓練データ形状: (10714, 64, 332)\n",
            "Demographics訓練データ形状: (10714, 20)\n",
            "センサー検証データ形状: (2679, 64, 332)\n",
            "Demographics検証データ形状: (2679, 20)\n",
            "訓練ラベル形状: (10714,)\n",
            "検証ラベル形状: (2679,)\n",
            "Epoch 1/50\n"
          ]
        },
        {
          "name": "stderr",
          "output_type": "stream",
          "text": [
            "2025-07-07 11:35:42.265853: E tensorflow/core/util/util.cc:131] oneDNN supports DT_HALF only on platforms with AVX-512. Falling back to the default Eigen-based implementation if present.\n",
            "I0000 00:00:1751855743.267637   23984 cuda_dnn.cc:529] Loaded cuDNN version 90501\n"
          ]
        },
        {
          "name": "stdout",
          "output_type": "stream",
          "text": [
            "\u001b[1m334/335\u001b[0m \u001b[32m━━━━━━━━━━━━━━━━━━━\u001b[0m\u001b[37m━\u001b[0m \u001b[1m0s\u001b[0m 37ms/step - accuracy: 0.2014 - loss: 2.6412\n",
            "Epoch 1: val_loss improved from inf to 2.31389, saving model to lstm_v2_hybrid_best.h5\n"
          ]
        },
        {
          "name": "stderr",
          "output_type": "stream",
          "text": [
            "WARNING:absl:You are saving your model as an HDF5 file via `model.save()` or `keras.saving.save_model(model)`. This file format is considered legacy. We recommend using instead the native Keras format, e.g. `model.save('my_model.keras')` or `keras.saving.save_model(model, 'my_model.keras')`. \n"
          ]
        },
        {
          "name": "stdout",
          "output_type": "stream",
          "text": [
            "\u001b[1m335/335\u001b[0m \u001b[32m━━━━━━━━━━━━━━━━━━━━\u001b[0m\u001b[37m\u001b[0m \u001b[1m21s\u001b[0m 42ms/step - accuracy: 0.2016 - loss: 2.6403 - val_accuracy: 0.2923 - val_loss: 2.3139 - learning_rate: 0.0054\n",
            "Epoch 2/50\n",
            "\u001b[1m334/335\u001b[0m \u001b[32m━━━━━━━━━━━━━━━━━━━\u001b[0m\u001b[37m━\u001b[0m \u001b[1m0s\u001b[0m 37ms/step - accuracy: 0.2750 - loss: 2.3392\n",
            "Epoch 2: val_loss did not improve from 2.31389\n",
            "\u001b[1m335/335\u001b[0m \u001b[32m━━━━━━━━━━━━━━━━━━━━\u001b[0m\u001b[37m\u001b[0m \u001b[1m14s\u001b[0m 41ms/step - accuracy: 0.2751 - loss: 2.3392 - val_accuracy: 0.2792 - val_loss: 2.3622 - learning_rate: 0.0054\n",
            "Epoch 3/50\n",
            "\u001b[1m334/335\u001b[0m \u001b[32m━━━━━━━━━━━━━━━━━━━\u001b[0m\u001b[37m━\u001b[0m \u001b[1m0s\u001b[0m 36ms/step - accuracy: 0.2970 - loss: 2.3346\n",
            "Epoch 3: val_loss did not improve from 2.31389\n",
            "\u001b[1m335/335\u001b[0m \u001b[32m━━━━━━━━━━━━━━━━━━━━\u001b[0m\u001b[37m\u001b[0m \u001b[1m13s\u001b[0m 39ms/step - accuracy: 0.2971 - loss: 2.3345 - val_accuracy: 0.3195 - val_loss: 2.3266 - learning_rate: 0.0054\n",
            "Epoch 4/50\n",
            "\u001b[1m335/335\u001b[0m \u001b[32m━━━━━━━━━━━━━━━━━━━━\u001b[0m\u001b[37m\u001b[0m \u001b[1m0s\u001b[0m 37ms/step - accuracy: 0.3146 - loss: 2.3290\n",
            "Epoch 4: val_loss did not improve from 2.31389\n",
            "\u001b[1m335/335\u001b[0m \u001b[32m━━━━━━━━━━━━━━━━━━━━\u001b[0m\u001b[37m\u001b[0m \u001b[1m14s\u001b[0m 40ms/step - accuracy: 0.3146 - loss: 2.3291 - val_accuracy: 0.3169 - val_loss: 2.3676 - learning_rate: 0.0054\n",
            "Epoch 5/50\n",
            "\u001b[1m334/335\u001b[0m \u001b[32m━━━━━━━━━━━━━━━━━━━\u001b[0m\u001b[37m━\u001b[0m \u001b[1m0s\u001b[0m 37ms/step - accuracy: 0.3061 - loss: 2.4090\n",
            "Epoch 5: val_loss did not improve from 2.31389\n",
            "\u001b[1m335/335\u001b[0m \u001b[32m━━━━━━━━━━━━━━━━━━━━\u001b[0m\u001b[37m\u001b[0m \u001b[1m13s\u001b[0m 40ms/step - accuracy: 0.3061 - loss: 2.4089 - val_accuracy: 0.3315 - val_loss: 2.3299 - learning_rate: 0.0054\n",
            "Epoch 6/50\n",
            "\u001b[1m334/335\u001b[0m \u001b[32m━━━━━━━━━━━━━━━━━━━\u001b[0m\u001b[37m━\u001b[0m \u001b[1m0s\u001b[0m 37ms/step - accuracy: 0.3235 - loss: 2.3568\n",
            "Epoch 6: val_loss did not improve from 2.31389\n",
            "\u001b[1m335/335\u001b[0m \u001b[32m━━━━━━━━━━━━━━━━━━━━\u001b[0m\u001b[37m\u001b[0m \u001b[1m13s\u001b[0m 40ms/step - accuracy: 0.3235 - loss: 2.3569 - val_accuracy: 0.3423 - val_loss: 2.3487 - learning_rate: 0.0054\n",
            "Epoch 7/50\n",
            "\u001b[1m334/335\u001b[0m \u001b[32m━━━━━━━━━━━━━━━━━━━\u001b[0m\u001b[37m━\u001b[0m \u001b[1m0s\u001b[0m 37ms/step - accuracy: 0.3355 - loss: 2.3336\n",
            "Epoch 7: val_loss did not improve from 2.31389\n",
            "\n",
            "Epoch 7: ReduceLROnPlateau reducing learning rate to 0.002699742093682289.\n",
            "\u001b[1m335/335\u001b[0m \u001b[32m━━━━━━━━━━━━━━━━━━━━\u001b[0m\u001b[37m\u001b[0m \u001b[1m14s\u001b[0m 40ms/step - accuracy: 0.3355 - loss: 2.3338 - val_accuracy: 0.3598 - val_loss: 2.3388 - learning_rate: 0.0054\n",
            "Epoch 8/50\n",
            "\u001b[1m334/335\u001b[0m \u001b[32m━━━━━━━━━━━━━━━━━━━\u001b[0m\u001b[37m━\u001b[0m \u001b[1m0s\u001b[0m 37ms/step - accuracy: 0.3515 - loss: 2.2737\n",
            "Epoch 8: val_loss improved from 2.31389 to 2.15046, saving model to lstm_v2_hybrid_best.h5\n"
          ]
        },
        {
          "name": "stderr",
          "output_type": "stream",
          "text": [
            "WARNING:absl:You are saving your model as an HDF5 file via `model.save()` or `keras.saving.save_model(model)`. This file format is considered legacy. We recommend using instead the native Keras format, e.g. `model.save('my_model.keras')` or `keras.saving.save_model(model, 'my_model.keras')`. \n"
          ]
        },
        {
          "name": "stdout",
          "output_type": "stream",
          "text": [
            "\u001b[1m335/335\u001b[0m \u001b[32m━━━━━━━━━━━━━━━━━━━━\u001b[0m\u001b[37m\u001b[0m \u001b[1m13s\u001b[0m 40ms/step - accuracy: 0.3515 - loss: 2.2735 - val_accuracy: 0.4013 - val_loss: 2.1505 - learning_rate: 0.0027\n",
            "Epoch 9/50\n",
            "\u001b[1m335/335\u001b[0m \u001b[32m━━━━━━━━━━━━━━━━━━━━\u001b[0m\u001b[37m\u001b[0m \u001b[1m0s\u001b[0m 37ms/step - accuracy: 0.3865 - loss: 2.1435\n",
            "Epoch 9: val_loss improved from 2.15046 to 2.07916, saving model to lstm_v2_hybrid_best.h5\n"
          ]
        },
        {
          "name": "stderr",
          "output_type": "stream",
          "text": [
            "WARNING:absl:You are saving your model as an HDF5 file via `model.save()` or `keras.saving.save_model(model)`. This file format is considered legacy. We recommend using instead the native Keras format, e.g. `model.save('my_model.keras')` or `keras.saving.save_model(model, 'my_model.keras')`. \n"
          ]
        },
        {
          "name": "stdout",
          "output_type": "stream",
          "text": [
            "\u001b[1m335/335\u001b[0m \u001b[32m━━━━━━━━━━━━━━━━━━━━\u001b[0m\u001b[37m\u001b[0m \u001b[1m14s\u001b[0m 41ms/step - accuracy: 0.3865 - loss: 2.1434 - val_accuracy: 0.4117 - val_loss: 2.0792 - learning_rate: 0.0027\n",
            "Epoch 10/50\n",
            "\u001b[1m335/335\u001b[0m \u001b[32m━━━━━━━━━━━━━━━━━━━━\u001b[0m\u001b[37m\u001b[0m \u001b[1m0s\u001b[0m 37ms/step - accuracy: 0.4039 - loss: 2.0716\n",
            "Epoch 10: val_loss improved from 2.07916 to 2.04039, saving model to lstm_v2_hybrid_best.h5\n"
          ]
        },
        {
          "name": "stderr",
          "output_type": "stream",
          "text": [
            "WARNING:absl:You are saving your model as an HDF5 file via `model.save()` or `keras.saving.save_model(model)`. This file format is considered legacy. We recommend using instead the native Keras format, e.g. `model.save('my_model.keras')` or `keras.saving.save_model(model, 'my_model.keras')`. \n"
          ]
        },
        {
          "name": "stdout",
          "output_type": "stream",
          "text": [
            "\u001b[1m335/335\u001b[0m \u001b[32m━━━━━━━━━━━━━━━━━━━━\u001b[0m\u001b[37m\u001b[0m \u001b[1m14s\u001b[0m 41ms/step - accuracy: 0.4038 - loss: 2.0716 - val_accuracy: 0.4102 - val_loss: 2.0404 - learning_rate: 0.0027\n",
            "Epoch 11/50\n",
            "\u001b[1m334/335\u001b[0m \u001b[32m━━━━━━━━━━━━━━━━━━━\u001b[0m\u001b[37m━\u001b[0m \u001b[1m0s\u001b[0m 37ms/step - accuracy: 0.4144 - loss: 2.0220\n",
            "Epoch 11: val_loss improved from 2.04039 to 2.02159, saving model to lstm_v2_hybrid_best.h5\n"
          ]
        },
        {
          "name": "stderr",
          "output_type": "stream",
          "text": [
            "WARNING:absl:You are saving your model as an HDF5 file via `model.save()` or `keras.saving.save_model(model)`. This file format is considered legacy. We recommend using instead the native Keras format, e.g. `model.save('my_model.keras')` or `keras.saving.save_model(model, 'my_model.keras')`. \n"
          ]
        },
        {
          "name": "stdout",
          "output_type": "stream",
          "text": [
            "\u001b[1m335/335\u001b[0m \u001b[32m━━━━━━━━━━━━━━━━━━━━\u001b[0m\u001b[37m\u001b[0m \u001b[1m14s\u001b[0m 41ms/step - accuracy: 0.4144 - loss: 2.0221 - val_accuracy: 0.4188 - val_loss: 2.0216 - learning_rate: 0.0027\n",
            "Epoch 12/50\n",
            "\u001b[1m334/335\u001b[0m \u001b[32m━━━━━━━━━━━━━━━━━━━\u001b[0m\u001b[37m━\u001b[0m \u001b[1m0s\u001b[0m 36ms/step - accuracy: 0.4241 - loss: 1.9769\n",
            "Epoch 12: val_loss improved from 2.02159 to 1.94533, saving model to lstm_v2_hybrid_best.h5\n"
          ]
        },
        {
          "name": "stderr",
          "output_type": "stream",
          "text": [
            "WARNING:absl:You are saving your model as an HDF5 file via `model.save()` or `keras.saving.save_model(model)`. This file format is considered legacy. We recommend using instead the native Keras format, e.g. `model.save('my_model.keras')` or `keras.saving.save_model(model, 'my_model.keras')`. \n"
          ]
        },
        {
          "name": "stdout",
          "output_type": "stream",
          "text": [
            "\u001b[1m335/335\u001b[0m \u001b[32m━━━━━━━━━━━━━━━━━━━━\u001b[0m\u001b[37m\u001b[0m \u001b[1m13s\u001b[0m 40ms/step - accuracy: 0.4241 - loss: 1.9770 - val_accuracy: 0.4494 - val_loss: 1.9453 - learning_rate: 0.0027\n",
            "Epoch 13/50\n",
            "\u001b[1m335/335\u001b[0m \u001b[32m━━━━━━━━━━━━━━━━━━━━\u001b[0m\u001b[37m\u001b[0m \u001b[1m0s\u001b[0m 37ms/step - accuracy: 0.4350 - loss: 1.9285\n",
            "Epoch 13: val_loss did not improve from 1.94533\n",
            "\u001b[1m335/335\u001b[0m \u001b[32m━━━━━━━━━━━━━━━━━━━━\u001b[0m\u001b[37m\u001b[0m \u001b[1m13s\u001b[0m 40ms/step - accuracy: 0.4350 - loss: 1.9285 - val_accuracy: 0.4393 - val_loss: 1.9545 - learning_rate: 0.0027\n",
            "Epoch 14/50\n",
            "\u001b[1m335/335\u001b[0m \u001b[32m━━━━━━━━━━━━━━━━━━━━\u001b[0m\u001b[37m\u001b[0m \u001b[1m0s\u001b[0m 37ms/step - accuracy: 0.4444 - loss: 1.9115\n",
            "Epoch 14: val_loss improved from 1.94533 to 1.93278, saving model to lstm_v2_hybrid_best.h5\n"
          ]
        },
        {
          "name": "stderr",
          "output_type": "stream",
          "text": [
            "WARNING:absl:You are saving your model as an HDF5 file via `model.save()` or `keras.saving.save_model(model)`. This file format is considered legacy. We recommend using instead the native Keras format, e.g. `model.save('my_model.keras')` or `keras.saving.save_model(model, 'my_model.keras')`. \n"
          ]
        },
        {
          "name": "stdout",
          "output_type": "stream",
          "text": [
            "\u001b[1m335/335\u001b[0m \u001b[32m━━━━━━━━━━━━━━━━━━━━\u001b[0m\u001b[37m\u001b[0m \u001b[1m13s\u001b[0m 40ms/step - accuracy: 0.4444 - loss: 1.9114 - val_accuracy: 0.4453 - val_loss: 1.9328 - learning_rate: 0.0027\n",
            "Epoch 15/50\n",
            "\u001b[1m334/335\u001b[0m \u001b[32m━━━━━━━━━━━━━━━━━━━\u001b[0m\u001b[37m━\u001b[0m \u001b[1m0s\u001b[0m 36ms/step - accuracy: 0.4703 - loss: 1.8501\n",
            "Epoch 15: val_loss improved from 1.93278 to 1.88331, saving model to lstm_v2_hybrid_best.h5\n"
          ]
        },
        {
          "name": "stderr",
          "output_type": "stream",
          "text": [
            "WARNING:absl:You are saving your model as an HDF5 file via `model.save()` or `keras.saving.save_model(model)`. This file format is considered legacy. We recommend using instead the native Keras format, e.g. `model.save('my_model.keras')` or `keras.saving.save_model(model, 'my_model.keras')`. \n"
          ]
        },
        {
          "name": "stdout",
          "output_type": "stream",
          "text": [
            "\u001b[1m335/335\u001b[0m \u001b[32m━━━━━━━━━━━━━━━━━━━━\u001b[0m\u001b[37m\u001b[0m \u001b[1m13s\u001b[0m 39ms/step - accuracy: 0.4703 - loss: 1.8501 - val_accuracy: 0.4655 - val_loss: 1.8833 - learning_rate: 0.0027\n",
            "Epoch 16/50\n",
            "\u001b[1m335/335\u001b[0m \u001b[32m━━━━━━━━━━━━━━━━━━━━\u001b[0m\u001b[37m\u001b[0m \u001b[1m0s\u001b[0m 37ms/step - accuracy: 0.4619 - loss: 1.8198\n",
            "Epoch 16: val_loss improved from 1.88331 to 1.83908, saving model to lstm_v2_hybrid_best.h5\n"
          ]
        },
        {
          "name": "stderr",
          "output_type": "stream",
          "text": [
            "WARNING:absl:You are saving your model as an HDF5 file via `model.save()` or `keras.saving.save_model(model)`. This file format is considered legacy. We recommend using instead the native Keras format, e.g. `model.save('my_model.keras')` or `keras.saving.save_model(model, 'my_model.keras')`. \n"
          ]
        },
        {
          "name": "stdout",
          "output_type": "stream",
          "text": [
            "\u001b[1m335/335\u001b[0m \u001b[32m━━━━━━━━━━━━━━━━━━━━\u001b[0m\u001b[37m\u001b[0m \u001b[1m14s\u001b[0m 40ms/step - accuracy: 0.4619 - loss: 1.8198 - val_accuracy: 0.4565 - val_loss: 1.8391 - learning_rate: 0.0027\n",
            "Epoch 17/50\n",
            "\u001b[1m334/335\u001b[0m \u001b[32m━━━━━━━━━━━━━━━━━━━\u001b[0m\u001b[37m━\u001b[0m \u001b[1m0s\u001b[0m 36ms/step - accuracy: 0.4681 - loss: 1.7896\n",
            "Epoch 17: val_loss did not improve from 1.83908\n",
            "\u001b[1m335/335\u001b[0m \u001b[32m━━━━━━━━━━━━━━━━━━━━\u001b[0m\u001b[37m\u001b[0m \u001b[1m13s\u001b[0m 39ms/step - accuracy: 0.4681 - loss: 1.7897 - val_accuracy: 0.4729 - val_loss: 1.8445 - learning_rate: 0.0027\n",
            "Epoch 18/50\n",
            "\u001b[1m334/335\u001b[0m \u001b[32m━━━━━━━━━━━━━━━━━━━\u001b[0m\u001b[37m━\u001b[0m \u001b[1m0s\u001b[0m 35ms/step - accuracy: 0.4769 - loss: 1.7760\n",
            "Epoch 18: val_loss improved from 1.83908 to 1.80077, saving model to lstm_v2_hybrid_best.h5\n"
          ]
        },
        {
          "name": "stderr",
          "output_type": "stream",
          "text": [
            "WARNING:absl:You are saving your model as an HDF5 file via `model.save()` or `keras.saving.save_model(model)`. This file format is considered legacy. We recommend using instead the native Keras format, e.g. `model.save('my_model.keras')` or `keras.saving.save_model(model, 'my_model.keras')`. \n"
          ]
        },
        {
          "name": "stdout",
          "output_type": "stream",
          "text": [
            "\u001b[1m335/335\u001b[0m \u001b[32m━━━━━━━━━━━━━━━━━━━━\u001b[0m\u001b[37m\u001b[0m \u001b[1m13s\u001b[0m 39ms/step - accuracy: 0.4769 - loss: 1.7761 - val_accuracy: 0.4815 - val_loss: 1.8008 - learning_rate: 0.0027\n",
            "Epoch 19/50\n",
            "\u001b[1m334/335\u001b[0m \u001b[32m━━━━━━━━━━━━━━━━━━━\u001b[0m\u001b[37m━\u001b[0m \u001b[1m0s\u001b[0m 36ms/step - accuracy: 0.4968 - loss: 1.7224\n",
            "Epoch 19: val_loss did not improve from 1.80077\n",
            "\u001b[1m335/335\u001b[0m \u001b[32m━━━━━━━━━━━━━━━━━━━━\u001b[0m\u001b[37m\u001b[0m \u001b[1m13s\u001b[0m 39ms/step - accuracy: 0.4968 - loss: 1.7226 - val_accuracy: 0.4834 - val_loss: 1.8039 - learning_rate: 0.0027\n",
            "Epoch 20/50\n",
            "\u001b[1m334/335\u001b[0m \u001b[32m━━━━━━━━━━━━━━━━━━━\u001b[0m\u001b[37m━\u001b[0m \u001b[1m0s\u001b[0m 37ms/step - accuracy: 0.5006 - loss: 1.7185\n",
            "Epoch 20: val_loss improved from 1.80077 to 1.78880, saving model to lstm_v2_hybrid_best.h5\n"
          ]
        },
        {
          "name": "stderr",
          "output_type": "stream",
          "text": [
            "WARNING:absl:You are saving your model as an HDF5 file via `model.save()` or `keras.saving.save_model(model)`. This file format is considered legacy. We recommend using instead the native Keras format, e.g. `model.save('my_model.keras')` or `keras.saving.save_model(model, 'my_model.keras')`. \n"
          ]
        },
        {
          "name": "stdout",
          "output_type": "stream",
          "text": [
            "\u001b[1m335/335\u001b[0m \u001b[32m━━━━━━━━━━━━━━━━━━━━\u001b[0m\u001b[37m\u001b[0m \u001b[1m14s\u001b[0m 40ms/step - accuracy: 0.5006 - loss: 1.7185 - val_accuracy: 0.4935 - val_loss: 1.7888 - learning_rate: 0.0027\n",
            "Epoch 21/50\n",
            "\u001b[1m334/335\u001b[0m \u001b[32m━━━━━━━━━━━━━━━━━━━\u001b[0m\u001b[37m━\u001b[0m \u001b[1m0s\u001b[0m 37ms/step - accuracy: 0.4980 - loss: 1.7053\n",
            "Epoch 21: val_loss improved from 1.78880 to 1.75332, saving model to lstm_v2_hybrid_best.h5\n"
          ]
        },
        {
          "name": "stderr",
          "output_type": "stream",
          "text": [
            "WARNING:absl:You are saving your model as an HDF5 file via `model.save()` or `keras.saving.save_model(model)`. This file format is considered legacy. We recommend using instead the native Keras format, e.g. `model.save('my_model.keras')` or `keras.saving.save_model(model, 'my_model.keras')`. \n"
          ]
        },
        {
          "name": "stdout",
          "output_type": "stream",
          "text": [
            "\u001b[1m335/335\u001b[0m \u001b[32m━━━━━━━━━━━━━━━━━━━━\u001b[0m\u001b[37m\u001b[0m \u001b[1m13s\u001b[0m 40ms/step - accuracy: 0.4980 - loss: 1.7054 - val_accuracy: 0.4894 - val_loss: 1.7533 - learning_rate: 0.0027\n",
            "Epoch 22/50\n",
            "\u001b[1m335/335\u001b[0m \u001b[32m━━━━━━━━━━━━━━━━━━━━\u001b[0m\u001b[37m\u001b[0m \u001b[1m0s\u001b[0m 38ms/step - accuracy: 0.5010 - loss: 1.6741\n",
            "Epoch 22: val_loss did not improve from 1.75332\n",
            "\u001b[1m335/335\u001b[0m \u001b[32m━━━━━━━━━━━━━━━━━━━━\u001b[0m\u001b[37m\u001b[0m \u001b[1m14s\u001b[0m 41ms/step - accuracy: 0.5010 - loss: 1.6741 - val_accuracy: 0.4860 - val_loss: 1.7785 - learning_rate: 0.0027\n",
            "Epoch 23/50\n",
            "\u001b[1m334/335\u001b[0m \u001b[32m━━━━━━━━━━━━━━━━━━━\u001b[0m\u001b[37m━\u001b[0m \u001b[1m0s\u001b[0m 37ms/step - accuracy: 0.5197 - loss: 1.6656\n",
            "Epoch 23: val_loss did not improve from 1.75332\n",
            "\u001b[1m335/335\u001b[0m \u001b[32m━━━━━━━━━━━━━━━━━━━━\u001b[0m\u001b[37m\u001b[0m \u001b[1m14s\u001b[0m 41ms/step - accuracy: 0.5197 - loss: 1.6656 - val_accuracy: 0.4927 - val_loss: 1.7820 - learning_rate: 0.0027\n",
            "Epoch 24/50\n",
            "\u001b[1m335/335\u001b[0m \u001b[32m━━━━━━━━━━━━━━━━━━━━\u001b[0m\u001b[37m\u001b[0m \u001b[1m0s\u001b[0m 36ms/step - accuracy: 0.5218 - loss: 1.6280\n",
            "Epoch 24: val_loss improved from 1.75332 to 1.72912, saving model to lstm_v2_hybrid_best.h5\n"
          ]
        },
        {
          "name": "stderr",
          "output_type": "stream",
          "text": [
            "WARNING:absl:You are saving your model as an HDF5 file via `model.save()` or `keras.saving.save_model(model)`. This file format is considered legacy. We recommend using instead the native Keras format, e.g. `model.save('my_model.keras')` or `keras.saving.save_model(model, 'my_model.keras')`. \n"
          ]
        },
        {
          "name": "stdout",
          "output_type": "stream",
          "text": [
            "\u001b[1m335/335\u001b[0m \u001b[32m━━━━━━━━━━━━━━━━━━━━\u001b[0m\u001b[37m\u001b[0m \u001b[1m13s\u001b[0m 39ms/step - accuracy: 0.5218 - loss: 1.6280 - val_accuracy: 0.4994 - val_loss: 1.7291 - learning_rate: 0.0027\n",
            "Epoch 25/50\n",
            "\u001b[1m334/335\u001b[0m \u001b[32m━━━━━━━━━━━━━━━━━━━\u001b[0m\u001b[37m━\u001b[0m \u001b[1m0s\u001b[0m 36ms/step - accuracy: 0.5275 - loss: 1.5942\n",
            "Epoch 25: val_loss did not improve from 1.72912\n",
            "\u001b[1m335/335\u001b[0m \u001b[32m━━━━━━━━━━━━━━━━━━━━\u001b[0m\u001b[37m\u001b[0m \u001b[1m13s\u001b[0m 39ms/step - accuracy: 0.5275 - loss: 1.5943 - val_accuracy: 0.5114 - val_loss: 1.7295 - learning_rate: 0.0027\n",
            "Epoch 26/50\n",
            "\u001b[1m335/335\u001b[0m \u001b[32m━━━━━━━━━━━━━━━━━━━━\u001b[0m\u001b[37m\u001b[0m \u001b[1m0s\u001b[0m 36ms/step - accuracy: 0.5310 - loss: 1.5946\n",
            "Epoch 26: val_loss improved from 1.72912 to 1.71863, saving model to lstm_v2_hybrid_best.h5\n"
          ]
        },
        {
          "name": "stderr",
          "output_type": "stream",
          "text": [
            "WARNING:absl:You are saving your model as an HDF5 file via `model.save()` or `keras.saving.save_model(model)`. This file format is considered legacy. We recommend using instead the native Keras format, e.g. `model.save('my_model.keras')` or `keras.saving.save_model(model, 'my_model.keras')`. \n"
          ]
        },
        {
          "name": "stdout",
          "output_type": "stream",
          "text": [
            "\u001b[1m335/335\u001b[0m \u001b[32m━━━━━━━━━━━━━━━━━━━━\u001b[0m\u001b[37m\u001b[0m \u001b[1m13s\u001b[0m 39ms/step - accuracy: 0.5310 - loss: 1.5946 - val_accuracy: 0.5099 - val_loss: 1.7186 - learning_rate: 0.0027\n",
            "Epoch 27/50\n",
            "\u001b[1m335/335\u001b[0m \u001b[32m━━━━━━━━━━━━━━━━━━━━\u001b[0m\u001b[37m\u001b[0m \u001b[1m0s\u001b[0m 37ms/step - accuracy: 0.5329 - loss: 1.6175\n",
            "Epoch 27: val_loss improved from 1.71863 to 1.71613, saving model to lstm_v2_hybrid_best.h5\n"
          ]
        },
        {
          "name": "stderr",
          "output_type": "stream",
          "text": [
            "WARNING:absl:You are saving your model as an HDF5 file via `model.save()` or `keras.saving.save_model(model)`. This file format is considered legacy. We recommend using instead the native Keras format, e.g. `model.save('my_model.keras')` or `keras.saving.save_model(model, 'my_model.keras')`. \n"
          ]
        },
        {
          "name": "stdout",
          "output_type": "stream",
          "text": [
            "\u001b[1m335/335\u001b[0m \u001b[32m━━━━━━━━━━━━━━━━━━━━\u001b[0m\u001b[37m\u001b[0m \u001b[1m13s\u001b[0m 40ms/step - accuracy: 0.5329 - loss: 1.6175 - val_accuracy: 0.5211 - val_loss: 1.7161 - learning_rate: 0.0027\n",
            "Epoch 28/50\n",
            "\u001b[1m335/335\u001b[0m \u001b[32m━━━━━━━━━━━━━━━━━━━━\u001b[0m\u001b[37m\u001b[0m \u001b[1m0s\u001b[0m 36ms/step - accuracy: 0.5459 - loss: 1.5620\n",
            "Epoch 28: val_loss did not improve from 1.71613\n",
            "\u001b[1m335/335\u001b[0m \u001b[32m━━━━━━━━━━━━━━━━━━━━\u001b[0m\u001b[37m\u001b[0m \u001b[1m13s\u001b[0m 39ms/step - accuracy: 0.5459 - loss: 1.5621 - val_accuracy: 0.5166 - val_loss: 1.7204 - learning_rate: 0.0027\n",
            "Epoch 29/50\n",
            "\u001b[1m334/335\u001b[0m \u001b[32m━━━━━━━━━━━━━━━━━━━\u001b[0m\u001b[37m━\u001b[0m \u001b[1m0s\u001b[0m 36ms/step - accuracy: 0.5384 - loss: 1.5797\n",
            "Epoch 29: val_loss improved from 1.71613 to 1.67464, saving model to lstm_v2_hybrid_best.h5\n"
          ]
        },
        {
          "name": "stderr",
          "output_type": "stream",
          "text": [
            "WARNING:absl:You are saving your model as an HDF5 file via `model.save()` or `keras.saving.save_model(model)`. This file format is considered legacy. We recommend using instead the native Keras format, e.g. `model.save('my_model.keras')` or `keras.saving.save_model(model, 'my_model.keras')`. \n"
          ]
        },
        {
          "name": "stdout",
          "output_type": "stream",
          "text": [
            "\u001b[1m335/335\u001b[0m \u001b[32m━━━━━━━━━━━━━━━━━━━━\u001b[0m\u001b[37m\u001b[0m \u001b[1m13s\u001b[0m 39ms/step - accuracy: 0.5384 - loss: 1.5798 - val_accuracy: 0.5207 - val_loss: 1.6746 - learning_rate: 0.0027\n",
            "Epoch 30/50\n",
            "\u001b[1m334/335\u001b[0m \u001b[32m━━━━━━━━━━━━━━━━━━━\u001b[0m\u001b[37m━\u001b[0m \u001b[1m0s\u001b[0m 35ms/step - accuracy: 0.5575 - loss: 1.5241\n",
            "Epoch 30: val_loss did not improve from 1.67464\n",
            "\u001b[1m335/335\u001b[0m \u001b[32m━━━━━━━━━━━━━━━━━━━━\u001b[0m\u001b[37m\u001b[0m \u001b[1m13s\u001b[0m 38ms/step - accuracy: 0.5574 - loss: 1.5243 - val_accuracy: 0.5174 - val_loss: 1.7046 - learning_rate: 0.0027\n",
            "Epoch 31/50\n",
            "\u001b[1m335/335\u001b[0m \u001b[32m━━━━━━━━━━━━━━━━━━━━\u001b[0m\u001b[37m\u001b[0m \u001b[1m0s\u001b[0m 36ms/step - accuracy: 0.5624 - loss: 1.5081\n",
            "Epoch 31: val_loss improved from 1.67464 to 1.67232, saving model to lstm_v2_hybrid_best.h5\n"
          ]
        },
        {
          "name": "stderr",
          "output_type": "stream",
          "text": [
            "WARNING:absl:You are saving your model as an HDF5 file via `model.save()` or `keras.saving.save_model(model)`. This file format is considered legacy. We recommend using instead the native Keras format, e.g. `model.save('my_model.keras')` or `keras.saving.save_model(model, 'my_model.keras')`. \n"
          ]
        },
        {
          "name": "stdout",
          "output_type": "stream",
          "text": [
            "\u001b[1m335/335\u001b[0m \u001b[32m━━━━━━━━━━━━━━━━━━━━\u001b[0m\u001b[37m\u001b[0m \u001b[1m13s\u001b[0m 38ms/step - accuracy: 0.5624 - loss: 1.5082 - val_accuracy: 0.5454 - val_loss: 1.6723 - learning_rate: 0.0027\n",
            "Epoch 32/50\n",
            "\u001b[1m334/335\u001b[0m \u001b[32m━━━━━━━━━━━━━━━━━━━\u001b[0m\u001b[37m━\u001b[0m \u001b[1m0s\u001b[0m 36ms/step - accuracy: 0.5686 - loss: 1.4977\n",
            "Epoch 32: val_loss did not improve from 1.67232\n",
            "\u001b[1m335/335\u001b[0m \u001b[32m━━━━━━━━━━━━━━━━━━━━\u001b[0m\u001b[37m\u001b[0m \u001b[1m13s\u001b[0m 39ms/step - accuracy: 0.5685 - loss: 1.4979 - val_accuracy: 0.5177 - val_loss: 1.6888 - learning_rate: 0.0027\n",
            "Epoch 33/50\n",
            "\u001b[1m335/335\u001b[0m \u001b[32m━━━━━━━━━━━━━━━━━━━━\u001b[0m\u001b[37m\u001b[0m \u001b[1m0s\u001b[0m 36ms/step - accuracy: 0.5571 - loss: 1.5430\n",
            "Epoch 33: val_loss improved from 1.67232 to 1.63739, saving model to lstm_v2_hybrid_best.h5\n"
          ]
        },
        {
          "name": "stderr",
          "output_type": "stream",
          "text": [
            "WARNING:absl:You are saving your model as an HDF5 file via `model.save()` or `keras.saving.save_model(model)`. This file format is considered legacy. We recommend using instead the native Keras format, e.g. `model.save('my_model.keras')` or `keras.saving.save_model(model, 'my_model.keras')`. \n"
          ]
        },
        {
          "name": "stdout",
          "output_type": "stream",
          "text": [
            "\u001b[1m335/335\u001b[0m \u001b[32m━━━━━━━━━━━━━━━━━━━━\u001b[0m\u001b[37m\u001b[0m \u001b[1m13s\u001b[0m 39ms/step - accuracy: 0.5571 - loss: 1.5430 - val_accuracy: 0.5312 - val_loss: 1.6374 - learning_rate: 0.0027\n",
            "Epoch 34/50\n",
            "\u001b[1m335/335\u001b[0m \u001b[32m━━━━━━━━━━━━━━━━━━━━\u001b[0m\u001b[37m\u001b[0m \u001b[1m0s\u001b[0m 37ms/step - accuracy: 0.5734 - loss: 1.4798\n",
            "Epoch 34: val_loss did not improve from 1.63739\n",
            "\u001b[1m335/335\u001b[0m \u001b[32m━━━━━━━━━━━━━━━━━━━━\u001b[0m\u001b[37m\u001b[0m \u001b[1m14s\u001b[0m 40ms/step - accuracy: 0.5734 - loss: 1.4798 - val_accuracy: 0.5103 - val_loss: 1.7161 - learning_rate: 0.0027\n",
            "Epoch 35/50\n",
            "\u001b[1m334/335\u001b[0m \u001b[32m━━━━━━━━━━━━━━━━━━━\u001b[0m\u001b[37m━\u001b[0m \u001b[1m0s\u001b[0m 37ms/step - accuracy: 0.5583 - loss: 1.5342\n",
            "Epoch 35: val_loss did not improve from 1.63739\n",
            "\u001b[1m335/335\u001b[0m \u001b[32m━━━━━━━━━━━━━━━━━━━━\u001b[0m\u001b[37m\u001b[0m \u001b[1m13s\u001b[0m 40ms/step - accuracy: 0.5583 - loss: 1.5342 - val_accuracy: 0.5144 - val_loss: 1.7368 - learning_rate: 0.0027\n",
            "Epoch 36/50\n",
            "\u001b[1m335/335\u001b[0m \u001b[32m━━━━━━━━━━━━━━━━━━━━\u001b[0m\u001b[37m\u001b[0m \u001b[1m0s\u001b[0m 37ms/step - accuracy: 0.5777 - loss: 1.5112\n",
            "Epoch 36: val_loss improved from 1.63739 to 1.63358, saving model to lstm_v2_hybrid_best.h5\n"
          ]
        },
        {
          "name": "stderr",
          "output_type": "stream",
          "text": [
            "WARNING:absl:You are saving your model as an HDF5 file via `model.save()` or `keras.saving.save_model(model)`. This file format is considered legacy. We recommend using instead the native Keras format, e.g. `model.save('my_model.keras')` or `keras.saving.save_model(model, 'my_model.keras')`. \n"
          ]
        },
        {
          "name": "stdout",
          "output_type": "stream",
          "text": [
            "\u001b[1m335/335\u001b[0m \u001b[32m━━━━━━━━━━━━━━━━━━━━\u001b[0m\u001b[37m\u001b[0m \u001b[1m14s\u001b[0m 40ms/step - accuracy: 0.5777 - loss: 1.5111 - val_accuracy: 0.5442 - val_loss: 1.6336 - learning_rate: 0.0027\n",
            "Epoch 37/50\n",
            "\u001b[1m335/335\u001b[0m \u001b[32m━━━━━━━━━━━━━━━━━━━━\u001b[0m\u001b[37m\u001b[0m \u001b[1m0s\u001b[0m 37ms/step - accuracy: 0.5870 - loss: 1.4366\n",
            "Epoch 37: val_loss did not improve from 1.63358\n",
            "\u001b[1m335/335\u001b[0m \u001b[32m━━━━━━━━━━━━━━━━━━━━\u001b[0m\u001b[37m\u001b[0m \u001b[1m13s\u001b[0m 40ms/step - accuracy: 0.5870 - loss: 1.4367 - val_accuracy: 0.5390 - val_loss: 1.6418 - learning_rate: 0.0027\n",
            "Epoch 38/50\n",
            "\u001b[1m334/335\u001b[0m \u001b[32m━━━━━━━━━━━━━━━━━━━\u001b[0m\u001b[37m━\u001b[0m \u001b[1m0s\u001b[0m 37ms/step - accuracy: 0.5829 - loss: 1.4669\n",
            "Epoch 38: val_loss improved from 1.63358 to 1.59189, saving model to lstm_v2_hybrid_best.h5\n"
          ]
        },
        {
          "name": "stderr",
          "output_type": "stream",
          "text": [
            "WARNING:absl:You are saving your model as an HDF5 file via `model.save()` or `keras.saving.save_model(model)`. This file format is considered legacy. We recommend using instead the native Keras format, e.g. `model.save('my_model.keras')` or `keras.saving.save_model(model, 'my_model.keras')`. \n"
          ]
        },
        {
          "name": "stdout",
          "output_type": "stream",
          "text": [
            "\u001b[1m335/335\u001b[0m \u001b[32m━━━━━━━━━━━━━━━━━━━━\u001b[0m\u001b[37m\u001b[0m \u001b[1m14s\u001b[0m 41ms/step - accuracy: 0.5829 - loss: 1.4670 - val_accuracy: 0.5595 - val_loss: 1.5919 - learning_rate: 0.0027\n",
            "Epoch 39/50\n",
            "\u001b[1m335/335\u001b[0m \u001b[32m━━━━━━━━━━━━━━━━━━━━\u001b[0m\u001b[37m\u001b[0m \u001b[1m0s\u001b[0m 37ms/step - accuracy: 0.5931 - loss: 1.4180\n",
            "Epoch 39: val_loss did not improve from 1.59189\n",
            "\u001b[1m335/335\u001b[0m \u001b[32m━━━━━━━━━━━━━━━━━━━━\u001b[0m\u001b[37m\u001b[0m \u001b[1m13s\u001b[0m 40ms/step - accuracy: 0.5931 - loss: 1.4181 - val_accuracy: 0.5427 - val_loss: 1.6301 - learning_rate: 0.0027\n",
            "Epoch 40/50\n",
            "\u001b[1m335/335\u001b[0m \u001b[32m━━━━━━━━━━━━━━━━━━━━\u001b[0m\u001b[37m\u001b[0m \u001b[1m0s\u001b[0m 37ms/step - accuracy: 0.5936 - loss: 1.4050\n",
            "Epoch 40: val_loss did not improve from 1.59189\n",
            "\u001b[1m335/335\u001b[0m \u001b[32m━━━━━━━━━━━━━━━━━━━━\u001b[0m\u001b[37m\u001b[0m \u001b[1m13s\u001b[0m 40ms/step - accuracy: 0.5936 - loss: 1.4050 - val_accuracy: 0.5599 - val_loss: 1.6542 - learning_rate: 0.0027\n",
            "Epoch 41/50\n",
            "\u001b[1m335/335\u001b[0m \u001b[32m━━━━━━━━━━━━━━━━━━━━\u001b[0m\u001b[37m\u001b[0m \u001b[1m0s\u001b[0m 38ms/step - accuracy: 0.5933 - loss: 1.4200\n",
            "Epoch 41: val_loss did not improve from 1.59189\n",
            "\u001b[1m335/335\u001b[0m \u001b[32m━━━━━━━━━━━━━━━━━━━━\u001b[0m\u001b[37m\u001b[0m \u001b[1m14s\u001b[0m 40ms/step - accuracy: 0.5933 - loss: 1.4200 - val_accuracy: 0.5495 - val_loss: 1.6409 - learning_rate: 0.0027\n",
            "Epoch 42/50\n",
            "\u001b[1m335/335\u001b[0m \u001b[32m━━━━━━━━━━━━━━━━━━━━\u001b[0m\u001b[37m\u001b[0m \u001b[1m0s\u001b[0m 37ms/step - accuracy: 0.6207 - loss: 1.3658\n",
            "Epoch 42: val_loss did not improve from 1.59189\n",
            "\u001b[1m335/335\u001b[0m \u001b[32m━━━━━━━━━━━━━━━━━━━━\u001b[0m\u001b[37m\u001b[0m \u001b[1m13s\u001b[0m 40ms/step - accuracy: 0.6207 - loss: 1.3659 - val_accuracy: 0.5368 - val_loss: 1.6704 - learning_rate: 0.0027\n",
            "Epoch 43/50\n",
            "\u001b[1m335/335\u001b[0m \u001b[32m━━━━━━━━━━━━━━━━━━━━\u001b[0m\u001b[37m\u001b[0m \u001b[1m0s\u001b[0m 38ms/step - accuracy: 0.6220 - loss: 1.3618\n",
            "Epoch 43: val_loss did not improve from 1.59189\n",
            "\u001b[1m335/335\u001b[0m \u001b[32m━━━━━━━━━━━━━━━━━━━━\u001b[0m\u001b[37m\u001b[0m \u001b[1m14s\u001b[0m 41ms/step - accuracy: 0.6219 - loss: 1.3619 - val_accuracy: 0.5674 - val_loss: 1.6313 - learning_rate: 0.0027\n",
            "Epoch 44/50\n",
            "\u001b[1m335/335\u001b[0m \u001b[32m━━━━━━━━━━━━━━━━━━━━\u001b[0m\u001b[37m\u001b[0m \u001b[1m0s\u001b[0m 37ms/step - accuracy: 0.6051 - loss: 1.4212\n",
            "Epoch 44: val_loss did not improve from 1.59189\n",
            "\n",
            "Epoch 44: ReduceLROnPlateau reducing learning rate to 0.0013498710468411446.\n",
            "\u001b[1m335/335\u001b[0m \u001b[32m━━━━━━━━━━━━━━━━━━━━\u001b[0m\u001b[37m\u001b[0m \u001b[1m13s\u001b[0m 40ms/step - accuracy: 0.6051 - loss: 1.4213 - val_accuracy: 0.5704 - val_loss: 1.6329 - learning_rate: 0.0027\n",
            "Epoch 45/50\n",
            "\u001b[1m335/335\u001b[0m \u001b[32m━━━━━━━━━━━━━━━━━━━━\u001b[0m\u001b[37m\u001b[0m \u001b[1m0s\u001b[0m 37ms/step - accuracy: 0.6275 - loss: 1.3259\n",
            "Epoch 45: val_loss improved from 1.59189 to 1.53815, saving model to lstm_v2_hybrid_best.h5\n"
          ]
        },
        {
          "name": "stderr",
          "output_type": "stream",
          "text": [
            "WARNING:absl:You are saving your model as an HDF5 file via `model.save()` or `keras.saving.save_model(model)`. This file format is considered legacy. We recommend using instead the native Keras format, e.g. `model.save('my_model.keras')` or `keras.saving.save_model(model, 'my_model.keras')`. \n"
          ]
        },
        {
          "name": "stdout",
          "output_type": "stream",
          "text": [
            "\u001b[1m335/335\u001b[0m \u001b[32m━━━━━━━━━━━━━━━━━━━━\u001b[0m\u001b[37m\u001b[0m \u001b[1m14s\u001b[0m 41ms/step - accuracy: 0.6276 - loss: 1.3258 - val_accuracy: 0.5943 - val_loss: 1.5382 - learning_rate: 0.0013\n",
            "Epoch 46/50\n",
            "\u001b[1m335/335\u001b[0m \u001b[32m━━━━━━━━━━━━━━━━━━━━\u001b[0m\u001b[37m\u001b[0m \u001b[1m0s\u001b[0m 37ms/step - accuracy: 0.6614 - loss: 1.2300\n",
            "Epoch 46: val_loss improved from 1.53815 to 1.51991, saving model to lstm_v2_hybrid_best.h5\n"
          ]
        },
        {
          "name": "stderr",
          "output_type": "stream",
          "text": [
            "WARNING:absl:You are saving your model as an HDF5 file via `model.save()` or `keras.saving.save_model(model)`. This file format is considered legacy. We recommend using instead the native Keras format, e.g. `model.save('my_model.keras')` or `keras.saving.save_model(model, 'my_model.keras')`. \n"
          ]
        },
        {
          "name": "stdout",
          "output_type": "stream",
          "text": [
            "\u001b[1m335/335\u001b[0m \u001b[32m━━━━━━━━━━━━━━━━━━━━\u001b[0m\u001b[37m\u001b[0m \u001b[1m13s\u001b[0m 40ms/step - accuracy: 0.6614 - loss: 1.2300 - val_accuracy: 0.6025 - val_loss: 1.5199 - learning_rate: 0.0013\n",
            "Epoch 47/50\n",
            "\u001b[1m334/335\u001b[0m \u001b[32m━━━━━━━━━━━━━━━━━━━\u001b[0m\u001b[37m━\u001b[0m \u001b[1m0s\u001b[0m 38ms/step - accuracy: 0.6830 - loss: 1.1701\n",
            "Epoch 47: val_loss did not improve from 1.51991\n",
            "\u001b[1m335/335\u001b[0m \u001b[32m━━━━━━━━━━━━━━━━━━━━\u001b[0m\u001b[37m\u001b[0m \u001b[1m14s\u001b[0m 41ms/step - accuracy: 0.6830 - loss: 1.1701 - val_accuracy: 0.5957 - val_loss: 1.5414 - learning_rate: 0.0013\n",
            "Epoch 48/50\n",
            "\u001b[1m335/335\u001b[0m \u001b[32m━━━━━━━━━━━━━━━━━━━━\u001b[0m\u001b[37m\u001b[0m \u001b[1m0s\u001b[0m 36ms/step - accuracy: 0.6933 - loss: 1.1303\n",
            "Epoch 48: val_loss did not improve from 1.51991\n",
            "\u001b[1m335/335\u001b[0m \u001b[32m━━━━━━━━━━━━━━━━━━━━\u001b[0m\u001b[37m\u001b[0m \u001b[1m13s\u001b[0m 39ms/step - accuracy: 0.6932 - loss: 1.1304 - val_accuracy: 0.6032 - val_loss: 1.5270 - learning_rate: 0.0013\n",
            "Epoch 49/50\n",
            "\u001b[1m335/335\u001b[0m \u001b[32m━━━━━━━━━━━━━━━━━━━━\u001b[0m\u001b[37m\u001b[0m \u001b[1m0s\u001b[0m 37ms/step - accuracy: 0.6953 - loss: 1.1242\n",
            "Epoch 49: val_loss did not improve from 1.51991\n",
            "\u001b[1m335/335\u001b[0m \u001b[32m━━━━━━━━━━━━━━━━━━━━\u001b[0m\u001b[37m\u001b[0m \u001b[1m13s\u001b[0m 39ms/step - accuracy: 0.6953 - loss: 1.1242 - val_accuracy: 0.6088 - val_loss: 1.5660 - learning_rate: 0.0013\n",
            "Epoch 50/50\n",
            "\u001b[1m334/335\u001b[0m \u001b[32m━━━━━━━━━━━━━━━━━━━\u001b[0m\u001b[37m━\u001b[0m \u001b[1m0s\u001b[0m 36ms/step - accuracy: 0.7035 - loss: 1.1022\n",
            "Epoch 50: val_loss did not improve from 1.51991\n",
            "\u001b[1m335/335\u001b[0m \u001b[32m━━━━━━━━━━━━━━━━━━━━\u001b[0m\u001b[37m\u001b[0m \u001b[1m13s\u001b[0m 39ms/step - accuracy: 0.7034 - loss: 1.1023 - val_accuracy: 0.5961 - val_loss: 1.5447 - learning_rate: 0.0013\n",
            "Restoring model weights from the end of the best epoch: 46.\n",
            "学習完了！学習時間: 677.57秒\n",
            "最良検証Loss: 1.5199\n",
            "最良検証Accuracy: 0.6088\n",
            "ハイブリッドモデル評価中...\n",
            "テストLoss: 1.5199\n",
            "テストAccuracy: 0.6025\n",
            "F1-Score (macro): 0.5681\n",
            "F1-Score (weighted): 0.5993\n",
            "Trial 0 failed: 'accuracy'\n",
            "[I 2025-07-07 11:46:57,533] Trial 0 finished with value: 0.0 and parameters: {'lstm_units_1': 64, 'lstm_units_2': 64, 'dense_units': 56, 'demographics_dense_units': 24, 'fusion_dense_units': 16, 'dropout_rate': 0.1, 'dense_dropout_rate': 0.1, 'learning_rate': 0.005399484409787433, 'batch_size': 32, 'fusion_type': 'concatenate', 'patience': 12, 'reduce_lr_patience': 6}. Best is trial 0 with value: 0.0.\n",
            "Mixed precision enabled for better GPU performance\n",
            "GPU利用可能: 1台\n",
            "使用GPU: PhysicalDevice(name='/physical_device:GPU:0', device_type='GPU')\n",
            "LSTM v2ハイブリッドモデル初期化完了\n",
            "センサー入力形状: (64, 332)\n",
            "Demographics入力形状: (20,)\n",
            "クラス数: 18\n",
            "融合方式: attention\n",
            "GPU利用可能: True\n",
            "LSTM v2ハイブリッドモデルを構築中...\n",
            "モデル構築完了\n",
            "総パラメータ数: 124,834\n",
            "ハイブリッドモデル学習開始...\n",
            "センサー訓練データ形状: (10714, 64, 332)\n",
            "Demographics訓練データ形状: (10714, 20)\n",
            "センサー検証データ形状: (2679, 64, 332)\n",
            "Demographics検証データ形状: (2679, 20)\n",
            "訓練ラベル形状: (10714,)\n",
            "検証ラベル形状: (2679,)\n",
            "Epoch 1/50\n",
            "\u001b[1m335/335\u001b[0m \u001b[32m━━━━━━━━━━━━━━━━━━━━\u001b[0m\u001b[37m\u001b[0m \u001b[1m0s\u001b[0m 41ms/step - accuracy: 0.0945 - loss: 2.8992\n",
            "Epoch 1: val_loss improved from inf to 2.70204, saving model to lstm_v2_hybrid_best.h5\n"
          ]
        },
        {
          "name": "stderr",
          "output_type": "stream",
          "text": [
            "WARNING:absl:You are saving your model as an HDF5 file via `model.save()` or `keras.saving.save_model(model)`. This file format is considered legacy. We recommend using instead the native Keras format, e.g. `model.save('my_model.keras')` or `keras.saving.save_model(model, 'my_model.keras')`. \n"
          ]
        },
        {
          "name": "stdout",
          "output_type": "stream",
          "text": [
            "\u001b[1m335/335\u001b[0m \u001b[32m━━━━━━━━━━━━━━━━━━━━\u001b[0m\u001b[37m\u001b[0m \u001b[1m19s\u001b[0m 47ms/step - accuracy: 0.0946 - loss: 2.8990 - val_accuracy: 0.1519 - val_loss: 2.7020 - learning_rate: 5.4041e-04\n",
            "Epoch 2/50\n",
            "\u001b[1m334/335\u001b[0m \u001b[32m━━━━━━━━━━━━━━━━━━━\u001b[0m\u001b[37m━\u001b[0m \u001b[1m0s\u001b[0m 40ms/step - accuracy: 0.1820 - loss: 2.6516\n",
            "Epoch 2: val_loss improved from 2.70204 to 2.46136, saving model to lstm_v2_hybrid_best.h5\n"
          ]
        },
        {
          "name": "stderr",
          "output_type": "stream",
          "text": [
            "WARNING:absl:You are saving your model as an HDF5 file via `model.save()` or `keras.saving.save_model(model)`. This file format is considered legacy. We recommend using instead the native Keras format, e.g. `model.save('my_model.keras')` or `keras.saving.save_model(model, 'my_model.keras')`. \n"
          ]
        },
        {
          "name": "stdout",
          "output_type": "stream",
          "text": [
            "\u001b[1m335/335\u001b[0m \u001b[32m━━━━━━━━━━━━━━━━━━━━\u001b[0m\u001b[37m\u001b[0m \u001b[1m14s\u001b[0m 43ms/step - accuracy: 0.1821 - loss: 2.6512 - val_accuracy: 0.2255 - val_loss: 2.4614 - learning_rate: 5.4041e-04\n",
            "Epoch 3/50\n",
            "\u001b[1m335/335\u001b[0m \u001b[32m━━━━━━━━━━━━━━━━━━━━\u001b[0m\u001b[37m\u001b[0m \u001b[1m0s\u001b[0m 39ms/step - accuracy: 0.2284 - loss: 2.3963\n",
            "Epoch 3: val_loss improved from 2.46136 to 2.27833, saving model to lstm_v2_hybrid_best.h5\n"
          ]
        },
        {
          "name": "stderr",
          "output_type": "stream",
          "text": [
            "WARNING:absl:You are saving your model as an HDF5 file via `model.save()` or `keras.saving.save_model(model)`. This file format is considered legacy. We recommend using instead the native Keras format, e.g. `model.save('my_model.keras')` or `keras.saving.save_model(model, 'my_model.keras')`. \n"
          ]
        },
        {
          "name": "stdout",
          "output_type": "stream",
          "text": [
            "\u001b[1m335/335\u001b[0m \u001b[32m━━━━━━━━━━━━━━━━━━━━\u001b[0m\u001b[37m\u001b[0m \u001b[1m14s\u001b[0m 42ms/step - accuracy: 0.2285 - loss: 2.3963 - val_accuracy: 0.2520 - val_loss: 2.2783 - learning_rate: 5.4041e-04\n",
            "Epoch 4/50\n",
            "\u001b[1m334/335\u001b[0m \u001b[32m━━━━━━━━━━━━━━━━━━━\u001b[0m\u001b[37m━\u001b[0m \u001b[1m0s\u001b[0m 39ms/step - accuracy: 0.2584 - loss: 2.2635\n",
            "Epoch 4: val_loss improved from 2.27833 to 2.16688, saving model to lstm_v2_hybrid_best.h5\n"
          ]
        },
        {
          "name": "stderr",
          "output_type": "stream",
          "text": [
            "WARNING:absl:You are saving your model as an HDF5 file via `model.save()` or `keras.saving.save_model(model)`. This file format is considered legacy. We recommend using instead the native Keras format, e.g. `model.save('my_model.keras')` or `keras.saving.save_model(model, 'my_model.keras')`. \n"
          ]
        },
        {
          "name": "stdout",
          "output_type": "stream",
          "text": [
            "\u001b[1m335/335\u001b[0m \u001b[32m━━━━━━━━━━━━━━━━━━━━\u001b[0m\u001b[37m\u001b[0m \u001b[1m14s\u001b[0m 42ms/step - accuracy: 0.2584 - loss: 2.2633 - val_accuracy: 0.2986 - val_loss: 2.1669 - learning_rate: 5.4041e-04\n",
            "Epoch 5/50\n",
            "\u001b[1m335/335\u001b[0m \u001b[32m━━━━━━━━━━━━━━━━━━━━\u001b[0m\u001b[37m\u001b[0m \u001b[1m0s\u001b[0m 39ms/step - accuracy: 0.2939 - loss: 2.1274\n",
            "Epoch 5: val_loss improved from 2.16688 to 2.05579, saving model to lstm_v2_hybrid_best.h5\n"
          ]
        },
        {
          "name": "stderr",
          "output_type": "stream",
          "text": [
            "WARNING:absl:You are saving your model as an HDF5 file via `model.save()` or `keras.saving.save_model(model)`. This file format is considered legacy. We recommend using instead the native Keras format, e.g. `model.save('my_model.keras')` or `keras.saving.save_model(model, 'my_model.keras')`. \n"
          ]
        },
        {
          "name": "stdout",
          "output_type": "stream",
          "text": [
            "\u001b[1m335/335\u001b[0m \u001b[32m━━━━━━━━━━━━━━━━━━━━\u001b[0m\u001b[37m\u001b[0m \u001b[1m14s\u001b[0m 42ms/step - accuracy: 0.2939 - loss: 2.1274 - val_accuracy: 0.3240 - val_loss: 2.0558 - learning_rate: 5.4041e-04\n",
            "Epoch 6/50\n",
            "\u001b[1m335/335\u001b[0m \u001b[32m━━━━━━━━━━━━━━━━━━━━\u001b[0m\u001b[37m\u001b[0m \u001b[1m0s\u001b[0m 39ms/step - accuracy: 0.3267 - loss: 2.0437\n",
            "Epoch 6: val_loss improved from 2.05579 to 1.95042, saving model to lstm_v2_hybrid_best.h5\n"
          ]
        },
        {
          "name": "stderr",
          "output_type": "stream",
          "text": [
            "WARNING:absl:You are saving your model as an HDF5 file via `model.save()` or `keras.saving.save_model(model)`. This file format is considered legacy. We recommend using instead the native Keras format, e.g. `model.save('my_model.keras')` or `keras.saving.save_model(model, 'my_model.keras')`. \n"
          ]
        },
        {
          "name": "stdout",
          "output_type": "stream",
          "text": [
            "\u001b[1m335/335\u001b[0m \u001b[32m━━━━━━━━━━━━━━━━━━━━\u001b[0m\u001b[37m\u001b[0m \u001b[1m14s\u001b[0m 42ms/step - accuracy: 0.3267 - loss: 2.0436 - val_accuracy: 0.3445 - val_loss: 1.9504 - learning_rate: 5.4041e-04\n",
            "Epoch 7/50\n",
            "\u001b[1m335/335\u001b[0m \u001b[32m━━━━━━━━━━━━━━━━━━━━\u001b[0m\u001b[37m\u001b[0m \u001b[1m0s\u001b[0m 39ms/step - accuracy: 0.3389 - loss: 1.9313\n",
            "Epoch 7: val_loss improved from 1.95042 to 1.87816, saving model to lstm_v2_hybrid_best.h5\n"
          ]
        },
        {
          "name": "stderr",
          "output_type": "stream",
          "text": [
            "WARNING:absl:You are saving your model as an HDF5 file via `model.save()` or `keras.saving.save_model(model)`. This file format is considered legacy. We recommend using instead the native Keras format, e.g. `model.save('my_model.keras')` or `keras.saving.save_model(model, 'my_model.keras')`. \n"
          ]
        },
        {
          "name": "stdout",
          "output_type": "stream",
          "text": [
            "\u001b[1m335/335\u001b[0m \u001b[32m━━━━━━━━━━━━━━━━━━━━\u001b[0m\u001b[37m\u001b[0m \u001b[1m14s\u001b[0m 42ms/step - accuracy: 0.3389 - loss: 1.9313 - val_accuracy: 0.3766 - val_loss: 1.8782 - learning_rate: 5.4041e-04\n",
            "Epoch 8/50\n",
            "\u001b[1m334/335\u001b[0m \u001b[32m━━━━━━━━━━━━━━━━━━━\u001b[0m\u001b[37m━\u001b[0m \u001b[1m0s\u001b[0m 40ms/step - accuracy: 0.3675 - loss: 1.8434\n",
            "Epoch 8: val_loss improved from 1.87816 to 1.81957, saving model to lstm_v2_hybrid_best.h5\n"
          ]
        },
        {
          "name": "stderr",
          "output_type": "stream",
          "text": [
            "WARNING:absl:You are saving your model as an HDF5 file via `model.save()` or `keras.saving.save_model(model)`. This file format is considered legacy. We recommend using instead the native Keras format, e.g. `model.save('my_model.keras')` or `keras.saving.save_model(model, 'my_model.keras')`. \n"
          ]
        },
        {
          "name": "stdout",
          "output_type": "stream",
          "text": [
            "\u001b[1m335/335\u001b[0m \u001b[32m━━━━━━━━━━━━━━━━━━━━\u001b[0m\u001b[37m\u001b[0m \u001b[1m15s\u001b[0m 44ms/step - accuracy: 0.3675 - loss: 1.8433 - val_accuracy: 0.3949 - val_loss: 1.8196 - learning_rate: 5.4041e-04\n",
            "Epoch 9/50\n",
            "\u001b[1m335/335\u001b[0m \u001b[32m━━━━━━━━━━━━━━━━━━━━\u001b[0m\u001b[37m\u001b[0m \u001b[1m0s\u001b[0m 41ms/step - accuracy: 0.3814 - loss: 1.7821\n",
            "Epoch 9: val_loss improved from 1.81957 to 1.75608, saving model to lstm_v2_hybrid_best.h5\n"
          ]
        },
        {
          "name": "stderr",
          "output_type": "stream",
          "text": [
            "WARNING:absl:You are saving your model as an HDF5 file via `model.save()` or `keras.saving.save_model(model)`. This file format is considered legacy. We recommend using instead the native Keras format, e.g. `model.save('my_model.keras')` or `keras.saving.save_model(model, 'my_model.keras')`. \n"
          ]
        },
        {
          "name": "stdout",
          "output_type": "stream",
          "text": [
            "\u001b[1m335/335\u001b[0m \u001b[32m━━━━━━━━━━━━━━━━━━━━\u001b[0m\u001b[37m\u001b[0m \u001b[1m15s\u001b[0m 45ms/step - accuracy: 0.3814 - loss: 1.7820 - val_accuracy: 0.4020 - val_loss: 1.7561 - learning_rate: 5.4041e-04\n",
            "Epoch 10/50\n",
            "\u001b[1m335/335\u001b[0m \u001b[32m━━━━━━━━━━━━━━━━━━━━\u001b[0m\u001b[37m\u001b[0m \u001b[1m0s\u001b[0m 40ms/step - accuracy: 0.4049 - loss: 1.6908\n",
            "Epoch 10: val_loss improved from 1.75608 to 1.71439, saving model to lstm_v2_hybrid_best.h5\n"
          ]
        },
        {
          "name": "stderr",
          "output_type": "stream",
          "text": [
            "WARNING:absl:You are saving your model as an HDF5 file via `model.save()` or `keras.saving.save_model(model)`. This file format is considered legacy. We recommend using instead the native Keras format, e.g. `model.save('my_model.keras')` or `keras.saving.save_model(model, 'my_model.keras')`. \n"
          ]
        },
        {
          "name": "stdout",
          "output_type": "stream",
          "text": [
            "\u001b[1m335/335\u001b[0m \u001b[32m━━━━━━━━━━━━━━━━━━━━\u001b[0m\u001b[37m\u001b[0m \u001b[1m15s\u001b[0m 44ms/step - accuracy: 0.4049 - loss: 1.6907 - val_accuracy: 0.4091 - val_loss: 1.7144 - learning_rate: 5.4041e-04\n",
            "Epoch 11/50\n",
            "\u001b[1m335/335\u001b[0m \u001b[32m━━━━━━━━━━━━━━━━━━━━\u001b[0m\u001b[37m\u001b[0m \u001b[1m0s\u001b[0m 41ms/step - accuracy: 0.4165 - loss: 1.6088\n",
            "Epoch 11: val_loss improved from 1.71439 to 1.66874, saving model to lstm_v2_hybrid_best.h5\n"
          ]
        },
        {
          "name": "stderr",
          "output_type": "stream",
          "text": [
            "WARNING:absl:You are saving your model as an HDF5 file via `model.save()` or `keras.saving.save_model(model)`. This file format is considered legacy. We recommend using instead the native Keras format, e.g. `model.save('my_model.keras')` or `keras.saving.save_model(model, 'my_model.keras')`. \n"
          ]
        },
        {
          "name": "stdout",
          "output_type": "stream",
          "text": [
            "\u001b[1m335/335\u001b[0m \u001b[32m━━━━━━━━━━━━━━━━━━━━\u001b[0m\u001b[37m\u001b[0m \u001b[1m15s\u001b[0m 44ms/step - accuracy: 0.4165 - loss: 1.6088 - val_accuracy: 0.4199 - val_loss: 1.6687 - learning_rate: 5.4041e-04\n",
            "Epoch 12/50\n",
            "\u001b[1m335/335\u001b[0m \u001b[32m━━━━━━━━━━━━━━━━━━━━\u001b[0m\u001b[37m\u001b[0m \u001b[1m0s\u001b[0m 41ms/step - accuracy: 0.4311 - loss: 1.5593\n",
            "Epoch 12: val_loss improved from 1.66874 to 1.63844, saving model to lstm_v2_hybrid_best.h5\n"
          ]
        },
        {
          "name": "stderr",
          "output_type": "stream",
          "text": [
            "WARNING:absl:You are saving your model as an HDF5 file via `model.save()` or `keras.saving.save_model(model)`. This file format is considered legacy. We recommend using instead the native Keras format, e.g. `model.save('my_model.keras')` or `keras.saving.save_model(model, 'my_model.keras')`. \n"
          ]
        },
        {
          "name": "stdout",
          "output_type": "stream",
          "text": [
            "\u001b[1m335/335\u001b[0m \u001b[32m━━━━━━━━━━━━━━━━━━━━\u001b[0m\u001b[37m\u001b[0m \u001b[1m15s\u001b[0m 44ms/step - accuracy: 0.4311 - loss: 1.5593 - val_accuracy: 0.4367 - val_loss: 1.6384 - learning_rate: 5.4041e-04\n",
            "Epoch 13/50\n",
            "\u001b[1m335/335\u001b[0m \u001b[32m━━━━━━━━━━━━━━━━━━━━\u001b[0m\u001b[37m\u001b[0m \u001b[1m0s\u001b[0m 41ms/step - accuracy: 0.4403 - loss: 1.5276\n",
            "Epoch 13: val_loss did not improve from 1.63844\n",
            "\u001b[1m335/335\u001b[0m \u001b[32m━━━━━━━━━━━━━━━━━━━━\u001b[0m\u001b[37m\u001b[0m \u001b[1m15s\u001b[0m 44ms/step - accuracy: 0.4403 - loss: 1.5275 - val_accuracy: 0.4319 - val_loss: 1.6492 - learning_rate: 5.4041e-04\n",
            "Epoch 14/50\n",
            "\u001b[1m334/335\u001b[0m \u001b[32m━━━━━━━━━━━━━━━━━━━\u001b[0m\u001b[37m━\u001b[0m \u001b[1m0s\u001b[0m 40ms/step - accuracy: 0.4634 - loss: 1.4732\n",
            "Epoch 14: val_loss improved from 1.63844 to 1.59943, saving model to lstm_v2_hybrid_best.h5\n"
          ]
        },
        {
          "name": "stderr",
          "output_type": "stream",
          "text": [
            "WARNING:absl:You are saving your model as an HDF5 file via `model.save()` or `keras.saving.save_model(model)`. This file format is considered legacy. We recommend using instead the native Keras format, e.g. `model.save('my_model.keras')` or `keras.saving.save_model(model, 'my_model.keras')`. \n"
          ]
        },
        {
          "name": "stdout",
          "output_type": "stream",
          "text": [
            "\u001b[1m335/335\u001b[0m \u001b[32m━━━━━━━━━━━━━━━━━━━━\u001b[0m\u001b[37m\u001b[0m \u001b[1m14s\u001b[0m 43ms/step - accuracy: 0.4634 - loss: 1.4733 - val_accuracy: 0.4364 - val_loss: 1.5994 - learning_rate: 5.4041e-04\n",
            "Epoch 15/50\n",
            "\u001b[1m335/335\u001b[0m \u001b[32m━━━━━━━━━━━━━━━━━━━━\u001b[0m\u001b[37m\u001b[0m \u001b[1m0s\u001b[0m 40ms/step - accuracy: 0.4673 - loss: 1.4290\n",
            "Epoch 15: val_loss improved from 1.59943 to 1.56677, saving model to lstm_v2_hybrid_best.h5\n"
          ]
        },
        {
          "name": "stderr",
          "output_type": "stream",
          "text": [
            "WARNING:absl:You are saving your model as an HDF5 file via `model.save()` or `keras.saving.save_model(model)`. This file format is considered legacy. We recommend using instead the native Keras format, e.g. `model.save('my_model.keras')` or `keras.saving.save_model(model, 'my_model.keras')`. \n"
          ]
        },
        {
          "name": "stdout",
          "output_type": "stream",
          "text": [
            "\u001b[1m335/335\u001b[0m \u001b[32m━━━━━━━━━━━━━━━━━━━━\u001b[0m\u001b[37m\u001b[0m \u001b[1m15s\u001b[0m 44ms/step - accuracy: 0.4673 - loss: 1.4290 - val_accuracy: 0.4543 - val_loss: 1.5668 - learning_rate: 5.4041e-04\n",
            "Epoch 16/50\n",
            "\u001b[1m334/335\u001b[0m \u001b[32m━━━━━━━━━━━━━━━━━━━\u001b[0m\u001b[37m━\u001b[0m \u001b[1m0s\u001b[0m 41ms/step - accuracy: 0.4899 - loss: 1.3941\n",
            "Epoch 16: val_loss improved from 1.56677 to 1.56650, saving model to lstm_v2_hybrid_best.h5\n"
          ]
        },
        {
          "name": "stderr",
          "output_type": "stream",
          "text": [
            "WARNING:absl:You are saving your model as an HDF5 file via `model.save()` or `keras.saving.save_model(model)`. This file format is considered legacy. We recommend using instead the native Keras format, e.g. `model.save('my_model.keras')` or `keras.saving.save_model(model, 'my_model.keras')`. \n"
          ]
        },
        {
          "name": "stdout",
          "output_type": "stream",
          "text": [
            "\u001b[1m335/335\u001b[0m \u001b[32m━━━━━━━━━━━━━━━━━━━━\u001b[0m\u001b[37m\u001b[0m \u001b[1m15s\u001b[0m 44ms/step - accuracy: 0.4899 - loss: 1.3941 - val_accuracy: 0.4614 - val_loss: 1.5665 - learning_rate: 5.4041e-04\n",
            "Epoch 17/50\n",
            "\u001b[1m334/335\u001b[0m \u001b[32m━━━━━━━━━━━━━━━━━━━\u001b[0m\u001b[37m━\u001b[0m \u001b[1m0s\u001b[0m 41ms/step - accuracy: 0.5000 - loss: 1.3378\n",
            "Epoch 17: val_loss did not improve from 1.56650\n",
            "\u001b[1m335/335\u001b[0m \u001b[32m━━━━━━━━━━━━━━━━━━━━\u001b[0m\u001b[37m\u001b[0m \u001b[1m15s\u001b[0m 44ms/step - accuracy: 0.5000 - loss: 1.3380 - val_accuracy: 0.4737 - val_loss: 1.5806 - learning_rate: 5.4041e-04\n",
            "Epoch 18/50\n",
            "\u001b[1m334/335\u001b[0m \u001b[32m━━━━━━━━━━━━━━━━━━━\u001b[0m\u001b[37m━\u001b[0m \u001b[1m0s\u001b[0m 40ms/step - accuracy: 0.5038 - loss: 1.3252\n",
            "Epoch 18: val_loss improved from 1.56650 to 1.54719, saving model to lstm_v2_hybrid_best.h5\n"
          ]
        },
        {
          "name": "stderr",
          "output_type": "stream",
          "text": [
            "WARNING:absl:You are saving your model as an HDF5 file via `model.save()` or `keras.saving.save_model(model)`. This file format is considered legacy. We recommend using instead the native Keras format, e.g. `model.save('my_model.keras')` or `keras.saving.save_model(model, 'my_model.keras')`. \n"
          ]
        },
        {
          "name": "stdout",
          "output_type": "stream",
          "text": [
            "\u001b[1m335/335\u001b[0m \u001b[32m━━━━━━━━━━━━━━━━━━━━\u001b[0m\u001b[37m\u001b[0m \u001b[1m15s\u001b[0m 43ms/step - accuracy: 0.5039 - loss: 1.3252 - val_accuracy: 0.4748 - val_loss: 1.5472 - learning_rate: 5.4041e-04\n",
            "Epoch 19/50\n",
            "\u001b[1m335/335\u001b[0m \u001b[32m━━━━━━━━━━━━━━━━━━━━\u001b[0m\u001b[37m\u001b[0m \u001b[1m0s\u001b[0m 41ms/step - accuracy: 0.5242 - loss: 1.2782\n",
            "Epoch 19: val_loss improved from 1.54719 to 1.50744, saving model to lstm_v2_hybrid_best.h5\n"
          ]
        },
        {
          "name": "stderr",
          "output_type": "stream",
          "text": [
            "WARNING:absl:You are saving your model as an HDF5 file via `model.save()` or `keras.saving.save_model(model)`. This file format is considered legacy. We recommend using instead the native Keras format, e.g. `model.save('my_model.keras')` or `keras.saving.save_model(model, 'my_model.keras')`. \n"
          ]
        },
        {
          "name": "stdout",
          "output_type": "stream",
          "text": [
            "\u001b[1m335/335\u001b[0m \u001b[32m━━━━━━━━━━━━━━━━━━━━\u001b[0m\u001b[37m\u001b[0m \u001b[1m15s\u001b[0m 44ms/step - accuracy: 0.5242 - loss: 1.2782 - val_accuracy: 0.4957 - val_loss: 1.5074 - learning_rate: 5.4041e-04\n",
            "Epoch 20/50\n",
            "\u001b[1m335/335\u001b[0m \u001b[32m━━━━━━━━━━━━━━━━━━━━\u001b[0m\u001b[37m\u001b[0m \u001b[1m0s\u001b[0m 40ms/step - accuracy: 0.5427 - loss: 1.2454\n",
            "Epoch 20: val_loss did not improve from 1.50744\n",
            "\u001b[1m335/335\u001b[0m \u001b[32m━━━━━━━━━━━━━━━━━━━━\u001b[0m\u001b[37m\u001b[0m \u001b[1m14s\u001b[0m 43ms/step - accuracy: 0.5427 - loss: 1.2454 - val_accuracy: 0.4897 - val_loss: 1.5599 - learning_rate: 5.4041e-04\n",
            "Epoch 21/50\n",
            "\u001b[1m334/335\u001b[0m \u001b[32m━━━━━━━━━━━━━━━━━━━\u001b[0m\u001b[37m━\u001b[0m \u001b[1m0s\u001b[0m 41ms/step - accuracy: 0.5349 - loss: 1.2527\n",
            "Epoch 21: val_loss did not improve from 1.50744\n",
            "\u001b[1m335/335\u001b[0m \u001b[32m━━━━━━━━━━━━━━━━━━━━\u001b[0m\u001b[37m\u001b[0m \u001b[1m15s\u001b[0m 44ms/step - accuracy: 0.5349 - loss: 1.2527 - val_accuracy: 0.5110 - val_loss: 1.5330 - learning_rate: 5.4041e-04\n",
            "Epoch 22/50\n",
            "\u001b[1m334/335\u001b[0m \u001b[32m━━━━━━━━━━━━━━━━━━━\u001b[0m\u001b[37m━\u001b[0m \u001b[1m0s\u001b[0m 41ms/step - accuracy: 0.5454 - loss: 1.2181\n",
            "Epoch 22: val_loss improved from 1.50744 to 1.49932, saving model to lstm_v2_hybrid_best.h5\n"
          ]
        },
        {
          "name": "stderr",
          "output_type": "stream",
          "text": [
            "WARNING:absl:You are saving your model as an HDF5 file via `model.save()` or `keras.saving.save_model(model)`. This file format is considered legacy. We recommend using instead the native Keras format, e.g. `model.save('my_model.keras')` or `keras.saving.save_model(model, 'my_model.keras')`. \n"
          ]
        },
        {
          "name": "stdout",
          "output_type": "stream",
          "text": [
            "\u001b[1m335/335\u001b[0m \u001b[32m━━━━━━━━━━━━━━━━━━━━\u001b[0m\u001b[37m\u001b[0m \u001b[1m15s\u001b[0m 44ms/step - accuracy: 0.5455 - loss: 1.2180 - val_accuracy: 0.5039 - val_loss: 1.4993 - learning_rate: 5.4041e-04\n",
            "Epoch 23/50\n",
            "\u001b[1m334/335\u001b[0m \u001b[32m━━━━━━━━━━━━━━━━━━━\u001b[0m\u001b[37m━\u001b[0m \u001b[1m0s\u001b[0m 41ms/step - accuracy: 0.5632 - loss: 1.1755\n",
            "Epoch 23: val_loss improved from 1.49932 to 1.46583, saving model to lstm_v2_hybrid_best.h5\n"
          ]
        },
        {
          "name": "stderr",
          "output_type": "stream",
          "text": [
            "WARNING:absl:You are saving your model as an HDF5 file via `model.save()` or `keras.saving.save_model(model)`. This file format is considered legacy. We recommend using instead the native Keras format, e.g. `model.save('my_model.keras')` or `keras.saving.save_model(model, 'my_model.keras')`. \n"
          ]
        },
        {
          "name": "stdout",
          "output_type": "stream",
          "text": [
            "\u001b[1m335/335\u001b[0m \u001b[32m━━━━━━━━━━━━━━━━━━━━\u001b[0m\u001b[37m\u001b[0m \u001b[1m15s\u001b[0m 45ms/step - accuracy: 0.5632 - loss: 1.1755 - val_accuracy: 0.5248 - val_loss: 1.4658 - learning_rate: 5.4041e-04\n",
            "Epoch 24/50\n",
            "\u001b[1m334/335\u001b[0m \u001b[32m━━━━━━━━━━━━━━━━━━━\u001b[0m\u001b[37m━\u001b[0m \u001b[1m0s\u001b[0m 41ms/step - accuracy: 0.5711 - loss: 1.1391\n",
            "Epoch 24: val_loss improved from 1.46583 to 1.42918, saving model to lstm_v2_hybrid_best.h5\n"
          ]
        },
        {
          "name": "stderr",
          "output_type": "stream",
          "text": [
            "WARNING:absl:You are saving your model as an HDF5 file via `model.save()` or `keras.saving.save_model(model)`. This file format is considered legacy. We recommend using instead the native Keras format, e.g. `model.save('my_model.keras')` or `keras.saving.save_model(model, 'my_model.keras')`. \n"
          ]
        },
        {
          "name": "stdout",
          "output_type": "stream",
          "text": [
            "\u001b[1m335/335\u001b[0m \u001b[32m━━━━━━━━━━━━━━━━━━━━\u001b[0m\u001b[37m\u001b[0m \u001b[1m15s\u001b[0m 44ms/step - accuracy: 0.5711 - loss: 1.1392 - val_accuracy: 0.5412 - val_loss: 1.4292 - learning_rate: 5.4041e-04\n",
            "Epoch 25/50\n",
            "\u001b[1m335/335\u001b[0m \u001b[32m━━━━━━━━━━━━━━━━━━━━\u001b[0m\u001b[37m\u001b[0m \u001b[1m0s\u001b[0m 41ms/step - accuracy: 0.5924 - loss: 1.0990\n",
            "Epoch 25: val_loss did not improve from 1.42918\n",
            "\u001b[1m335/335\u001b[0m \u001b[32m━━━━━━━━━━━━━━━━━━━━\u001b[0m\u001b[37m\u001b[0m \u001b[1m15s\u001b[0m 44ms/step - accuracy: 0.5924 - loss: 1.0990 - val_accuracy: 0.5405 - val_loss: 1.4426 - learning_rate: 5.4041e-04\n",
            "Epoch 26/50\n",
            "\u001b[1m334/335\u001b[0m \u001b[32m━━━━━━━━━━━━━━━━━━━\u001b[0m\u001b[37m━\u001b[0m \u001b[1m0s\u001b[0m 42ms/step - accuracy: 0.5858 - loss: 1.0960\n",
            "Epoch 26: val_loss did not improve from 1.42918\n",
            "\u001b[1m335/335\u001b[0m \u001b[32m━━━━━━━━━━━━━━━━━━━━\u001b[0m\u001b[37m\u001b[0m \u001b[1m15s\u001b[0m 45ms/step - accuracy: 0.5858 - loss: 1.0961 - val_accuracy: 0.5166 - val_loss: 1.5568 - learning_rate: 5.4041e-04\n",
            "Epoch 27/50\n",
            "\u001b[1m335/335\u001b[0m \u001b[32m━━━━━━━━━━━━━━━━━━━━\u001b[0m\u001b[37m\u001b[0m \u001b[1m0s\u001b[0m 41ms/step - accuracy: 0.5839 - loss: 1.1583\n",
            "Epoch 27: val_loss did not improve from 1.42918\n",
            "\u001b[1m335/335\u001b[0m \u001b[32m━━━━━━━━━━━━━━━━━━━━\u001b[0m\u001b[37m\u001b[0m \u001b[1m15s\u001b[0m 44ms/step - accuracy: 0.5839 - loss: 1.1582 - val_accuracy: 0.5457 - val_loss: 1.4469 - learning_rate: 5.4041e-04\n",
            "Epoch 28/50\n",
            "\u001b[1m335/335\u001b[0m \u001b[32m━━━━━━━━━━━━━━━━━━━━\u001b[0m\u001b[37m\u001b[0m \u001b[1m0s\u001b[0m 39ms/step - accuracy: 0.5998 - loss: 1.0850\n",
            "Epoch 28: val_loss did not improve from 1.42918\n",
            "\u001b[1m335/335\u001b[0m \u001b[32m━━━━━━━━━━━━━━━━━━━━\u001b[0m\u001b[37m\u001b[0m \u001b[1m14s\u001b[0m 42ms/step - accuracy: 0.5998 - loss: 1.0849 - val_accuracy: 0.5308 - val_loss: 1.4521 - learning_rate: 5.4041e-04\n",
            "Epoch 29/50\n",
            "\u001b[1m334/335\u001b[0m \u001b[32m━━━━━━━━━━━━━━━━━━━\u001b[0m\u001b[37m━\u001b[0m \u001b[1m0s\u001b[0m 39ms/step - accuracy: 0.6152 - loss: 1.0435\n",
            "Epoch 29: val_loss did not improve from 1.42918\n",
            "\u001b[1m335/335\u001b[0m \u001b[32m━━━━━━━━━━━━━━━━━━━━\u001b[0m\u001b[37m\u001b[0m \u001b[1m14s\u001b[0m 42ms/step - accuracy: 0.6152 - loss: 1.0436 - val_accuracy: 0.5487 - val_loss: 1.4494 - learning_rate: 5.4041e-04\n",
            "Epoch 30/50\n",
            "\u001b[1m334/335\u001b[0m \u001b[32m━━━━━━━━━━━━━━━━━━━\u001b[0m\u001b[37m━\u001b[0m \u001b[1m0s\u001b[0m 39ms/step - accuracy: 0.6195 - loss: 1.0408\n",
            "Epoch 30: val_loss did not improve from 1.42918\n",
            "\n",
            "Epoch 30: ReduceLROnPlateau reducing learning rate to 0.0002702052006497979.\n",
            "\u001b[1m335/335\u001b[0m \u001b[32m━━━━━━━━━━━━━━━━━━━━\u001b[0m\u001b[37m\u001b[0m \u001b[1m14s\u001b[0m 42ms/step - accuracy: 0.6195 - loss: 1.0408 - val_accuracy: 0.5476 - val_loss: 1.4352 - learning_rate: 5.4041e-04\n",
            "Epoch 31/50\n",
            "\u001b[1m335/335\u001b[0m \u001b[32m━━━━━━━━━━━━━━━━━━━━\u001b[0m\u001b[37m\u001b[0m \u001b[1m0s\u001b[0m 39ms/step - accuracy: 0.6323 - loss: 1.0011\n",
            "Epoch 31: val_loss improved from 1.42918 to 1.42057, saving model to lstm_v2_hybrid_best.h5\n"
          ]
        },
        {
          "name": "stderr",
          "output_type": "stream",
          "text": [
            "WARNING:absl:You are saving your model as an HDF5 file via `model.save()` or `keras.saving.save_model(model)`. This file format is considered legacy. We recommend using instead the native Keras format, e.g. `model.save('my_model.keras')` or `keras.saving.save_model(model, 'my_model.keras')`. \n"
          ]
        },
        {
          "name": "stdout",
          "output_type": "stream",
          "text": [
            "\u001b[1m335/335\u001b[0m \u001b[32m━━━━━━━━━━━━━━━━━━━━\u001b[0m\u001b[37m\u001b[0m \u001b[1m14s\u001b[0m 42ms/step - accuracy: 0.6323 - loss: 1.0011 - val_accuracy: 0.5551 - val_loss: 1.4206 - learning_rate: 2.7021e-04\n",
            "Epoch 32/50\n",
            "\u001b[1m334/335\u001b[0m \u001b[32m━━━━━━━━━━━━━━━━━━━\u001b[0m\u001b[37m━\u001b[0m \u001b[1m0s\u001b[0m 39ms/step - accuracy: 0.6539 - loss: 0.9180\n",
            "Epoch 32: val_loss did not improve from 1.42057\n",
            "\u001b[1m335/335\u001b[0m \u001b[32m━━━━━━━━━━━━━━━━━━━━\u001b[0m\u001b[37m\u001b[0m \u001b[1m14s\u001b[0m 42ms/step - accuracy: 0.6538 - loss: 0.9181 - val_accuracy: 0.5655 - val_loss: 1.4263 - learning_rate: 2.7021e-04\n",
            "Epoch 33/50\n",
            "\u001b[1m335/335\u001b[0m \u001b[32m━━━━━━━━━━━━━━━━━━━━\u001b[0m\u001b[37m\u001b[0m \u001b[1m0s\u001b[0m 39ms/step - accuracy: 0.6595 - loss: 0.9121\n",
            "Epoch 33: val_loss did not improve from 1.42057\n",
            "\u001b[1m335/335\u001b[0m \u001b[32m━━━━━━━━━━━━━━━━━━━━\u001b[0m\u001b[37m\u001b[0m \u001b[1m14s\u001b[0m 42ms/step - accuracy: 0.6595 - loss: 0.9122 - val_accuracy: 0.5719 - val_loss: 1.4366 - learning_rate: 2.7021e-04\n",
            "Epoch 34/50\n",
            "\u001b[1m335/335\u001b[0m \u001b[32m━━━━━━━━━━━━━━━━━━━━\u001b[0m\u001b[37m\u001b[0m \u001b[1m0s\u001b[0m 40ms/step - accuracy: 0.6645 - loss: 0.9319\n",
            "Epoch 34: val_loss did not improve from 1.42057\n",
            "\u001b[1m335/335\u001b[0m \u001b[32m━━━━━━━━━━━━━━━━━━━━\u001b[0m\u001b[37m\u001b[0m \u001b[1m14s\u001b[0m 42ms/step - accuracy: 0.6645 - loss: 0.9319 - val_accuracy: 0.5689 - val_loss: 1.4433 - learning_rate: 2.7021e-04\n",
            "Epoch 35/50\n",
            "\u001b[1m334/335\u001b[0m \u001b[32m━━━━━━━━━━━━━━━━━━━\u001b[0m\u001b[37m━\u001b[0m \u001b[1m0s\u001b[0m 39ms/step - accuracy: 0.6751 - loss: 0.8896\n",
            "Epoch 35: val_loss did not improve from 1.42057\n",
            "\u001b[1m335/335\u001b[0m \u001b[32m━━━━━━━━━━━━━━━━━━━━\u001b[0m\u001b[37m\u001b[0m \u001b[1m14s\u001b[0m 42ms/step - accuracy: 0.6751 - loss: 0.8896 - val_accuracy: 0.5707 - val_loss: 1.4473 - learning_rate: 2.7021e-04\n",
            "Epoch 36/50\n",
            "\u001b[1m335/335\u001b[0m \u001b[32m━━━━━━━━━━━━━━━━━━━━\u001b[0m\u001b[37m\u001b[0m \u001b[1m0s\u001b[0m 39ms/step - accuracy: 0.6781 - loss: 0.8768\n",
            "Epoch 36: val_loss did not improve from 1.42057\n",
            "\u001b[1m335/335\u001b[0m \u001b[32m━━━━━━━━━━━━━━━━━━━━\u001b[0m\u001b[37m\u001b[0m \u001b[1m14s\u001b[0m 42ms/step - accuracy: 0.6781 - loss: 0.8768 - val_accuracy: 0.5752 - val_loss: 1.4733 - learning_rate: 2.7021e-04\n",
            "Epoch 37/50\n",
            "\u001b[1m335/335\u001b[0m \u001b[32m━━━━━━━━━━━━━━━━━━━━\u001b[0m\u001b[37m\u001b[0m \u001b[1m0s\u001b[0m 40ms/step - accuracy: 0.6834 - loss: 0.8732\n",
            "Epoch 37: val_loss did not improve from 1.42057\n",
            "\n",
            "Epoch 37: ReduceLROnPlateau reducing learning rate to 0.00013510260032489896.\n",
            "\u001b[1m335/335\u001b[0m \u001b[32m━━━━━━━━━━━━━━━━━━━━\u001b[0m\u001b[37m\u001b[0m \u001b[1m14s\u001b[0m 43ms/step - accuracy: 0.6833 - loss: 0.8732 - val_accuracy: 0.5816 - val_loss: 1.4776 - learning_rate: 2.7021e-04\n",
            "Epoch 38/50\n",
            "\u001b[1m335/335\u001b[0m \u001b[32m━━━━━━━━━━━━━━━━━━━━\u001b[0m\u001b[37m\u001b[0m \u001b[1m0s\u001b[0m 39ms/step - accuracy: 0.6905 - loss: 0.8543\n",
            "Epoch 38: val_loss did not improve from 1.42057\n",
            "\u001b[1m335/335\u001b[0m \u001b[32m━━━━━━━━━━━━━━━━━━━━\u001b[0m\u001b[37m\u001b[0m \u001b[1m14s\u001b[0m 42ms/step - accuracy: 0.6905 - loss: 0.8542 - val_accuracy: 0.5823 - val_loss: 1.4516 - learning_rate: 1.3510e-04\n",
            "Epoch 39/50\n",
            "\u001b[1m334/335\u001b[0m \u001b[32m━━━━━━━━━━━━━━━━━━━\u001b[0m\u001b[37m━\u001b[0m \u001b[1m0s\u001b[0m 39ms/step - accuracy: 0.7058 - loss: 0.8250\n",
            "Epoch 39: val_loss did not improve from 1.42057\n",
            "\u001b[1m335/335\u001b[0m \u001b[32m━━━━━━━━━━━━━━━━━━━━\u001b[0m\u001b[37m\u001b[0m \u001b[1m14s\u001b[0m 42ms/step - accuracy: 0.7058 - loss: 0.8250 - val_accuracy: 0.5864 - val_loss: 1.4388 - learning_rate: 1.3510e-04\n",
            "Epoch 40/50\n",
            "\u001b[1m334/335\u001b[0m \u001b[32m━━━━━━━━━━━━━━━━━━━\u001b[0m\u001b[37m━\u001b[0m \u001b[1m0s\u001b[0m 39ms/step - accuracy: 0.7105 - loss: 0.8256\n",
            "Epoch 40: val_loss did not improve from 1.42057\n",
            "\u001b[1m335/335\u001b[0m \u001b[32m━━━━━━━━━━━━━━━━━━━━\u001b[0m\u001b[37m\u001b[0m \u001b[1m14s\u001b[0m 41ms/step - accuracy: 0.7105 - loss: 0.8256 - val_accuracy: 0.5864 - val_loss: 1.4487 - learning_rate: 1.3510e-04\n",
            "Epoch 41/50\n",
            "\u001b[1m334/335\u001b[0m \u001b[32m━━━━━━━━━━━━━━━━━━━\u001b[0m\u001b[37m━\u001b[0m \u001b[1m0s\u001b[0m 39ms/step - accuracy: 0.7031 - loss: 0.8153\n",
            "Epoch 41: val_loss did not improve from 1.42057\n",
            "\u001b[1m335/335\u001b[0m \u001b[32m━━━━━━━━━━━━━━━━━━━━\u001b[0m\u001b[37m\u001b[0m \u001b[1m14s\u001b[0m 42ms/step - accuracy: 0.7031 - loss: 0.8152 - val_accuracy: 0.5976 - val_loss: 1.4416 - learning_rate: 1.3510e-04\n",
            "Epoch 42/50\n",
            "\u001b[1m335/335\u001b[0m \u001b[32m━━━━━━━━━━━━━━━━━━━━\u001b[0m\u001b[37m\u001b[0m \u001b[1m0s\u001b[0m 39ms/step - accuracy: 0.7125 - loss: 0.7924\n",
            "Epoch 42: val_loss did not improve from 1.42057\n",
            "\u001b[1m335/335\u001b[0m \u001b[32m━━━━━━━━━━━━━━━━━━━━\u001b[0m\u001b[37m\u001b[0m \u001b[1m14s\u001b[0m 42ms/step - accuracy: 0.7125 - loss: 0.7924 - val_accuracy: 0.5913 - val_loss: 1.4459 - learning_rate: 1.3510e-04\n",
            "Epoch 43/50\n",
            "\u001b[1m335/335\u001b[0m \u001b[32m━━━━━━━━━━━━━━━━━━━━\u001b[0m\u001b[37m\u001b[0m \u001b[1m0s\u001b[0m 39ms/step - accuracy: 0.7109 - loss: 0.8010\n",
            "Epoch 43: val_loss did not improve from 1.42057\n",
            "\n",
            "Epoch 43: ReduceLROnPlateau reducing learning rate to 6.755130016244948e-05.\n",
            "\u001b[1m335/335\u001b[0m \u001b[32m━━━━━━━━━━━━━━━━━━━━\u001b[0m\u001b[37m\u001b[0m \u001b[1m14s\u001b[0m 42ms/step - accuracy: 0.7109 - loss: 0.8010 - val_accuracy: 0.5928 - val_loss: 1.4718 - learning_rate: 1.3510e-04\n",
            "Epoch 44/50\n",
            "\u001b[1m335/335\u001b[0m \u001b[32m━━━━━━━━━━━━━━━━━━━━\u001b[0m\u001b[37m\u001b[0m \u001b[1m0s\u001b[0m 39ms/step - accuracy: 0.7280 - loss: 0.7611\n",
            "Epoch 44: val_loss did not improve from 1.42057\n",
            "\u001b[1m335/335\u001b[0m \u001b[32m━━━━━━━━━━━━━━━━━━━━\u001b[0m\u001b[37m\u001b[0m \u001b[1m14s\u001b[0m 42ms/step - accuracy: 0.7279 - loss: 0.7612 - val_accuracy: 0.5991 - val_loss: 1.4528 - learning_rate: 6.7551e-05\n",
            "Epoch 45/50\n",
            "\u001b[1m335/335\u001b[0m \u001b[32m━━━━━━━━━━━━━━━━━━━━\u001b[0m\u001b[37m\u001b[0m \u001b[1m0s\u001b[0m 39ms/step - accuracy: 0.7308 - loss: 0.7689\n",
            "Epoch 45: val_loss did not improve from 1.42057\n",
            "\u001b[1m335/335\u001b[0m \u001b[32m━━━━━━━━━━━━━━━━━━━━\u001b[0m\u001b[37m\u001b[0m \u001b[1m14s\u001b[0m 41ms/step - accuracy: 0.7307 - loss: 0.7689 - val_accuracy: 0.6010 - val_loss: 1.4610 - learning_rate: 6.7551e-05\n",
            "Epoch 46/50\n",
            "\u001b[1m335/335\u001b[0m \u001b[32m━━━━━━━━━━━━━━━━━━━━\u001b[0m\u001b[37m\u001b[0m \u001b[1m0s\u001b[0m 39ms/step - accuracy: 0.7231 - loss: 0.7802\n",
            "Epoch 46: val_loss did not improve from 1.42057\n",
            "\u001b[1m335/335\u001b[0m \u001b[32m━━━━━━━━━━━━━━━━━━━━\u001b[0m\u001b[37m\u001b[0m \u001b[1m14s\u001b[0m 42ms/step - accuracy: 0.7232 - loss: 0.7801 - val_accuracy: 0.5987 - val_loss: 1.4670 - learning_rate: 6.7551e-05\n",
            "Epoch 47/50\n",
            "\u001b[1m334/335\u001b[0m \u001b[32m━━━━━━━━━━━━━━━━━━━\u001b[0m\u001b[37m━\u001b[0m \u001b[1m0s\u001b[0m 39ms/step - accuracy: 0.7179 - loss: 0.7754\n",
            "Epoch 47: val_loss did not improve from 1.42057\n",
            "\u001b[1m335/335\u001b[0m \u001b[32m━━━━━━━━━━━━━━━━━━━━\u001b[0m\u001b[37m\u001b[0m \u001b[1m14s\u001b[0m 42ms/step - accuracy: 0.7179 - loss: 0.7754 - val_accuracy: 0.5957 - val_loss: 1.4694 - learning_rate: 6.7551e-05\n",
            "Epoch 47: early stopping\n",
            "Restoring model weights from the end of the best epoch: 31.\n",
            "学習完了！学習時間: 681.35秒\n",
            "最良検証Loss: 1.4206\n",
            "最良検証Accuracy: 0.6010\n",
            "ハイブリッドモデル評価中...\n",
            "テストLoss: 1.4206\n",
            "テストAccuracy: 0.5551\n",
            "F1-Score (macro): 0.4857\n",
            "F1-Score (weighted): 0.5428\n",
            "Trial 1 failed: 'accuracy'\n",
            "[I 2025-07-07 11:58:21,797] Trial 1 finished with value: 0.0 and parameters: {'lstm_units_1': 64, 'lstm_units_2': 40, 'dense_units': 40, 'demographics_dense_units': 16, 'fusion_dense_units': 40, 'dropout_rate': 0.1, 'dense_dropout_rate': 0.2, 'learning_rate': 0.0005404103854647331, 'batch_size': 32, 'fusion_type': 'attention', 'patience': 16, 'reduce_lr_patience': 6}. Best is trial 0 with value: 0.0.\n",
            "Mixed precision enabled for better GPU performance\n",
            "GPU利用可能: 1台\n",
            "使用GPU: PhysicalDevice(name='/physical_device:GPU:0', device_type='GPU')\n",
            "LSTM v2ハイブリッドモデル初期化完了\n",
            "センサー入力形状: (64, 332)\n",
            "Demographics入力形状: (20,)\n",
            "クラス数: 18\n",
            "融合方式: concatenate\n",
            "GPU利用可能: True\n",
            "LSTM v2ハイブリッドモデルを構築中...\n",
            "モデル構築完了\n",
            "総パラメータ数: 80,178\n",
            "ハイブリッドモデル学習開始...\n",
            "センサー訓練データ形状: (10714, 64, 332)\n",
            "Demographics訓練データ形状: (10714, 20)\n",
            "センサー検証データ形状: (2679, 64, 332)\n",
            "Demographics検証データ形状: (2679, 20)\n",
            "訓練ラベル形状: (10714,)\n",
            "検証ラベル形状: (2679,)\n",
            "Epoch 1/50\n",
            "\u001b[1m335/335\u001b[0m \u001b[32m━━━━━━━━━━━━━━━━━━━━\u001b[0m\u001b[37m\u001b[0m \u001b[1m0s\u001b[0m 36ms/step - accuracy: 0.1132 - loss: 3.0201\n",
            "Epoch 1: val_loss improved from inf to 2.38217, saving model to lstm_v2_hybrid_best.h5\n"
          ]
        },
        {
          "name": "stderr",
          "output_type": "stream",
          "text": [
            "WARNING:absl:You are saving your model as an HDF5 file via `model.save()` or `keras.saving.save_model(model)`. This file format is considered legacy. We recommend using instead the native Keras format, e.g. `model.save('my_model.keras')` or `keras.saving.save_model(model, 'my_model.keras')`. \n"
          ]
        },
        {
          "name": "stdout",
          "output_type": "stream",
          "text": [
            "\u001b[1m335/335\u001b[0m \u001b[32m━━━━━━━━━━━━━━━━━━━━\u001b[0m\u001b[37m\u001b[0m \u001b[1m16s\u001b[0m 41ms/step - accuracy: 0.1133 - loss: 3.0194 - val_accuracy: 0.2710 - val_loss: 2.3822 - learning_rate: 7.5911e-04\n",
            "Epoch 2/50\n",
            "\u001b[1m334/335\u001b[0m \u001b[32m━━━━━━━━━━━━━━━━━━━\u001b[0m\u001b[37m━\u001b[0m \u001b[1m0s\u001b[0m 35ms/step - accuracy: 0.2423 - loss: 2.4359\n",
            "Epoch 2: val_loss improved from 2.38217 to 2.13335, saving model to lstm_v2_hybrid_best.h5\n"
          ]
        },
        {
          "name": "stderr",
          "output_type": "stream",
          "text": [
            "WARNING:absl:You are saving your model as an HDF5 file via `model.save()` or `keras.saving.save_model(model)`. This file format is considered legacy. We recommend using instead the native Keras format, e.g. `model.save('my_model.keras')` or `keras.saving.save_model(model, 'my_model.keras')`. \n"
          ]
        },
        {
          "name": "stdout",
          "output_type": "stream",
          "text": [
            "\u001b[1m335/335\u001b[0m \u001b[32m━━━━━━━━━━━━━━━━━━━━\u001b[0m\u001b[37m\u001b[0m \u001b[1m13s\u001b[0m 39ms/step - accuracy: 0.2424 - loss: 2.4355 - val_accuracy: 0.3177 - val_loss: 2.1333 - learning_rate: 7.5911e-04\n",
            "Epoch 3/50\n",
            "\u001b[1m335/335\u001b[0m \u001b[32m━━━━━━━━━━━━━━━━━━━━\u001b[0m\u001b[37m\u001b[0m \u001b[1m0s\u001b[0m 33ms/step - accuracy: 0.2968 - loss: 2.2011\n",
            "Epoch 3: val_loss improved from 2.13335 to 1.95564, saving model to lstm_v2_hybrid_best.h5\n"
          ]
        },
        {
          "name": "stderr",
          "output_type": "stream",
          "text": [
            "WARNING:absl:You are saving your model as an HDF5 file via `model.save()` or `keras.saving.save_model(model)`. This file format is considered legacy. We recommend using instead the native Keras format, e.g. `model.save('my_model.keras')` or `keras.saving.save_model(model, 'my_model.keras')`. \n"
          ]
        },
        {
          "name": "stdout",
          "output_type": "stream",
          "text": [
            "\u001b[1m335/335\u001b[0m \u001b[32m━━━━━━━━━━━━━━━━━━━━\u001b[0m\u001b[37m\u001b[0m \u001b[1m12s\u001b[0m 36ms/step - accuracy: 0.2968 - loss: 2.2010 - val_accuracy: 0.3621 - val_loss: 1.9556 - learning_rate: 7.5911e-04\n",
            "Epoch 4/50\n",
            "\u001b[1m335/335\u001b[0m \u001b[32m━━━━━━━━━━━━━━━━━━━━\u001b[0m\u001b[37m\u001b[0m \u001b[1m0s\u001b[0m 36ms/step - accuracy: 0.3478 - loss: 2.0267\n",
            "Epoch 4: val_loss improved from 1.95564 to 1.87860, saving model to lstm_v2_hybrid_best.h5\n"
          ]
        },
        {
          "name": "stderr",
          "output_type": "stream",
          "text": [
            "WARNING:absl:You are saving your model as an HDF5 file via `model.save()` or `keras.saving.save_model(model)`. This file format is considered legacy. We recommend using instead the native Keras format, e.g. `model.save('my_model.keras')` or `keras.saving.save_model(model, 'my_model.keras')`. \n"
          ]
        },
        {
          "name": "stdout",
          "output_type": "stream",
          "text": [
            "\u001b[1m335/335\u001b[0m \u001b[32m━━━━━━━━━━━━━━━━━━━━\u001b[0m\u001b[37m\u001b[0m \u001b[1m13s\u001b[0m 39ms/step - accuracy: 0.3478 - loss: 2.0268 - val_accuracy: 0.3834 - val_loss: 1.8786 - learning_rate: 7.5911e-04\n",
            "Epoch 5/50\n",
            "\u001b[1m335/335\u001b[0m \u001b[32m━━━━━━━━━━━━━━━━━━━━\u001b[0m\u001b[37m\u001b[0m \u001b[1m0s\u001b[0m 36ms/step - accuracy: 0.3692 - loss: 1.9296\n",
            "Epoch 5: val_loss improved from 1.87860 to 1.75216, saving model to lstm_v2_hybrid_best.h5\n"
          ]
        },
        {
          "name": "stderr",
          "output_type": "stream",
          "text": [
            "WARNING:absl:You are saving your model as an HDF5 file via `model.save()` or `keras.saving.save_model(model)`. This file format is considered legacy. We recommend using instead the native Keras format, e.g. `model.save('my_model.keras')` or `keras.saving.save_model(model, 'my_model.keras')`. \n"
          ]
        },
        {
          "name": "stdout",
          "output_type": "stream",
          "text": [
            "\u001b[1m335/335\u001b[0m \u001b[32m━━━━━━━━━━━━━━━━━━━━\u001b[0m\u001b[37m\u001b[0m \u001b[1m13s\u001b[0m 39ms/step - accuracy: 0.3692 - loss: 1.9296 - val_accuracy: 0.4155 - val_loss: 1.7522 - learning_rate: 7.5911e-04\n",
            "Epoch 6/50\n",
            "\u001b[1m334/335\u001b[0m \u001b[32m━━━━━━━━━━━━━━━━━━━\u001b[0m\u001b[37m━\u001b[0m \u001b[1m0s\u001b[0m 36ms/step - accuracy: 0.4064 - loss: 1.7984\n",
            "Epoch 6: val_loss improved from 1.75216 to 1.68422, saving model to lstm_v2_hybrid_best.h5\n"
          ]
        },
        {
          "name": "stderr",
          "output_type": "stream",
          "text": [
            "WARNING:absl:You are saving your model as an HDF5 file via `model.save()` or `keras.saving.save_model(model)`. This file format is considered legacy. We recommend using instead the native Keras format, e.g. `model.save('my_model.keras')` or `keras.saving.save_model(model, 'my_model.keras')`. \n"
          ]
        },
        {
          "name": "stdout",
          "output_type": "stream",
          "text": [
            "\u001b[1m335/335\u001b[0m \u001b[32m━━━━━━━━━━━━━━━━━━━━\u001b[0m\u001b[37m\u001b[0m \u001b[1m13s\u001b[0m 39ms/step - accuracy: 0.4064 - loss: 1.7984 - val_accuracy: 0.4427 - val_loss: 1.6842 - learning_rate: 7.5911e-04\n",
            "Epoch 7/50\n",
            "\u001b[1m334/335\u001b[0m \u001b[32m━━━━━━━━━━━━━━━━━━━\u001b[0m\u001b[37m━\u001b[0m \u001b[1m0s\u001b[0m 35ms/step - accuracy: 0.4199 - loss: 1.7454\n",
            "Epoch 7: val_loss improved from 1.68422 to 1.65848, saving model to lstm_v2_hybrid_best.h5\n"
          ]
        },
        {
          "name": "stderr",
          "output_type": "stream",
          "text": [
            "WARNING:absl:You are saving your model as an HDF5 file via `model.save()` or `keras.saving.save_model(model)`. This file format is considered legacy. We recommend using instead the native Keras format, e.g. `model.save('my_model.keras')` or `keras.saving.save_model(model, 'my_model.keras')`. \n"
          ]
        },
        {
          "name": "stdout",
          "output_type": "stream",
          "text": [
            "\u001b[1m335/335\u001b[0m \u001b[32m━━━━━━━━━━━━━━━━━━━━\u001b[0m\u001b[37m\u001b[0m \u001b[1m13s\u001b[0m 39ms/step - accuracy: 0.4199 - loss: 1.7454 - val_accuracy: 0.4315 - val_loss: 1.6585 - learning_rate: 7.5911e-04\n",
            "Epoch 8/50\n",
            "\u001b[1m335/335\u001b[0m \u001b[32m━━━━━━━━━━━━━━━━━━━━\u001b[0m\u001b[37m\u001b[0m \u001b[1m0s\u001b[0m 34ms/step - accuracy: 0.4345 - loss: 1.6567\n",
            "Epoch 8: val_loss did not improve from 1.65848\n",
            "\u001b[1m335/335\u001b[0m \u001b[32m━━━━━━━━━━━━━━━━━━━━\u001b[0m\u001b[37m\u001b[0m \u001b[1m12s\u001b[0m 37ms/step - accuracy: 0.4345 - loss: 1.6567 - val_accuracy: 0.4225 - val_loss: 1.6665 - learning_rate: 7.5911e-04\n",
            "Epoch 9/50\n",
            "\u001b[1m335/335\u001b[0m \u001b[32m━━━━━━━━━━━━━━━━━━━━\u001b[0m\u001b[37m\u001b[0m \u001b[1m0s\u001b[0m 34ms/step - accuracy: 0.4454 - loss: 1.6105\n",
            "Epoch 9: val_loss improved from 1.65848 to 1.60432, saving model to lstm_v2_hybrid_best.h5\n"
          ]
        },
        {
          "name": "stderr",
          "output_type": "stream",
          "text": [
            "WARNING:absl:You are saving your model as an HDF5 file via `model.save()` or `keras.saving.save_model(model)`. This file format is considered legacy. We recommend using instead the native Keras format, e.g. `model.save('my_model.keras')` or `keras.saving.save_model(model, 'my_model.keras')`. \n"
          ]
        },
        {
          "name": "stdout",
          "output_type": "stream",
          "text": [
            "\u001b[1m335/335\u001b[0m \u001b[32m━━━━━━━━━━━━━━━━━━━━\u001b[0m\u001b[37m\u001b[0m \u001b[1m12s\u001b[0m 37ms/step - accuracy: 0.4454 - loss: 1.6105 - val_accuracy: 0.4378 - val_loss: 1.6043 - learning_rate: 7.5911e-04\n",
            "Epoch 10/50\n",
            "\u001b[1m335/335\u001b[0m \u001b[32m━━━━━━━━━━━━━━━━━━━━\u001b[0m\u001b[37m\u001b[0m \u001b[1m0s\u001b[0m 34ms/step - accuracy: 0.4541 - loss: 1.5584\n",
            "Epoch 10: val_loss improved from 1.60432 to 1.56098, saving model to lstm_v2_hybrid_best.h5\n"
          ]
        },
        {
          "name": "stderr",
          "output_type": "stream",
          "text": [
            "WARNING:absl:You are saving your model as an HDF5 file via `model.save()` or `keras.saving.save_model(model)`. This file format is considered legacy. We recommend using instead the native Keras format, e.g. `model.save('my_model.keras')` or `keras.saving.save_model(model, 'my_model.keras')`. \n"
          ]
        },
        {
          "name": "stdout",
          "output_type": "stream",
          "text": [
            "\u001b[1m335/335\u001b[0m \u001b[32m━━━━━━━━━━━━━━━━━━━━\u001b[0m\u001b[37m\u001b[0m \u001b[1m12s\u001b[0m 37ms/step - accuracy: 0.4541 - loss: 1.5584 - val_accuracy: 0.4434 - val_loss: 1.5610 - learning_rate: 7.5911e-04\n",
            "Epoch 11/50\n",
            "\u001b[1m334/335\u001b[0m \u001b[32m━━━━━━━━━━━━━━━━━━━\u001b[0m\u001b[37m━\u001b[0m \u001b[1m0s\u001b[0m 34ms/step - accuracy: 0.4675 - loss: 1.5040\n",
            "Epoch 11: val_loss improved from 1.56098 to 1.53758, saving model to lstm_v2_hybrid_best.h5\n"
          ]
        },
        {
          "name": "stderr",
          "output_type": "stream",
          "text": [
            "WARNING:absl:You are saving your model as an HDF5 file via `model.save()` or `keras.saving.save_model(model)`. This file format is considered legacy. We recommend using instead the native Keras format, e.g. `model.save('my_model.keras')` or `keras.saving.save_model(model, 'my_model.keras')`. \n"
          ]
        },
        {
          "name": "stdout",
          "output_type": "stream",
          "text": [
            "\u001b[1m335/335\u001b[0m \u001b[32m━━━━━━━━━━━━━━━━━━━━\u001b[0m\u001b[37m\u001b[0m \u001b[1m12s\u001b[0m 37ms/step - accuracy: 0.4675 - loss: 1.5041 - val_accuracy: 0.4606 - val_loss: 1.5376 - learning_rate: 7.5911e-04\n",
            "Epoch 12/50\n",
            "\u001b[1m335/335\u001b[0m \u001b[32m━━━━━━━━━━━━━━━━━━━━\u001b[0m\u001b[37m\u001b[0m \u001b[1m0s\u001b[0m 34ms/step - accuracy: 0.4866 - loss: 1.4715\n",
            "Epoch 12: val_loss did not improve from 1.53758\n",
            "\u001b[1m335/335\u001b[0m \u001b[32m━━━━━━━━━━━━━━━━━━━━\u001b[0m\u001b[37m\u001b[0m \u001b[1m12s\u001b[0m 36ms/step - accuracy: 0.4865 - loss: 1.4715 - val_accuracy: 0.4767 - val_loss: 1.5378 - learning_rate: 7.5911e-04\n",
            "Epoch 13/50\n",
            "\u001b[1m334/335\u001b[0m \u001b[32m━━━━━━━━━━━━━━━━━━━\u001b[0m\u001b[37m━\u001b[0m \u001b[1m0s\u001b[0m 34ms/step - accuracy: 0.4826 - loss: 1.4408\n",
            "Epoch 13: val_loss improved from 1.53758 to 1.52146, saving model to lstm_v2_hybrid_best.h5\n"
          ]
        },
        {
          "name": "stderr",
          "output_type": "stream",
          "text": [
            "WARNING:absl:You are saving your model as an HDF5 file via `model.save()` or `keras.saving.save_model(model)`. This file format is considered legacy. We recommend using instead the native Keras format, e.g. `model.save('my_model.keras')` or `keras.saving.save_model(model, 'my_model.keras')`. \n"
          ]
        },
        {
          "name": "stdout",
          "output_type": "stream",
          "text": [
            "\u001b[1m335/335\u001b[0m \u001b[32m━━━━━━━━━━━━━━━━━━━━\u001b[0m\u001b[37m\u001b[0m \u001b[1m12s\u001b[0m 37ms/step - accuracy: 0.4826 - loss: 1.4409 - val_accuracy: 0.4748 - val_loss: 1.5215 - learning_rate: 7.5911e-04\n",
            "Epoch 14/50\n",
            "\u001b[1m335/335\u001b[0m \u001b[32m━━━━━━━━━━━━━━━━━━━━\u001b[0m\u001b[37m\u001b[0m \u001b[1m0s\u001b[0m 34ms/step - accuracy: 0.4892 - loss: 1.4213\n",
            "Epoch 14: val_loss improved from 1.52146 to 1.48289, saving model to lstm_v2_hybrid_best.h5\n"
          ]
        },
        {
          "name": "stderr",
          "output_type": "stream",
          "text": [
            "WARNING:absl:You are saving your model as an HDF5 file via `model.save()` or `keras.saving.save_model(model)`. This file format is considered legacy. We recommend using instead the native Keras format, e.g. `model.save('my_model.keras')` or `keras.saving.save_model(model, 'my_model.keras')`. \n"
          ]
        },
        {
          "name": "stdout",
          "output_type": "stream",
          "text": [
            "\u001b[1m335/335\u001b[0m \u001b[32m━━━━━━━━━━━━━━━━━━━━\u001b[0m\u001b[37m\u001b[0m \u001b[1m12s\u001b[0m 37ms/step - accuracy: 0.4892 - loss: 1.4214 - val_accuracy: 0.4860 - val_loss: 1.4829 - learning_rate: 7.5911e-04\n",
            "Epoch 15/50\n",
            "\u001b[1m334/335\u001b[0m \u001b[32m━━━━━━━━━━━━━━━━━━━\u001b[0m\u001b[37m━\u001b[0m \u001b[1m0s\u001b[0m 34ms/step - accuracy: 0.4993 - loss: 1.3901\n",
            "Epoch 15: val_loss did not improve from 1.48289\n",
            "\u001b[1m335/335\u001b[0m \u001b[32m━━━━━━━━━━━━━━━━━━━━\u001b[0m\u001b[37m\u001b[0m \u001b[1m13s\u001b[0m 37ms/step - accuracy: 0.4993 - loss: 1.3902 - val_accuracy: 0.4819 - val_loss: 1.5209 - learning_rate: 7.5911e-04\n",
            "Epoch 16/50\n",
            "\u001b[1m335/335\u001b[0m \u001b[32m━━━━━━━━━━━━━━━━━━━━\u001b[0m\u001b[37m\u001b[0m \u001b[1m0s\u001b[0m 33ms/step - accuracy: 0.4951 - loss: 1.3918\n",
            "Epoch 16: val_loss did not improve from 1.48289\n",
            "\u001b[1m335/335\u001b[0m \u001b[32m━━━━━━━━━━━━━━━━━━━━\u001b[0m\u001b[37m\u001b[0m \u001b[1m12s\u001b[0m 36ms/step - accuracy: 0.4951 - loss: 1.3917 - val_accuracy: 0.4830 - val_loss: 1.5504 - learning_rate: 7.5911e-04\n",
            "Epoch 17/50\n",
            "\u001b[1m335/335\u001b[0m \u001b[32m━━━━━━━━━━━━━━━━━━━━\u001b[0m\u001b[37m\u001b[0m \u001b[1m0s\u001b[0m 34ms/step - accuracy: 0.5165 - loss: 1.3615\n",
            "Epoch 17: val_loss did not improve from 1.48289\n",
            "\u001b[1m335/335\u001b[0m \u001b[32m━━━━━━━━━━━━━━━━━━━━\u001b[0m\u001b[37m\u001b[0m \u001b[1m12s\u001b[0m 37ms/step - accuracy: 0.5165 - loss: 1.3615 - val_accuracy: 0.4718 - val_loss: 1.5054 - learning_rate: 7.5911e-04\n",
            "Epoch 18/50\n",
            "\u001b[1m334/335\u001b[0m \u001b[32m━━━━━━━━━━━━━━━━━━━\u001b[0m\u001b[37m━\u001b[0m \u001b[1m0s\u001b[0m 34ms/step - accuracy: 0.5268 - loss: 1.3297\n",
            "Epoch 18: val_loss improved from 1.48289 to 1.47167, saving model to lstm_v2_hybrid_best.h5\n"
          ]
        },
        {
          "name": "stderr",
          "output_type": "stream",
          "text": [
            "WARNING:absl:You are saving your model as an HDF5 file via `model.save()` or `keras.saving.save_model(model)`. This file format is considered legacy. We recommend using instead the native Keras format, e.g. `model.save('my_model.keras')` or `keras.saving.save_model(model, 'my_model.keras')`. \n"
          ]
        },
        {
          "name": "stdout",
          "output_type": "stream",
          "text": [
            "\u001b[1m335/335\u001b[0m \u001b[32m━━━━━━━━━━━━━━━━━━━━\u001b[0m\u001b[37m\u001b[0m \u001b[1m12s\u001b[0m 36ms/step - accuracy: 0.5268 - loss: 1.3297 - val_accuracy: 0.5028 - val_loss: 1.4717 - learning_rate: 7.5911e-04\n",
            "Epoch 19/50\n",
            "\u001b[1m334/335\u001b[0m \u001b[32m━━━━━━━━━━━━━━━━━━━\u001b[0m\u001b[37m━\u001b[0m \u001b[1m0s\u001b[0m 34ms/step - accuracy: 0.5269 - loss: 1.2887\n",
            "Epoch 19: val_loss improved from 1.47167 to 1.44628, saving model to lstm_v2_hybrid_best.h5\n"
          ]
        },
        {
          "name": "stderr",
          "output_type": "stream",
          "text": [
            "WARNING:absl:You are saving your model as an HDF5 file via `model.save()` or `keras.saving.save_model(model)`. This file format is considered legacy. We recommend using instead the native Keras format, e.g. `model.save('my_model.keras')` or `keras.saving.save_model(model, 'my_model.keras')`. \n"
          ]
        },
        {
          "name": "stdout",
          "output_type": "stream",
          "text": [
            "\u001b[1m335/335\u001b[0m \u001b[32m━━━━━━━━━━━━━━━━━━━━\u001b[0m\u001b[37m\u001b[0m \u001b[1m12s\u001b[0m 37ms/step - accuracy: 0.5269 - loss: 1.2888 - val_accuracy: 0.5032 - val_loss: 1.4463 - learning_rate: 7.5911e-04\n",
            "Epoch 20/50\n",
            "\u001b[1m334/335\u001b[0m \u001b[32m━━━━━━━━━━━━━━━━━━━\u001b[0m\u001b[37m━\u001b[0m \u001b[1m0s\u001b[0m 35ms/step - accuracy: 0.5399 - loss: 1.2611\n",
            "Epoch 20: val_loss improved from 1.44628 to 1.42488, saving model to lstm_v2_hybrid_best.h5\n"
          ]
        },
        {
          "name": "stderr",
          "output_type": "stream",
          "text": [
            "WARNING:absl:You are saving your model as an HDF5 file via `model.save()` or `keras.saving.save_model(model)`. This file format is considered legacy. We recommend using instead the native Keras format, e.g. `model.save('my_model.keras')` or `keras.saving.save_model(model, 'my_model.keras')`. \n"
          ]
        },
        {
          "name": "stdout",
          "output_type": "stream",
          "text": [
            "\u001b[1m335/335\u001b[0m \u001b[32m━━━━━━━━━━━━━━━━━━━━\u001b[0m\u001b[37m\u001b[0m \u001b[1m13s\u001b[0m 39ms/step - accuracy: 0.5398 - loss: 1.2612 - val_accuracy: 0.5006 - val_loss: 1.4249 - learning_rate: 7.5911e-04\n",
            "Epoch 21/50\n",
            "\u001b[1m334/335\u001b[0m \u001b[32m━━━━━━━━━━━━━━━━━━━\u001b[0m\u001b[37m━\u001b[0m \u001b[1m0s\u001b[0m 35ms/step - accuracy: 0.5418 - loss: 1.2399\n",
            "Epoch 21: val_loss improved from 1.42488 to 1.41344, saving model to lstm_v2_hybrid_best.h5\n"
          ]
        },
        {
          "name": "stderr",
          "output_type": "stream",
          "text": [
            "WARNING:absl:You are saving your model as an HDF5 file via `model.save()` or `keras.saving.save_model(model)`. This file format is considered legacy. We recommend using instead the native Keras format, e.g. `model.save('my_model.keras')` or `keras.saving.save_model(model, 'my_model.keras')`. \n"
          ]
        },
        {
          "name": "stdout",
          "output_type": "stream",
          "text": [
            "\u001b[1m335/335\u001b[0m \u001b[32m━━━━━━━━━━━━━━━━━━━━\u001b[0m\u001b[37m\u001b[0m \u001b[1m13s\u001b[0m 38ms/step - accuracy: 0.5418 - loss: 1.2399 - val_accuracy: 0.5196 - val_loss: 1.4134 - learning_rate: 7.5911e-04\n",
            "Epoch 22/50\n",
            "\u001b[1m335/335\u001b[0m \u001b[32m━━━━━━━━━━━━━━━━━━━━\u001b[0m\u001b[37m\u001b[0m \u001b[1m0s\u001b[0m 34ms/step - accuracy: 0.5532 - loss: 1.2337\n",
            "Epoch 22: val_loss did not improve from 1.41344\n",
            "\u001b[1m335/335\u001b[0m \u001b[32m━━━━━━━━━━━━━━━━━━━━\u001b[0m\u001b[37m\u001b[0m \u001b[1m12s\u001b[0m 37ms/step - accuracy: 0.5531 - loss: 1.2337 - val_accuracy: 0.5129 - val_loss: 1.4542 - learning_rate: 7.5911e-04\n",
            "Epoch 23/50\n",
            "\u001b[1m335/335\u001b[0m \u001b[32m━━━━━━━━━━━━━━━━━━━━\u001b[0m\u001b[37m\u001b[0m \u001b[1m0s\u001b[0m 35ms/step - accuracy: 0.5604 - loss: 1.1924\n",
            "Epoch 23: val_loss did not improve from 1.41344\n",
            "\u001b[1m335/335\u001b[0m \u001b[32m━━━━━━━━━━━━━━━━━━━━\u001b[0m\u001b[37m\u001b[0m \u001b[1m13s\u001b[0m 38ms/step - accuracy: 0.5604 - loss: 1.1924 - val_accuracy: 0.5162 - val_loss: 1.4401 - learning_rate: 7.5911e-04\n",
            "Epoch 24/50\n",
            "\u001b[1m335/335\u001b[0m \u001b[32m━━━━━━━━━━━━━━━━━━━━\u001b[0m\u001b[37m\u001b[0m \u001b[1m0s\u001b[0m 36ms/step - accuracy: 0.5639 - loss: 1.2284\n",
            "Epoch 24: val_loss did not improve from 1.41344\n",
            "\u001b[1m335/335\u001b[0m \u001b[32m━━━━━━━━━━━━━━━━━━━━\u001b[0m\u001b[37m\u001b[0m \u001b[1m13s\u001b[0m 38ms/step - accuracy: 0.5639 - loss: 1.2284 - val_accuracy: 0.5136 - val_loss: 1.4398 - learning_rate: 7.5911e-04\n",
            "Epoch 25/50\n",
            "\u001b[1m334/335\u001b[0m \u001b[32m━━━━━━━━━━━━━━━━━━━\u001b[0m\u001b[37m━\u001b[0m \u001b[1m0s\u001b[0m 35ms/step - accuracy: 0.5683 - loss: 1.1785\n",
            "Epoch 25: val_loss did not improve from 1.41344\n",
            "\u001b[1m335/335\u001b[0m \u001b[32m━━━━━━━━━━━━━━━━━━━━\u001b[0m\u001b[37m\u001b[0m \u001b[1m13s\u001b[0m 38ms/step - accuracy: 0.5683 - loss: 1.1786 - val_accuracy: 0.5207 - val_loss: 1.4464 - learning_rate: 7.5911e-04\n",
            "Epoch 26/50\n",
            "\u001b[1m335/335\u001b[0m \u001b[32m━━━━━━━━━━━━━━━━━━━━\u001b[0m\u001b[37m\u001b[0m \u001b[1m0s\u001b[0m 35ms/step - accuracy: 0.5763 - loss: 1.1612\n",
            "Epoch 26: val_loss did not improve from 1.41344\n",
            "\u001b[1m335/335\u001b[0m \u001b[32m━━━━━━━━━━━━━━━━━━━━\u001b[0m\u001b[37m\u001b[0m \u001b[1m13s\u001b[0m 38ms/step - accuracy: 0.5763 - loss: 1.1613 - val_accuracy: 0.5077 - val_loss: 1.5156 - learning_rate: 7.5911e-04\n",
            "Epoch 27/50\n",
            "\u001b[1m335/335\u001b[0m \u001b[32m━━━━━━━━━━━━━━━━━━━━\u001b[0m\u001b[37m\u001b[0m \u001b[1m0s\u001b[0m 35ms/step - accuracy: 0.5701 - loss: 1.1690\n",
            "Epoch 27: val_loss improved from 1.41344 to 1.40387, saving model to lstm_v2_hybrid_best.h5\n"
          ]
        },
        {
          "name": "stderr",
          "output_type": "stream",
          "text": [
            "WARNING:absl:You are saving your model as an HDF5 file via `model.save()` or `keras.saving.save_model(model)`. This file format is considered legacy. We recommend using instead the native Keras format, e.g. `model.save('my_model.keras')` or `keras.saving.save_model(model, 'my_model.keras')`. \n"
          ]
        },
        {
          "name": "stdout",
          "output_type": "stream",
          "text": [
            "\u001b[1m335/335\u001b[0m \u001b[32m━━━━━━━━━━━━━━━━━━━━\u001b[0m\u001b[37m\u001b[0m \u001b[1m13s\u001b[0m 39ms/step - accuracy: 0.5701 - loss: 1.1690 - val_accuracy: 0.5233 - val_loss: 1.4039 - learning_rate: 7.5911e-04\n",
            "Epoch 28/50\n",
            "\u001b[1m335/335\u001b[0m \u001b[32m━━━━━━━━━━━━━━━━━━━━\u001b[0m\u001b[37m\u001b[0m \u001b[1m0s\u001b[0m 35ms/step - accuracy: 0.5834 - loss: 1.1334\n",
            "Epoch 28: val_loss did not improve from 1.40387\n",
            "\u001b[1m335/335\u001b[0m \u001b[32m━━━━━━━━━━━━━━━━━━━━\u001b[0m\u001b[37m\u001b[0m \u001b[1m13s\u001b[0m 38ms/step - accuracy: 0.5834 - loss: 1.1335 - val_accuracy: 0.5371 - val_loss: 1.4445 - learning_rate: 7.5911e-04\n",
            "Epoch 29/50\n",
            "\u001b[1m334/335\u001b[0m \u001b[32m━━━━━━━━━━━━━━━━━━━\u001b[0m\u001b[37m━\u001b[0m \u001b[1m0s\u001b[0m 34ms/step - accuracy: 0.5916 - loss: 1.1386\n",
            "Epoch 29: val_loss did not improve from 1.40387\n",
            "\u001b[1m335/335\u001b[0m \u001b[32m━━━━━━━━━━━━━━━━━━━━\u001b[0m\u001b[37m\u001b[0m \u001b[1m12s\u001b[0m 37ms/step - accuracy: 0.5915 - loss: 1.1385 - val_accuracy: 0.5274 - val_loss: 1.4196 - learning_rate: 7.5911e-04\n",
            "Epoch 30/50\n",
            "\u001b[1m334/335\u001b[0m \u001b[32m━━━━━━━━━━━━━━━━━━━\u001b[0m\u001b[37m━\u001b[0m \u001b[1m0s\u001b[0m 34ms/step - accuracy: 0.5896 - loss: 1.1185\n",
            "Epoch 30: val_loss improved from 1.40387 to 1.39972, saving model to lstm_v2_hybrid_best.h5\n"
          ]
        },
        {
          "name": "stderr",
          "output_type": "stream",
          "text": [
            "WARNING:absl:You are saving your model as an HDF5 file via `model.save()` or `keras.saving.save_model(model)`. This file format is considered legacy. We recommend using instead the native Keras format, e.g. `model.save('my_model.keras')` or `keras.saving.save_model(model, 'my_model.keras')`. \n"
          ]
        },
        {
          "name": "stdout",
          "output_type": "stream",
          "text": [
            "\u001b[1m335/335\u001b[0m \u001b[32m━━━━━━━━━━━━━━━━━━━━\u001b[0m\u001b[37m\u001b[0m \u001b[1m12s\u001b[0m 37ms/step - accuracy: 0.5896 - loss: 1.1186 - val_accuracy: 0.5319 - val_loss: 1.3997 - learning_rate: 7.5911e-04\n",
            "Epoch 31/50\n",
            "\u001b[1m335/335\u001b[0m \u001b[32m━━━━━━━━━━━━━━━━━━━━\u001b[0m\u001b[37m\u001b[0m \u001b[1m0s\u001b[0m 34ms/step - accuracy: 0.5866 - loss: 1.1124\n",
            "Epoch 31: val_loss improved from 1.39972 to 1.39131, saving model to lstm_v2_hybrid_best.h5\n"
          ]
        },
        {
          "name": "stderr",
          "output_type": "stream",
          "text": [
            "WARNING:absl:You are saving your model as an HDF5 file via `model.save()` or `keras.saving.save_model(model)`. This file format is considered legacy. We recommend using instead the native Keras format, e.g. `model.save('my_model.keras')` or `keras.saving.save_model(model, 'my_model.keras')`. \n"
          ]
        },
        {
          "name": "stdout",
          "output_type": "stream",
          "text": [
            "\u001b[1m335/335\u001b[0m \u001b[32m━━━━━━━━━━━━━━━━━━━━\u001b[0m\u001b[37m\u001b[0m \u001b[1m12s\u001b[0m 37ms/step - accuracy: 0.5866 - loss: 1.1124 - val_accuracy: 0.5401 - val_loss: 1.3913 - learning_rate: 7.5911e-04\n",
            "Epoch 32/50\n",
            "\u001b[1m335/335\u001b[0m \u001b[32m━━━━━━━━━━━━━━━━━━━━\u001b[0m\u001b[37m\u001b[0m \u001b[1m0s\u001b[0m 34ms/step - accuracy: 0.5803 - loss: 1.0895\n",
            "Epoch 32: val_loss did not improve from 1.39131\n",
            "\u001b[1m335/335\u001b[0m \u001b[32m━━━━━━━━━━━━━━━━━━━━\u001b[0m\u001b[37m\u001b[0m \u001b[1m13s\u001b[0m 37ms/step - accuracy: 0.5803 - loss: 1.0895 - val_accuracy: 0.5364 - val_loss: 1.4030 - learning_rate: 7.5911e-04\n",
            "Epoch 33/50\n",
            "\u001b[1m334/335\u001b[0m \u001b[32m━━━━━━━━━━━━━━━━━━━\u001b[0m\u001b[37m━\u001b[0m \u001b[1m0s\u001b[0m 34ms/step - accuracy: 0.6049 - loss: 1.0801\n",
            "Epoch 33: val_loss improved from 1.39131 to 1.37371, saving model to lstm_v2_hybrid_best.h5\n"
          ]
        },
        {
          "name": "stderr",
          "output_type": "stream",
          "text": [
            "WARNING:absl:You are saving your model as an HDF5 file via `model.save()` or `keras.saving.save_model(model)`. This file format is considered legacy. We recommend using instead the native Keras format, e.g. `model.save('my_model.keras')` or `keras.saving.save_model(model, 'my_model.keras')`. \n"
          ]
        },
        {
          "name": "stdout",
          "output_type": "stream",
          "text": [
            "\u001b[1m335/335\u001b[0m \u001b[32m━━━━━━━━━━━━━━━━━━━━\u001b[0m\u001b[37m\u001b[0m \u001b[1m13s\u001b[0m 37ms/step - accuracy: 0.6049 - loss: 1.0803 - val_accuracy: 0.5405 - val_loss: 1.3737 - learning_rate: 7.5911e-04\n",
            "Epoch 34/50\n",
            "\u001b[1m334/335\u001b[0m \u001b[32m━━━━━━━━━━━━━━━━━━━\u001b[0m\u001b[37m━\u001b[0m \u001b[1m0s\u001b[0m 36ms/step - accuracy: 0.5976 - loss: 1.0686\n",
            "Epoch 34: val_loss did not improve from 1.37371\n",
            "\u001b[1m335/335\u001b[0m \u001b[32m━━━━━━━━━━━━━━━━━━━━\u001b[0m\u001b[37m\u001b[0m \u001b[1m13s\u001b[0m 38ms/step - accuracy: 0.5976 - loss: 1.0687 - val_accuracy: 0.5446 - val_loss: 1.3959 - learning_rate: 7.5911e-04\n",
            "Epoch 35/50\n",
            "\u001b[1m334/335\u001b[0m \u001b[32m━━━━━━━━━━━━━━━━━━━\u001b[0m\u001b[37m━\u001b[0m \u001b[1m0s\u001b[0m 36ms/step - accuracy: 0.6142 - loss: 1.0562\n",
            "Epoch 35: val_loss did not improve from 1.37371\n",
            "\u001b[1m335/335\u001b[0m \u001b[32m━━━━━━━━━━━━━━━━━━━━\u001b[0m\u001b[37m\u001b[0m \u001b[1m13s\u001b[0m 38ms/step - accuracy: 0.6141 - loss: 1.0562 - val_accuracy: 0.5439 - val_loss: 1.3972 - learning_rate: 7.5911e-04\n",
            "Epoch 36/50\n",
            "\u001b[1m335/335\u001b[0m \u001b[32m━━━━━━━━━━━━━━━━━━━━\u001b[0m\u001b[37m\u001b[0m \u001b[1m0s\u001b[0m 36ms/step - accuracy: 0.6175 - loss: 1.0376\n",
            "Epoch 36: val_loss did not improve from 1.37371\n",
            "\u001b[1m335/335\u001b[0m \u001b[32m━━━━━━━━━━━━━━━━━━━━\u001b[0m\u001b[37m\u001b[0m \u001b[1m13s\u001b[0m 39ms/step - accuracy: 0.6175 - loss: 1.0377 - val_accuracy: 0.5603 - val_loss: 1.4050 - learning_rate: 7.5911e-04\n",
            "Epoch 37/50\n",
            "\u001b[1m334/335\u001b[0m \u001b[32m━━━━━━━━━━━━━━━━━━━\u001b[0m\u001b[37m━\u001b[0m \u001b[1m0s\u001b[0m 35ms/step - accuracy: 0.6048 - loss: 1.0813\n",
            "Epoch 37: val_loss did not improve from 1.37371\n",
            "\u001b[1m335/335\u001b[0m \u001b[32m━━━━━━━━━━━━━━━━━━━━\u001b[0m\u001b[37m\u001b[0m \u001b[1m13s\u001b[0m 38ms/step - accuracy: 0.6048 - loss: 1.0813 - val_accuracy: 0.5416 - val_loss: 1.4005 - learning_rate: 7.5911e-04\n",
            "Epoch 38/50\n",
            "\u001b[1m335/335\u001b[0m \u001b[32m━━━━━━━━━━━━━━━━━━━━\u001b[0m\u001b[37m\u001b[0m \u001b[1m0s\u001b[0m 35ms/step - accuracy: 0.6149 - loss: 1.0480\n",
            "Epoch 38: val_loss did not improve from 1.37371\n",
            "\u001b[1m335/335\u001b[0m \u001b[32m━━━━━━━━━━━━━━━━━━━━\u001b[0m\u001b[37m\u001b[0m \u001b[1m13s\u001b[0m 38ms/step - accuracy: 0.6149 - loss: 1.0479 - val_accuracy: 0.5510 - val_loss: 1.4296 - learning_rate: 7.5911e-04\n",
            "Epoch 39/50\n",
            "\u001b[1m335/335\u001b[0m \u001b[32m━━━━━━━━━━━━━━━━━━━━\u001b[0m\u001b[37m\u001b[0m \u001b[1m0s\u001b[0m 35ms/step - accuracy: 0.6297 - loss: 1.0273\n",
            "Epoch 39: val_loss did not improve from 1.37371\n",
            "\u001b[1m335/335\u001b[0m \u001b[32m━━━━━━━━━━━━━━━━━━━━\u001b[0m\u001b[37m\u001b[0m \u001b[1m13s\u001b[0m 38ms/step - accuracy: 0.6296 - loss: 1.0273 - val_accuracy: 0.5457 - val_loss: 1.4227 - learning_rate: 7.5911e-04\n",
            "Epoch 40/50\n",
            "\u001b[1m334/335\u001b[0m \u001b[32m━━━━━━━━━━━━━━━━━━━\u001b[0m\u001b[37m━\u001b[0m \u001b[1m0s\u001b[0m 35ms/step - accuracy: 0.6243 - loss: 1.0150\n",
            "Epoch 40: val_loss did not improve from 1.37371\n",
            "\u001b[1m335/335\u001b[0m \u001b[32m━━━━━━━━━━━━━━━━━━━━\u001b[0m\u001b[37m\u001b[0m \u001b[1m13s\u001b[0m 38ms/step - accuracy: 0.6243 - loss: 1.0151 - val_accuracy: 0.5495 - val_loss: 1.4039 - learning_rate: 7.5911e-04\n",
            "Epoch 41/50\n",
            "\u001b[1m334/335\u001b[0m \u001b[32m━━━━━━━━━━━━━━━━━━━\u001b[0m\u001b[37m━\u001b[0m \u001b[1m0s\u001b[0m 36ms/step - accuracy: 0.6299 - loss: 1.0253\n",
            "Epoch 41: val_loss did not improve from 1.37371\n",
            "\n",
            "Epoch 41: ReduceLROnPlateau reducing learning rate to 0.0003795552474912256.\n",
            "\u001b[1m335/335\u001b[0m \u001b[32m━━━━━━━━━━━━━━━━━━━━\u001b[0m\u001b[37m\u001b[0m \u001b[1m13s\u001b[0m 39ms/step - accuracy: 0.6299 - loss: 1.0255 - val_accuracy: 0.5539 - val_loss: 1.3968 - learning_rate: 7.5911e-04\n",
            "Epoch 42/50\n",
            "\u001b[1m334/335\u001b[0m \u001b[32m━━━━━━━━━━━━━━━━━━━\u001b[0m\u001b[37m━\u001b[0m \u001b[1m0s\u001b[0m 35ms/step - accuracy: 0.6401 - loss: 0.9774\n",
            "Epoch 42: val_loss did not improve from 1.37371\n",
            "\u001b[1m335/335\u001b[0m \u001b[32m━━━━━━━━━━━━━━━━━━━━\u001b[0m\u001b[37m\u001b[0m \u001b[1m13s\u001b[0m 38ms/step - accuracy: 0.6401 - loss: 0.9772 - val_accuracy: 0.5644 - val_loss: 1.3742 - learning_rate: 3.7956e-04\n",
            "Epoch 43/50\n",
            "\u001b[1m335/335\u001b[0m \u001b[32m━━━━━━━━━━━━━━━━━━━━\u001b[0m\u001b[37m\u001b[0m \u001b[1m0s\u001b[0m 35ms/step - accuracy: 0.6469 - loss: 0.9417\n",
            "Epoch 43: val_loss did not improve from 1.37371\n",
            "\u001b[1m335/335\u001b[0m \u001b[32m━━━━━━━━━━━━━━━━━━━━\u001b[0m\u001b[37m\u001b[0m \u001b[1m13s\u001b[0m 38ms/step - accuracy: 0.6469 - loss: 0.9417 - val_accuracy: 0.5737 - val_loss: 1.4057 - learning_rate: 3.7956e-04\n",
            "Epoch 44/50\n",
            "\u001b[1m334/335\u001b[0m \u001b[32m━━━━━━━━━━━━━━━━━━━\u001b[0m\u001b[37m━\u001b[0m \u001b[1m0s\u001b[0m 35ms/step - accuracy: 0.6462 - loss: 0.9231\n",
            "Epoch 44: val_loss did not improve from 1.37371\n",
            "\u001b[1m335/335\u001b[0m \u001b[32m━━━━━━━━━━━━━━━━━━━━\u001b[0m\u001b[37m\u001b[0m \u001b[1m13s\u001b[0m 38ms/step - accuracy: 0.6463 - loss: 0.9230 - val_accuracy: 0.5767 - val_loss: 1.3768 - learning_rate: 3.7956e-04\n",
            "Epoch 45/50\n",
            "\u001b[1m335/335\u001b[0m \u001b[32m━━━━━━━━━━━━━━━━━━━━\u001b[0m\u001b[37m\u001b[0m \u001b[1m0s\u001b[0m 35ms/step - accuracy: 0.6723 - loss: 0.9016\n",
            "Epoch 45: val_loss did not improve from 1.37371\n",
            "\u001b[1m335/335\u001b[0m \u001b[32m━━━━━━━━━━━━━━━━━━━━\u001b[0m\u001b[37m\u001b[0m \u001b[1m13s\u001b[0m 38ms/step - accuracy: 0.6723 - loss: 0.9016 - val_accuracy: 0.5689 - val_loss: 1.4020 - learning_rate: 3.7956e-04\n",
            "Epoch 46/50\n",
            "\u001b[1m335/335\u001b[0m \u001b[32m━━━━━━━━━━━━━━━━━━━━\u001b[0m\u001b[37m\u001b[0m \u001b[1m0s\u001b[0m 35ms/step - accuracy: 0.6729 - loss: 0.8652\n",
            "Epoch 46: val_loss did not improve from 1.37371\n",
            "\u001b[1m335/335\u001b[0m \u001b[32m━━━━━━━━━━━━━━━━━━━━\u001b[0m\u001b[37m\u001b[0m \u001b[1m13s\u001b[0m 38ms/step - accuracy: 0.6729 - loss: 0.8652 - val_accuracy: 0.5782 - val_loss: 1.4349 - learning_rate: 3.7956e-04\n",
            "Epoch 46: early stopping\n",
            "Restoring model weights from the end of the best epoch: 33.\n",
            "学習完了！学習時間: 586.89秒\n",
            "最良検証Loss: 1.3737\n",
            "最良検証Accuracy: 0.5782\n",
            "ハイブリッドモデル評価中...\n",
            "テストLoss: 1.3737\n",
            "テストAccuracy: 0.5405\n",
            "F1-Score (macro): 0.4634\n",
            "F1-Score (weighted): 0.5126\n",
            "Trial 2 failed: 'accuracy'\n",
            "[I 2025-07-07 12:08:11,825] Trial 2 finished with value: 0.0 and parameters: {'lstm_units_1': 32, 'lstm_units_2': 64, 'dense_units': 64, 'demographics_dense_units': 28, 'fusion_dense_units': 24, 'dropout_rate': 0.1, 'dense_dropout_rate': 0.30000000000000004, 'learning_rate': 0.0007591104805282694, 'batch_size': 32, 'fusion_type': 'concatenate', 'patience': 13, 'reduce_lr_patience': 8}. Best is trial 0 with value: 0.0.\n",
            "Mixed precision enabled for better GPU performance\n",
            "GPU利用可能: 1台\n",
            "使用GPU: PhysicalDevice(name='/physical_device:GPU:0', device_type='GPU')\n",
            "LSTM v2ハイブリッドモデル初期化完了\n",
            "センサー入力形状: (64, 332)\n",
            "Demographics入力形状: (20,)\n",
            "クラス数: 18\n",
            "融合方式: attention\n",
            "GPU利用可能: True\n",
            "LSTM v2ハイブリッドモデルを構築中...\n",
            "モデル構築完了\n",
            "総パラメータ数: 153,370\n",
            "ハイブリッドモデル学習開始...\n",
            "センサー訓練データ形状: (10714, 64, 332)\n",
            "Demographics訓練データ形状: (10714, 20)\n",
            "センサー検証データ形状: (2679, 64, 332)\n",
            "Demographics検証データ形状: (2679, 20)\n",
            "訓練ラベル形状: (10714,)\n",
            "検証ラベル形状: (2679,)\n",
            "Epoch 1/50\n",
            "\u001b[1m335/335\u001b[0m \u001b[32m━━━━━━━━━━━━━━━━━━━━\u001b[0m\u001b[37m\u001b[0m \u001b[1m0s\u001b[0m 31ms/step - accuracy: 0.1374 - loss: 2.8270\n",
            "Epoch 1: val_loss improved from inf to 2.75115, saving model to lstm_v2_hybrid_best.h5\n"
          ]
        },
        {
          "name": "stderr",
          "output_type": "stream",
          "text": [
            "WARNING:absl:You are saving your model as an HDF5 file via `model.save()` or `keras.saving.save_model(model)`. This file format is considered legacy. We recommend using instead the native Keras format, e.g. `model.save('my_model.keras')` or `keras.saving.save_model(model, 'my_model.keras')`. \n"
          ]
        },
        {
          "name": "stdout",
          "output_type": "stream",
          "text": [
            "\u001b[1m335/335\u001b[0m \u001b[32m━━━━━━━━━━━━━━━━━━━━\u001b[0m\u001b[37m\u001b[0m \u001b[1m15s\u001b[0m 37ms/step - accuracy: 0.1375 - loss: 2.8269 - val_accuracy: 0.1639 - val_loss: 2.7512 - learning_rate: 0.0070\n",
            "Epoch 2/50\n",
            "\u001b[1m334/335\u001b[0m \u001b[32m━━━━━━━━━━━━━━━━━━━\u001b[0m\u001b[37m━\u001b[0m \u001b[1m0s\u001b[0m 32ms/step - accuracy: 0.1752 - loss: 2.7801\n",
            "Epoch 2: val_loss did not improve from 2.75115\n",
            "\u001b[1m335/335\u001b[0m \u001b[32m━━━━━━━━━━━━━━━━━━━━\u001b[0m\u001b[37m\u001b[0m \u001b[1m12s\u001b[0m 34ms/step - accuracy: 0.1752 - loss: 2.7802 - val_accuracy: 0.2143 - val_loss: 2.7601 - learning_rate: 0.0070\n",
            "Epoch 3/50\n",
            "\u001b[1m334/335\u001b[0m \u001b[32m━━━━━━━━━━━━━━━━━━━\u001b[0m\u001b[37m━\u001b[0m \u001b[1m0s\u001b[0m 30ms/step - accuracy: 0.1973 - loss: 2.8159\n",
            "Epoch 3: val_loss improved from 2.75115 to 2.70143, saving model to lstm_v2_hybrid_best.h5\n"
          ]
        },
        {
          "name": "stderr",
          "output_type": "stream",
          "text": [
            "WARNING:absl:You are saving your model as an HDF5 file via `model.save()` or `keras.saving.save_model(model)`. This file format is considered legacy. We recommend using instead the native Keras format, e.g. `model.save('my_model.keras')` or `keras.saving.save_model(model, 'my_model.keras')`. \n"
          ]
        },
        {
          "name": "stdout",
          "output_type": "stream",
          "text": [
            "\u001b[1m335/335\u001b[0m \u001b[32m━━━━━━━━━━━━━━━━━━━━\u001b[0m\u001b[37m\u001b[0m \u001b[1m11s\u001b[0m 33ms/step - accuracy: 0.1973 - loss: 2.8158 - val_accuracy: 0.2378 - val_loss: 2.7014 - learning_rate: 0.0070\n",
            "Epoch 4/50\n",
            "\u001b[1m335/335\u001b[0m \u001b[32m━━━━━━━━━━━━━━━━━━━━\u001b[0m\u001b[37m\u001b[0m \u001b[1m0s\u001b[0m 31ms/step - accuracy: 0.2233 - loss: 2.7705\n",
            "Epoch 4: val_loss did not improve from 2.70143\n",
            "\u001b[1m335/335\u001b[0m \u001b[32m━━━━━━━━━━━━━━━━━━━━\u001b[0m\u001b[37m\u001b[0m \u001b[1m11s\u001b[0m 34ms/step - accuracy: 0.2234 - loss: 2.7706 - val_accuracy: 0.2460 - val_loss: 2.7400 - learning_rate: 0.0070\n",
            "Epoch 5/50\n",
            "\u001b[1m334/335\u001b[0m \u001b[32m━━━━━━━━━━━━━━━━━━━\u001b[0m\u001b[37m━\u001b[0m \u001b[1m0s\u001b[0m 31ms/step - accuracy: 0.2250 - loss: 2.8082\n",
            "Epoch 5: val_loss did not improve from 2.70143\n",
            "\u001b[1m335/335\u001b[0m \u001b[32m━━━━━━━━━━━━━━━━━━━━\u001b[0m\u001b[37m\u001b[0m \u001b[1m11s\u001b[0m 34ms/step - accuracy: 0.2250 - loss: 2.8082 - val_accuracy: 0.2400 - val_loss: 2.7638 - learning_rate: 0.0070\n",
            "Epoch 6/50\n",
            "\u001b[1m334/335\u001b[0m \u001b[32m━━━━━━━━━━━━━━━━━━━\u001b[0m\u001b[37m━\u001b[0m \u001b[1m0s\u001b[0m 30ms/step - accuracy: 0.2355 - loss: 2.8111\n",
            "Epoch 6: val_loss did not improve from 2.70143\n",
            "\u001b[1m335/335\u001b[0m \u001b[32m━━━━━━━━━━━━━━━━━━━━\u001b[0m\u001b[37m\u001b[0m \u001b[1m11s\u001b[0m 33ms/step - accuracy: 0.2355 - loss: 2.8110 - val_accuracy: 0.2587 - val_loss: 2.7428 - learning_rate: 0.0070\n",
            "Epoch 7/50\n",
            "\u001b[1m334/335\u001b[0m \u001b[32m━━━━━━━━━━━━━━━━━━━\u001b[0m\u001b[37m━\u001b[0m \u001b[1m0s\u001b[0m 32ms/step - accuracy: 0.2556 - loss: 2.8165\n",
            "Epoch 7: val_loss improved from 2.70143 to 2.67801, saving model to lstm_v2_hybrid_best.h5\n"
          ]
        },
        {
          "name": "stderr",
          "output_type": "stream",
          "text": [
            "WARNING:absl:You are saving your model as an HDF5 file via `model.save()` or `keras.saving.save_model(model)`. This file format is considered legacy. We recommend using instead the native Keras format, e.g. `model.save('my_model.keras')` or `keras.saving.save_model(model, 'my_model.keras')`. \n"
          ]
        },
        {
          "name": "stdout",
          "output_type": "stream",
          "text": [
            "\u001b[1m335/335\u001b[0m \u001b[32m━━━━━━━━━━━━━━━━━━━━\u001b[0m\u001b[37m\u001b[0m \u001b[1m12s\u001b[0m 36ms/step - accuracy: 0.2556 - loss: 2.8165 - val_accuracy: 0.2822 - val_loss: 2.6780 - learning_rate: 0.0070\n",
            "Epoch 8/50\n",
            "\u001b[1m335/335\u001b[0m \u001b[32m━━━━━━━━━━━━━━━━━━━━\u001b[0m\u001b[37m\u001b[0m \u001b[1m0s\u001b[0m 33ms/step - accuracy: 0.2646 - loss: 2.7511\n",
            "Epoch 8: val_loss improved from 2.67801 to 2.62823, saving model to lstm_v2_hybrid_best.h5\n"
          ]
        },
        {
          "name": "stderr",
          "output_type": "stream",
          "text": [
            "WARNING:absl:You are saving your model as an HDF5 file via `model.save()` or `keras.saving.save_model(model)`. This file format is considered legacy. We recommend using instead the native Keras format, e.g. `model.save('my_model.keras')` or `keras.saving.save_model(model, 'my_model.keras')`. \n"
          ]
        },
        {
          "name": "stdout",
          "output_type": "stream",
          "text": [
            "\u001b[1m335/335\u001b[0m \u001b[32m━━━━━━━━━━━━━━━━━━━━\u001b[0m\u001b[37m\u001b[0m \u001b[1m12s\u001b[0m 36ms/step - accuracy: 0.2646 - loss: 2.7511 - val_accuracy: 0.3038 - val_loss: 2.6282 - learning_rate: 0.0070\n",
            "Epoch 9/50\n",
            "\u001b[1m334/335\u001b[0m \u001b[32m━━━━━━━━━━━━━━━━━━━\u001b[0m\u001b[37m━\u001b[0m \u001b[1m0s\u001b[0m 31ms/step - accuracy: 0.2688 - loss: 2.7129\n",
            "Epoch 9: val_loss improved from 2.62823 to 2.61664, saving model to lstm_v2_hybrid_best.h5\n"
          ]
        },
        {
          "name": "stderr",
          "output_type": "stream",
          "text": [
            "WARNING:absl:You are saving your model as an HDF5 file via `model.save()` or `keras.saving.save_model(model)`. This file format is considered legacy. We recommend using instead the native Keras format, e.g. `model.save('my_model.keras')` or `keras.saving.save_model(model, 'my_model.keras')`. \n"
          ]
        },
        {
          "name": "stdout",
          "output_type": "stream",
          "text": [
            "\u001b[1m335/335\u001b[0m \u001b[32m━━━━━━━━━━━━━━━━━━━━\u001b[0m\u001b[37m\u001b[0m \u001b[1m11s\u001b[0m 34ms/step - accuracy: 0.2688 - loss: 2.7129 - val_accuracy: 0.3236 - val_loss: 2.6166 - learning_rate: 0.0070\n",
            "Epoch 10/50\n",
            "\u001b[1m335/335\u001b[0m \u001b[32m━━━━━━━━━━━━━━━━━━━━\u001b[0m\u001b[37m\u001b[0m \u001b[1m0s\u001b[0m 31ms/step - accuracy: 0.2684 - loss: 2.7022\n",
            "Epoch 10: val_loss did not improve from 2.61664\n",
            "\u001b[1m335/335\u001b[0m \u001b[32m━━━━━━━━━━━━━━━━━━━━\u001b[0m\u001b[37m\u001b[0m \u001b[1m11s\u001b[0m 34ms/step - accuracy: 0.2684 - loss: 2.7022 - val_accuracy: 0.2859 - val_loss: 2.7381 - learning_rate: 0.0070\n",
            "Epoch 11/50\n",
            "\u001b[1m335/335\u001b[0m \u001b[32m━━━━━━━━━━━━━━━━━━━━\u001b[0m\u001b[37m\u001b[0m \u001b[1m0s\u001b[0m 32ms/step - accuracy: 0.2739 - loss: 2.7166\n",
            "Epoch 11: val_loss did not improve from 2.61664\n",
            "\u001b[1m335/335\u001b[0m \u001b[32m━━━━━━━━━━━━━━━━━━━━\u001b[0m\u001b[37m\u001b[0m \u001b[1m12s\u001b[0m 35ms/step - accuracy: 0.2739 - loss: 2.7166 - val_accuracy: 0.2867 - val_loss: 2.6925 - learning_rate: 0.0070\n",
            "Epoch 12/50\n",
            "\u001b[1m334/335\u001b[0m \u001b[32m━━━━━━━━━━━━━━━━━━━\u001b[0m\u001b[37m━\u001b[0m \u001b[1m0s\u001b[0m 31ms/step - accuracy: 0.2838 - loss: 2.6818\n",
            "Epoch 12: val_loss improved from 2.61664 to 2.61133, saving model to lstm_v2_hybrid_best.h5\n"
          ]
        },
        {
          "name": "stderr",
          "output_type": "stream",
          "text": [
            "WARNING:absl:You are saving your model as an HDF5 file via `model.save()` or `keras.saving.save_model(model)`. This file format is considered legacy. We recommend using instead the native Keras format, e.g. `model.save('my_model.keras')` or `keras.saving.save_model(model, 'my_model.keras')`. \n"
          ]
        },
        {
          "name": "stdout",
          "output_type": "stream",
          "text": [
            "\u001b[1m335/335\u001b[0m \u001b[32m━━━━━━━━━━━━━━━━━━━━\u001b[0m\u001b[37m\u001b[0m \u001b[1m11s\u001b[0m 34ms/step - accuracy: 0.2838 - loss: 2.6818 - val_accuracy: 0.2773 - val_loss: 2.6113 - learning_rate: 0.0070\n",
            "Epoch 13/50\n",
            "\u001b[1m334/335\u001b[0m \u001b[32m━━━━━━━━━━━━━━━━━━━\u001b[0m\u001b[37m━\u001b[0m \u001b[1m0s\u001b[0m 32ms/step - accuracy: 0.2789 - loss: 2.6499\n",
            "Epoch 13: val_loss improved from 2.61133 to 2.60619, saving model to lstm_v2_hybrid_best.h5\n"
          ]
        },
        {
          "name": "stderr",
          "output_type": "stream",
          "text": [
            "WARNING:absl:You are saving your model as an HDF5 file via `model.save()` or `keras.saving.save_model(model)`. This file format is considered legacy. We recommend using instead the native Keras format, e.g. `model.save('my_model.keras')` or `keras.saving.save_model(model, 'my_model.keras')`. \n"
          ]
        },
        {
          "name": "stdout",
          "output_type": "stream",
          "text": [
            "\u001b[1m335/335\u001b[0m \u001b[32m━━━━━━━━━━━━━━━━━━━━\u001b[0m\u001b[37m\u001b[0m \u001b[1m12s\u001b[0m 35ms/step - accuracy: 0.2789 - loss: 2.6499 - val_accuracy: 0.2912 - val_loss: 2.6062 - learning_rate: 0.0070\n",
            "Epoch 14/50\n",
            "\u001b[1m334/335\u001b[0m \u001b[32m━━━━━━━━━━━━━━━━━━━\u001b[0m\u001b[37m━\u001b[0m \u001b[1m0s\u001b[0m 31ms/step - accuracy: 0.2864 - loss: 2.6416\n",
            "Epoch 14: val_loss improved from 2.60619 to 2.53799, saving model to lstm_v2_hybrid_best.h5\n"
          ]
        },
        {
          "name": "stderr",
          "output_type": "stream",
          "text": [
            "WARNING:absl:You are saving your model as an HDF5 file via `model.save()` or `keras.saving.save_model(model)`. This file format is considered legacy. We recommend using instead the native Keras format, e.g. `model.save('my_model.keras')` or `keras.saving.save_model(model, 'my_model.keras')`. \n"
          ]
        },
        {
          "name": "stdout",
          "output_type": "stream",
          "text": [
            "\u001b[1m335/335\u001b[0m \u001b[32m━━━━━━━━━━━━━━━━━━━━\u001b[0m\u001b[37m\u001b[0m \u001b[1m12s\u001b[0m 34ms/step - accuracy: 0.2863 - loss: 2.6416 - val_accuracy: 0.3121 - val_loss: 2.5380 - learning_rate: 0.0070\n",
            "Epoch 15/50\n",
            "\u001b[1m335/335\u001b[0m \u001b[32m━━━━━━━━━━━━━━━━━━━━\u001b[0m\u001b[37m\u001b[0m \u001b[1m0s\u001b[0m 32ms/step - accuracy: 0.2770 - loss: 2.6345\n",
            "Epoch 15: val_loss did not improve from 2.53799\n",
            "\u001b[1m335/335\u001b[0m \u001b[32m━━━━━━━━━━━━━━━━━━━━\u001b[0m\u001b[37m\u001b[0m \u001b[1m12s\u001b[0m 35ms/step - accuracy: 0.2770 - loss: 2.6344 - val_accuracy: 0.3139 - val_loss: 2.5490 - learning_rate: 0.0070\n",
            "Epoch 16/50\n",
            "\u001b[1m335/335\u001b[0m \u001b[32m━━━━━━━━━━━━━━━━━━━━\u001b[0m\u001b[37m\u001b[0m \u001b[1m0s\u001b[0m 32ms/step - accuracy: 0.2994 - loss: 2.5526\n",
            "Epoch 16: val_loss improved from 2.53799 to 2.51798, saving model to lstm_v2_hybrid_best.h5\n"
          ]
        },
        {
          "name": "stderr",
          "output_type": "stream",
          "text": [
            "WARNING:absl:You are saving your model as an HDF5 file via `model.save()` or `keras.saving.save_model(model)`. This file format is considered legacy. We recommend using instead the native Keras format, e.g. `model.save('my_model.keras')` or `keras.saving.save_model(model, 'my_model.keras')`. \n"
          ]
        },
        {
          "name": "stdout",
          "output_type": "stream",
          "text": [
            "\u001b[1m335/335\u001b[0m \u001b[32m━━━━━━━━━━━━━━━━━━━━\u001b[0m\u001b[37m\u001b[0m \u001b[1m12s\u001b[0m 35ms/step - accuracy: 0.2994 - loss: 2.5526 - val_accuracy: 0.3147 - val_loss: 2.5180 - learning_rate: 0.0070\n",
            "Epoch 17/50\n",
            "\u001b[1m335/335\u001b[0m \u001b[32m━━━━━━━━━━━━━━━━━━━━\u001b[0m\u001b[37m\u001b[0m \u001b[1m0s\u001b[0m 30ms/step - accuracy: 0.2949 - loss: 2.5768\n",
            "Epoch 17: val_loss improved from 2.51798 to 2.51688, saving model to lstm_v2_hybrid_best.h5\n"
          ]
        },
        {
          "name": "stderr",
          "output_type": "stream",
          "text": [
            "WARNING:absl:You are saving your model as an HDF5 file via `model.save()` or `keras.saving.save_model(model)`. This file format is considered legacy. We recommend using instead the native Keras format, e.g. `model.save('my_model.keras')` or `keras.saving.save_model(model, 'my_model.keras')`. \n"
          ]
        },
        {
          "name": "stdout",
          "output_type": "stream",
          "text": [
            "\u001b[1m335/335\u001b[0m \u001b[32m━━━━━━━━━━━━━━━━━━━━\u001b[0m\u001b[37m\u001b[0m \u001b[1m11s\u001b[0m 33ms/step - accuracy: 0.2949 - loss: 2.5768 - val_accuracy: 0.3117 - val_loss: 2.5169 - learning_rate: 0.0070\n",
            "Epoch 18/50\n",
            "\u001b[1m335/335\u001b[0m \u001b[32m━━━━━━━━━━━━━━━━━━━━\u001b[0m\u001b[37m\u001b[0m \u001b[1m0s\u001b[0m 31ms/step - accuracy: 0.3069 - loss: 2.5497\n",
            "Epoch 18: val_loss improved from 2.51688 to 2.42257, saving model to lstm_v2_hybrid_best.h5\n"
          ]
        },
        {
          "name": "stderr",
          "output_type": "stream",
          "text": [
            "WARNING:absl:You are saving your model as an HDF5 file via `model.save()` or `keras.saving.save_model(model)`. This file format is considered legacy. We recommend using instead the native Keras format, e.g. `model.save('my_model.keras')` or `keras.saving.save_model(model, 'my_model.keras')`. \n"
          ]
        },
        {
          "name": "stdout",
          "output_type": "stream",
          "text": [
            "\u001b[1m335/335\u001b[0m \u001b[32m━━━━━━━━━━━━━━━━━━━━\u001b[0m\u001b[37m\u001b[0m \u001b[1m11s\u001b[0m 34ms/step - accuracy: 0.3068 - loss: 2.5497 - val_accuracy: 0.3191 - val_loss: 2.4226 - learning_rate: 0.0070\n",
            "Epoch 19/50\n",
            "\u001b[1m335/335\u001b[0m \u001b[32m━━━━━━━━━━━━━━━━━━━━\u001b[0m\u001b[37m\u001b[0m \u001b[1m0s\u001b[0m 31ms/step - accuracy: 0.3047 - loss: 2.4921\n",
            "Epoch 19: val_loss improved from 2.42257 to 2.40273, saving model to lstm_v2_hybrid_best.h5\n"
          ]
        },
        {
          "name": "stderr",
          "output_type": "stream",
          "text": [
            "WARNING:absl:You are saving your model as an HDF5 file via `model.save()` or `keras.saving.save_model(model)`. This file format is considered legacy. We recommend using instead the native Keras format, e.g. `model.save('my_model.keras')` or `keras.saving.save_model(model, 'my_model.keras')`. \n"
          ]
        },
        {
          "name": "stdout",
          "output_type": "stream",
          "text": [
            "\u001b[1m335/335\u001b[0m \u001b[32m━━━━━━━━━━━━━━━━━━━━\u001b[0m\u001b[37m\u001b[0m \u001b[1m11s\u001b[0m 34ms/step - accuracy: 0.3047 - loss: 2.4922 - val_accuracy: 0.3281 - val_loss: 2.4027 - learning_rate: 0.0070\n",
            "Epoch 20/50\n",
            "\u001b[1m334/335\u001b[0m \u001b[32m━━━━━━━━━━━━━━━━━━━\u001b[0m\u001b[37m━\u001b[0m \u001b[1m0s\u001b[0m 30ms/step - accuracy: 0.2956 - loss: 2.5089\n",
            "Epoch 20: val_loss did not improve from 2.40273\n",
            "\u001b[1m335/335\u001b[0m \u001b[32m━━━━━━━━━━━━━━━━━━━━\u001b[0m\u001b[37m\u001b[0m \u001b[1m11s\u001b[0m 34ms/step - accuracy: 0.2956 - loss: 2.5090 - val_accuracy: 0.3221 - val_loss: 2.4754 - learning_rate: 0.0070\n",
            "Epoch 21/50\n",
            "\u001b[1m335/335\u001b[0m \u001b[32m━━━━━━━━━━━━━━━━━━━━\u001b[0m\u001b[37m\u001b[0m \u001b[1m0s\u001b[0m 30ms/step - accuracy: 0.3095 - loss: 2.5166\n",
            "Epoch 21: val_loss did not improve from 2.40273\n",
            "\u001b[1m335/335\u001b[0m \u001b[32m━━━━━━━━━━━━━━━━━━━━\u001b[0m\u001b[37m\u001b[0m \u001b[1m11s\u001b[0m 33ms/step - accuracy: 0.3096 - loss: 2.5166 - val_accuracy: 0.3150 - val_loss: 2.4340 - learning_rate: 0.0070\n",
            "Epoch 22/50\n",
            "\u001b[1m335/335\u001b[0m \u001b[32m━━━━━━━━━━━━━━━━━━━━\u001b[0m\u001b[37m\u001b[0m \u001b[1m0s\u001b[0m 31ms/step - accuracy: 0.3147 - loss: 2.5019\n",
            "Epoch 22: val_loss did not improve from 2.40273\n",
            "\u001b[1m335/335\u001b[0m \u001b[32m━━━━━━━━━━━━━━━━━━━━\u001b[0m\u001b[37m\u001b[0m \u001b[1m11s\u001b[0m 34ms/step - accuracy: 0.3147 - loss: 2.5019 - val_accuracy: 0.3076 - val_loss: 2.5380 - learning_rate: 0.0070\n",
            "Epoch 23/50\n",
            "\u001b[1m335/335\u001b[0m \u001b[32m━━━━━━━━━━━━━━━━━━━━\u001b[0m\u001b[37m\u001b[0m \u001b[1m0s\u001b[0m 32ms/step - accuracy: 0.3070 - loss: 2.5821\n",
            "Epoch 23: val_loss did not improve from 2.40273\n",
            "\u001b[1m335/335\u001b[0m \u001b[32m━━━━━━━━━━━━━━━━━━━━\u001b[0m\u001b[37m\u001b[0m \u001b[1m12s\u001b[0m 34ms/step - accuracy: 0.3070 - loss: 2.5821 - val_accuracy: 0.3281 - val_loss: 2.4701 - learning_rate: 0.0070\n",
            "Epoch 24/50\n",
            "\u001b[1m334/335\u001b[0m \u001b[32m━━━━━━━━━━━━━━━━━━━\u001b[0m\u001b[37m━\u001b[0m \u001b[1m0s\u001b[0m 30ms/step - accuracy: 0.3007 - loss: 2.5486\n",
            "Epoch 24: val_loss did not improve from 2.40273\n",
            "\u001b[1m335/335\u001b[0m \u001b[32m━━━━━━━━━━━━━━━━━━━━\u001b[0m\u001b[37m\u001b[0m \u001b[1m11s\u001b[0m 33ms/step - accuracy: 0.3008 - loss: 2.5485 - val_accuracy: 0.3330 - val_loss: 2.4374 - learning_rate: 0.0070\n",
            "Epoch 25/50\n",
            "\u001b[1m335/335\u001b[0m \u001b[32m━━━━━━━━━━━━━━━━━━━━\u001b[0m\u001b[37m\u001b[0m \u001b[1m0s\u001b[0m 31ms/step - accuracy: 0.3163 - loss: 2.5291\n",
            "Epoch 25: val_loss did not improve from 2.40273\n",
            "\u001b[1m335/335\u001b[0m \u001b[32m━━━━━━━━━━━━━━━━━━━━\u001b[0m\u001b[37m\u001b[0m \u001b[1m11s\u001b[0m 34ms/step - accuracy: 0.3163 - loss: 2.5291 - val_accuracy: 0.3255 - val_loss: 2.4488 - learning_rate: 0.0070\n",
            "Epoch 26/50\n",
            "\u001b[1m334/335\u001b[0m \u001b[32m━━━━━━━━━━━━━━━━━━━\u001b[0m\u001b[37m━\u001b[0m \u001b[1m0s\u001b[0m 31ms/step - accuracy: 0.3258 - loss: 2.4623\n",
            "Epoch 26: val_loss improved from 2.40273 to 2.39947, saving model to lstm_v2_hybrid_best.h5\n"
          ]
        },
        {
          "name": "stderr",
          "output_type": "stream",
          "text": [
            "WARNING:absl:You are saving your model as an HDF5 file via `model.save()` or `keras.saving.save_model(model)`. This file format is considered legacy. We recommend using instead the native Keras format, e.g. `model.save('my_model.keras')` or `keras.saving.save_model(model, 'my_model.keras')`. \n"
          ]
        },
        {
          "name": "stdout",
          "output_type": "stream",
          "text": [
            "\u001b[1m335/335\u001b[0m \u001b[32m━━━━━━━━━━━━━━━━━━━━\u001b[0m\u001b[37m\u001b[0m \u001b[1m12s\u001b[0m 34ms/step - accuracy: 0.3257 - loss: 2.4624 - val_accuracy: 0.3359 - val_loss: 2.3995 - learning_rate: 0.0070\n",
            "Epoch 27/50\n",
            "\u001b[1m335/335\u001b[0m \u001b[32m━━━━━━━━━━━━━━━━━━━━\u001b[0m\u001b[37m\u001b[0m \u001b[1m0s\u001b[0m 31ms/step - accuracy: 0.3416 - loss: 2.4652\n",
            "Epoch 27: val_loss improved from 2.39947 to 2.38120, saving model to lstm_v2_hybrid_best.h5\n"
          ]
        },
        {
          "name": "stderr",
          "output_type": "stream",
          "text": [
            "WARNING:absl:You are saving your model as an HDF5 file via `model.save()` or `keras.saving.save_model(model)`. This file format is considered legacy. We recommend using instead the native Keras format, e.g. `model.save('my_model.keras')` or `keras.saving.save_model(model, 'my_model.keras')`. \n"
          ]
        },
        {
          "name": "stdout",
          "output_type": "stream",
          "text": [
            "\u001b[1m335/335\u001b[0m \u001b[32m━━━━━━━━━━━━━━━━━━━━\u001b[0m\u001b[37m\u001b[0m \u001b[1m12s\u001b[0m 34ms/step - accuracy: 0.3415 - loss: 2.4653 - val_accuracy: 0.3423 - val_loss: 2.3812 - learning_rate: 0.0070\n",
            "Epoch 28/50\n",
            "\u001b[1m335/335\u001b[0m \u001b[32m━━━━━━━━━━━━━━━━━━━━\u001b[0m\u001b[37m\u001b[0m \u001b[1m0s\u001b[0m 31ms/step - accuracy: 0.3309 - loss: 2.4931\n",
            "Epoch 28: val_loss did not improve from 2.38120\n",
            "\u001b[1m335/335\u001b[0m \u001b[32m━━━━━━━━━━━━━━━━━━━━\u001b[0m\u001b[37m\u001b[0m \u001b[1m11s\u001b[0m 34ms/step - accuracy: 0.3309 - loss: 2.4931 - val_accuracy: 0.3315 - val_loss: 2.3854 - learning_rate: 0.0070\n",
            "Epoch 29/50\n",
            "\u001b[1m334/335\u001b[0m \u001b[32m━━━━━━━━━━━━━━━━━━━\u001b[0m\u001b[37m━\u001b[0m \u001b[1m0s\u001b[0m 31ms/step - accuracy: 0.3268 - loss: 2.4796\n",
            "Epoch 29: val_loss improved from 2.38120 to 2.37477, saving model to lstm_v2_hybrid_best.h5\n"
          ]
        },
        {
          "name": "stderr",
          "output_type": "stream",
          "text": [
            "WARNING:absl:You are saving your model as an HDF5 file via `model.save()` or `keras.saving.save_model(model)`. This file format is considered legacy. We recommend using instead the native Keras format, e.g. `model.save('my_model.keras')` or `keras.saving.save_model(model, 'my_model.keras')`. \n"
          ]
        },
        {
          "name": "stdout",
          "output_type": "stream",
          "text": [
            "\u001b[1m335/335\u001b[0m \u001b[32m━━━━━━━━━━━━━━━━━━━━\u001b[0m\u001b[37m\u001b[0m \u001b[1m11s\u001b[0m 34ms/step - accuracy: 0.3268 - loss: 2.4795 - val_accuracy: 0.3483 - val_loss: 2.3748 - learning_rate: 0.0070\n",
            "Epoch 30/50\n",
            "\u001b[1m334/335\u001b[0m \u001b[32m━━━━━━━━━━━━━━━━━━━\u001b[0m\u001b[37m━\u001b[0m \u001b[1m0s\u001b[0m 31ms/step - accuracy: 0.3345 - loss: 2.4387\n",
            "Epoch 30: val_loss improved from 2.37477 to 2.33293, saving model to lstm_v2_hybrid_best.h5\n"
          ]
        },
        {
          "name": "stderr",
          "output_type": "stream",
          "text": [
            "WARNING:absl:You are saving your model as an HDF5 file via `model.save()` or `keras.saving.save_model(model)`. This file format is considered legacy. We recommend using instead the native Keras format, e.g. `model.save('my_model.keras')` or `keras.saving.save_model(model, 'my_model.keras')`. \n"
          ]
        },
        {
          "name": "stdout",
          "output_type": "stream",
          "text": [
            "\u001b[1m335/335\u001b[0m \u001b[32m━━━━━━━━━━━━━━━━━━━━\u001b[0m\u001b[37m\u001b[0m \u001b[1m11s\u001b[0m 34ms/step - accuracy: 0.3345 - loss: 2.4387 - val_accuracy: 0.3471 - val_loss: 2.3329 - learning_rate: 0.0070\n",
            "Epoch 31/50\n",
            "\u001b[1m335/335\u001b[0m \u001b[32m━━━━━━━━━━━━━━━━━━━━\u001b[0m\u001b[37m\u001b[0m \u001b[1m0s\u001b[0m 32ms/step - accuracy: 0.3337 - loss: 2.3918\n",
            "Epoch 31: val_loss improved from 2.33293 to 2.30224, saving model to lstm_v2_hybrid_best.h5\n"
          ]
        },
        {
          "name": "stderr",
          "output_type": "stream",
          "text": [
            "WARNING:absl:You are saving your model as an HDF5 file via `model.save()` or `keras.saving.save_model(model)`. This file format is considered legacy. We recommend using instead the native Keras format, e.g. `model.save('my_model.keras')` or `keras.saving.save_model(model, 'my_model.keras')`. \n"
          ]
        },
        {
          "name": "stdout",
          "output_type": "stream",
          "text": [
            "\u001b[1m335/335\u001b[0m \u001b[32m━━━━━━━━━━━━━━━━━━━━\u001b[0m\u001b[37m\u001b[0m \u001b[1m12s\u001b[0m 35ms/step - accuracy: 0.3337 - loss: 2.3918 - val_accuracy: 0.3490 - val_loss: 2.3022 - learning_rate: 0.0070\n",
            "Epoch 32/50\n",
            "\u001b[1m334/335\u001b[0m \u001b[32m━━━━━━━━━━━━━━━━━━━\u001b[0m\u001b[37m━\u001b[0m \u001b[1m0s\u001b[0m 32ms/step - accuracy: 0.3380 - loss: 2.3487\n",
            "Epoch 32: val_loss did not improve from 2.30224\n",
            "\u001b[1m335/335\u001b[0m \u001b[32m━━━━━━━━━━━━━━━━━━━━\u001b[0m\u001b[37m\u001b[0m \u001b[1m12s\u001b[0m 35ms/step - accuracy: 0.3380 - loss: 2.3488 - val_accuracy: 0.3501 - val_loss: 2.3299 - learning_rate: 0.0070\n",
            "Epoch 33/50\n",
            "\u001b[1m334/335\u001b[0m \u001b[32m━━━━━━━━━━━━━━━━━━━\u001b[0m\u001b[37m━\u001b[0m \u001b[1m0s\u001b[0m 30ms/step - accuracy: 0.3382 - loss: 2.3945\n",
            "Epoch 33: val_loss did not improve from 2.30224\n",
            "\u001b[1m335/335\u001b[0m \u001b[32m━━━━━━━━━━━━━━━━━━━━\u001b[0m\u001b[37m\u001b[0m \u001b[1m11s\u001b[0m 33ms/step - accuracy: 0.3382 - loss: 2.3945 - val_accuracy: 0.3505 - val_loss: 2.3319 - learning_rate: 0.0070\n",
            "Epoch 34/50\n",
            "\u001b[1m334/335\u001b[0m \u001b[32m━━━━━━━━━━━━━━━━━━━\u001b[0m\u001b[37m━\u001b[0m \u001b[1m0s\u001b[0m 30ms/step - accuracy: 0.3408 - loss: 2.3914\n",
            "Epoch 34: val_loss did not improve from 2.30224\n",
            "\u001b[1m335/335\u001b[0m \u001b[32m━━━━━━━━━━━━━━━━━━━━\u001b[0m\u001b[37m\u001b[0m \u001b[1m11s\u001b[0m 32ms/step - accuracy: 0.3408 - loss: 2.3914 - val_accuracy: 0.3513 - val_loss: 2.3322 - learning_rate: 0.0070\n",
            "Epoch 35/50\n",
            "\u001b[1m334/335\u001b[0m \u001b[32m━━━━━━━━━━━━━━━━━━━\u001b[0m\u001b[37m━\u001b[0m \u001b[1m0s\u001b[0m 31ms/step - accuracy: 0.3321 - loss: 2.3918\n",
            "Epoch 35: val_loss improved from 2.30224 to 2.24029, saving model to lstm_v2_hybrid_best.h5\n"
          ]
        },
        {
          "name": "stderr",
          "output_type": "stream",
          "text": [
            "WARNING:absl:You are saving your model as an HDF5 file via `model.save()` or `keras.saving.save_model(model)`. This file format is considered legacy. We recommend using instead the native Keras format, e.g. `model.save('my_model.keras')` or `keras.saving.save_model(model, 'my_model.keras')`. \n"
          ]
        },
        {
          "name": "stdout",
          "output_type": "stream",
          "text": [
            "\u001b[1m335/335\u001b[0m \u001b[32m━━━━━━━━━━━━━━━━━━━━\u001b[0m\u001b[37m\u001b[0m \u001b[1m11s\u001b[0m 34ms/step - accuracy: 0.3321 - loss: 2.3917 - val_accuracy: 0.3606 - val_loss: 2.2403 - learning_rate: 0.0070\n",
            "Epoch 36/50\n",
            "\u001b[1m335/335\u001b[0m \u001b[32m━━━━━━━━━━━━━━━━━━━━\u001b[0m\u001b[37m\u001b[0m \u001b[1m0s\u001b[0m 32ms/step - accuracy: 0.3446 - loss: 2.3276\n",
            "Epoch 36: val_loss did not improve from 2.24029\n",
            "\u001b[1m335/335\u001b[0m \u001b[32m━━━━━━━━━━━━━━━━━━━━\u001b[0m\u001b[37m\u001b[0m \u001b[1m12s\u001b[0m 34ms/step - accuracy: 0.3446 - loss: 2.3277 - val_accuracy: 0.3464 - val_loss: 2.2964 - learning_rate: 0.0070\n",
            "Epoch 37/50\n",
            "\u001b[1m335/335\u001b[0m \u001b[32m━━━━━━━━━━━━━━━━━━━━\u001b[0m\u001b[37m\u001b[0m \u001b[1m0s\u001b[0m 32ms/step - accuracy: 0.3319 - loss: 2.3526\n",
            "Epoch 37: val_loss did not improve from 2.24029\n",
            "\u001b[1m335/335\u001b[0m \u001b[32m━━━━━━━━━━━━━━━━━━━━\u001b[0m\u001b[37m\u001b[0m \u001b[1m12s\u001b[0m 35ms/step - accuracy: 0.3319 - loss: 2.3526 - val_accuracy: 0.3490 - val_loss: 2.2776 - learning_rate: 0.0070\n",
            "Epoch 38/50\n",
            "\u001b[1m334/335\u001b[0m \u001b[32m━━━━━━━━━━━━━━━━━━━\u001b[0m\u001b[37m━\u001b[0m \u001b[1m0s\u001b[0m 31ms/step - accuracy: 0.3443 - loss: 2.3496\n",
            "Epoch 38: val_loss did not improve from 2.24029\n",
            "\u001b[1m335/335\u001b[0m \u001b[32m━━━━━━━━━━━━━━━━━━━━\u001b[0m\u001b[37m\u001b[0m \u001b[1m11s\u001b[0m 34ms/step - accuracy: 0.3442 - loss: 2.3496 - val_accuracy: 0.3542 - val_loss: 2.2410 - learning_rate: 0.0070\n",
            "Epoch 39/50\n",
            "\u001b[1m334/335\u001b[0m \u001b[32m━━━━━━━━━━━━━━━━━━━\u001b[0m\u001b[37m━\u001b[0m \u001b[1m0s\u001b[0m 30ms/step - accuracy: 0.3408 - loss: 2.3408\n",
            "Epoch 39: val_loss did not improve from 2.24029\n",
            "\u001b[1m335/335\u001b[0m \u001b[32m━━━━━━━━━━━━━━━━━━━━\u001b[0m\u001b[37m\u001b[0m \u001b[1m11s\u001b[0m 33ms/step - accuracy: 0.3408 - loss: 2.3408 - val_accuracy: 0.3565 - val_loss: 2.2451 - learning_rate: 0.0070\n",
            "Epoch 40/50\n",
            "\u001b[1m334/335\u001b[0m \u001b[32m━━━━━━━━━━━━━━━━━━━\u001b[0m\u001b[37m━\u001b[0m \u001b[1m0s\u001b[0m 30ms/step - accuracy: 0.3435 - loss: 2.3493\n",
            "Epoch 40: val_loss did not improve from 2.24029\n",
            "\u001b[1m335/335\u001b[0m \u001b[32m━━━━━━━━━━━━━━━━━━━━\u001b[0m\u001b[37m\u001b[0m \u001b[1m11s\u001b[0m 33ms/step - accuracy: 0.3435 - loss: 2.3494 - val_accuracy: 0.3453 - val_loss: 2.3073 - learning_rate: 0.0070\n",
            "Epoch 41/50\n",
            "\u001b[1m334/335\u001b[0m \u001b[32m━━━━━━━━━━━━━━━━━━━\u001b[0m\u001b[37m━\u001b[0m \u001b[1m0s\u001b[0m 31ms/step - accuracy: 0.3427 - loss: 2.3862\n",
            "Epoch 41: val_loss improved from 2.24029 to 2.23642, saving model to lstm_v2_hybrid_best.h5\n"
          ]
        },
        {
          "name": "stderr",
          "output_type": "stream",
          "text": [
            "WARNING:absl:You are saving your model as an HDF5 file via `model.save()` or `keras.saving.save_model(model)`. This file format is considered legacy. We recommend using instead the native Keras format, e.g. `model.save('my_model.keras')` or `keras.saving.save_model(model, 'my_model.keras')`. \n"
          ]
        },
        {
          "name": "stdout",
          "output_type": "stream",
          "text": [
            "\u001b[1m335/335\u001b[0m \u001b[32m━━━━━━━━━━━━━━━━━━━━\u001b[0m\u001b[37m\u001b[0m \u001b[1m11s\u001b[0m 34ms/step - accuracy: 0.3427 - loss: 2.3861 - val_accuracy: 0.3666 - val_loss: 2.2364 - learning_rate: 0.0070\n",
            "Epoch 42/50\n",
            "\u001b[1m334/335\u001b[0m \u001b[32m━━━━━━━━━━━━━━━━━━━\u001b[0m\u001b[37m━\u001b[0m \u001b[1m0s\u001b[0m 30ms/step - accuracy: 0.3517 - loss: 2.3462\n",
            "Epoch 42: val_loss did not improve from 2.23642\n",
            "\u001b[1m335/335\u001b[0m \u001b[32m━━━━━━━━━━━━━━━━━━━━\u001b[0m\u001b[37m\u001b[0m \u001b[1m11s\u001b[0m 33ms/step - accuracy: 0.3516 - loss: 2.3463 - val_accuracy: 0.3557 - val_loss: 2.2649 - learning_rate: 0.0070\n",
            "Epoch 43/50\n",
            "\u001b[1m334/335\u001b[0m \u001b[32m━━━━━━━━━━━━━━━━━━━\u001b[0m\u001b[37m━\u001b[0m \u001b[1m0s\u001b[0m 31ms/step - accuracy: 0.3370 - loss: 2.3163\n",
            "Epoch 43: val_loss did not improve from 2.23642\n",
            "\u001b[1m335/335\u001b[0m \u001b[32m━━━━━━━━━━━━━━━━━━━━\u001b[0m\u001b[37m\u001b[0m \u001b[1m11s\u001b[0m 34ms/step - accuracy: 0.3370 - loss: 2.3164 - val_accuracy: 0.3464 - val_loss: 2.3722 - learning_rate: 0.0070\n",
            "Epoch 44/50\n",
            "\u001b[1m335/335\u001b[0m \u001b[32m━━━━━━━━━━━━━━━━━━━━\u001b[0m\u001b[37m\u001b[0m \u001b[1m0s\u001b[0m 31ms/step - accuracy: 0.3461 - loss: 2.3558\n",
            "Epoch 44: val_loss did not improve from 2.23642\n",
            "\u001b[1m335/335\u001b[0m \u001b[32m━━━━━━━━━━━━━━━━━━━━\u001b[0m\u001b[37m\u001b[0m \u001b[1m11s\u001b[0m 33ms/step - accuracy: 0.3461 - loss: 2.3558 - val_accuracy: 0.3613 - val_loss: 2.2824 - learning_rate: 0.0070\n",
            "Epoch 45/50\n",
            "\u001b[1m335/335\u001b[0m \u001b[32m━━━━━━━━━━━━━━━━━━━━\u001b[0m\u001b[37m\u001b[0m \u001b[1m0s\u001b[0m 30ms/step - accuracy: 0.3539 - loss: 2.3604\n",
            "Epoch 45: val_loss did not improve from 2.23642\n",
            "\u001b[1m335/335\u001b[0m \u001b[32m━━━━━━━━━━━━━━━━━━━━\u001b[0m\u001b[37m\u001b[0m \u001b[1m11s\u001b[0m 33ms/step - accuracy: 0.3539 - loss: 2.3604 - val_accuracy: 0.3606 - val_loss: 2.2619 - learning_rate: 0.0070\n",
            "Epoch 46/50\n",
            "\u001b[1m334/335\u001b[0m \u001b[32m━━━━━━━━━━━━━━━━━━━\u001b[0m\u001b[37m━\u001b[0m \u001b[1m0s\u001b[0m 32ms/step - accuracy: 0.3443 - loss: 2.2990\n",
            "Epoch 46: val_loss improved from 2.23642 to 2.20483, saving model to lstm_v2_hybrid_best.h5\n"
          ]
        },
        {
          "name": "stderr",
          "output_type": "stream",
          "text": [
            "WARNING:absl:You are saving your model as an HDF5 file via `model.save()` or `keras.saving.save_model(model)`. This file format is considered legacy. We recommend using instead the native Keras format, e.g. `model.save('my_model.keras')` or `keras.saving.save_model(model, 'my_model.keras')`. \n"
          ]
        },
        {
          "name": "stdout",
          "output_type": "stream",
          "text": [
            "\u001b[1m335/335\u001b[0m \u001b[32m━━━━━━━━━━━━━━━━━━━━\u001b[0m\u001b[37m\u001b[0m \u001b[1m12s\u001b[0m 35ms/step - accuracy: 0.3443 - loss: 2.2991 - val_accuracy: 0.3610 - val_loss: 2.2048 - learning_rate: 0.0070\n",
            "Epoch 47/50\n",
            "\u001b[1m335/335\u001b[0m \u001b[32m━━━━━━━━━━━━━━━━━━━━\u001b[0m\u001b[37m\u001b[0m \u001b[1m0s\u001b[0m 32ms/step - accuracy: 0.3571 - loss: 2.2828\n",
            "Epoch 47: val_loss did not improve from 2.20483\n",
            "\u001b[1m335/335\u001b[0m \u001b[32m━━━━━━━━━━━━━━━━━━━━\u001b[0m\u001b[37m\u001b[0m \u001b[1m12s\u001b[0m 35ms/step - accuracy: 0.3570 - loss: 2.2829 - val_accuracy: 0.3359 - val_loss: 2.2783 - learning_rate: 0.0070\n",
            "Epoch 48/50\n",
            "\u001b[1m334/335\u001b[0m \u001b[32m━━━━━━━━━━━━━━━━━━━\u001b[0m\u001b[37m━\u001b[0m \u001b[1m0s\u001b[0m 31ms/step - accuracy: 0.3508 - loss: 2.3116\n",
            "Epoch 48: val_loss did not improve from 2.20483\n",
            "\u001b[1m335/335\u001b[0m \u001b[32m━━━━━━━━━━━━━━━━━━━━\u001b[0m\u001b[37m\u001b[0m \u001b[1m11s\u001b[0m 34ms/step - accuracy: 0.3508 - loss: 2.3115 - val_accuracy: 0.3692 - val_loss: 2.2231 - learning_rate: 0.0070\n",
            "Epoch 49/50\n",
            "\u001b[1m334/335\u001b[0m \u001b[32m━━━━━━━━━━━━━━━━━━━\u001b[0m\u001b[37m━\u001b[0m \u001b[1m0s\u001b[0m 31ms/step - accuracy: 0.3527 - loss: 2.2855\n",
            "Epoch 49: val_loss improved from 2.20483 to 2.18984, saving model to lstm_v2_hybrid_best.h5\n"
          ]
        },
        {
          "name": "stderr",
          "output_type": "stream",
          "text": [
            "WARNING:absl:You are saving your model as an HDF5 file via `model.save()` or `keras.saving.save_model(model)`. This file format is considered legacy. We recommend using instead the native Keras format, e.g. `model.save('my_model.keras')` or `keras.saving.save_model(model, 'my_model.keras')`. \n"
          ]
        },
        {
          "name": "stdout",
          "output_type": "stream",
          "text": [
            "\u001b[1m335/335\u001b[0m \u001b[32m━━━━━━━━━━━━━━━━━━━━\u001b[0m\u001b[37m\u001b[0m \u001b[1m11s\u001b[0m 34ms/step - accuracy: 0.3527 - loss: 2.2856 - val_accuracy: 0.3751 - val_loss: 2.1898 - learning_rate: 0.0070\n",
            "Epoch 50/50\n",
            "\u001b[1m334/335\u001b[0m \u001b[32m━━━━━━━━━━━━━━━━━━━\u001b[0m\u001b[37m━\u001b[0m \u001b[1m0s\u001b[0m 32ms/step - accuracy: 0.3551 - loss: 2.2594\n",
            "Epoch 50: val_loss did not improve from 2.18984\n",
            "\u001b[1m335/335\u001b[0m \u001b[32m━━━━━━━━━━━━━━━━━━━━\u001b[0m\u001b[37m\u001b[0m \u001b[1m12s\u001b[0m 35ms/step - accuracy: 0.3551 - loss: 2.2596 - val_accuracy: 0.3658 - val_loss: 2.2378 - learning_rate: 0.0070\n",
            "Restoring model weights from the end of the best epoch: 49.\n",
            "学習完了！学習時間: 577.16秒\n",
            "最良検証Loss: 2.1898\n",
            "最良検証Accuracy: 0.3751\n",
            "ハイブリッドモデル評価中...\n",
            "テストLoss: 2.1898\n",
            "テストAccuracy: 0.3751\n",
            "F1-Score (macro): 0.2587\n",
            "F1-Score (weighted): 0.3111\n",
            "Trial 3 failed: 'accuracy'\n",
            "[I 2025-07-07 12:17:51,944] Trial 3 finished with value: 0.0 and parameters: {'lstm_units_1': 80, 'lstm_units_2': 24, 'dense_units': 64, 'demographics_dense_units': 28, 'fusion_dense_units': 48, 'dropout_rate': 0.5, 'dense_dropout_rate': 0.30000000000000004, 'learning_rate': 0.0069782812651260325, 'batch_size': 32, 'fusion_type': 'attention', 'patience': 19, 'reduce_lr_patience': 7}. Best is trial 0 with value: 0.0.\n",
            "Mixed precision enabled for better GPU performance\n",
            "GPU利用可能: 1台\n",
            "使用GPU: PhysicalDevice(name='/physical_device:GPU:0', device_type='GPU')\n",
            "LSTM v2ハイブリッドモデル初期化完了\n",
            "センサー入力形状: (64, 332)\n",
            "Demographics入力形状: (20,)\n",
            "クラス数: 18\n",
            "融合方式: attention\n",
            "GPU利用可能: True\n",
            "LSTM v2ハイブリッドモデルを構築中...\n",
            "モデル構築完了\n",
            "総パラメータ数: 91,306\n",
            "ハイブリッドモデル学習開始...\n",
            "センサー訓練データ形状: (10714, 64, 332)\n",
            "Demographics訓練データ形状: (10714, 20)\n",
            "センサー検証データ形状: (2679, 64, 332)\n",
            "Demographics検証データ形状: (2679, 20)\n",
            "訓練ラベル形状: (10714,)\n",
            "検証ラベル形状: (2679,)\n",
            "Epoch 1/50\n",
            "\u001b[1m335/335\u001b[0m \u001b[32m━━━━━━━━━━━━━━━━━━━━\u001b[0m\u001b[37m\u001b[0m \u001b[1m0s\u001b[0m 38ms/step - accuracy: 0.0618 - loss: 3.0064\n",
            "Epoch 1: val_loss improved from inf to 2.88555, saving model to lstm_v2_hybrid_best.h5\n"
          ]
        },
        {
          "name": "stderr",
          "output_type": "stream",
          "text": [
            "WARNING:absl:You are saving your model as an HDF5 file via `model.save()` or `keras.saving.save_model(model)`. This file format is considered legacy. We recommend using instead the native Keras format, e.g. `model.save('my_model.keras')` or `keras.saving.save_model(model, 'my_model.keras')`. \n"
          ]
        },
        {
          "name": "stdout",
          "output_type": "stream",
          "text": [
            "\u001b[1m335/335\u001b[0m \u001b[32m━━━━━━━━━━━━━━━━━━━━\u001b[0m\u001b[37m\u001b[0m \u001b[1m18s\u001b[0m 46ms/step - accuracy: 0.0619 - loss: 3.0062 - val_accuracy: 0.1075 - val_loss: 2.8855 - learning_rate: 2.4971e-04\n",
            "Epoch 2/50\n",
            "\u001b[1m334/335\u001b[0m \u001b[32m━━━━━━━━━━━━━━━━━━━\u001b[0m\u001b[37m━\u001b[0m \u001b[1m0s\u001b[0m 38ms/step - accuracy: 0.0935 - loss: 2.8920\n",
            "Epoch 2: val_loss improved from 2.88555 to 2.83380, saving model to lstm_v2_hybrid_best.h5\n"
          ]
        },
        {
          "name": "stderr",
          "output_type": "stream",
          "text": [
            "WARNING:absl:You are saving your model as an HDF5 file via `model.save()` or `keras.saving.save_model(model)`. This file format is considered legacy. We recommend using instead the native Keras format, e.g. `model.save('my_model.keras')` or `keras.saving.save_model(model, 'my_model.keras')`. \n"
          ]
        },
        {
          "name": "stdout",
          "output_type": "stream",
          "text": [
            "\u001b[1m335/335\u001b[0m \u001b[32m━━━━━━━━━━━━━━━━━━━━\u001b[0m\u001b[37m\u001b[0m \u001b[1m14s\u001b[0m 41ms/step - accuracy: 0.0936 - loss: 2.8919 - val_accuracy: 0.1385 - val_loss: 2.8338 - learning_rate: 2.4971e-04\n",
            "Epoch 3/50\n",
            "\u001b[1m335/335\u001b[0m \u001b[32m━━━━━━━━━━━━━━━━━━━━\u001b[0m\u001b[37m\u001b[0m \u001b[1m0s\u001b[0m 38ms/step - accuracy: 0.1228 - loss: 2.8346\n",
            "Epoch 3: val_loss improved from 2.83380 to 2.77936, saving model to lstm_v2_hybrid_best.h5\n"
          ]
        },
        {
          "name": "stderr",
          "output_type": "stream",
          "text": [
            "WARNING:absl:You are saving your model as an HDF5 file via `model.save()` or `keras.saving.save_model(model)`. This file format is considered legacy. We recommend using instead the native Keras format, e.g. `model.save('my_model.keras')` or `keras.saving.save_model(model, 'my_model.keras')`. \n"
          ]
        },
        {
          "name": "stdout",
          "output_type": "stream",
          "text": [
            "\u001b[1m335/335\u001b[0m \u001b[32m━━━━━━━━━━━━━━━━━━━━\u001b[0m\u001b[37m\u001b[0m \u001b[1m14s\u001b[0m 41ms/step - accuracy: 0.1228 - loss: 2.8345 - val_accuracy: 0.1527 - val_loss: 2.7794 - learning_rate: 2.4971e-04\n",
            "Epoch 4/50\n",
            "\u001b[1m335/335\u001b[0m \u001b[32m━━━━━━━━━━━━━━━━━━━━\u001b[0m\u001b[37m\u001b[0m \u001b[1m0s\u001b[0m 38ms/step - accuracy: 0.1268 - loss: 2.8059\n",
            "Epoch 4: val_loss improved from 2.77936 to 2.72681, saving model to lstm_v2_hybrid_best.h5\n"
          ]
        },
        {
          "name": "stderr",
          "output_type": "stream",
          "text": [
            "WARNING:absl:You are saving your model as an HDF5 file via `model.save()` or `keras.saving.save_model(model)`. This file format is considered legacy. We recommend using instead the native Keras format, e.g. `model.save('my_model.keras')` or `keras.saving.save_model(model, 'my_model.keras')`. \n"
          ]
        },
        {
          "name": "stdout",
          "output_type": "stream",
          "text": [
            "\u001b[1m335/335\u001b[0m \u001b[32m━━━━━━━━━━━━━━━━━━━━\u001b[0m\u001b[37m\u001b[0m \u001b[1m14s\u001b[0m 41ms/step - accuracy: 0.1268 - loss: 2.8058 - val_accuracy: 0.1803 - val_loss: 2.7268 - learning_rate: 2.4971e-04\n",
            "Epoch 5/50\n",
            "\u001b[1m335/335\u001b[0m \u001b[32m━━━━━━━━━━━━━━━━━━━━\u001b[0m\u001b[37m\u001b[0m \u001b[1m0s\u001b[0m 39ms/step - accuracy: 0.1492 - loss: 2.7499\n",
            "Epoch 5: val_loss improved from 2.72681 to 2.64171, saving model to lstm_v2_hybrid_best.h5\n"
          ]
        },
        {
          "name": "stderr",
          "output_type": "stream",
          "text": [
            "WARNING:absl:You are saving your model as an HDF5 file via `model.save()` or `keras.saving.save_model(model)`. This file format is considered legacy. We recommend using instead the native Keras format, e.g. `model.save('my_model.keras')` or `keras.saving.save_model(model, 'my_model.keras')`. \n"
          ]
        },
        {
          "name": "stdout",
          "output_type": "stream",
          "text": [
            "\u001b[1m335/335\u001b[0m \u001b[32m━━━━━━━━━━━━━━━━━━━━\u001b[0m\u001b[37m\u001b[0m \u001b[1m14s\u001b[0m 43ms/step - accuracy: 0.1493 - loss: 2.7499 - val_accuracy: 0.1837 - val_loss: 2.6417 - learning_rate: 2.4971e-04\n",
            "Epoch 6/50\n",
            "\u001b[1m335/335\u001b[0m \u001b[32m━━━━━━━━━━━━━━━━━━━━\u001b[0m\u001b[37m\u001b[0m \u001b[1m0s\u001b[0m 39ms/step - accuracy: 0.1640 - loss: 2.6873\n",
            "Epoch 6: val_loss improved from 2.64171 to 2.57303, saving model to lstm_v2_hybrid_best.h5\n"
          ]
        },
        {
          "name": "stderr",
          "output_type": "stream",
          "text": [
            "WARNING:absl:You are saving your model as an HDF5 file via `model.save()` or `keras.saving.save_model(model)`. This file format is considered legacy. We recommend using instead the native Keras format, e.g. `model.save('my_model.keras')` or `keras.saving.save_model(model, 'my_model.keras')`. \n"
          ]
        },
        {
          "name": "stdout",
          "output_type": "stream",
          "text": [
            "\u001b[1m335/335\u001b[0m \u001b[32m━━━━━━━━━━━━━━━━━━━━\u001b[0m\u001b[37m\u001b[0m \u001b[1m14s\u001b[0m 43ms/step - accuracy: 0.1640 - loss: 2.6873 - val_accuracy: 0.1990 - val_loss: 2.5730 - learning_rate: 2.4971e-04\n",
            "Epoch 7/50\n",
            "\u001b[1m334/335\u001b[0m \u001b[32m━━━━━━━━━━━━━━━━━━━\u001b[0m\u001b[37m━\u001b[0m \u001b[1m0s\u001b[0m 38ms/step - accuracy: 0.1735 - loss: 2.6470\n",
            "Epoch 7: val_loss improved from 2.57303 to 2.49862, saving model to lstm_v2_hybrid_best.h5\n"
          ]
        },
        {
          "name": "stderr",
          "output_type": "stream",
          "text": [
            "WARNING:absl:You are saving your model as an HDF5 file via `model.save()` or `keras.saving.save_model(model)`. This file format is considered legacy. We recommend using instead the native Keras format, e.g. `model.save('my_model.keras')` or `keras.saving.save_model(model, 'my_model.keras')`. \n"
          ]
        },
        {
          "name": "stdout",
          "output_type": "stream",
          "text": [
            "\u001b[1m335/335\u001b[0m \u001b[32m━━━━━━━━━━━━━━━━━━━━\u001b[0m\u001b[37m\u001b[0m \u001b[1m14s\u001b[0m 42ms/step - accuracy: 0.1735 - loss: 2.6469 - val_accuracy: 0.2225 - val_loss: 2.4986 - learning_rate: 2.4971e-04\n",
            "Epoch 8/50\n",
            "\u001b[1m335/335\u001b[0m \u001b[32m━━━━━━━━━━━━━━━━━━━━\u001b[0m\u001b[37m\u001b[0m \u001b[1m0s\u001b[0m 39ms/step - accuracy: 0.1848 - loss: 2.5819\n",
            "Epoch 8: val_loss improved from 2.49862 to 2.42445, saving model to lstm_v2_hybrid_best.h5\n"
          ]
        },
        {
          "name": "stderr",
          "output_type": "stream",
          "text": [
            "WARNING:absl:You are saving your model as an HDF5 file via `model.save()` or `keras.saving.save_model(model)`. This file format is considered legacy. We recommend using instead the native Keras format, e.g. `model.save('my_model.keras')` or `keras.saving.save_model(model, 'my_model.keras')`. \n"
          ]
        },
        {
          "name": "stdout",
          "output_type": "stream",
          "text": [
            "\u001b[1m335/335\u001b[0m \u001b[32m━━━━━━━━━━━━━━━━━━━━\u001b[0m\u001b[37m\u001b[0m \u001b[1m14s\u001b[0m 42ms/step - accuracy: 0.1848 - loss: 2.5819 - val_accuracy: 0.2255 - val_loss: 2.4244 - learning_rate: 2.4971e-04\n",
            "Epoch 9/50\n",
            "\u001b[1m335/335\u001b[0m \u001b[32m━━━━━━━━━━━━━━━━━━━━\u001b[0m\u001b[37m\u001b[0m \u001b[1m0s\u001b[0m 40ms/step - accuracy: 0.1996 - loss: 2.5157\n",
            "Epoch 9: val_loss improved from 2.42445 to 2.35897, saving model to lstm_v2_hybrid_best.h5\n"
          ]
        },
        {
          "name": "stderr",
          "output_type": "stream",
          "text": [
            "WARNING:absl:You are saving your model as an HDF5 file via `model.save()` or `keras.saving.save_model(model)`. This file format is considered legacy. We recommend using instead the native Keras format, e.g. `model.save('my_model.keras')` or `keras.saving.save_model(model, 'my_model.keras')`. \n"
          ]
        },
        {
          "name": "stdout",
          "output_type": "stream",
          "text": [
            "\u001b[1m335/335\u001b[0m \u001b[32m━━━━━━━━━━━━━━━━━━━━\u001b[0m\u001b[37m\u001b[0m \u001b[1m15s\u001b[0m 43ms/step - accuracy: 0.1996 - loss: 2.5156 - val_accuracy: 0.2303 - val_loss: 2.3590 - learning_rate: 2.4971e-04\n",
            "Epoch 10/50\n",
            "\u001b[1m335/335\u001b[0m \u001b[32m━━━━━━━━━━━━━━━━━━━━\u001b[0m\u001b[37m\u001b[0m \u001b[1m0s\u001b[0m 39ms/step - accuracy: 0.2146 - loss: 2.4735\n",
            "Epoch 10: val_loss improved from 2.35897 to 2.30364, saving model to lstm_v2_hybrid_best.h5\n"
          ]
        },
        {
          "name": "stderr",
          "output_type": "stream",
          "text": [
            "WARNING:absl:You are saving your model as an HDF5 file via `model.save()` or `keras.saving.save_model(model)`. This file format is considered legacy. We recommend using instead the native Keras format, e.g. `model.save('my_model.keras')` or `keras.saving.save_model(model, 'my_model.keras')`. \n"
          ]
        },
        {
          "name": "stdout",
          "output_type": "stream",
          "text": [
            "\u001b[1m335/335\u001b[0m \u001b[32m━━━━━━━━━━━━━━━━━━━━\u001b[0m\u001b[37m\u001b[0m \u001b[1m14s\u001b[0m 43ms/step - accuracy: 0.2145 - loss: 2.4735 - val_accuracy: 0.2311 - val_loss: 2.3036 - learning_rate: 2.4971e-04\n",
            "Epoch 11/50\n",
            "\u001b[1m335/335\u001b[0m \u001b[32m━━━━━━━━━━━━━━━━━━━━\u001b[0m\u001b[37m\u001b[0m \u001b[1m0s\u001b[0m 39ms/step - accuracy: 0.2070 - loss: 2.4365\n",
            "Epoch 11: val_loss improved from 2.30364 to 2.26557, saving model to lstm_v2_hybrid_best.h5\n"
          ]
        },
        {
          "name": "stderr",
          "output_type": "stream",
          "text": [
            "WARNING:absl:You are saving your model as an HDF5 file via `model.save()` or `keras.saving.save_model(model)`. This file format is considered legacy. We recommend using instead the native Keras format, e.g. `model.save('my_model.keras')` or `keras.saving.save_model(model, 'my_model.keras')`. \n"
          ]
        },
        {
          "name": "stdout",
          "output_type": "stream",
          "text": [
            "\u001b[1m335/335\u001b[0m \u001b[32m━━━━━━━━━━━━━━━━━━━━\u001b[0m\u001b[37m\u001b[0m \u001b[1m14s\u001b[0m 42ms/step - accuracy: 0.2070 - loss: 2.4364 - val_accuracy: 0.2340 - val_loss: 2.2656 - learning_rate: 2.4971e-04\n",
            "Epoch 12/50\n",
            "\u001b[1m334/335\u001b[0m \u001b[32m━━━━━━━━━━━━━━━━━━━\u001b[0m\u001b[37m━\u001b[0m \u001b[1m0s\u001b[0m 39ms/step - accuracy: 0.2203 - loss: 2.3789\n",
            "Epoch 12: val_loss improved from 2.26557 to 2.23690, saving model to lstm_v2_hybrid_best.h5\n"
          ]
        },
        {
          "name": "stderr",
          "output_type": "stream",
          "text": [
            "WARNING:absl:You are saving your model as an HDF5 file via `model.save()` or `keras.saving.save_model(model)`. This file format is considered legacy. We recommend using instead the native Keras format, e.g. `model.save('my_model.keras')` or `keras.saving.save_model(model, 'my_model.keras')`. \n"
          ]
        },
        {
          "name": "stdout",
          "output_type": "stream",
          "text": [
            "\u001b[1m335/335\u001b[0m \u001b[32m━━━━━━━━━━━━━━━━━━━━\u001b[0m\u001b[37m\u001b[0m \u001b[1m14s\u001b[0m 43ms/step - accuracy: 0.2203 - loss: 2.3789 - val_accuracy: 0.2393 - val_loss: 2.2369 - learning_rate: 2.4971e-04\n",
            "Epoch 13/50\n",
            "\u001b[1m335/335\u001b[0m \u001b[32m━━━━━━━━━━━━━━━━━━━━\u001b[0m\u001b[37m\u001b[0m \u001b[1m0s\u001b[0m 39ms/step - accuracy: 0.2246 - loss: 2.3584\n",
            "Epoch 13: val_loss improved from 2.23690 to 2.21545, saving model to lstm_v2_hybrid_best.h5\n"
          ]
        },
        {
          "name": "stderr",
          "output_type": "stream",
          "text": [
            "WARNING:absl:You are saving your model as an HDF5 file via `model.save()` or `keras.saving.save_model(model)`. This file format is considered legacy. We recommend using instead the native Keras format, e.g. `model.save('my_model.keras')` or `keras.saving.save_model(model, 'my_model.keras')`. \n"
          ]
        },
        {
          "name": "stdout",
          "output_type": "stream",
          "text": [
            "\u001b[1m335/335\u001b[0m \u001b[32m━━━━━━━━━━━━━━━━━━━━\u001b[0m\u001b[37m\u001b[0m \u001b[1m14s\u001b[0m 43ms/step - accuracy: 0.2246 - loss: 2.3584 - val_accuracy: 0.2426 - val_loss: 2.2154 - learning_rate: 2.4971e-04\n",
            "Epoch 14/50\n",
            "\u001b[1m335/335\u001b[0m \u001b[32m━━━━━━━━━━━━━━━━━━━━\u001b[0m\u001b[37m\u001b[0m \u001b[1m0s\u001b[0m 39ms/step - accuracy: 0.2270 - loss: 2.3159\n",
            "Epoch 14: val_loss improved from 2.21545 to 2.19469, saving model to lstm_v2_hybrid_best.h5\n"
          ]
        },
        {
          "name": "stderr",
          "output_type": "stream",
          "text": [
            "WARNING:absl:You are saving your model as an HDF5 file via `model.save()` or `keras.saving.save_model(model)`. This file format is considered legacy. We recommend using instead the native Keras format, e.g. `model.save('my_model.keras')` or `keras.saving.save_model(model, 'my_model.keras')`. \n"
          ]
        },
        {
          "name": "stdout",
          "output_type": "stream",
          "text": [
            "\u001b[1m335/335\u001b[0m \u001b[32m━━━━━━━━━━━━━━━━━━━━\u001b[0m\u001b[37m\u001b[0m \u001b[1m14s\u001b[0m 43ms/step - accuracy: 0.2270 - loss: 2.3159 - val_accuracy: 0.2445 - val_loss: 2.1947 - learning_rate: 2.4971e-04\n",
            "Epoch 15/50\n",
            "\u001b[1m334/335\u001b[0m \u001b[32m━━━━━━━━━━━━━━━━━━━\u001b[0m\u001b[37m━\u001b[0m \u001b[1m0s\u001b[0m 39ms/step - accuracy: 0.2324 - loss: 2.2912\n",
            "Epoch 15: val_loss improved from 2.19469 to 2.17561, saving model to lstm_v2_hybrid_best.h5\n"
          ]
        },
        {
          "name": "stderr",
          "output_type": "stream",
          "text": [
            "WARNING:absl:You are saving your model as an HDF5 file via `model.save()` or `keras.saving.save_model(model)`. This file format is considered legacy. We recommend using instead the native Keras format, e.g. `model.save('my_model.keras')` or `keras.saving.save_model(model, 'my_model.keras')`. \n"
          ]
        },
        {
          "name": "stdout",
          "output_type": "stream",
          "text": [
            "\u001b[1m335/335\u001b[0m \u001b[32m━━━━━━━━━━━━━━━━━━━━\u001b[0m\u001b[37m\u001b[0m \u001b[1m14s\u001b[0m 43ms/step - accuracy: 0.2324 - loss: 2.2912 - val_accuracy: 0.2516 - val_loss: 2.1756 - learning_rate: 2.4971e-04\n",
            "Epoch 16/50\n",
            "\u001b[1m335/335\u001b[0m \u001b[32m━━━━━━━━━━━━━━━━━━━━\u001b[0m\u001b[37m\u001b[0m \u001b[1m0s\u001b[0m 39ms/step - accuracy: 0.2446 - loss: 2.2949\n",
            "Epoch 16: val_loss improved from 2.17561 to 2.15870, saving model to lstm_v2_hybrid_best.h5\n"
          ]
        },
        {
          "name": "stderr",
          "output_type": "stream",
          "text": [
            "WARNING:absl:You are saving your model as an HDF5 file via `model.save()` or `keras.saving.save_model(model)`. This file format is considered legacy. We recommend using instead the native Keras format, e.g. `model.save('my_model.keras')` or `keras.saving.save_model(model, 'my_model.keras')`. \n"
          ]
        },
        {
          "name": "stdout",
          "output_type": "stream",
          "text": [
            "\u001b[1m335/335\u001b[0m \u001b[32m━━━━━━━━━━━━━━━━━━━━\u001b[0m\u001b[37m\u001b[0m \u001b[1m14s\u001b[0m 42ms/step - accuracy: 0.2446 - loss: 2.2948 - val_accuracy: 0.2542 - val_loss: 2.1587 - learning_rate: 2.4971e-04\n",
            "Epoch 17/50\n",
            "\u001b[1m335/335\u001b[0m \u001b[32m━━━━━━━━━━━━━━━━━━━━\u001b[0m\u001b[37m\u001b[0m \u001b[1m0s\u001b[0m 40ms/step - accuracy: 0.2466 - loss: 2.2437\n",
            "Epoch 17: val_loss improved from 2.15870 to 2.14766, saving model to lstm_v2_hybrid_best.h5\n"
          ]
        },
        {
          "name": "stderr",
          "output_type": "stream",
          "text": [
            "WARNING:absl:You are saving your model as an HDF5 file via `model.save()` or `keras.saving.save_model(model)`. This file format is considered legacy. We recommend using instead the native Keras format, e.g. `model.save('my_model.keras')` or `keras.saving.save_model(model, 'my_model.keras')`. \n"
          ]
        },
        {
          "name": "stdout",
          "output_type": "stream",
          "text": [
            "\u001b[1m335/335\u001b[0m \u001b[32m━━━━━━━━━━━━━━━━━━━━\u001b[0m\u001b[37m\u001b[0m \u001b[1m14s\u001b[0m 43ms/step - accuracy: 0.2466 - loss: 2.2437 - val_accuracy: 0.2527 - val_loss: 2.1477 - learning_rate: 2.4971e-04\n",
            "Epoch 18/50\n",
            "\u001b[1m334/335\u001b[0m \u001b[32m━━━━━━━━━━━━━━━━━━━\u001b[0m\u001b[37m━\u001b[0m \u001b[1m0s\u001b[0m 39ms/step - accuracy: 0.2496 - loss: 2.2185\n",
            "Epoch 18: val_loss improved from 2.14766 to 2.11817, saving model to lstm_v2_hybrid_best.h5\n"
          ]
        },
        {
          "name": "stderr",
          "output_type": "stream",
          "text": [
            "WARNING:absl:You are saving your model as an HDF5 file via `model.save()` or `keras.saving.save_model(model)`. This file format is considered legacy. We recommend using instead the native Keras format, e.g. `model.save('my_model.keras')` or `keras.saving.save_model(model, 'my_model.keras')`. \n"
          ]
        },
        {
          "name": "stdout",
          "output_type": "stream",
          "text": [
            "\u001b[1m335/335\u001b[0m \u001b[32m━━━━━━━━━━━━━━━━━━━━\u001b[0m\u001b[37m\u001b[0m \u001b[1m14s\u001b[0m 42ms/step - accuracy: 0.2496 - loss: 2.2185 - val_accuracy: 0.2594 - val_loss: 2.1182 - learning_rate: 2.4971e-04\n",
            "Epoch 19/50\n",
            "\u001b[1m335/335\u001b[0m \u001b[32m━━━━━━━━━━━━━━━━━━━━\u001b[0m\u001b[37m\u001b[0m \u001b[1m0s\u001b[0m 38ms/step - accuracy: 0.2444 - loss: 2.2099\n",
            "Epoch 19: val_loss did not improve from 2.11817\n",
            "\u001b[1m335/335\u001b[0m \u001b[32m━━━━━━━━━━━━━━━━━━━━\u001b[0m\u001b[37m\u001b[0m \u001b[1m14s\u001b[0m 41ms/step - accuracy: 0.2444 - loss: 2.2098 - val_accuracy: 0.2594 - val_loss: 2.1318 - learning_rate: 2.4971e-04\n",
            "Epoch 20/50\n",
            "\u001b[1m334/335\u001b[0m \u001b[32m━━━━━━━━━━━━━━━━━━━\u001b[0m\u001b[37m━\u001b[0m \u001b[1m0s\u001b[0m 38ms/step - accuracy: 0.2494 - loss: 2.1720\n",
            "Epoch 20: val_loss improved from 2.11817 to 2.10334, saving model to lstm_v2_hybrid_best.h5\n"
          ]
        },
        {
          "name": "stderr",
          "output_type": "stream",
          "text": [
            "WARNING:absl:You are saving your model as an HDF5 file via `model.save()` or `keras.saving.save_model(model)`. This file format is considered legacy. We recommend using instead the native Keras format, e.g. `model.save('my_model.keras')` or `keras.saving.save_model(model, 'my_model.keras')`. \n"
          ]
        },
        {
          "name": "stdout",
          "output_type": "stream",
          "text": [
            "\u001b[1m335/335\u001b[0m \u001b[32m━━━━━━━━━━━━━━━━━━━━\u001b[0m\u001b[37m\u001b[0m \u001b[1m14s\u001b[0m 41ms/step - accuracy: 0.2494 - loss: 2.1721 - val_accuracy: 0.2632 - val_loss: 2.1033 - learning_rate: 2.4971e-04\n",
            "Epoch 21/50\n",
            "\u001b[1m335/335\u001b[0m \u001b[32m━━━━━━━━━━━━━━━━━━━━\u001b[0m\u001b[37m\u001b[0m \u001b[1m0s\u001b[0m 38ms/step - accuracy: 0.2647 - loss: 2.1602\n",
            "Epoch 21: val_loss improved from 2.10334 to 2.08578, saving model to lstm_v2_hybrid_best.h5\n"
          ]
        },
        {
          "name": "stderr",
          "output_type": "stream",
          "text": [
            "WARNING:absl:You are saving your model as an HDF5 file via `model.save()` or `keras.saving.save_model(model)`. This file format is considered legacy. We recommend using instead the native Keras format, e.g. `model.save('my_model.keras')` or `keras.saving.save_model(model, 'my_model.keras')`. \n"
          ]
        },
        {
          "name": "stdout",
          "output_type": "stream",
          "text": [
            "\u001b[1m335/335\u001b[0m \u001b[32m━━━━━━━━━━━━━━━━━━━━\u001b[0m\u001b[37m\u001b[0m \u001b[1m14s\u001b[0m 42ms/step - accuracy: 0.2647 - loss: 2.1602 - val_accuracy: 0.2650 - val_loss: 2.0858 - learning_rate: 2.4971e-04\n",
            "Epoch 22/50\n",
            "\u001b[1m335/335\u001b[0m \u001b[32m━━━━━━━━━━━━━━━━━━━━\u001b[0m\u001b[37m\u001b[0m \u001b[1m0s\u001b[0m 38ms/step - accuracy: 0.2621 - loss: 2.1353\n",
            "Epoch 22: val_loss improved from 2.08578 to 2.07945, saving model to lstm_v2_hybrid_best.h5\n"
          ]
        },
        {
          "name": "stderr",
          "output_type": "stream",
          "text": [
            "WARNING:absl:You are saving your model as an HDF5 file via `model.save()` or `keras.saving.save_model(model)`. This file format is considered legacy. We recommend using instead the native Keras format, e.g. `model.save('my_model.keras')` or `keras.saving.save_model(model, 'my_model.keras')`. \n"
          ]
        },
        {
          "name": "stdout",
          "output_type": "stream",
          "text": [
            "\u001b[1m335/335\u001b[0m \u001b[32m━━━━━━━━━━━━━━━━━━━━\u001b[0m\u001b[37m\u001b[0m \u001b[1m14s\u001b[0m 41ms/step - accuracy: 0.2621 - loss: 2.1353 - val_accuracy: 0.2624 - val_loss: 2.0794 - learning_rate: 2.4971e-04\n",
            "Epoch 23/50\n",
            "\u001b[1m335/335\u001b[0m \u001b[32m━━━━━━━━━━━━━━━━━━━━\u001b[0m\u001b[37m\u001b[0m \u001b[1m0s\u001b[0m 39ms/step - accuracy: 0.2625 - loss: 2.1147\n",
            "Epoch 23: val_loss did not improve from 2.07945\n",
            "\u001b[1m335/335\u001b[0m \u001b[32m━━━━━━━━━━━━━━━━━━━━\u001b[0m\u001b[37m\u001b[0m \u001b[1m14s\u001b[0m 42ms/step - accuracy: 0.2625 - loss: 2.1147 - val_accuracy: 0.2624 - val_loss: 2.0977 - learning_rate: 2.4971e-04\n",
            "Epoch 24/50\n",
            "\u001b[1m334/335\u001b[0m \u001b[32m━━━━━━━━━━━━━━━━━━━\u001b[0m\u001b[37m━\u001b[0m \u001b[1m0s\u001b[0m 38ms/step - accuracy: 0.2569 - loss: 2.1313\n",
            "Epoch 24: val_loss improved from 2.07945 to 2.05971, saving model to lstm_v2_hybrid_best.h5\n"
          ]
        },
        {
          "name": "stderr",
          "output_type": "stream",
          "text": [
            "WARNING:absl:You are saving your model as an HDF5 file via `model.save()` or `keras.saving.save_model(model)`. This file format is considered legacy. We recommend using instead the native Keras format, e.g. `model.save('my_model.keras')` or `keras.saving.save_model(model, 'my_model.keras')`. \n"
          ]
        },
        {
          "name": "stdout",
          "output_type": "stream",
          "text": [
            "\u001b[1m335/335\u001b[0m \u001b[32m━━━━━━━━━━━━━━━━━━━━\u001b[0m\u001b[37m\u001b[0m \u001b[1m14s\u001b[0m 41ms/step - accuracy: 0.2570 - loss: 2.1312 - val_accuracy: 0.2721 - val_loss: 2.0597 - learning_rate: 2.4971e-04\n",
            "Epoch 25/50\n",
            "\u001b[1m335/335\u001b[0m \u001b[32m━━━━━━━━━━━━━━━━━━━━\u001b[0m\u001b[37m\u001b[0m \u001b[1m0s\u001b[0m 39ms/step - accuracy: 0.2756 - loss: 2.0783\n",
            "Epoch 25: val_loss improved from 2.05971 to 2.05509, saving model to lstm_v2_hybrid_best.h5\n"
          ]
        },
        {
          "name": "stderr",
          "output_type": "stream",
          "text": [
            "WARNING:absl:You are saving your model as an HDF5 file via `model.save()` or `keras.saving.save_model(model)`. This file format is considered legacy. We recommend using instead the native Keras format, e.g. `model.save('my_model.keras')` or `keras.saving.save_model(model, 'my_model.keras')`. \n"
          ]
        },
        {
          "name": "stdout",
          "output_type": "stream",
          "text": [
            "\u001b[1m335/335\u001b[0m \u001b[32m━━━━━━━━━━━━━━━━━━━━\u001b[0m\u001b[37m\u001b[0m \u001b[1m14s\u001b[0m 42ms/step - accuracy: 0.2756 - loss: 2.0783 - val_accuracy: 0.2751 - val_loss: 2.0551 - learning_rate: 2.4971e-04\n",
            "Epoch 26/50\n",
            "\u001b[1m335/335\u001b[0m \u001b[32m━━━━━━━━━━━━━━━━━━━━\u001b[0m\u001b[37m\u001b[0m \u001b[1m0s\u001b[0m 38ms/step - accuracy: 0.2641 - loss: 2.0871\n",
            "Epoch 26: val_loss did not improve from 2.05509\n",
            "\u001b[1m335/335\u001b[0m \u001b[32m━━━━━━━━━━━━━━━━━━━━\u001b[0m\u001b[37m\u001b[0m \u001b[1m14s\u001b[0m 41ms/step - accuracy: 0.2641 - loss: 2.0870 - val_accuracy: 0.2699 - val_loss: 2.0608 - learning_rate: 2.4971e-04\n",
            "Epoch 27/50\n",
            "\u001b[1m335/335\u001b[0m \u001b[32m━━━━━━━━━━━━━━━━━━━━\u001b[0m\u001b[37m\u001b[0m \u001b[1m0s\u001b[0m 38ms/step - accuracy: 0.2793 - loss: 2.0547\n",
            "Epoch 27: val_loss did not improve from 2.05509\n",
            "\u001b[1m335/335\u001b[0m \u001b[32m━━━━━━━━━━━━━━━━━━━━\u001b[0m\u001b[37m\u001b[0m \u001b[1m14s\u001b[0m 41ms/step - accuracy: 0.2793 - loss: 2.0547 - val_accuracy: 0.2725 - val_loss: 2.0632 - learning_rate: 2.4971e-04\n",
            "Epoch 28/50\n",
            "\u001b[1m335/335\u001b[0m \u001b[32m━━━━━━━━━━━━━━━━━━━━\u001b[0m\u001b[37m\u001b[0m \u001b[1m0s\u001b[0m 39ms/step - accuracy: 0.2775 - loss: 2.0402\n",
            "Epoch 28: val_loss improved from 2.05509 to 2.03053, saving model to lstm_v2_hybrid_best.h5\n"
          ]
        },
        {
          "name": "stderr",
          "output_type": "stream",
          "text": [
            "WARNING:absl:You are saving your model as an HDF5 file via `model.save()` or `keras.saving.save_model(model)`. This file format is considered legacy. We recommend using instead the native Keras format, e.g. `model.save('my_model.keras')` or `keras.saving.save_model(model, 'my_model.keras')`. \n"
          ]
        },
        {
          "name": "stdout",
          "output_type": "stream",
          "text": [
            "\u001b[1m335/335\u001b[0m \u001b[32m━━━━━━━━━━━━━━━━━━━━\u001b[0m\u001b[37m\u001b[0m \u001b[1m14s\u001b[0m 42ms/step - accuracy: 0.2775 - loss: 2.0402 - val_accuracy: 0.2714 - val_loss: 2.0305 - learning_rate: 2.4971e-04\n",
            "Epoch 29/50\n",
            "\u001b[1m335/335\u001b[0m \u001b[32m━━━━━━━━━━━━━━━━━━━━\u001b[0m\u001b[37m\u001b[0m \u001b[1m0s\u001b[0m 38ms/step - accuracy: 0.2767 - loss: 2.0399\n",
            "Epoch 29: val_loss did not improve from 2.03053\n",
            "\u001b[1m335/335\u001b[0m \u001b[32m━━━━━━━━━━━━━━━━━━━━\u001b[0m\u001b[37m\u001b[0m \u001b[1m14s\u001b[0m 40ms/step - accuracy: 0.2767 - loss: 2.0399 - val_accuracy: 0.2747 - val_loss: 2.0401 - learning_rate: 2.4971e-04\n",
            "Epoch 30/50\n",
            "\u001b[1m335/335\u001b[0m \u001b[32m━━━━━━━━━━━━━━━━━━━━\u001b[0m\u001b[37m\u001b[0m \u001b[1m0s\u001b[0m 39ms/step - accuracy: 0.2820 - loss: 1.9951\n",
            "Epoch 30: val_loss did not improve from 2.03053\n",
            "\u001b[1m335/335\u001b[0m \u001b[32m━━━━━━━━━━━━━━━━━━━━\u001b[0m\u001b[37m\u001b[0m \u001b[1m14s\u001b[0m 42ms/step - accuracy: 0.2820 - loss: 1.9952 - val_accuracy: 0.2822 - val_loss: 2.0367 - learning_rate: 2.4971e-04\n",
            "Epoch 31/50\n",
            "\u001b[1m334/335\u001b[0m \u001b[32m━━━━━━━━━━━━━━━━━━━\u001b[0m\u001b[37m━\u001b[0m \u001b[1m0s\u001b[0m 40ms/step - accuracy: 0.2827 - loss: 1.9891\n",
            "Epoch 31: val_loss did not improve from 2.03053\n",
            "\u001b[1m335/335\u001b[0m \u001b[32m━━━━━━━━━━━━━━━━━━━━\u001b[0m\u001b[37m\u001b[0m \u001b[1m14s\u001b[0m 43ms/step - accuracy: 0.2827 - loss: 1.9892 - val_accuracy: 0.2811 - val_loss: 2.0392 - learning_rate: 2.4971e-04\n",
            "Epoch 32/50\n",
            "\u001b[1m335/335\u001b[0m \u001b[32m━━━━━━━━━━━━━━━━━━━━\u001b[0m\u001b[37m\u001b[0m \u001b[1m0s\u001b[0m 39ms/step - accuracy: 0.2928 - loss: 1.9833\n",
            "Epoch 32: val_loss improved from 2.03053 to 2.01177, saving model to lstm_v2_hybrid_best.h5\n"
          ]
        },
        {
          "name": "stderr",
          "output_type": "stream",
          "text": [
            "WARNING:absl:You are saving your model as an HDF5 file via `model.save()` or `keras.saving.save_model(model)`. This file format is considered legacy. We recommend using instead the native Keras format, e.g. `model.save('my_model.keras')` or `keras.saving.save_model(model, 'my_model.keras')`. \n"
          ]
        },
        {
          "name": "stdout",
          "output_type": "stream",
          "text": [
            "\u001b[1m335/335\u001b[0m \u001b[32m━━━━━━━━━━━━━━━━━━━━\u001b[0m\u001b[37m\u001b[0m \u001b[1m14s\u001b[0m 42ms/step - accuracy: 0.2928 - loss: 1.9834 - val_accuracy: 0.2859 - val_loss: 2.0118 - learning_rate: 2.4971e-04\n",
            "Epoch 33/50\n",
            "\u001b[1m334/335\u001b[0m \u001b[32m━━━━━━━━━━━━━━━━━━━\u001b[0m\u001b[37m━\u001b[0m \u001b[1m0s\u001b[0m 40ms/step - accuracy: 0.3022 - loss: 1.9495\n",
            "Epoch 33: val_loss improved from 2.01177 to 1.98261, saving model to lstm_v2_hybrid_best.h5\n"
          ]
        },
        {
          "name": "stderr",
          "output_type": "stream",
          "text": [
            "WARNING:absl:You are saving your model as an HDF5 file via `model.save()` or `keras.saving.save_model(model)`. This file format is considered legacy. We recommend using instead the native Keras format, e.g. `model.save('my_model.keras')` or `keras.saving.save_model(model, 'my_model.keras')`. \n"
          ]
        },
        {
          "name": "stdout",
          "output_type": "stream",
          "text": [
            "\u001b[1m335/335\u001b[0m \u001b[32m━━━━━━━━━━━━━━━━━━━━\u001b[0m\u001b[37m\u001b[0m \u001b[1m14s\u001b[0m 43ms/step - accuracy: 0.3021 - loss: 1.9496 - val_accuracy: 0.2870 - val_loss: 1.9826 - learning_rate: 2.4971e-04\n",
            "Epoch 34/50\n",
            "\u001b[1m334/335\u001b[0m \u001b[32m━━━━━━━━━━━━━━━━━━━\u001b[0m\u001b[37m━\u001b[0m \u001b[1m0s\u001b[0m 39ms/step - accuracy: 0.2974 - loss: 1.9590\n",
            "Epoch 34: val_loss improved from 1.98261 to 1.96176, saving model to lstm_v2_hybrid_best.h5\n"
          ]
        },
        {
          "name": "stderr",
          "output_type": "stream",
          "text": [
            "WARNING:absl:You are saving your model as an HDF5 file via `model.save()` or `keras.saving.save_model(model)`. This file format is considered legacy. We recommend using instead the native Keras format, e.g. `model.save('my_model.keras')` or `keras.saving.save_model(model, 'my_model.keras')`. \n"
          ]
        },
        {
          "name": "stdout",
          "output_type": "stream",
          "text": [
            "\u001b[1m335/335\u001b[0m \u001b[32m━━━━━━━━━━━━━━━━━━━━\u001b[0m\u001b[37m\u001b[0m \u001b[1m14s\u001b[0m 43ms/step - accuracy: 0.2974 - loss: 1.9590 - val_accuracy: 0.3016 - val_loss: 1.9618 - learning_rate: 2.4971e-04\n",
            "Epoch 35/50\n",
            "\u001b[1m334/335\u001b[0m \u001b[32m━━━━━━━━━━━━━━━━━━━\u001b[0m\u001b[37m━\u001b[0m \u001b[1m0s\u001b[0m 39ms/step - accuracy: 0.2961 - loss: 1.9538\n",
            "Epoch 35: val_loss did not improve from 1.96176\n",
            "\u001b[1m335/335\u001b[0m \u001b[32m━━━━━━━━━━━━━━━━━━━━\u001b[0m\u001b[37m\u001b[0m \u001b[1m14s\u001b[0m 42ms/step - accuracy: 0.2961 - loss: 1.9538 - val_accuracy: 0.3031 - val_loss: 1.9844 - learning_rate: 2.4971e-04\n",
            "Epoch 36/50\n",
            "\u001b[1m335/335\u001b[0m \u001b[32m━━━━━━━━━━━━━━━━━━━━\u001b[0m\u001b[37m\u001b[0m \u001b[1m0s\u001b[0m 39ms/step - accuracy: 0.3015 - loss: 1.9459\n",
            "Epoch 36: val_loss did not improve from 1.96176\n",
            "\u001b[1m335/335\u001b[0m \u001b[32m━━━━━━━━━━━━━━━━━━━━\u001b[0m\u001b[37m\u001b[0m \u001b[1m14s\u001b[0m 42ms/step - accuracy: 0.3015 - loss: 1.9459 - val_accuracy: 0.3009 - val_loss: 2.0236 - learning_rate: 2.4971e-04\n",
            "Epoch 37/50\n",
            "\u001b[1m334/335\u001b[0m \u001b[32m━━━━━━━━━━━━━━━━━━━\u001b[0m\u001b[37m━\u001b[0m \u001b[1m0s\u001b[0m 39ms/step - accuracy: 0.3054 - loss: 1.9426\n",
            "Epoch 37: val_loss improved from 1.96176 to 1.95038, saving model to lstm_v2_hybrid_best.h5\n"
          ]
        },
        {
          "name": "stderr",
          "output_type": "stream",
          "text": [
            "WARNING:absl:You are saving your model as an HDF5 file via `model.save()` or `keras.saving.save_model(model)`. This file format is considered legacy. We recommend using instead the native Keras format, e.g. `model.save('my_model.keras')` or `keras.saving.save_model(model, 'my_model.keras')`. \n"
          ]
        },
        {
          "name": "stdout",
          "output_type": "stream",
          "text": [
            "\u001b[1m335/335\u001b[0m \u001b[32m━━━━━━━━━━━━━━━━━━━━\u001b[0m\u001b[37m\u001b[0m \u001b[1m14s\u001b[0m 42ms/step - accuracy: 0.3054 - loss: 1.9426 - val_accuracy: 0.3117 - val_loss: 1.9504 - learning_rate: 2.4971e-04\n",
            "Epoch 38/50\n",
            "\u001b[1m334/335\u001b[0m \u001b[32m━━━━━━━━━━━━━━━━━━━\u001b[0m\u001b[37m━\u001b[0m \u001b[1m0s\u001b[0m 39ms/step - accuracy: 0.3133 - loss: 1.9060\n",
            "Epoch 38: val_loss did not improve from 1.95038\n",
            "\u001b[1m335/335\u001b[0m \u001b[32m━━━━━━━━━━━━━━━━━━━━\u001b[0m\u001b[37m\u001b[0m \u001b[1m14s\u001b[0m 42ms/step - accuracy: 0.3133 - loss: 1.9060 - val_accuracy: 0.3031 - val_loss: 2.0115 - learning_rate: 2.4971e-04\n",
            "Epoch 39/50\n",
            "\u001b[1m334/335\u001b[0m \u001b[32m━━━━━━━━━━━━━━━━━━━\u001b[0m\u001b[37m━\u001b[0m \u001b[1m0s\u001b[0m 40ms/step - accuracy: 0.2987 - loss: 1.9268\n",
            "Epoch 39: val_loss improved from 1.95038 to 1.92927, saving model to lstm_v2_hybrid_best.h5\n"
          ]
        },
        {
          "name": "stderr",
          "output_type": "stream",
          "text": [
            "WARNING:absl:You are saving your model as an HDF5 file via `model.save()` or `keras.saving.save_model(model)`. This file format is considered legacy. We recommend using instead the native Keras format, e.g. `model.save('my_model.keras')` or `keras.saving.save_model(model, 'my_model.keras')`. \n"
          ]
        },
        {
          "name": "stdout",
          "output_type": "stream",
          "text": [
            "\u001b[1m335/335\u001b[0m \u001b[32m━━━━━━━━━━━━━━━━━━━━\u001b[0m\u001b[37m\u001b[0m \u001b[1m14s\u001b[0m 43ms/step - accuracy: 0.2987 - loss: 1.9267 - val_accuracy: 0.3154 - val_loss: 1.9293 - learning_rate: 2.4971e-04\n",
            "Epoch 40/50\n",
            "\u001b[1m335/335\u001b[0m \u001b[32m━━━━━━━━━━━━━━━━━━━━\u001b[0m\u001b[37m\u001b[0m \u001b[1m0s\u001b[0m 40ms/step - accuracy: 0.3120 - loss: 1.8722\n",
            "Epoch 40: val_loss did not improve from 1.92927\n",
            "\u001b[1m335/335\u001b[0m \u001b[32m━━━━━━━━━━━━━━━━━━━━\u001b[0m\u001b[37m\u001b[0m \u001b[1m14s\u001b[0m 43ms/step - accuracy: 0.3120 - loss: 1.8722 - val_accuracy: 0.3158 - val_loss: 1.9782 - learning_rate: 2.4971e-04\n",
            "Epoch 41/50\n",
            "\u001b[1m334/335\u001b[0m \u001b[32m━━━━━━━━━━━━━━━━━━━\u001b[0m\u001b[37m━\u001b[0m \u001b[1m0s\u001b[0m 39ms/step - accuracy: 0.3205 - loss: 1.8824\n",
            "Epoch 41: val_loss did not improve from 1.92927\n",
            "\u001b[1m335/335\u001b[0m \u001b[32m━━━━━━━━━━━━━━━━━━━━\u001b[0m\u001b[37m\u001b[0m \u001b[1m14s\u001b[0m 42ms/step - accuracy: 0.3205 - loss: 1.8824 - val_accuracy: 0.3218 - val_loss: 1.9669 - learning_rate: 2.4971e-04\n",
            "Epoch 42/50\n",
            "\u001b[1m334/335\u001b[0m \u001b[32m━━━━━━━━━━━━━━━━━━━\u001b[0m\u001b[37m━\u001b[0m \u001b[1m0s\u001b[0m 38ms/step - accuracy: 0.3234 - loss: 1.8657\n",
            "Epoch 42: val_loss did not improve from 1.92927\n",
            "\u001b[1m335/335\u001b[0m \u001b[32m━━━━━━━━━━━━━━━━━━━━\u001b[0m\u001b[37m\u001b[0m \u001b[1m14s\u001b[0m 41ms/step - accuracy: 0.3234 - loss: 1.8658 - val_accuracy: 0.3221 - val_loss: 1.9347 - learning_rate: 2.4971e-04\n",
            "Epoch 43/50\n",
            "\u001b[1m334/335\u001b[0m \u001b[32m━━━━━━━━━━━━━━━━━━━\u001b[0m\u001b[37m━\u001b[0m \u001b[1m0s\u001b[0m 39ms/step - accuracy: 0.3149 - loss: 1.8757\n",
            "Epoch 43: val_loss did not improve from 1.92927\n",
            "\u001b[1m335/335\u001b[0m \u001b[32m━━━━━━━━━━━━━━━━━━━━\u001b[0m\u001b[37m\u001b[0m \u001b[1m14s\u001b[0m 42ms/step - accuracy: 0.3150 - loss: 1.8758 - val_accuracy: 0.3341 - val_loss: 1.9441 - learning_rate: 2.4971e-04\n",
            "Epoch 44/50\n",
            "\u001b[1m335/335\u001b[0m \u001b[32m━━━━━━━━━━━━━━━━━━━━\u001b[0m\u001b[37m\u001b[0m \u001b[1m0s\u001b[0m 39ms/step - accuracy: 0.3293 - loss: 1.8525\n",
            "Epoch 44: val_loss did not improve from 1.92927\n",
            "\n",
            "Epoch 44: ReduceLROnPlateau reducing learning rate to 0.00012485368642956018.\n",
            "\u001b[1m335/335\u001b[0m \u001b[32m━━━━━━━━━━━━━━━━━━━━\u001b[0m\u001b[37m\u001b[0m \u001b[1m14s\u001b[0m 43ms/step - accuracy: 0.3293 - loss: 1.8525 - val_accuracy: 0.3315 - val_loss: 1.9845 - learning_rate: 2.4971e-04\n",
            "Epoch 45/50\n",
            "\u001b[1m334/335\u001b[0m \u001b[32m━━━━━━━━━━━━━━━━━━━\u001b[0m\u001b[37m━\u001b[0m \u001b[1m0s\u001b[0m 39ms/step - accuracy: 0.3274 - loss: 1.8524\n",
            "Epoch 45: val_loss improved from 1.92927 to 1.89187, saving model to lstm_v2_hybrid_best.h5\n"
          ]
        },
        {
          "name": "stderr",
          "output_type": "stream",
          "text": [
            "WARNING:absl:You are saving your model as an HDF5 file via `model.save()` or `keras.saving.save_model(model)`. This file format is considered legacy. We recommend using instead the native Keras format, e.g. `model.save('my_model.keras')` or `keras.saving.save_model(model, 'my_model.keras')`. \n"
          ]
        },
        {
          "name": "stdout",
          "output_type": "stream",
          "text": [
            "\u001b[1m335/335\u001b[0m \u001b[32m━━━━━━━━━━━━━━━━━━━━\u001b[0m\u001b[37m\u001b[0m \u001b[1m14s\u001b[0m 43ms/step - accuracy: 0.3274 - loss: 1.8523 - val_accuracy: 0.3438 - val_loss: 1.8919 - learning_rate: 1.2485e-04\n",
            "Epoch 46/50\n",
            "\u001b[1m334/335\u001b[0m \u001b[32m━━━━━━━━━━━━━━━━━━━\u001b[0m\u001b[37m━\u001b[0m \u001b[1m0s\u001b[0m 40ms/step - accuracy: 0.3297 - loss: 1.8271\n",
            "Epoch 46: val_loss improved from 1.89187 to 1.87964, saving model to lstm_v2_hybrid_best.h5\n"
          ]
        },
        {
          "name": "stderr",
          "output_type": "stream",
          "text": [
            "WARNING:absl:You are saving your model as an HDF5 file via `model.save()` or `keras.saving.save_model(model)`. This file format is considered legacy. We recommend using instead the native Keras format, e.g. `model.save('my_model.keras')` or `keras.saving.save_model(model, 'my_model.keras')`. \n"
          ]
        },
        {
          "name": "stdout",
          "output_type": "stream",
          "text": [
            "\u001b[1m335/335\u001b[0m \u001b[32m━━━━━━━━━━━━━━━━━━━━\u001b[0m\u001b[37m\u001b[0m \u001b[1m15s\u001b[0m 43ms/step - accuracy: 0.3297 - loss: 1.8271 - val_accuracy: 0.3494 - val_loss: 1.8796 - learning_rate: 1.2485e-04\n",
            "Epoch 47/50\n",
            "\u001b[1m335/335\u001b[0m \u001b[32m━━━━━━━━━━━━━━━━━━━━\u001b[0m\u001b[37m\u001b[0m \u001b[1m0s\u001b[0m 39ms/step - accuracy: 0.3357 - loss: 1.8075\n",
            "Epoch 47: val_loss did not improve from 1.87964\n",
            "\u001b[1m335/335\u001b[0m \u001b[32m━━━━━━━━━━━━━━━━━━━━\u001b[0m\u001b[37m\u001b[0m \u001b[1m14s\u001b[0m 43ms/step - accuracy: 0.3357 - loss: 1.8074 - val_accuracy: 0.3703 - val_loss: 1.9212 - learning_rate: 1.2485e-04\n",
            "Epoch 48/50\n",
            "\u001b[1m334/335\u001b[0m \u001b[32m━━━━━━━━━━━━━━━━━━━\u001b[0m\u001b[37m━\u001b[0m \u001b[1m0s\u001b[0m 39ms/step - accuracy: 0.3314 - loss: 1.8161\n",
            "Epoch 48: val_loss did not improve from 1.87964\n",
            "\u001b[1m335/335\u001b[0m \u001b[32m━━━━━━━━━━━━━━━━━━━━\u001b[0m\u001b[37m\u001b[0m \u001b[1m14s\u001b[0m 42ms/step - accuracy: 0.3315 - loss: 1.8161 - val_accuracy: 0.3744 - val_loss: 1.8805 - learning_rate: 1.2485e-04\n",
            "Epoch 49/50\n",
            "\u001b[1m335/335\u001b[0m \u001b[32m━━━━━━━━━━━━━━━━━━━━\u001b[0m\u001b[37m\u001b[0m \u001b[1m0s\u001b[0m 40ms/step - accuracy: 0.3276 - loss: 1.8343\n",
            "Epoch 49: val_loss did not improve from 1.87964\n",
            "\u001b[1m335/335\u001b[0m \u001b[32m━━━━━━━━━━━━━━━━━━━━\u001b[0m\u001b[37m\u001b[0m \u001b[1m14s\u001b[0m 43ms/step - accuracy: 0.3276 - loss: 1.8342 - val_accuracy: 0.3774 - val_loss: 1.8808 - learning_rate: 1.2485e-04\n",
            "Epoch 50/50\n",
            "\u001b[1m335/335\u001b[0m \u001b[32m━━━━━━━━━━━━━━━━━━━━\u001b[0m\u001b[37m\u001b[0m \u001b[1m0s\u001b[0m 39ms/step - accuracy: 0.3464 - loss: 1.7911\n",
            "Epoch 50: val_loss improved from 1.87964 to 1.87787, saving model to lstm_v2_hybrid_best.h5\n"
          ]
        },
        {
          "name": "stderr",
          "output_type": "stream",
          "text": [
            "WARNING:absl:You are saving your model as an HDF5 file via `model.save()` or `keras.saving.save_model(model)`. This file format is considered legacy. We recommend using instead the native Keras format, e.g. `model.save('my_model.keras')` or `keras.saving.save_model(model, 'my_model.keras')`. \n"
          ]
        },
        {
          "name": "stdout",
          "output_type": "stream",
          "text": [
            "\u001b[1m335/335\u001b[0m \u001b[32m━━━━━━━━━━━━━━━━━━━━\u001b[0m\u001b[37m\u001b[0m \u001b[1m14s\u001b[0m 42ms/step - accuracy: 0.3464 - loss: 1.7911 - val_accuracy: 0.3744 - val_loss: 1.8779 - learning_rate: 1.2485e-04\n",
            "Restoring model weights from the end of the best epoch: 50.\n",
            "学習完了！学習時間: 712.28秒\n",
            "最良検証Loss: 1.8779\n",
            "最良検証Accuracy: 0.3774\n",
            "ハイブリッドモデル評価中...\n",
            "テストLoss: 1.8779\n",
            "テストAccuracy: 0.3744\n",
            "F1-Score (macro): 0.2091\n",
            "F1-Score (weighted): 0.2881\n",
            "Trial 4 failed: 'accuracy'\n",
            "[I 2025-07-07 12:29:47,306] Trial 4 finished with value: 0.0 and parameters: {'lstm_units_1': 48, 'lstm_units_2': 40, 'dense_units': 16, 'demographics_dense_units': 28, 'fusion_dense_units': 16, 'dropout_rate': 0.5, 'dense_dropout_rate': 0.4, 'learning_rate': 0.00024970737145052745, 'batch_size': 32, 'fusion_type': 'attention', 'patience': 13, 'reduce_lr_patience': 5}. Best is trial 0 with value: 0.0.\n",
            "Mixed precision enabled for better GPU performance\n",
            "GPU利用可能: 1台\n",
            "使用GPU: PhysicalDevice(name='/physical_device:GPU:0', device_type='GPU')\n",
            "LSTM v2ハイブリッドモデル初期化完了\n",
            "センサー入力形状: (64, 332)\n",
            "Demographics入力形状: (20,)\n",
            "クラス数: 18\n",
            "融合方式: attention\n",
            "GPU利用可能: True\n",
            "LSTM v2ハイブリッドモデルを構築中...\n",
            "モデル構築完了\n",
            "総パラメータ数: 274,346\n",
            "ハイブリッドモデル学習開始...\n",
            "センサー訓練データ形状: (10714, 64, 332)\n",
            "Demographics訓練データ形状: (10714, 20)\n",
            "センサー検証データ形状: (2679, 64, 332)\n",
            "Demographics検証データ形状: (2679, 20)\n",
            "訓練ラベル形状: (10714,)\n",
            "検証ラベル形状: (2679,)\n",
            "Epoch 1/50\n",
            "\u001b[1m670/670\u001b[0m \u001b[32m━━━━━━━━━━━━━━━━━━━━\u001b[0m\u001b[37m\u001b[0m \u001b[1m0s\u001b[0m 38ms/step - accuracy: 0.1426 - loss: 2.8293\n",
            "Epoch 1: val_loss improved from inf to 2.53141, saving model to lstm_v2_hybrid_best.h5\n"
          ]
        },
        {
          "name": "stderr",
          "output_type": "stream",
          "text": [
            "WARNING:absl:You are saving your model as an HDF5 file via `model.save()` or `keras.saving.save_model(model)`. This file format is considered legacy. We recommend using instead the native Keras format, e.g. `model.save('my_model.keras')` or `keras.saving.save_model(model, 'my_model.keras')`. \n"
          ]
        },
        {
          "name": "stdout",
          "output_type": "stream",
          "text": [
            "\u001b[1m670/670\u001b[0m \u001b[32m━━━━━━━━━━━━━━━━━━━━\u001b[0m\u001b[37m\u001b[0m \u001b[1m31s\u001b[0m 41ms/step - accuracy: 0.1427 - loss: 2.8292 - val_accuracy: 0.2273 - val_loss: 2.5314 - learning_rate: 0.0019\n",
            "Epoch 2/50\n",
            "\u001b[1m669/670\u001b[0m \u001b[32m━━━━━━━━━━━━━━━━━━━\u001b[0m\u001b[37m━\u001b[0m \u001b[1m0s\u001b[0m 37ms/step - accuracy: 0.2455 - loss: 2.4565\n",
            "Epoch 2: val_loss improved from 2.53141 to 2.35210, saving model to lstm_v2_hybrid_best.h5\n"
          ]
        },
        {
          "name": "stderr",
          "output_type": "stream",
          "text": [
            "WARNING:absl:You are saving your model as an HDF5 file via `model.save()` or `keras.saving.save_model(model)`. This file format is considered legacy. We recommend using instead the native Keras format, e.g. `model.save('my_model.keras')` or `keras.saving.save_model(model, 'my_model.keras')`. \n"
          ]
        },
        {
          "name": "stdout",
          "output_type": "stream",
          "text": [
            "\u001b[1m670/670\u001b[0m \u001b[32m━━━━━━━━━━━━━━━━━━━━\u001b[0m\u001b[37m\u001b[0m \u001b[1m27s\u001b[0m 41ms/step - accuracy: 0.2456 - loss: 2.4564 - val_accuracy: 0.2844 - val_loss: 2.3521 - learning_rate: 0.0019\n",
            "Epoch 3/50\n",
            "\u001b[1m669/670\u001b[0m \u001b[32m━━━━━━━━━━━━━━━━━━━\u001b[0m\u001b[37m━\u001b[0m \u001b[1m0s\u001b[0m 37ms/step - accuracy: 0.2833 - loss: 2.3319\n",
            "Epoch 3: val_loss improved from 2.35210 to 2.24742, saving model to lstm_v2_hybrid_best.h5\n"
          ]
        },
        {
          "name": "stderr",
          "output_type": "stream",
          "text": [
            "WARNING:absl:You are saving your model as an HDF5 file via `model.save()` or `keras.saving.save_model(model)`. This file format is considered legacy. We recommend using instead the native Keras format, e.g. `model.save('my_model.keras')` or `keras.saving.save_model(model, 'my_model.keras')`. \n"
          ]
        },
        {
          "name": "stdout",
          "output_type": "stream",
          "text": [
            "\u001b[1m670/670\u001b[0m \u001b[32m━━━━━━━━━━━━━━━━━━━━\u001b[0m\u001b[37m\u001b[0m \u001b[1m27s\u001b[0m 40ms/step - accuracy: 0.2834 - loss: 2.3319 - val_accuracy: 0.3162 - val_loss: 2.2474 - learning_rate: 0.0019\n",
            "Epoch 4/50\n",
            "\u001b[1m670/670\u001b[0m \u001b[32m━━━━━━━━━━━━━━━━━━━━\u001b[0m\u001b[37m\u001b[0m \u001b[1m0s\u001b[0m 37ms/step - accuracy: 0.3065 - loss: 2.3015\n",
            "Epoch 4: val_loss improved from 2.24742 to 2.18775, saving model to lstm_v2_hybrid_best.h5\n"
          ]
        },
        {
          "name": "stderr",
          "output_type": "stream",
          "text": [
            "WARNING:absl:You are saving your model as an HDF5 file via `model.save()` or `keras.saving.save_model(model)`. This file format is considered legacy. We recommend using instead the native Keras format, e.g. `model.save('my_model.keras')` or `keras.saving.save_model(model, 'my_model.keras')`. \n"
          ]
        },
        {
          "name": "stdout",
          "output_type": "stream",
          "text": [
            "\u001b[1m670/670\u001b[0m \u001b[32m━━━━━━━━━━━━━━━━━━━━\u001b[0m\u001b[37m\u001b[0m \u001b[1m27s\u001b[0m 40ms/step - accuracy: 0.3065 - loss: 2.3015 - val_accuracy: 0.3427 - val_loss: 2.1878 - learning_rate: 0.0019\n",
            "Epoch 5/50\n",
            "\u001b[1m669/670\u001b[0m \u001b[32m━━━━━━━━━━━━━━━━━━━\u001b[0m\u001b[37m━\u001b[0m \u001b[1m0s\u001b[0m 38ms/step - accuracy: 0.3151 - loss: 2.2710\n",
            "Epoch 5: val_loss did not improve from 2.18775\n",
            "\u001b[1m670/670\u001b[0m \u001b[32m━━━━━━━━━━━━━━━━━━━━\u001b[0m\u001b[37m\u001b[0m \u001b[1m27s\u001b[0m 40ms/step - accuracy: 0.3151 - loss: 2.2710 - val_accuracy: 0.3285 - val_loss: 2.2124 - learning_rate: 0.0019\n",
            "Epoch 6/50\n",
            "\u001b[1m670/670\u001b[0m \u001b[32m━━━━━━━━━━━━━━━━━━━━\u001b[0m\u001b[37m\u001b[0m \u001b[1m0s\u001b[0m 37ms/step - accuracy: 0.3249 - loss: 2.2687\n",
            "Epoch 6: val_loss improved from 2.18775 to 2.15263, saving model to lstm_v2_hybrid_best.h5\n"
          ]
        },
        {
          "name": "stderr",
          "output_type": "stream",
          "text": [
            "WARNING:absl:You are saving your model as an HDF5 file via `model.save()` or `keras.saving.save_model(model)`. This file format is considered legacy. We recommend using instead the native Keras format, e.g. `model.save('my_model.keras')` or `keras.saving.save_model(model, 'my_model.keras')`. \n"
          ]
        },
        {
          "name": "stdout",
          "output_type": "stream",
          "text": [
            "\u001b[1m670/670\u001b[0m \u001b[32m━━━━━━━━━━━━━━━━━━━━\u001b[0m\u001b[37m\u001b[0m \u001b[1m27s\u001b[0m 41ms/step - accuracy: 0.3249 - loss: 2.2687 - val_accuracy: 0.3602 - val_loss: 2.1526 - learning_rate: 0.0019\n",
            "Epoch 7/50\n",
            "\u001b[1m670/670\u001b[0m \u001b[32m━━━━━━━━━━━━━━━━━━━━\u001b[0m\u001b[37m\u001b[0m \u001b[1m0s\u001b[0m 38ms/step - accuracy: 0.3271 - loss: 2.2370\n",
            "Epoch 7: val_loss did not improve from 2.15263\n",
            "\u001b[1m670/670\u001b[0m \u001b[32m━━━━━━━━━━━━━━━━━━━━\u001b[0m\u001b[37m\u001b[0m \u001b[1m27s\u001b[0m 40ms/step - accuracy: 0.3271 - loss: 2.2370 - val_accuracy: 0.3468 - val_loss: 2.1609 - learning_rate: 0.0019\n",
            "Epoch 8/50\n",
            "\u001b[1m670/670\u001b[0m \u001b[32m━━━━━━━━━━━━━━━━━━━━\u001b[0m\u001b[37m\u001b[0m \u001b[1m0s\u001b[0m 37ms/step - accuracy: 0.3497 - loss: 2.2035\n",
            "Epoch 8: val_loss did not improve from 2.15263\n",
            "\u001b[1m670/670\u001b[0m \u001b[32m━━━━━━━━━━━━━━━━━━━━\u001b[0m\u001b[37m\u001b[0m \u001b[1m27s\u001b[0m 40ms/step - accuracy: 0.3497 - loss: 2.2035 - val_accuracy: 0.3490 - val_loss: 2.1547 - learning_rate: 0.0019\n",
            "Epoch 9/50\n",
            "\u001b[1m669/670\u001b[0m \u001b[32m━━━━━━━━━━━━━━━━━━━\u001b[0m\u001b[37m━\u001b[0m \u001b[1m0s\u001b[0m 37ms/step - accuracy: 0.3517 - loss: 2.1976\n",
            "Epoch 9: val_loss improved from 2.15263 to 2.10775, saving model to lstm_v2_hybrid_best.h5\n"
          ]
        },
        {
          "name": "stderr",
          "output_type": "stream",
          "text": [
            "WARNING:absl:You are saving your model as an HDF5 file via `model.save()` or `keras.saving.save_model(model)`. This file format is considered legacy. We recommend using instead the native Keras format, e.g. `model.save('my_model.keras')` or `keras.saving.save_model(model, 'my_model.keras')`. \n"
          ]
        },
        {
          "name": "stdout",
          "output_type": "stream",
          "text": [
            "\u001b[1m670/670\u001b[0m \u001b[32m━━━━━━━━━━━━━━━━━━━━\u001b[0m\u001b[37m\u001b[0m \u001b[1m27s\u001b[0m 40ms/step - accuracy: 0.3517 - loss: 2.1976 - val_accuracy: 0.3621 - val_loss: 2.1078 - learning_rate: 0.0019\n",
            "Epoch 10/50\n",
            "\u001b[1m670/670\u001b[0m \u001b[32m━━━━━━━━━━━━━━━━━━━━\u001b[0m\u001b[37m\u001b[0m \u001b[1m0s\u001b[0m 36ms/step - accuracy: 0.3617 - loss: 2.1654\n",
            "Epoch 10: val_loss did not improve from 2.10775\n",
            "\u001b[1m670/670\u001b[0m \u001b[32m━━━━━━━━━━━━━━━━━━━━\u001b[0m\u001b[37m\u001b[0m \u001b[1m26s\u001b[0m 39ms/step - accuracy: 0.3617 - loss: 2.1654 - val_accuracy: 0.3610 - val_loss: 2.1305 - learning_rate: 0.0019\n",
            "Epoch 11/50\n",
            "\u001b[1m670/670\u001b[0m \u001b[32m━━━━━━━━━━━━━━━━━━━━\u001b[0m\u001b[37m\u001b[0m \u001b[1m0s\u001b[0m 37ms/step - accuracy: 0.3726 - loss: 2.1762\n",
            "Epoch 11: val_loss improved from 2.10775 to 2.07087, saving model to lstm_v2_hybrid_best.h5\n"
          ]
        },
        {
          "name": "stderr",
          "output_type": "stream",
          "text": [
            "WARNING:absl:You are saving your model as an HDF5 file via `model.save()` or `keras.saving.save_model(model)`. This file format is considered legacy. We recommend using instead the native Keras format, e.g. `model.save('my_model.keras')` or `keras.saving.save_model(model, 'my_model.keras')`. \n"
          ]
        },
        {
          "name": "stdout",
          "output_type": "stream",
          "text": [
            "\u001b[1m670/670\u001b[0m \u001b[32m━━━━━━━━━━━━━━━━━━━━\u001b[0m\u001b[37m\u001b[0m \u001b[1m27s\u001b[0m 40ms/step - accuracy: 0.3725 - loss: 2.1762 - val_accuracy: 0.3875 - val_loss: 2.0709 - learning_rate: 0.0019\n",
            "Epoch 12/50\n",
            "\u001b[1m670/670\u001b[0m \u001b[32m━━━━━━━━━━━━━━━━━━━━\u001b[0m\u001b[37m\u001b[0m \u001b[1m0s\u001b[0m 857ms/step - accuracy: 0.3628 - loss: 2.1498\n",
            "Epoch 12: val_loss did not improve from 2.07087\n",
            "\u001b[1m670/670\u001b[0m \u001b[32m━━━━━━━━━━━━━━━━━━━━\u001b[0m\u001b[37m\u001b[0m \u001b[1m575s\u001b[0m 859ms/step - accuracy: 0.3628 - loss: 2.1498 - val_accuracy: 0.3759 - val_loss: 2.1155 - learning_rate: 0.0019\n",
            "Epoch 13/50\n",
            "\u001b[1m669/670\u001b[0m \u001b[32m━━━━━━━━━━━━━━━━━━━\u001b[0m\u001b[37m━\u001b[0m \u001b[1m0s\u001b[0m 37ms/step - accuracy: 0.3796 - loss: 2.1291\n",
            "Epoch 13: val_loss improved from 2.07087 to 2.06562, saving model to lstm_v2_hybrid_best.h5\n"
          ]
        },
        {
          "name": "stderr",
          "output_type": "stream",
          "text": [
            "WARNING:absl:You are saving your model as an HDF5 file via `model.save()` or `keras.saving.save_model(model)`. This file format is considered legacy. We recommend using instead the native Keras format, e.g. `model.save('my_model.keras')` or `keras.saving.save_model(model, 'my_model.keras')`. \n"
          ]
        },
        {
          "name": "stdout",
          "output_type": "stream",
          "text": [
            "\u001b[1m670/670\u001b[0m \u001b[32m━━━━━━━━━━━━━━━━━━━━\u001b[0m\u001b[37m\u001b[0m \u001b[1m27s\u001b[0m 40ms/step - accuracy: 0.3796 - loss: 2.1291 - val_accuracy: 0.3934 - val_loss: 2.0656 - learning_rate: 0.0019\n",
            "Epoch 14/50\n",
            "\u001b[1m670/670\u001b[0m \u001b[32m━━━━━━━━━━━━━━━━━━━━\u001b[0m\u001b[37m\u001b[0m \u001b[1m0s\u001b[0m 34ms/step - accuracy: 0.3831 - loss: 2.1591\n",
            "Epoch 14: val_loss improved from 2.06562 to 2.04631, saving model to lstm_v2_hybrid_best.h5\n"
          ]
        },
        {
          "name": "stderr",
          "output_type": "stream",
          "text": [
            "WARNING:absl:You are saving your model as an HDF5 file via `model.save()` or `keras.saving.save_model(model)`. This file format is considered legacy. We recommend using instead the native Keras format, e.g. `model.save('my_model.keras')` or `keras.saving.save_model(model, 'my_model.keras')`. \n"
          ]
        },
        {
          "name": "stdout",
          "output_type": "stream",
          "text": [
            "\u001b[1m670/670\u001b[0m \u001b[32m━━━━━━━━━━━━━━━━━━━━\u001b[0m\u001b[37m\u001b[0m \u001b[1m25s\u001b[0m 37ms/step - accuracy: 0.3831 - loss: 2.1591 - val_accuracy: 0.3946 - val_loss: 2.0463 - learning_rate: 0.0019\n",
            "Epoch 15/50\n",
            "\u001b[1m669/670\u001b[0m \u001b[32m━━━━━━━━━━━━━━━━━━━\u001b[0m\u001b[37m━\u001b[0m \u001b[1m0s\u001b[0m 34ms/step - accuracy: 0.3845 - loss: 2.0943\n",
            "Epoch 15: val_loss did not improve from 2.04631\n",
            "\u001b[1m670/670\u001b[0m \u001b[32m━━━━━━━━━━━━━━━━━━━━\u001b[0m\u001b[37m\u001b[0m \u001b[1m24s\u001b[0m 36ms/step - accuracy: 0.3845 - loss: 2.0944 - val_accuracy: 0.3938 - val_loss: 2.0492 - learning_rate: 0.0019\n",
            "Epoch 16/50\n",
            "\u001b[1m670/670\u001b[0m \u001b[32m━━━━━━━━━━━━━━━━━━━━\u001b[0m\u001b[37m\u001b[0m \u001b[1m0s\u001b[0m 35ms/step - accuracy: 0.3940 - loss: 2.0997\n",
            "Epoch 16: val_loss improved from 2.04631 to 2.00569, saving model to lstm_v2_hybrid_best.h5\n"
          ]
        },
        {
          "name": "stderr",
          "output_type": "stream",
          "text": [
            "WARNING:absl:You are saving your model as an HDF5 file via `model.save()` or `keras.saving.save_model(model)`. This file format is considered legacy. We recommend using instead the native Keras format, e.g. `model.save('my_model.keras')` or `keras.saving.save_model(model, 'my_model.keras')`. \n"
          ]
        },
        {
          "name": "stdout",
          "output_type": "stream",
          "text": [
            "\u001b[1m670/670\u001b[0m \u001b[32m━━━━━━━━━━━━━━━━━━━━\u001b[0m\u001b[37m\u001b[0m \u001b[1m25s\u001b[0m 38ms/step - accuracy: 0.3940 - loss: 2.0997 - val_accuracy: 0.4046 - val_loss: 2.0057 - learning_rate: 0.0019\n",
            "Epoch 17/50\n",
            "\u001b[1m670/670\u001b[0m \u001b[32m━━━━━━━━━━━━━━━━━━━━\u001b[0m\u001b[37m\u001b[0m \u001b[1m0s\u001b[0m 36ms/step - accuracy: 0.4102 - loss: 2.0465\n",
            "Epoch 17: val_loss did not improve from 2.00569\n",
            "\u001b[1m670/670\u001b[0m \u001b[32m━━━━━━━━━━━━━━━━━━━━\u001b[0m\u001b[37m\u001b[0m \u001b[1m26s\u001b[0m 39ms/step - accuracy: 0.4102 - loss: 2.0466 - val_accuracy: 0.4095 - val_loss: 2.0231 - learning_rate: 0.0019\n",
            "Epoch 18/50\n",
            "\u001b[1m670/670\u001b[0m \u001b[32m━━━━━━━━━━━━━━━━━━━━\u001b[0m\u001b[37m\u001b[0m \u001b[1m0s\u001b[0m 36ms/step - accuracy: 0.4068 - loss: 2.0848\n",
            "Epoch 18: val_loss did not improve from 2.00569\n",
            "\u001b[1m670/670\u001b[0m \u001b[32m━━━━━━━━━━━━━━━━━━━━\u001b[0m\u001b[37m\u001b[0m \u001b[1m26s\u001b[0m 39ms/step - accuracy: 0.4068 - loss: 2.0848 - val_accuracy: 0.4091 - val_loss: 2.0276 - learning_rate: 0.0019\n",
            "Epoch 19/50\n",
            "\u001b[1m670/670\u001b[0m \u001b[32m━━━━━━━━━━━━━━━━━━━━\u001b[0m\u001b[37m\u001b[0m \u001b[1m0s\u001b[0m 36ms/step - accuracy: 0.4004 - loss: 2.0994\n",
            "Epoch 19: val_loss did not improve from 2.00569\n",
            "\u001b[1m670/670\u001b[0m \u001b[32m━━━━━━━━━━━━━━━━━━━━\u001b[0m\u001b[37m\u001b[0m \u001b[1m26s\u001b[0m 38ms/step - accuracy: 0.4004 - loss: 2.0994 - val_accuracy: 0.3994 - val_loss: 2.0241 - learning_rate: 0.0019\n",
            "Epoch 20/50\n",
            "\u001b[1m670/670\u001b[0m \u001b[32m━━━━━━━━━━━━━━━━━━━━\u001b[0m\u001b[37m\u001b[0m \u001b[1m0s\u001b[0m 36ms/step - accuracy: 0.4182 - loss: 2.0650\n",
            "Epoch 20: val_loss did not improve from 2.00569\n",
            "\u001b[1m670/670\u001b[0m \u001b[32m━━━━━━━━━━━━━━━━━━━━\u001b[0m\u001b[37m\u001b[0m \u001b[1m26s\u001b[0m 39ms/step - accuracy: 0.4181 - loss: 2.0650 - val_accuracy: 0.4162 - val_loss: 2.0185 - learning_rate: 0.0019\n",
            "Epoch 21/50\n",
            "\u001b[1m670/670\u001b[0m \u001b[32m━━━━━━━━━━━━━━━━━━━━\u001b[0m\u001b[37m\u001b[0m \u001b[1m0s\u001b[0m 38ms/step - accuracy: 0.4168 - loss: 2.0429\n",
            "Epoch 21: val_loss did not improve from 2.00569\n",
            "\u001b[1m670/670\u001b[0m \u001b[32m━━━━━━━━━━━━━━━━━━━━\u001b[0m\u001b[37m\u001b[0m \u001b[1m27s\u001b[0m 41ms/step - accuracy: 0.4168 - loss: 2.0429 - val_accuracy: 0.4255 - val_loss: 2.0229 - learning_rate: 0.0019\n",
            "Epoch 22/50\n",
            "\u001b[1m670/670\u001b[0m \u001b[32m━━━━━━━━━━━━━━━━━━━━\u001b[0m\u001b[37m\u001b[0m \u001b[1m0s\u001b[0m 38ms/step - accuracy: 0.4262 - loss: 2.0214\n",
            "Epoch 22: val_loss improved from 2.00569 to 1.98953, saving model to lstm_v2_hybrid_best.h5\n"
          ]
        },
        {
          "name": "stderr",
          "output_type": "stream",
          "text": [
            "WARNING:absl:You are saving your model as an HDF5 file via `model.save()` or `keras.saving.save_model(model)`. This file format is considered legacy. We recommend using instead the native Keras format, e.g. `model.save('my_model.keras')` or `keras.saving.save_model(model, 'my_model.keras')`. \n"
          ]
        },
        {
          "name": "stdout",
          "output_type": "stream",
          "text": [
            "\u001b[1m670/670\u001b[0m \u001b[32m━━━━━━━━━━━━━━━━━━━━\u001b[0m\u001b[37m\u001b[0m \u001b[1m28s\u001b[0m 41ms/step - accuracy: 0.4261 - loss: 2.0214 - val_accuracy: 0.4382 - val_loss: 1.9895 - learning_rate: 0.0019\n",
            "Epoch 23/50\n",
            "\u001b[1m670/670\u001b[0m \u001b[32m━━━━━━━━━━━━━━━━━━━━\u001b[0m\u001b[37m\u001b[0m \u001b[1m0s\u001b[0m 38ms/step - accuracy: 0.4272 - loss: 1.9892\n",
            "Epoch 23: val_loss did not improve from 1.98953\n",
            "\u001b[1m670/670\u001b[0m \u001b[32m━━━━━━━━━━━━━━━━━━━━\u001b[0m\u001b[37m\u001b[0m \u001b[1m41s\u001b[0m 41ms/step - accuracy: 0.4272 - loss: 1.9893 - val_accuracy: 0.4248 - val_loss: 2.0257 - learning_rate: 0.0019\n",
            "Epoch 24/50\n",
            "\u001b[1m670/670\u001b[0m \u001b[32m━━━━━━━━━━━━━━━━━━━━\u001b[0m\u001b[37m\u001b[0m \u001b[1m0s\u001b[0m 38ms/step - accuracy: 0.4323 - loss: 2.0193\n",
            "Epoch 24: val_loss improved from 1.98953 to 1.96401, saving model to lstm_v2_hybrid_best.h5\n"
          ]
        },
        {
          "name": "stderr",
          "output_type": "stream",
          "text": [
            "WARNING:absl:You are saving your model as an HDF5 file via `model.save()` or `keras.saving.save_model(model)`. This file format is considered legacy. We recommend using instead the native Keras format, e.g. `model.save('my_model.keras')` or `keras.saving.save_model(model, 'my_model.keras')`. \n"
          ]
        },
        {
          "name": "stdout",
          "output_type": "stream",
          "text": [
            "\u001b[1m670/670\u001b[0m \u001b[32m━━━━━━━━━━━━━━━━━━━━\u001b[0m\u001b[37m\u001b[0m \u001b[1m28s\u001b[0m 41ms/step - accuracy: 0.4323 - loss: 2.0193 - val_accuracy: 0.4337 - val_loss: 1.9640 - learning_rate: 0.0019\n",
            "Epoch 25/50\n",
            "\u001b[1m670/670\u001b[0m \u001b[32m━━━━━━━━━━━━━━━━━━━━\u001b[0m\u001b[37m\u001b[0m \u001b[1m0s\u001b[0m 37ms/step - accuracy: 0.4349 - loss: 1.9852\n",
            "Epoch 25: val_loss did not improve from 1.96401\n",
            "\u001b[1m670/670\u001b[0m \u001b[32m━━━━━━━━━━━━━━━━━━━━\u001b[0m\u001b[37m\u001b[0m \u001b[1m27s\u001b[0m 40ms/step - accuracy: 0.4349 - loss: 1.9852 - val_accuracy: 0.4248 - val_loss: 2.0149 - learning_rate: 0.0019\n",
            "Epoch 26/50\n",
            "\u001b[1m670/670\u001b[0m \u001b[32m━━━━━━━━━━━━━━━━━━━━\u001b[0m\u001b[37m\u001b[0m \u001b[1m0s\u001b[0m 38ms/step - accuracy: 0.4237 - loss: 2.0213\n",
            "Epoch 26: val_loss did not improve from 1.96401\n",
            "\u001b[1m670/670\u001b[0m \u001b[32m━━━━━━━━━━━━━━━━━━━━\u001b[0m\u001b[37m\u001b[0m \u001b[1m27s\u001b[0m 41ms/step - accuracy: 0.4237 - loss: 2.0213 - val_accuracy: 0.4490 - val_loss: 2.0095 - learning_rate: 0.0019\n",
            "Epoch 27/50\n",
            "\u001b[1m669/670\u001b[0m \u001b[32m━━━━━━━━━━━━━━━━━━━\u001b[0m\u001b[37m━\u001b[0m \u001b[1m0s\u001b[0m 37ms/step - accuracy: 0.4281 - loss: 2.0347\n",
            "Epoch 27: val_loss did not improve from 1.96401\n",
            "\u001b[1m670/670\u001b[0m \u001b[32m━━━━━━━━━━━━━━━━━━━━\u001b[0m\u001b[37m\u001b[0m \u001b[1m26s\u001b[0m 39ms/step - accuracy: 0.4281 - loss: 2.0347 - val_accuracy: 0.4416 - val_loss: 1.9993 - learning_rate: 0.0019\n",
            "Epoch 28/50\n",
            "\u001b[1m670/670\u001b[0m \u001b[32m━━━━━━━━━━━━━━━━━━━━\u001b[0m\u001b[37m\u001b[0m \u001b[1m0s\u001b[0m 36ms/step - accuracy: 0.4377 - loss: 1.9838\n",
            "Epoch 28: val_loss did not improve from 1.96401\n",
            "\u001b[1m670/670\u001b[0m \u001b[32m━━━━━━━━━━━━━━━━━━━━\u001b[0m\u001b[37m\u001b[0m \u001b[1m26s\u001b[0m 38ms/step - accuracy: 0.4377 - loss: 1.9838 - val_accuracy: 0.4479 - val_loss: 1.9744 - learning_rate: 0.0019\n",
            "Epoch 29/50\n",
            "\u001b[1m669/670\u001b[0m \u001b[32m━━━━━━━━━━━━━━━━━━━\u001b[0m\u001b[37m━\u001b[0m \u001b[1m0s\u001b[0m 36ms/step - accuracy: 0.4312 - loss: 2.0077\n",
            "Epoch 29: val_loss did not improve from 1.96401\n",
            "\u001b[1m670/670\u001b[0m \u001b[32m━━━━━━━━━━━━━━━━━━━━\u001b[0m\u001b[37m\u001b[0m \u001b[1m26s\u001b[0m 38ms/step - accuracy: 0.4312 - loss: 2.0078 - val_accuracy: 0.4405 - val_loss: 1.9948 - learning_rate: 0.0019\n",
            "Epoch 30/50\n",
            "\u001b[1m670/670\u001b[0m \u001b[32m━━━━━━━━━━━━━━━━━━━━\u001b[0m\u001b[37m\u001b[0m \u001b[1m0s\u001b[0m 36ms/step - accuracy: 0.4457 - loss: 1.9902\n",
            "Epoch 30: val_loss improved from 1.96401 to 1.95050, saving model to lstm_v2_hybrid_best.h5\n"
          ]
        },
        {
          "name": "stderr",
          "output_type": "stream",
          "text": [
            "WARNING:absl:You are saving your model as an HDF5 file via `model.save()` or `keras.saving.save_model(model)`. This file format is considered legacy. We recommend using instead the native Keras format, e.g. `model.save('my_model.keras')` or `keras.saving.save_model(model, 'my_model.keras')`. \n"
          ]
        },
        {
          "name": "stdout",
          "output_type": "stream",
          "text": [
            "\u001b[1m670/670\u001b[0m \u001b[32m━━━━━━━━━━━━━━━━━━━━\u001b[0m\u001b[37m\u001b[0m \u001b[1m26s\u001b[0m 39ms/step - accuracy: 0.4457 - loss: 1.9903 - val_accuracy: 0.4629 - val_loss: 1.9505 - learning_rate: 0.0019\n",
            "Epoch 31/50\n",
            "\u001b[1m670/670\u001b[0m \u001b[32m━━━━━━━━━━━━━━━━━━━━\u001b[0m\u001b[37m\u001b[0m \u001b[1m0s\u001b[0m 36ms/step - accuracy: 0.4476 - loss: 1.9652\n",
            "Epoch 31: val_loss did not improve from 1.95050\n",
            "\u001b[1m670/670\u001b[0m \u001b[32m━━━━━━━━━━━━━━━━━━━━\u001b[0m\u001b[37m\u001b[0m \u001b[1m26s\u001b[0m 39ms/step - accuracy: 0.4476 - loss: 1.9652 - val_accuracy: 0.4636 - val_loss: 1.9540 - learning_rate: 0.0019\n",
            "Epoch 32/50\n",
            "\u001b[1m669/670\u001b[0m \u001b[32m━━━━━━━━━━━━━━━━━━━\u001b[0m\u001b[37m━\u001b[0m \u001b[1m0s\u001b[0m 36ms/step - accuracy: 0.4543 - loss: 1.9467\n",
            "Epoch 32: val_loss improved from 1.95050 to 1.94475, saving model to lstm_v2_hybrid_best.h5\n"
          ]
        },
        {
          "name": "stderr",
          "output_type": "stream",
          "text": [
            "WARNING:absl:You are saving your model as an HDF5 file via `model.save()` or `keras.saving.save_model(model)`. This file format is considered legacy. We recommend using instead the native Keras format, e.g. `model.save('my_model.keras')` or `keras.saving.save_model(model, 'my_model.keras')`. \n"
          ]
        },
        {
          "name": "stdout",
          "output_type": "stream",
          "text": [
            "\u001b[1m670/670\u001b[0m \u001b[32m━━━━━━━━━━━━━━━━━━━━\u001b[0m\u001b[37m\u001b[0m \u001b[1m26s\u001b[0m 38ms/step - accuracy: 0.4543 - loss: 1.9467 - val_accuracy: 0.4632 - val_loss: 1.9447 - learning_rate: 0.0019\n",
            "Epoch 33/50\n",
            "\u001b[1m669/670\u001b[0m \u001b[32m━━━━━━━━━━━━━━━━━━━\u001b[0m\u001b[37m━\u001b[0m \u001b[1m0s\u001b[0m 35ms/step - accuracy: 0.4569 - loss: 1.9346\n",
            "Epoch 33: val_loss improved from 1.94475 to 1.91472, saving model to lstm_v2_hybrid_best.h5\n"
          ]
        },
        {
          "name": "stderr",
          "output_type": "stream",
          "text": [
            "WARNING:absl:You are saving your model as an HDF5 file via `model.save()` or `keras.saving.save_model(model)`. This file format is considered legacy. We recommend using instead the native Keras format, e.g. `model.save('my_model.keras')` or `keras.saving.save_model(model, 'my_model.keras')`. \n"
          ]
        },
        {
          "name": "stdout",
          "output_type": "stream",
          "text": [
            "\u001b[1m670/670\u001b[0m \u001b[32m━━━━━━━━━━━━━━━━━━━━\u001b[0m\u001b[37m\u001b[0m \u001b[1m26s\u001b[0m 38ms/step - accuracy: 0.4568 - loss: 1.9347 - val_accuracy: 0.4685 - val_loss: 1.9147 - learning_rate: 0.0019\n",
            "Epoch 34/50\n",
            "\u001b[1m670/670\u001b[0m \u001b[32m━━━━━━━━━━━━━━━━━━━━\u001b[0m\u001b[37m\u001b[0m \u001b[1m0s\u001b[0m 36ms/step - accuracy: 0.4613 - loss: 1.8972\n",
            "Epoch 34: val_loss did not improve from 1.91472\n",
            "\u001b[1m670/670\u001b[0m \u001b[32m━━━━━━━━━━━━━━━━━━━━\u001b[0m\u001b[37m\u001b[0m \u001b[1m26s\u001b[0m 39ms/step - accuracy: 0.4613 - loss: 1.8972 - val_accuracy: 0.4453 - val_loss: 1.9557 - learning_rate: 0.0019\n",
            "Epoch 35/50\n",
            "\u001b[1m670/670\u001b[0m \u001b[32m━━━━━━━━━━━━━━━━━━━━\u001b[0m\u001b[37m\u001b[0m \u001b[1m0s\u001b[0m 36ms/step - accuracy: 0.4414 - loss: 1.9598\n",
            "Epoch 35: val_loss did not improve from 1.91472\n",
            "\u001b[1m670/670\u001b[0m \u001b[32m━━━━━━━━━━━━━━━━━━━━\u001b[0m\u001b[37m\u001b[0m \u001b[1m26s\u001b[0m 39ms/step - accuracy: 0.4414 - loss: 1.9598 - val_accuracy: 0.4498 - val_loss: 1.9511 - learning_rate: 0.0019\n",
            "Epoch 36/50\n",
            "\u001b[1m669/670\u001b[0m \u001b[32m━━━━━━━━━━━━━━━━━━━\u001b[0m\u001b[37m━\u001b[0m \u001b[1m0s\u001b[0m 36ms/step - accuracy: 0.4507 - loss: 1.9409\n",
            "Epoch 36: val_loss did not improve from 1.91472\n",
            "\u001b[1m670/670\u001b[0m \u001b[32m━━━━━━━━━━━━━━━━━━━━\u001b[0m\u001b[37m\u001b[0m \u001b[1m26s\u001b[0m 38ms/step - accuracy: 0.4507 - loss: 1.9409 - val_accuracy: 0.4677 - val_loss: 1.9538 - learning_rate: 0.0019\n",
            "Epoch 37/50\n",
            "\u001b[1m670/670\u001b[0m \u001b[32m━━━━━━━━━━━━━━━━━━━━\u001b[0m\u001b[37m\u001b[0m \u001b[1m0s\u001b[0m 36ms/step - accuracy: 0.4594 - loss: 1.9362\n",
            "Epoch 37: val_loss improved from 1.91472 to 1.90441, saving model to lstm_v2_hybrid_best.h5\n"
          ]
        },
        {
          "name": "stderr",
          "output_type": "stream",
          "text": [
            "WARNING:absl:You are saving your model as an HDF5 file via `model.save()` or `keras.saving.save_model(model)`. This file format is considered legacy. We recommend using instead the native Keras format, e.g. `model.save('my_model.keras')` or `keras.saving.save_model(model, 'my_model.keras')`. \n"
          ]
        },
        {
          "name": "stdout",
          "output_type": "stream",
          "text": [
            "\u001b[1m670/670\u001b[0m \u001b[32m━━━━━━━━━━━━━━━━━━━━\u001b[0m\u001b[37m\u001b[0m \u001b[1m26s\u001b[0m 39ms/step - accuracy: 0.4593 - loss: 1.9362 - val_accuracy: 0.4797 - val_loss: 1.9044 - learning_rate: 0.0019\n",
            "Epoch 38/50\n",
            "\u001b[1m670/670\u001b[0m \u001b[32m━━━━━━━━━━━━━━━━━━━━\u001b[0m\u001b[37m\u001b[0m \u001b[1m0s\u001b[0m 36ms/step - accuracy: 0.4557 - loss: 1.9279\n",
            "Epoch 38: val_loss did not improve from 1.90441\n",
            "\u001b[1m670/670\u001b[0m \u001b[32m━━━━━━━━━━━━━━━━━━━━\u001b[0m\u001b[37m\u001b[0m \u001b[1m26s\u001b[0m 39ms/step - accuracy: 0.4557 - loss: 1.9279 - val_accuracy: 0.4737 - val_loss: 1.9141 - learning_rate: 0.0019\n",
            "Epoch 39/50\n",
            "\u001b[1m670/670\u001b[0m \u001b[32m━━━━━━━━━━━━━━━━━━━━\u001b[0m\u001b[37m\u001b[0m \u001b[1m0s\u001b[0m 35ms/step - accuracy: 0.4619 - loss: 1.9484\n",
            "Epoch 39: val_loss did not improve from 1.90441\n",
            "\u001b[1m670/670\u001b[0m \u001b[32m━━━━━━━━━━━━━━━━━━━━\u001b[0m\u001b[37m\u001b[0m \u001b[1m25s\u001b[0m 38ms/step - accuracy: 0.4619 - loss: 1.9484 - val_accuracy: 0.4558 - val_loss: 1.9546 - learning_rate: 0.0019\n",
            "Epoch 40/50\n",
            "\u001b[1m670/670\u001b[0m \u001b[32m━━━━━━━━━━━━━━━━━━━━\u001b[0m\u001b[37m\u001b[0m \u001b[1m0s\u001b[0m 305ms/step - accuracy: 0.4590 - loss: 1.9297\n",
            "Epoch 40: val_loss did not improve from 1.90441\n",
            "\u001b[1m670/670\u001b[0m \u001b[32m━━━━━━━━━━━━━━━━━━━━\u001b[0m\u001b[37m\u001b[0m \u001b[1m206s\u001b[0m 308ms/step - accuracy: 0.4590 - loss: 1.9298 - val_accuracy: 0.4819 - val_loss: 1.9299 - learning_rate: 0.0019\n",
            "Epoch 41/50\n",
            "\u001b[1m669/670\u001b[0m \u001b[32m━━━━━━━━━━━━━━━━━━━\u001b[0m\u001b[37m━\u001b[0m \u001b[1m0s\u001b[0m 35ms/step - accuracy: 0.4751 - loss: 1.9304\n",
            "Epoch 41: val_loss did not improve from 1.90441\n",
            "\u001b[1m670/670\u001b[0m \u001b[32m━━━━━━━━━━━━━━━━━━━━\u001b[0m\u001b[37m\u001b[0m \u001b[1m25s\u001b[0m 38ms/step - accuracy: 0.4751 - loss: 1.9304 - val_accuracy: 0.4815 - val_loss: 1.9054 - learning_rate: 0.0019\n",
            "Epoch 42/50\n",
            "\u001b[1m669/670\u001b[0m \u001b[32m━━━━━━━━━━━━━━━━━━━\u001b[0m\u001b[37m━\u001b[0m \u001b[1m0s\u001b[0m 34ms/step - accuracy: 0.4860 - loss: 1.8722\n",
            "Epoch 42: val_loss improved from 1.90441 to 1.90385, saving model to lstm_v2_hybrid_best.h5\n"
          ]
        },
        {
          "name": "stderr",
          "output_type": "stream",
          "text": [
            "WARNING:absl:You are saving your model as an HDF5 file via `model.save()` or `keras.saving.save_model(model)`. This file format is considered legacy. We recommend using instead the native Keras format, e.g. `model.save('my_model.keras')` or `keras.saving.save_model(model, 'my_model.keras')`. \n"
          ]
        },
        {
          "name": "stdout",
          "output_type": "stream",
          "text": [
            "\u001b[1m670/670\u001b[0m \u001b[32m━━━━━━━━━━━━━━━━━━━━\u001b[0m\u001b[37m\u001b[0m \u001b[1m25s\u001b[0m 37ms/step - accuracy: 0.4860 - loss: 1.8723 - val_accuracy: 0.4759 - val_loss: 1.9038 - learning_rate: 0.0019\n",
            "Epoch 43/50\n",
            "\u001b[1m669/670\u001b[0m \u001b[32m━━━━━━━━━━━━━━━━━━━\u001b[0m\u001b[37m━\u001b[0m \u001b[1m0s\u001b[0m 34ms/step - accuracy: 0.4884 - loss: 1.8761\n",
            "Epoch 43: val_loss improved from 1.90385 to 1.86518, saving model to lstm_v2_hybrid_best.h5\n"
          ]
        },
        {
          "name": "stderr",
          "output_type": "stream",
          "text": [
            "WARNING:absl:You are saving your model as an HDF5 file via `model.save()` or `keras.saving.save_model(model)`. This file format is considered legacy. We recommend using instead the native Keras format, e.g. `model.save('my_model.keras')` or `keras.saving.save_model(model, 'my_model.keras')`. \n"
          ]
        },
        {
          "name": "stdout",
          "output_type": "stream",
          "text": [
            "\u001b[1m670/670\u001b[0m \u001b[32m━━━━━━━━━━━━━━━━━━━━\u001b[0m\u001b[37m\u001b[0m \u001b[1m25s\u001b[0m 37ms/step - accuracy: 0.4883 - loss: 1.8762 - val_accuracy: 0.4867 - val_loss: 1.8652 - learning_rate: 0.0019\n",
            "Epoch 44/50\n",
            "\u001b[1m669/670\u001b[0m \u001b[32m━━━━━━━━━━━━━━━━━━━\u001b[0m\u001b[37m━\u001b[0m \u001b[1m0s\u001b[0m 37ms/step - accuracy: 0.4870 - loss: 1.8774\n",
            "Epoch 44: val_loss did not improve from 1.86518\n",
            "\u001b[1m670/670\u001b[0m \u001b[32m━━━━━━━━━━━━━━━━━━━━\u001b[0m\u001b[37m\u001b[0m \u001b[1m27s\u001b[0m 40ms/step - accuracy: 0.4870 - loss: 1.8775 - val_accuracy: 0.4726 - val_loss: 1.9443 - learning_rate: 0.0019\n",
            "Epoch 45/50\n",
            "\u001b[1m670/670\u001b[0m \u001b[32m━━━━━━━━━━━━━━━━━━━━\u001b[0m\u001b[37m\u001b[0m \u001b[1m0s\u001b[0m 37ms/step - accuracy: 0.4739 - loss: 1.9324\n",
            "Epoch 45: val_loss did not improve from 1.86518\n",
            "\u001b[1m670/670\u001b[0m \u001b[32m━━━━━━━━━━━━━━━━━━━━\u001b[0m\u001b[37m\u001b[0m \u001b[1m27s\u001b[0m 40ms/step - accuracy: 0.4739 - loss: 1.9323 - val_accuracy: 0.4744 - val_loss: 1.9262 - learning_rate: 0.0019\n",
            "Epoch 46/50\n",
            "\u001b[1m670/670\u001b[0m \u001b[32m━━━━━━━━━━━━━━━━━━━━\u001b[0m\u001b[37m\u001b[0m \u001b[1m0s\u001b[0m 38ms/step - accuracy: 0.5014 - loss: 1.8361\n",
            "Epoch 46: val_loss improved from 1.86518 to 1.84781, saving model to lstm_v2_hybrid_best.h5\n"
          ]
        },
        {
          "name": "stderr",
          "output_type": "stream",
          "text": [
            "WARNING:absl:You are saving your model as an HDF5 file via `model.save()` or `keras.saving.save_model(model)`. This file format is considered legacy. We recommend using instead the native Keras format, e.g. `model.save('my_model.keras')` or `keras.saving.save_model(model, 'my_model.keras')`. \n"
          ]
        },
        {
          "name": "stdout",
          "output_type": "stream",
          "text": [
            "\u001b[1m670/670\u001b[0m \u001b[32m━━━━━━━━━━━━━━━━━━━━\u001b[0m\u001b[37m\u001b[0m \u001b[1m28s\u001b[0m 41ms/step - accuracy: 0.5014 - loss: 1.8361 - val_accuracy: 0.4890 - val_loss: 1.8478 - learning_rate: 0.0019\n",
            "Epoch 47/50\n",
            "\u001b[1m669/670\u001b[0m \u001b[32m━━━━━━━━━━━━━━━━━━━\u001b[0m\u001b[37m━\u001b[0m \u001b[1m0s\u001b[0m 38ms/step - accuracy: 0.5047 - loss: 1.8153\n",
            "Epoch 47: val_loss did not improve from 1.84781\n",
            "\u001b[1m670/670\u001b[0m \u001b[32m━━━━━━━━━━━━━━━━━━━━\u001b[0m\u001b[37m\u001b[0m \u001b[1m27s\u001b[0m 41ms/step - accuracy: 0.5046 - loss: 1.8154 - val_accuracy: 0.4804 - val_loss: 1.8910 - learning_rate: 0.0019\n",
            "Epoch 48/50\n",
            "\u001b[1m670/670\u001b[0m \u001b[32m━━━━━━━━━━━━━━━━━━━━\u001b[0m\u001b[37m\u001b[0m \u001b[1m0s\u001b[0m 38ms/step - accuracy: 0.4869 - loss: 1.8553\n",
            "Epoch 48: val_loss did not improve from 1.84781\n",
            "\u001b[1m670/670\u001b[0m \u001b[32m━━━━━━━━━━━━━━━━━━━━\u001b[0m\u001b[37m\u001b[0m \u001b[1m27s\u001b[0m 41ms/step - accuracy: 0.4869 - loss: 1.8553 - val_accuracy: 0.4927 - val_loss: 1.8852 - learning_rate: 0.0019\n",
            "Epoch 49/50\n",
            "\u001b[1m670/670\u001b[0m \u001b[32m━━━━━━━━━━━━━━━━━━━━\u001b[0m\u001b[37m\u001b[0m \u001b[1m0s\u001b[0m 38ms/step - accuracy: 0.4883 - loss: 1.8577\n",
            "Epoch 49: val_loss improved from 1.84781 to 1.84025, saving model to lstm_v2_hybrid_best.h5\n"
          ]
        },
        {
          "name": "stderr",
          "output_type": "stream",
          "text": [
            "WARNING:absl:You are saving your model as an HDF5 file via `model.save()` or `keras.saving.save_model(model)`. This file format is considered legacy. We recommend using instead the native Keras format, e.g. `model.save('my_model.keras')` or `keras.saving.save_model(model, 'my_model.keras')`. \n"
          ]
        },
        {
          "name": "stdout",
          "output_type": "stream",
          "text": [
            "\u001b[1m670/670\u001b[0m \u001b[32m━━━━━━━━━━━━━━━━━━━━\u001b[0m\u001b[37m\u001b[0m \u001b[1m28s\u001b[0m 41ms/step - accuracy: 0.4883 - loss: 1.8577 - val_accuracy: 0.4901 - val_loss: 1.8402 - learning_rate: 0.0019\n",
            "Epoch 50/50\n",
            "\u001b[1m669/670\u001b[0m \u001b[32m━━━━━━━━━━━━━━━━━━━\u001b[0m\u001b[37m━\u001b[0m \u001b[1m0s\u001b[0m 38ms/step - accuracy: 0.4918 - loss: 1.8387\n",
            "Epoch 50: val_loss did not improve from 1.84025\n",
            "\u001b[1m670/670\u001b[0m \u001b[32m━━━━━━━━━━━━━━━━━━━━\u001b[0m\u001b[37m\u001b[0m \u001b[1m27s\u001b[0m 41ms/step - accuracy: 0.4918 - loss: 1.8387 - val_accuracy: 0.4875 - val_loss: 1.8838 - learning_rate: 0.0019\n",
            "Restoring model weights from the end of the best epoch: 49.\n",
            "学習完了！学習時間: 2067.18秒\n",
            "最良検証Loss: 1.8402\n",
            "最良検証Accuracy: 0.4927\n",
            "ハイブリッドモデル評価中...\n",
            "テストLoss: 1.8402\n",
            "テストAccuracy: 0.4901\n",
            "F1-Score (macro): 0.3968\n",
            "F1-Score (weighted): 0.4352\n",
            "Trial 5 failed: 'accuracy'\n",
            "[I 2025-07-07 13:04:17,473] Trial 5 finished with value: 0.0 and parameters: {'lstm_units_1': 128, 'lstm_units_2': 48, 'dense_units': 32, 'demographics_dense_units': 8, 'fusion_dense_units': 24, 'dropout_rate': 0.2, 'dense_dropout_rate': 0.30000000000000004, 'learning_rate': 0.0018841476921545091, 'batch_size': 16, 'fusion_type': 'attention', 'patience': 18, 'reduce_lr_patience': 7}. Best is trial 0 with value: 0.0.\n",
            "Mixed precision enabled for better GPU performance\n",
            "GPU利用可能: 1台\n",
            "使用GPU: PhysicalDevice(name='/physical_device:GPU:0', device_type='GPU')\n",
            "LSTM v2ハイブリッドモデル初期化完了\n",
            "センサー入力形状: (64, 332)\n",
            "Demographics入力形状: (20,)\n",
            "クラス数: 18\n",
            "融合方式: concatenate\n",
            "GPU利用可能: True\n",
            "LSTM v2ハイブリッドモデルを構築中...\n",
            "モデル構築完了\n",
            "総パラメータ数: 148,546\n",
            "ハイブリッドモデル学習開始...\n",
            "センサー訓練データ形状: (10714, 64, 332)\n",
            "Demographics訓練データ形状: (10714, 20)\n",
            "センサー検証データ形状: (2679, 64, 332)\n",
            "Demographics検証データ形状: (2679, 20)\n",
            "訓練ラベル形状: (10714,)\n",
            "検証ラベル形状: (2679,)\n",
            "Epoch 1/50\n",
            "\u001b[1m670/670\u001b[0m \u001b[32m━━━━━━━━━━━━━━━━━━━━\u001b[0m\u001b[37m\u001b[0m \u001b[1m0s\u001b[0m 36ms/step - accuracy: 0.1075 - loss: 2.9567\n",
            "Epoch 1: val_loss improved from inf to 2.51173, saving model to lstm_v2_hybrid_best.h5\n"
          ]
        },
        {
          "name": "stderr",
          "output_type": "stream",
          "text": [
            "WARNING:absl:You are saving your model as an HDF5 file via `model.save()` or `keras.saving.save_model(model)`. This file format is considered legacy. We recommend using instead the native Keras format, e.g. `model.save('my_model.keras')` or `keras.saving.save_model(model, 'my_model.keras')`. \n"
          ]
        },
        {
          "name": "stdout",
          "output_type": "stream",
          "text": [
            "\u001b[1m670/670\u001b[0m \u001b[32m━━━━━━━━━━━━━━━━━━━━\u001b[0m\u001b[37m\u001b[0m \u001b[1m29s\u001b[0m 39ms/step - accuracy: 0.1076 - loss: 2.9565 - val_accuracy: 0.2329 - val_loss: 2.5117 - learning_rate: 0.0010\n",
            "Epoch 2/50\n",
            "\u001b[1m669/670\u001b[0m \u001b[32m━━━━━━━━━━━━━━━━━━━\u001b[0m\u001b[37m━\u001b[0m \u001b[1m0s\u001b[0m 34ms/step - accuracy: 0.1980 - loss: 2.5863\n",
            "Epoch 2: val_loss improved from 2.51173 to 2.25634, saving model to lstm_v2_hybrid_best.h5\n"
          ]
        },
        {
          "name": "stderr",
          "output_type": "stream",
          "text": [
            "WARNING:absl:You are saving your model as an HDF5 file via `model.save()` or `keras.saving.save_model(model)`. This file format is considered legacy. We recommend using instead the native Keras format, e.g. `model.save('my_model.keras')` or `keras.saving.save_model(model, 'my_model.keras')`. \n"
          ]
        },
        {
          "name": "stdout",
          "output_type": "stream",
          "text": [
            "\u001b[1m670/670\u001b[0m \u001b[32m━━━━━━━━━━━━━━━━━━━━\u001b[0m\u001b[37m\u001b[0m \u001b[1m25s\u001b[0m 37ms/step - accuracy: 0.1980 - loss: 2.5862 - val_accuracy: 0.2699 - val_loss: 2.2563 - learning_rate: 0.0010\n",
            "Epoch 3/50\n",
            "\u001b[1m669/670\u001b[0m \u001b[32m━━━━━━━━━━━━━━━━━━━\u001b[0m\u001b[37m━\u001b[0m \u001b[1m0s\u001b[0m 34ms/step - accuracy: 0.2464 - loss: 2.3853\n",
            "Epoch 3: val_loss improved from 2.25634 to 2.14926, saving model to lstm_v2_hybrid_best.h5\n"
          ]
        },
        {
          "name": "stderr",
          "output_type": "stream",
          "text": [
            "WARNING:absl:You are saving your model as an HDF5 file via `model.save()` or `keras.saving.save_model(model)`. This file format is considered legacy. We recommend using instead the native Keras format, e.g. `model.save('my_model.keras')` or `keras.saving.save_model(model, 'my_model.keras')`. \n"
          ]
        },
        {
          "name": "stdout",
          "output_type": "stream",
          "text": [
            "\u001b[1m670/670\u001b[0m \u001b[32m━━━━━━━━━━━━━━━━━━━━\u001b[0m\u001b[37m\u001b[0m \u001b[1m25s\u001b[0m 37ms/step - accuracy: 0.2464 - loss: 2.3852 - val_accuracy: 0.2915 - val_loss: 2.1493 - learning_rate: 0.0010\n",
            "Epoch 4/50\n",
            "\u001b[1m670/670\u001b[0m \u001b[32m━━━━━━━━━━━━━━━━━━━━\u001b[0m\u001b[37m\u001b[0m \u001b[1m0s\u001b[0m 34ms/step - accuracy: 0.2738 - loss: 2.2822\n",
            "Epoch 4: val_loss improved from 2.14926 to 2.05375, saving model to lstm_v2_hybrid_best.h5\n"
          ]
        },
        {
          "name": "stderr",
          "output_type": "stream",
          "text": [
            "WARNING:absl:You are saving your model as an HDF5 file via `model.save()` or `keras.saving.save_model(model)`. This file format is considered legacy. We recommend using instead the native Keras format, e.g. `model.save('my_model.keras')` or `keras.saving.save_model(model, 'my_model.keras')`. \n"
          ]
        },
        {
          "name": "stdout",
          "output_type": "stream",
          "text": [
            "\u001b[1m670/670\u001b[0m \u001b[32m━━━━━━━━━━━━━━━━━━━━\u001b[0m\u001b[37m\u001b[0m \u001b[1m24s\u001b[0m 36ms/step - accuracy: 0.2738 - loss: 2.2822 - val_accuracy: 0.3345 - val_loss: 2.0537 - learning_rate: 0.0010\n",
            "Epoch 5/50\n",
            "\u001b[1m670/670\u001b[0m \u001b[32m━━━━━━━━━━━━━━━━━━━━\u001b[0m\u001b[37m\u001b[0m \u001b[1m0s\u001b[0m 35ms/step - accuracy: 0.2902 - loss: 2.2143\n",
            "Epoch 5: val_loss did not improve from 2.05375\n",
            "\u001b[1m670/670\u001b[0m \u001b[32m━━━━━━━━━━━━━━━━━━━━\u001b[0m\u001b[37m\u001b[0m \u001b[1m25s\u001b[0m 38ms/step - accuracy: 0.2902 - loss: 2.2143 - val_accuracy: 0.3292 - val_loss: 2.0619 - learning_rate: 0.0010\n",
            "Epoch 6/50\n",
            "\u001b[1m670/670\u001b[0m \u001b[32m━━━━━━━━━━━━━━━━━━━━\u001b[0m\u001b[37m\u001b[0m \u001b[1m0s\u001b[0m 35ms/step - accuracy: 0.2985 - loss: 2.1670\n",
            "Epoch 6: val_loss improved from 2.05375 to 1.98315, saving model to lstm_v2_hybrid_best.h5\n"
          ]
        },
        {
          "name": "stderr",
          "output_type": "stream",
          "text": [
            "WARNING:absl:You are saving your model as an HDF5 file via `model.save()` or `keras.saving.save_model(model)`. This file format is considered legacy. We recommend using instead the native Keras format, e.g. `model.save('my_model.keras')` or `keras.saving.save_model(model, 'my_model.keras')`. \n"
          ]
        },
        {
          "name": "stdout",
          "output_type": "stream",
          "text": [
            "\u001b[1m670/670\u001b[0m \u001b[32m━━━━━━━━━━━━━━━━━━━━\u001b[0m\u001b[37m\u001b[0m \u001b[1m25s\u001b[0m 38ms/step - accuracy: 0.2985 - loss: 2.1670 - val_accuracy: 0.3352 - val_loss: 1.9832 - learning_rate: 0.0010\n",
            "Epoch 7/50\n",
            "\u001b[1m670/670\u001b[0m \u001b[32m━━━━━━━━━━━━━━━━━━━━\u001b[0m\u001b[37m\u001b[0m \u001b[1m0s\u001b[0m 36ms/step - accuracy: 0.3206 - loss: 2.0961\n",
            "Epoch 7: val_loss did not improve from 1.98315\n",
            "\u001b[1m670/670\u001b[0m \u001b[32m━━━━━━━━━━━━━━━━━━━━\u001b[0m\u001b[37m\u001b[0m \u001b[1m26s\u001b[0m 38ms/step - accuracy: 0.3206 - loss: 2.0961 - val_accuracy: 0.3389 - val_loss: 1.9907 - learning_rate: 0.0010\n",
            "Epoch 8/50\n",
            "\u001b[1m669/670\u001b[0m \u001b[32m━━━━━━━━━━━━━━━━━━━\u001b[0m\u001b[37m━\u001b[0m \u001b[1m0s\u001b[0m 36ms/step - accuracy: 0.3168 - loss: 2.0881\n",
            "Epoch 8: val_loss improved from 1.98315 to 1.94722, saving model to lstm_v2_hybrid_best.h5\n"
          ]
        },
        {
          "name": "stderr",
          "output_type": "stream",
          "text": [
            "WARNING:absl:You are saving your model as an HDF5 file via `model.save()` or `keras.saving.save_model(model)`. This file format is considered legacy. We recommend using instead the native Keras format, e.g. `model.save('my_model.keras')` or `keras.saving.save_model(model, 'my_model.keras')`. \n"
          ]
        },
        {
          "name": "stdout",
          "output_type": "stream",
          "text": [
            "\u001b[1m670/670\u001b[0m \u001b[32m━━━━━━━━━━━━━━━━━━━━\u001b[0m\u001b[37m\u001b[0m \u001b[1m26s\u001b[0m 39ms/step - accuracy: 0.3168 - loss: 2.0881 - val_accuracy: 0.3501 - val_loss: 1.9472 - learning_rate: 0.0010\n",
            "Epoch 9/50\n",
            "\u001b[1m669/670\u001b[0m \u001b[32m━━━━━━━━━━━━━━━━━━━\u001b[0m\u001b[37m━\u001b[0m \u001b[1m0s\u001b[0m 35ms/step - accuracy: 0.3377 - loss: 2.0239\n",
            "Epoch 9: val_loss improved from 1.94722 to 1.92870, saving model to lstm_v2_hybrid_best.h5\n"
          ]
        },
        {
          "name": "stderr",
          "output_type": "stream",
          "text": [
            "WARNING:absl:You are saving your model as an HDF5 file via `model.save()` or `keras.saving.save_model(model)`. This file format is considered legacy. We recommend using instead the native Keras format, e.g. `model.save('my_model.keras')` or `keras.saving.save_model(model, 'my_model.keras')`. \n"
          ]
        },
        {
          "name": "stdout",
          "output_type": "stream",
          "text": [
            "\u001b[1m670/670\u001b[0m \u001b[32m━━━━━━━━━━━━━━━━━━━━\u001b[0m\u001b[37m\u001b[0m \u001b[1m25s\u001b[0m 38ms/step - accuracy: 0.3377 - loss: 2.0239 - val_accuracy: 0.3546 - val_loss: 1.9287 - learning_rate: 0.0010\n",
            "Epoch 10/50\n",
            "\u001b[1m669/670\u001b[0m \u001b[32m━━━━━━━━━━━━━━━━━━━\u001b[0m\u001b[37m━\u001b[0m \u001b[1m0s\u001b[0m 34ms/step - accuracy: 0.3405 - loss: 2.0115\n",
            "Epoch 10: val_loss improved from 1.92870 to 1.91480, saving model to lstm_v2_hybrid_best.h5\n"
          ]
        },
        {
          "name": "stderr",
          "output_type": "stream",
          "text": [
            "WARNING:absl:You are saving your model as an HDF5 file via `model.save()` or `keras.saving.save_model(model)`. This file format is considered legacy. We recommend using instead the native Keras format, e.g. `model.save('my_model.keras')` or `keras.saving.save_model(model, 'my_model.keras')`. \n"
          ]
        },
        {
          "name": "stdout",
          "output_type": "stream",
          "text": [
            "\u001b[1m670/670\u001b[0m \u001b[32m━━━━━━━━━━━━━━━━━━━━\u001b[0m\u001b[37m\u001b[0m \u001b[1m25s\u001b[0m 37ms/step - accuracy: 0.3405 - loss: 2.0115 - val_accuracy: 0.3509 - val_loss: 1.9148 - learning_rate: 0.0010\n",
            "Epoch 11/50\n",
            "\u001b[1m670/670\u001b[0m \u001b[32m━━━━━━━━━━━━━━━━━━━━\u001b[0m\u001b[37m\u001b[0m \u001b[1m0s\u001b[0m 36ms/step - accuracy: 0.3472 - loss: 1.9641\n",
            "Epoch 11: val_loss improved from 1.91480 to 1.86123, saving model to lstm_v2_hybrid_best.h5\n"
          ]
        },
        {
          "name": "stderr",
          "output_type": "stream",
          "text": [
            "WARNING:absl:You are saving your model as an HDF5 file via `model.save()` or `keras.saving.save_model(model)`. This file format is considered legacy. We recommend using instead the native Keras format, e.g. `model.save('my_model.keras')` or `keras.saving.save_model(model, 'my_model.keras')`. \n"
          ]
        },
        {
          "name": "stdout",
          "output_type": "stream",
          "text": [
            "\u001b[1m670/670\u001b[0m \u001b[32m━━━━━━━━━━━━━━━━━━━━\u001b[0m\u001b[37m\u001b[0m \u001b[1m26s\u001b[0m 39ms/step - accuracy: 0.3472 - loss: 1.9641 - val_accuracy: 0.3707 - val_loss: 1.8612 - learning_rate: 0.0010\n",
            "Epoch 12/50\n",
            "\u001b[1m669/670\u001b[0m \u001b[32m━━━━━━━━━━━━━━━━━━━\u001b[0m\u001b[37m━\u001b[0m \u001b[1m0s\u001b[0m 36ms/step - accuracy: 0.3526 - loss: 1.9339\n",
            "Epoch 12: val_loss improved from 1.86123 to 1.85516, saving model to lstm_v2_hybrid_best.h5\n"
          ]
        },
        {
          "name": "stderr",
          "output_type": "stream",
          "text": [
            "WARNING:absl:You are saving your model as an HDF5 file via `model.save()` or `keras.saving.save_model(model)`. This file format is considered legacy. We recommend using instead the native Keras format, e.g. `model.save('my_model.keras')` or `keras.saving.save_model(model, 'my_model.keras')`. \n"
          ]
        },
        {
          "name": "stdout",
          "output_type": "stream",
          "text": [
            "\u001b[1m670/670\u001b[0m \u001b[32m━━━━━━━━━━━━━━━━━━━━\u001b[0m\u001b[37m\u001b[0m \u001b[1m26s\u001b[0m 39ms/step - accuracy: 0.3526 - loss: 1.9339 - val_accuracy: 0.3863 - val_loss: 1.8552 - learning_rate: 0.0010\n",
            "Epoch 13/50\n",
            "\u001b[1m670/670\u001b[0m \u001b[32m━━━━━━━━━━━━━━━━━━━━\u001b[0m\u001b[37m\u001b[0m \u001b[1m0s\u001b[0m 36ms/step - accuracy: 0.3616 - loss: 1.9491\n",
            "Epoch 13: val_loss improved from 1.85516 to 1.84190, saving model to lstm_v2_hybrid_best.h5\n"
          ]
        },
        {
          "name": "stderr",
          "output_type": "stream",
          "text": [
            "WARNING:absl:You are saving your model as an HDF5 file via `model.save()` or `keras.saving.save_model(model)`. This file format is considered legacy. We recommend using instead the native Keras format, e.g. `model.save('my_model.keras')` or `keras.saving.save_model(model, 'my_model.keras')`. \n"
          ]
        },
        {
          "name": "stdout",
          "output_type": "stream",
          "text": [
            "\u001b[1m670/670\u001b[0m \u001b[32m━━━━━━━━━━━━━━━━━━━━\u001b[0m\u001b[37m\u001b[0m \u001b[1m26s\u001b[0m 39ms/step - accuracy: 0.3616 - loss: 1.9491 - val_accuracy: 0.3886 - val_loss: 1.8419 - learning_rate: 0.0010\n",
            "Epoch 14/50\n",
            "\u001b[1m670/670\u001b[0m \u001b[32m━━━━━━━━━━━━━━━━━━━━\u001b[0m\u001b[37m\u001b[0m \u001b[1m0s\u001b[0m 35ms/step - accuracy: 0.3745 - loss: 1.9063\n",
            "Epoch 14: val_loss improved from 1.84190 to 1.81732, saving model to lstm_v2_hybrid_best.h5\n"
          ]
        },
        {
          "name": "stderr",
          "output_type": "stream",
          "text": [
            "WARNING:absl:You are saving your model as an HDF5 file via `model.save()` or `keras.saving.save_model(model)`. This file format is considered legacy. We recommend using instead the native Keras format, e.g. `model.save('my_model.keras')` or `keras.saving.save_model(model, 'my_model.keras')`. \n"
          ]
        },
        {
          "name": "stdout",
          "output_type": "stream",
          "text": [
            "\u001b[1m670/670\u001b[0m \u001b[32m━━━━━━━━━━━━━━━━━━━━\u001b[0m\u001b[37m\u001b[0m \u001b[1m26s\u001b[0m 38ms/step - accuracy: 0.3745 - loss: 1.9063 - val_accuracy: 0.4076 - val_loss: 1.8173 - learning_rate: 0.0010\n",
            "Epoch 15/50\n",
            "\u001b[1m670/670\u001b[0m \u001b[32m━━━━━━━━━━━━━━━━━━━━\u001b[0m\u001b[37m\u001b[0m \u001b[1m0s\u001b[0m 35ms/step - accuracy: 0.3867 - loss: 1.9116\n",
            "Epoch 15: val_loss did not improve from 1.81732\n",
            "\u001b[1m670/670\u001b[0m \u001b[32m━━━━━━━━━━━━━━━━━━━━\u001b[0m\u001b[37m\u001b[0m \u001b[1m25s\u001b[0m 37ms/step - accuracy: 0.3867 - loss: 1.9116 - val_accuracy: 0.3852 - val_loss: 1.8292 - learning_rate: 0.0010\n",
            "Epoch 16/50\n",
            "\u001b[1m669/670\u001b[0m \u001b[32m━━━━━━━━━━━━━━━━━━━\u001b[0m\u001b[37m━\u001b[0m \u001b[1m0s\u001b[0m 36ms/step - accuracy: 0.3839 - loss: 1.8792\n",
            "Epoch 16: val_loss improved from 1.81732 to 1.81707, saving model to lstm_v2_hybrid_best.h5\n"
          ]
        },
        {
          "name": "stderr",
          "output_type": "stream",
          "text": [
            "WARNING:absl:You are saving your model as an HDF5 file via `model.save()` or `keras.saving.save_model(model)`. This file format is considered legacy. We recommend using instead the native Keras format, e.g. `model.save('my_model.keras')` or `keras.saving.save_model(model, 'my_model.keras')`. \n"
          ]
        },
        {
          "name": "stdout",
          "output_type": "stream",
          "text": [
            "\u001b[1m670/670\u001b[0m \u001b[32m━━━━━━━━━━━━━━━━━━━━\u001b[0m\u001b[37m\u001b[0m \u001b[1m26s\u001b[0m 39ms/step - accuracy: 0.3838 - loss: 1.8793 - val_accuracy: 0.3968 - val_loss: 1.8171 - learning_rate: 0.0010\n",
            "Epoch 17/50\n",
            "\u001b[1m670/670\u001b[0m \u001b[32m━━━━━━━━━━━━━━━━━━━━\u001b[0m\u001b[37m\u001b[0m \u001b[1m0s\u001b[0m 36ms/step - accuracy: 0.3877 - loss: 1.8729\n",
            "Epoch 17: val_loss improved from 1.81707 to 1.78881, saving model to lstm_v2_hybrid_best.h5\n"
          ]
        },
        {
          "name": "stderr",
          "output_type": "stream",
          "text": [
            "WARNING:absl:You are saving your model as an HDF5 file via `model.save()` or `keras.saving.save_model(model)`. This file format is considered legacy. We recommend using instead the native Keras format, e.g. `model.save('my_model.keras')` or `keras.saving.save_model(model, 'my_model.keras')`. \n"
          ]
        },
        {
          "name": "stdout",
          "output_type": "stream",
          "text": [
            "\u001b[1m670/670\u001b[0m \u001b[32m━━━━━━━━━━━━━━━━━━━━\u001b[0m\u001b[37m\u001b[0m \u001b[1m26s\u001b[0m 39ms/step - accuracy: 0.3877 - loss: 1.8729 - val_accuracy: 0.4065 - val_loss: 1.7888 - learning_rate: 0.0010\n",
            "Epoch 18/50\n",
            "\u001b[1m669/670\u001b[0m \u001b[32m━━━━━━━━━━━━━━━━━━━\u001b[0m\u001b[37m━\u001b[0m \u001b[1m0s\u001b[0m 35ms/step - accuracy: 0.3931 - loss: 1.8500\n",
            "Epoch 18: val_loss improved from 1.78881 to 1.78457, saving model to lstm_v2_hybrid_best.h5\n"
          ]
        },
        {
          "name": "stderr",
          "output_type": "stream",
          "text": [
            "WARNING:absl:You are saving your model as an HDF5 file via `model.save()` or `keras.saving.save_model(model)`. This file format is considered legacy. We recommend using instead the native Keras format, e.g. `model.save('my_model.keras')` or `keras.saving.save_model(model, 'my_model.keras')`. \n"
          ]
        },
        {
          "name": "stdout",
          "output_type": "stream",
          "text": [
            "\u001b[1m670/670\u001b[0m \u001b[32m━━━━━━━━━━━━━━━━━━━━\u001b[0m\u001b[37m\u001b[0m \u001b[1m26s\u001b[0m 38ms/step - accuracy: 0.3931 - loss: 1.8501 - val_accuracy: 0.4207 - val_loss: 1.7846 - learning_rate: 0.0010\n",
            "Epoch 19/50\n",
            "\u001b[1m669/670\u001b[0m \u001b[32m━━━━━━━━━━━━━━━━━━━\u001b[0m\u001b[37m━\u001b[0m \u001b[1m0s\u001b[0m 35ms/step - accuracy: 0.4011 - loss: 1.8349\n",
            "Epoch 19: val_loss improved from 1.78457 to 1.74153, saving model to lstm_v2_hybrid_best.h5\n"
          ]
        },
        {
          "name": "stderr",
          "output_type": "stream",
          "text": [
            "WARNING:absl:You are saving your model as an HDF5 file via `model.save()` or `keras.saving.save_model(model)`. This file format is considered legacy. We recommend using instead the native Keras format, e.g. `model.save('my_model.keras')` or `keras.saving.save_model(model, 'my_model.keras')`. \n"
          ]
        },
        {
          "name": "stdout",
          "output_type": "stream",
          "text": [
            "\u001b[1m670/670\u001b[0m \u001b[32m━━━━━━━━━━━━━━━━━━━━\u001b[0m\u001b[37m\u001b[0m \u001b[1m26s\u001b[0m 38ms/step - accuracy: 0.4011 - loss: 1.8349 - val_accuracy: 0.4173 - val_loss: 1.7415 - learning_rate: 0.0010\n",
            "Epoch 20/50\n",
            "\u001b[1m670/670\u001b[0m \u001b[32m━━━━━━━━━━━━━━━━━━━━\u001b[0m\u001b[37m\u001b[0m \u001b[1m0s\u001b[0m 35ms/step - accuracy: 0.4084 - loss: 1.7824\n",
            "Epoch 20: val_loss did not improve from 1.74153\n",
            "\u001b[1m670/670\u001b[0m \u001b[32m━━━━━━━━━━━━━━━━━━━━\u001b[0m\u001b[37m\u001b[0m \u001b[1m25s\u001b[0m 38ms/step - accuracy: 0.4084 - loss: 1.7824 - val_accuracy: 0.4345 - val_loss: 1.7979 - learning_rate: 0.0010\n",
            "Epoch 21/50\n",
            "\u001b[1m670/670\u001b[0m \u001b[32m━━━━━━━━━━━━━━━━━━━━\u001b[0m\u001b[37m\u001b[0m \u001b[1m0s\u001b[0m 35ms/step - accuracy: 0.4057 - loss: 1.8116\n",
            "Epoch 21: val_loss did not improve from 1.74153\n",
            "\u001b[1m670/670\u001b[0m \u001b[32m━━━━━━━━━━━━━━━━━━━━\u001b[0m\u001b[37m\u001b[0m \u001b[1m25s\u001b[0m 38ms/step - accuracy: 0.4057 - loss: 1.8116 - val_accuracy: 0.4237 - val_loss: 1.7811 - learning_rate: 0.0010\n",
            "Epoch 22/50\n",
            "\u001b[1m670/670\u001b[0m \u001b[32m━━━━━━━━━━━━━━━━━━━━\u001b[0m\u001b[37m\u001b[0m \u001b[1m0s\u001b[0m 36ms/step - accuracy: 0.4158 - loss: 1.7868\n",
            "Epoch 22: val_loss did not improve from 1.74153\n",
            "\u001b[1m670/670\u001b[0m \u001b[32m━━━━━━━━━━━━━━━━━━━━\u001b[0m\u001b[37m\u001b[0m \u001b[1m26s\u001b[0m 38ms/step - accuracy: 0.4158 - loss: 1.7869 - val_accuracy: 0.4229 - val_loss: 1.7587 - learning_rate: 0.0010\n",
            "Epoch 23/50\n",
            "\u001b[1m670/670\u001b[0m \u001b[32m━━━━━━━━━━━━━━━━━━━━\u001b[0m\u001b[37m\u001b[0m \u001b[1m0s\u001b[0m 36ms/step - accuracy: 0.4098 - loss: 1.8038\n",
            "Epoch 23: val_loss did not improve from 1.74153\n",
            "\u001b[1m670/670\u001b[0m \u001b[32m━━━━━━━━━━━━━━━━━━━━\u001b[0m\u001b[37m\u001b[0m \u001b[1m26s\u001b[0m 38ms/step - accuracy: 0.4098 - loss: 1.8038 - val_accuracy: 0.4349 - val_loss: 1.7596 - learning_rate: 0.0010\n",
            "Epoch 24/50\n",
            "\u001b[1m670/670\u001b[0m \u001b[32m━━━━━━━━━━━━━━━━━━━━\u001b[0m\u001b[37m\u001b[0m \u001b[1m0s\u001b[0m 36ms/step - accuracy: 0.4109 - loss: 1.8030\n",
            "Epoch 24: val_loss improved from 1.74153 to 1.70098, saving model to lstm_v2_hybrid_best.h5\n"
          ]
        },
        {
          "name": "stderr",
          "output_type": "stream",
          "text": [
            "WARNING:absl:You are saving your model as an HDF5 file via `model.save()` or `keras.saving.save_model(model)`. This file format is considered legacy. We recommend using instead the native Keras format, e.g. `model.save('my_model.keras')` or `keras.saving.save_model(model, 'my_model.keras')`. \n"
          ]
        },
        {
          "name": "stdout",
          "output_type": "stream",
          "text": [
            "\u001b[1m670/670\u001b[0m \u001b[32m━━━━━━━━━━━━━━━━━━━━\u001b[0m\u001b[37m\u001b[0m \u001b[1m26s\u001b[0m 39ms/step - accuracy: 0.4109 - loss: 1.8030 - val_accuracy: 0.4431 - val_loss: 1.7010 - learning_rate: 0.0010\n",
            "Epoch 25/50\n",
            "\u001b[1m670/670\u001b[0m \u001b[32m━━━━━━━━━━━━━━━━━━━━\u001b[0m\u001b[37m\u001b[0m \u001b[1m0s\u001b[0m 35ms/step - accuracy: 0.4278 - loss: 1.7471\n",
            "Epoch 25: val_loss did not improve from 1.70098\n",
            "\u001b[1m670/670\u001b[0m \u001b[32m━━━━━━━━━━━━━━━━━━━━\u001b[0m\u001b[37m\u001b[0m \u001b[1m26s\u001b[0m 38ms/step - accuracy: 0.4278 - loss: 1.7471 - val_accuracy: 0.4494 - val_loss: 1.7048 - learning_rate: 0.0010\n",
            "Epoch 26/50\n",
            "\u001b[1m670/670\u001b[0m \u001b[32m━━━━━━━━━━━━━━━━━━━━\u001b[0m\u001b[37m\u001b[0m \u001b[1m0s\u001b[0m 35ms/step - accuracy: 0.4294 - loss: 1.7562\n",
            "Epoch 26: val_loss did not improve from 1.70098\n",
            "\u001b[1m670/670\u001b[0m \u001b[32m━━━━━━━━━━━━━━━━━━━━\u001b[0m\u001b[37m\u001b[0m \u001b[1m26s\u001b[0m 38ms/step - accuracy: 0.4294 - loss: 1.7562 - val_accuracy: 0.4352 - val_loss: 1.7071 - learning_rate: 0.0010\n",
            "Epoch 27/50\n",
            "\u001b[1m670/670\u001b[0m \u001b[32m━━━━━━━━━━━━━━━━━━━━\u001b[0m\u001b[37m\u001b[0m \u001b[1m0s\u001b[0m 35ms/step - accuracy: 0.4291 - loss: 1.7300\n",
            "Epoch 27: val_loss improved from 1.70098 to 1.68320, saving model to lstm_v2_hybrid_best.h5\n"
          ]
        },
        {
          "name": "stderr",
          "output_type": "stream",
          "text": [
            "WARNING:absl:You are saving your model as an HDF5 file via `model.save()` or `keras.saving.save_model(model)`. This file format is considered legacy. We recommend using instead the native Keras format, e.g. `model.save('my_model.keras')` or `keras.saving.save_model(model, 'my_model.keras')`. \n"
          ]
        },
        {
          "name": "stdout",
          "output_type": "stream",
          "text": [
            "\u001b[1m670/670\u001b[0m \u001b[32m━━━━━━━━━━━━━━━━━━━━\u001b[0m\u001b[37m\u001b[0m \u001b[1m26s\u001b[0m 39ms/step - accuracy: 0.4291 - loss: 1.7300 - val_accuracy: 0.4640 - val_loss: 1.6832 - learning_rate: 0.0010\n",
            "Epoch 28/50\n",
            "\u001b[1m669/670\u001b[0m \u001b[32m━━━━━━━━━━━━━━━━━━━\u001b[0m\u001b[37m━\u001b[0m \u001b[1m0s\u001b[0m 35ms/step - accuracy: 0.4329 - loss: 1.7075\n",
            "Epoch 28: val_loss improved from 1.68320 to 1.64033, saving model to lstm_v2_hybrid_best.h5\n"
          ]
        },
        {
          "name": "stderr",
          "output_type": "stream",
          "text": [
            "WARNING:absl:You are saving your model as an HDF5 file via `model.save()` or `keras.saving.save_model(model)`. This file format is considered legacy. We recommend using instead the native Keras format, e.g. `model.save('my_model.keras')` or `keras.saving.save_model(model, 'my_model.keras')`. \n"
          ]
        },
        {
          "name": "stdout",
          "output_type": "stream",
          "text": [
            "\u001b[1m670/670\u001b[0m \u001b[32m━━━━━━━━━━━━━━━━━━━━\u001b[0m\u001b[37m\u001b[0m \u001b[1m25s\u001b[0m 38ms/step - accuracy: 0.4329 - loss: 1.7075 - val_accuracy: 0.4673 - val_loss: 1.6403 - learning_rate: 0.0010\n",
            "Epoch 29/50\n",
            "\u001b[1m670/670\u001b[0m \u001b[32m━━━━━━━━━━━━━━━━━━━━\u001b[0m\u001b[37m\u001b[0m \u001b[1m0s\u001b[0m 35ms/step - accuracy: 0.4233 - loss: 1.7135\n",
            "Epoch 29: val_loss did not improve from 1.64033\n",
            "\u001b[1m670/670\u001b[0m \u001b[32m━━━━━━━━━━━━━━━━━━━━\u001b[0m\u001b[37m\u001b[0m \u001b[1m25s\u001b[0m 38ms/step - accuracy: 0.4233 - loss: 1.7135 - val_accuracy: 0.4636 - val_loss: 1.6952 - learning_rate: 0.0010\n",
            "Epoch 30/50\n",
            "\u001b[1m669/670\u001b[0m \u001b[32m━━━━━━━━━━━━━━━━━━━\u001b[0m\u001b[37m━\u001b[0m \u001b[1m0s\u001b[0m 34ms/step - accuracy: 0.4351 - loss: 1.7095\n",
            "Epoch 30: val_loss did not improve from 1.64033\n",
            "\u001b[1m670/670\u001b[0m \u001b[32m━━━━━━━━━━━━━━━━━━━━\u001b[0m\u001b[37m\u001b[0m \u001b[1m25s\u001b[0m 37ms/step - accuracy: 0.4352 - loss: 1.7095 - val_accuracy: 0.4744 - val_loss: 1.6818 - learning_rate: 0.0010\n",
            "Epoch 31/50\n",
            "\u001b[1m669/670\u001b[0m \u001b[32m━━━━━━━━━━━━━━━━━━━\u001b[0m\u001b[37m━\u001b[0m \u001b[1m0s\u001b[0m 36ms/step - accuracy: 0.4435 - loss: 1.7002\n",
            "Epoch 31: val_loss did not improve from 1.64033\n",
            "\u001b[1m670/670\u001b[0m \u001b[32m━━━━━━━━━━━━━━━━━━━━\u001b[0m\u001b[37m\u001b[0m \u001b[1m26s\u001b[0m 39ms/step - accuracy: 0.4435 - loss: 1.7002 - val_accuracy: 0.4673 - val_loss: 1.6736 - learning_rate: 0.0010\n",
            "Epoch 32/50\n",
            "\u001b[1m669/670\u001b[0m \u001b[32m━━━━━━━━━━━━━━━━━━━\u001b[0m\u001b[37m━\u001b[0m \u001b[1m0s\u001b[0m 34ms/step - accuracy: 0.4509 - loss: 1.6725\n",
            "Epoch 32: val_loss did not improve from 1.64033\n",
            "\u001b[1m670/670\u001b[0m \u001b[32m━━━━━━━━━━━━━━━━━━━━\u001b[0m\u001b[37m\u001b[0m \u001b[1m25s\u001b[0m 37ms/step - accuracy: 0.4509 - loss: 1.6726 - val_accuracy: 0.4569 - val_loss: 1.6769 - learning_rate: 0.0010\n",
            "Epoch 33/50\n",
            "\u001b[1m670/670\u001b[0m \u001b[32m━━━━━━━━━━━━━━━━━━━━\u001b[0m\u001b[37m\u001b[0m \u001b[1m0s\u001b[0m 35ms/step - accuracy: 0.4509 - loss: 1.6907\n",
            "Epoch 33: val_loss did not improve from 1.64033\n",
            "\n",
            "Epoch 33: ReduceLROnPlateau reducing learning rate to 0.000520129397045821.\n",
            "\u001b[1m670/670\u001b[0m \u001b[32m━━━━━━━━━━━━━━━━━━━━\u001b[0m\u001b[37m\u001b[0m \u001b[1m25s\u001b[0m 38ms/step - accuracy: 0.4509 - loss: 1.6907 - val_accuracy: 0.4681 - val_loss: 1.6602 - learning_rate: 0.0010\n",
            "Epoch 34/50\n",
            "\u001b[1m669/670\u001b[0m \u001b[32m━━━━━━━━━━━━━━━━━━━\u001b[0m\u001b[37m━\u001b[0m \u001b[1m0s\u001b[0m 35ms/step - accuracy: 0.4681 - loss: 1.6083\n",
            "Epoch 34: val_loss improved from 1.64033 to 1.61264, saving model to lstm_v2_hybrid_best.h5\n"
          ]
        },
        {
          "name": "stderr",
          "output_type": "stream",
          "text": [
            "WARNING:absl:You are saving your model as an HDF5 file via `model.save()` or `keras.saving.save_model(model)`. This file format is considered legacy. We recommend using instead the native Keras format, e.g. `model.save('my_model.keras')` or `keras.saving.save_model(model, 'my_model.keras')`. \n"
          ]
        },
        {
          "name": "stdout",
          "output_type": "stream",
          "text": [
            "\u001b[1m670/670\u001b[0m \u001b[32m━━━━━━━━━━━━━━━━━━━━\u001b[0m\u001b[37m\u001b[0m \u001b[1m25s\u001b[0m 38ms/step - accuracy: 0.4681 - loss: 1.6083 - val_accuracy: 0.4875 - val_loss: 1.6126 - learning_rate: 5.2013e-04\n",
            "Epoch 35/50\n",
            "\u001b[1m669/670\u001b[0m \u001b[32m━━━━━━━━━━━━━━━━━━━\u001b[0m\u001b[37m━\u001b[0m \u001b[1m0s\u001b[0m 35ms/step - accuracy: 0.4838 - loss: 1.5703\n",
            "Epoch 35: val_loss improved from 1.61264 to 1.56936, saving model to lstm_v2_hybrid_best.h5\n"
          ]
        },
        {
          "name": "stderr",
          "output_type": "stream",
          "text": [
            "WARNING:absl:You are saving your model as an HDF5 file via `model.save()` or `keras.saving.save_model(model)`. This file format is considered legacy. We recommend using instead the native Keras format, e.g. `model.save('my_model.keras')` or `keras.saving.save_model(model, 'my_model.keras')`. \n"
          ]
        },
        {
          "name": "stdout",
          "output_type": "stream",
          "text": [
            "\u001b[1m670/670\u001b[0m \u001b[32m━━━━━━━━━━━━━━━━━━━━\u001b[0m\u001b[37m\u001b[0m \u001b[1m26s\u001b[0m 38ms/step - accuracy: 0.4838 - loss: 1.5703 - val_accuracy: 0.4886 - val_loss: 1.5694 - learning_rate: 5.2013e-04\n",
            "Epoch 36/50\n",
            "\u001b[1m670/670\u001b[0m \u001b[32m━━━━━━━━━━━━━━━━━━━━\u001b[0m\u001b[37m\u001b[0m \u001b[1m0s\u001b[0m 35ms/step - accuracy: 0.4755 - loss: 1.5640\n",
            "Epoch 36: val_loss did not improve from 1.56936\n",
            "\u001b[1m670/670\u001b[0m \u001b[32m━━━━━━━━━━━━━━━━━━━━\u001b[0m\u001b[37m\u001b[0m \u001b[1m25s\u001b[0m 38ms/step - accuracy: 0.4755 - loss: 1.5640 - val_accuracy: 0.4935 - val_loss: 1.5894 - learning_rate: 5.2013e-04\n",
            "Epoch 37/50\n",
            "\u001b[1m669/670\u001b[0m \u001b[32m━━━━━━━━━━━━━━━━━━━\u001b[0m\u001b[37m━\u001b[0m \u001b[1m0s\u001b[0m 35ms/step - accuracy: 0.4846 - loss: 1.5221\n",
            "Epoch 37: val_loss did not improve from 1.56936\n",
            "\u001b[1m670/670\u001b[0m \u001b[32m━━━━━━━━━━━━━━━━━━━━\u001b[0m\u001b[37m\u001b[0m \u001b[1m25s\u001b[0m 38ms/step - accuracy: 0.4846 - loss: 1.5221 - val_accuracy: 0.4879 - val_loss: 1.5818 - learning_rate: 5.2013e-04\n",
            "Epoch 38/50\n",
            "\u001b[1m670/670\u001b[0m \u001b[32m━━━━━━━━━━━━━━━━━━━━\u001b[0m\u001b[37m\u001b[0m \u001b[1m0s\u001b[0m 34ms/step - accuracy: 0.5010 - loss: 1.5086\n",
            "Epoch 38: val_loss did not improve from 1.56936\n",
            "\u001b[1m670/670\u001b[0m \u001b[32m━━━━━━━━━━━━━━━━━━━━\u001b[0m\u001b[37m\u001b[0m \u001b[1m25s\u001b[0m 37ms/step - accuracy: 0.5009 - loss: 1.5086 - val_accuracy: 0.4979 - val_loss: 1.5772 - learning_rate: 5.2013e-04\n",
            "Epoch 39/50\n",
            "\u001b[1m670/670\u001b[0m \u001b[32m━━━━━━━━━━━━━━━━━━━━\u001b[0m\u001b[37m\u001b[0m \u001b[1m0s\u001b[0m 34ms/step - accuracy: 0.4881 - loss: 1.5150\n",
            "Epoch 39: val_loss improved from 1.56936 to 1.56542, saving model to lstm_v2_hybrid_best.h5\n"
          ]
        },
        {
          "name": "stderr",
          "output_type": "stream",
          "text": [
            "WARNING:absl:You are saving your model as an HDF5 file via `model.save()` or `keras.saving.save_model(model)`. This file format is considered legacy. We recommend using instead the native Keras format, e.g. `model.save('my_model.keras')` or `keras.saving.save_model(model, 'my_model.keras')`. \n"
          ]
        },
        {
          "name": "stdout",
          "output_type": "stream",
          "text": [
            "\u001b[1m670/670\u001b[0m \u001b[32m━━━━━━━━━━━━━━━━━━━━\u001b[0m\u001b[37m\u001b[0m \u001b[1m24s\u001b[0m 36ms/step - accuracy: 0.4881 - loss: 1.5149 - val_accuracy: 0.5024 - val_loss: 1.5654 - learning_rate: 5.2013e-04\n",
            "Epoch 40/50\n",
            "\u001b[1m670/670\u001b[0m \u001b[32m━━━━━━━━━━━━━━━━━━━━\u001b[0m\u001b[37m\u001b[0m \u001b[1m0s\u001b[0m 34ms/step - accuracy: 0.4887 - loss: 1.4947\n",
            "Epoch 40: val_loss did not improve from 1.56542\n",
            "\u001b[1m670/670\u001b[0m \u001b[32m━━━━━━━━━━━━━━━━━━━━\u001b[0m\u001b[37m\u001b[0m \u001b[1m24s\u001b[0m 36ms/step - accuracy: 0.4888 - loss: 1.4947 - val_accuracy: 0.4950 - val_loss: 1.5868 - learning_rate: 5.2013e-04\n",
            "Epoch 41/50\n",
            "\u001b[1m670/670\u001b[0m \u001b[32m━━━━━━━━━━━━━━━━━━━━\u001b[0m\u001b[37m\u001b[0m \u001b[1m0s\u001b[0m 34ms/step - accuracy: 0.4991 - loss: 1.4768\n",
            "Epoch 41: val_loss did not improve from 1.56542\n",
            "\u001b[1m670/670\u001b[0m \u001b[32m━━━━━━━━━━━━━━━━━━━━\u001b[0m\u001b[37m\u001b[0m \u001b[1m24s\u001b[0m 37ms/step - accuracy: 0.4991 - loss: 1.4768 - val_accuracy: 0.4965 - val_loss: 1.5795 - learning_rate: 5.2013e-04\n",
            "Epoch 42/50\n",
            "\u001b[1m669/670\u001b[0m \u001b[32m━━━━━━━━━━━━━━━━━━━\u001b[0m\u001b[37m━\u001b[0m \u001b[1m0s\u001b[0m 33ms/step - accuracy: 0.4968 - loss: 1.4645\n",
            "Epoch 42: val_loss improved from 1.56542 to 1.54872, saving model to lstm_v2_hybrid_best.h5\n"
          ]
        },
        {
          "name": "stderr",
          "output_type": "stream",
          "text": [
            "WARNING:absl:You are saving your model as an HDF5 file via `model.save()` or `keras.saving.save_model(model)`. This file format is considered legacy. We recommend using instead the native Keras format, e.g. `model.save('my_model.keras')` or `keras.saving.save_model(model, 'my_model.keras')`. \n"
          ]
        },
        {
          "name": "stdout",
          "output_type": "stream",
          "text": [
            "\u001b[1m670/670\u001b[0m \u001b[32m━━━━━━━━━━━━━━━━━━━━\u001b[0m\u001b[37m\u001b[0m \u001b[1m24s\u001b[0m 36ms/step - accuracy: 0.4968 - loss: 1.4645 - val_accuracy: 0.5080 - val_loss: 1.5487 - learning_rate: 5.2013e-04\n",
            "Epoch 43/50\n",
            "\u001b[1m670/670\u001b[0m \u001b[32m━━━━━━━━━━━━━━━━━━━━\u001b[0m\u001b[37m\u001b[0m \u001b[1m0s\u001b[0m 33ms/step - accuracy: 0.5129 - loss: 1.4635\n",
            "Epoch 43: val_loss did not improve from 1.54872\n",
            "\u001b[1m670/670\u001b[0m \u001b[32m━━━━━━━━━━━━━━━━━━━━\u001b[0m\u001b[37m\u001b[0m \u001b[1m24s\u001b[0m 36ms/step - accuracy: 0.5129 - loss: 1.4635 - val_accuracy: 0.5039 - val_loss: 1.5525 - learning_rate: 5.2013e-04\n",
            "Epoch 44/50\n",
            "\u001b[1m669/670\u001b[0m \u001b[32m━━━━━━━━━━━━━━━━━━━\u001b[0m\u001b[37m━\u001b[0m \u001b[1m0s\u001b[0m 35ms/step - accuracy: 0.5081 - loss: 1.4569\n",
            "Epoch 44: val_loss improved from 1.54872 to 1.53446, saving model to lstm_v2_hybrid_best.h5\n"
          ]
        },
        {
          "name": "stderr",
          "output_type": "stream",
          "text": [
            "WARNING:absl:You are saving your model as an HDF5 file via `model.save()` or `keras.saving.save_model(model)`. This file format is considered legacy. We recommend using instead the native Keras format, e.g. `model.save('my_model.keras')` or `keras.saving.save_model(model, 'my_model.keras')`. \n"
          ]
        },
        {
          "name": "stdout",
          "output_type": "stream",
          "text": [
            "\u001b[1m670/670\u001b[0m \u001b[32m━━━━━━━━━━━━━━━━━━━━\u001b[0m\u001b[37m\u001b[0m \u001b[1m25s\u001b[0m 38ms/step - accuracy: 0.5081 - loss: 1.4569 - val_accuracy: 0.5106 - val_loss: 1.5345 - learning_rate: 5.2013e-04\n",
            "Epoch 45/50\n",
            "\u001b[1m669/670\u001b[0m \u001b[32m━━━━━━━━━━━━━━━━━━━\u001b[0m\u001b[37m━\u001b[0m \u001b[1m0s\u001b[0m 35ms/step - accuracy: 0.5173 - loss: 1.4193\n",
            "Epoch 45: val_loss did not improve from 1.53446\n",
            "\u001b[1m670/670\u001b[0m \u001b[32m━━━━━━━━━━━━━━━━━━━━\u001b[0m\u001b[37m\u001b[0m \u001b[1m26s\u001b[0m 38ms/step - accuracy: 0.5173 - loss: 1.4193 - val_accuracy: 0.5058 - val_loss: 1.5615 - learning_rate: 5.2013e-04\n",
            "Epoch 46/50\n",
            "\u001b[1m670/670\u001b[0m \u001b[32m━━━━━━━━━━━━━━━━━━━━\u001b[0m\u001b[37m\u001b[0m \u001b[1m0s\u001b[0m 35ms/step - accuracy: 0.5068 - loss: 1.4390\n",
            "Epoch 46: val_loss did not improve from 1.53446\n",
            "\u001b[1m670/670\u001b[0m \u001b[32m━━━━━━━━━━━━━━━━━━━━\u001b[0m\u001b[37m\u001b[0m \u001b[1m25s\u001b[0m 37ms/step - accuracy: 0.5068 - loss: 1.4390 - val_accuracy: 0.5043 - val_loss: 1.5817 - learning_rate: 5.2013e-04\n",
            "Epoch 47/50\n",
            "\u001b[1m669/670\u001b[0m \u001b[32m━━━━━━━━━━━━━━━━━━━\u001b[0m\u001b[37m━\u001b[0m \u001b[1m0s\u001b[0m 34ms/step - accuracy: 0.5083 - loss: 1.4471\n",
            "Epoch 47: val_loss improved from 1.53446 to 1.52464, saving model to lstm_v2_hybrid_best.h5\n"
          ]
        },
        {
          "name": "stderr",
          "output_type": "stream",
          "text": [
            "WARNING:absl:You are saving your model as an HDF5 file via `model.save()` or `keras.saving.save_model(model)`. This file format is considered legacy. We recommend using instead the native Keras format, e.g. `model.save('my_model.keras')` or `keras.saving.save_model(model, 'my_model.keras')`. \n"
          ]
        },
        {
          "name": "stdout",
          "output_type": "stream",
          "text": [
            "\u001b[1m670/670\u001b[0m \u001b[32m━━━━━━━━━━━━━━━━━━━━\u001b[0m\u001b[37m\u001b[0m \u001b[1m25s\u001b[0m 37ms/step - accuracy: 0.5083 - loss: 1.4470 - val_accuracy: 0.5151 - val_loss: 1.5246 - learning_rate: 5.2013e-04\n",
            "Epoch 48/50\n",
            "\u001b[1m670/670\u001b[0m \u001b[32m━━━━━━━━━━━━━━━━━━━━\u001b[0m\u001b[37m\u001b[0m \u001b[1m0s\u001b[0m 34ms/step - accuracy: 0.5184 - loss: 1.3825\n",
            "Epoch 48: val_loss did not improve from 1.52464\n",
            "\u001b[1m670/670\u001b[0m \u001b[32m━━━━━━━━━━━━━━━━━━━━\u001b[0m\u001b[37m\u001b[0m \u001b[1m25s\u001b[0m 37ms/step - accuracy: 0.5184 - loss: 1.3825 - val_accuracy: 0.5233 - val_loss: 1.5599 - learning_rate: 5.2013e-04\n",
            "Epoch 49/50\n",
            "\u001b[1m669/670\u001b[0m \u001b[32m━━━━━━━━━━━━━━━━━━━\u001b[0m\u001b[37m━\u001b[0m \u001b[1m0s\u001b[0m 33ms/step - accuracy: 0.5177 - loss: 1.3928\n",
            "Epoch 49: val_loss improved from 1.52464 to 1.51119, saving model to lstm_v2_hybrid_best.h5\n"
          ]
        },
        {
          "name": "stderr",
          "output_type": "stream",
          "text": [
            "WARNING:absl:You are saving your model as an HDF5 file via `model.save()` or `keras.saving.save_model(model)`. This file format is considered legacy. We recommend using instead the native Keras format, e.g. `model.save('my_model.keras')` or `keras.saving.save_model(model, 'my_model.keras')`. \n"
          ]
        },
        {
          "name": "stdout",
          "output_type": "stream",
          "text": [
            "\u001b[1m670/670\u001b[0m \u001b[32m━━━━━━━━━━━━━━━━━━━━\u001b[0m\u001b[37m\u001b[0m \u001b[1m24s\u001b[0m 36ms/step - accuracy: 0.5177 - loss: 1.3929 - val_accuracy: 0.5211 - val_loss: 1.5112 - learning_rate: 5.2013e-04\n",
            "Epoch 50/50\n",
            "\u001b[1m670/670\u001b[0m \u001b[32m━━━━━━━━━━━━━━━━━━━━\u001b[0m\u001b[37m\u001b[0m \u001b[1m0s\u001b[0m 35ms/step - accuracy: 0.5169 - loss: 1.3969\n",
            "Epoch 50: val_loss did not improve from 1.51119\n",
            "\u001b[1m670/670\u001b[0m \u001b[32m━━━━━━━━━━━━━━━━━━━━\u001b[0m\u001b[37m\u001b[0m \u001b[1m25s\u001b[0m 38ms/step - accuracy: 0.5169 - loss: 1.3969 - val_accuracy: 0.5192 - val_loss: 1.5253 - learning_rate: 5.2013e-04\n",
            "Restoring model weights from the end of the best epoch: 49.\n",
            "学習完了！学習時間: 1269.36秒\n",
            "最良検証Loss: 1.5112\n",
            "最良検証Accuracy: 0.5233\n",
            "ハイブリッドモデル評価中...\n",
            "テストLoss: 1.5112\n",
            "テストAccuracy: 0.5207\n",
            "F1-Score (macro): 0.4175\n",
            "F1-Score (weighted): 0.4609\n",
            "Trial 6 failed: 'accuracy'\n",
            "[I 2025-07-07 13:25:30,013] Trial 6 finished with value: 0.0 and parameters: {'lstm_units_1': 80, 'lstm_units_2': 32, 'dense_units': 16, 'demographics_dense_units': 8, 'fusion_dense_units': 16, 'dropout_rate': 0.4, 'dense_dropout_rate': 0.2, 'learning_rate': 0.0010402587615883842, 'batch_size': 16, 'fusion_type': 'concatenate', 'patience': 13, 'reduce_lr_patience': 5}. Best is trial 0 with value: 0.0.\n",
            "Mixed precision enabled for better GPU performance\n",
            "GPU利用可能: 1台\n",
            "使用GPU: PhysicalDevice(name='/physical_device:GPU:0', device_type='GPU')\n",
            "LSTM v2ハイブリッドモデル初期化完了\n",
            "センサー入力形状: (64, 332)\n",
            "Demographics入力形状: (20,)\n",
            "クラス数: 18\n",
            "融合方式: gated\n",
            "GPU利用可能: True\n",
            "LSTM v2ハイブリッドモデルを構築中...\n",
            "モデル構築完了\n",
            "総パラメータ数: 293,922\n",
            "ハイブリッドモデル学習開始...\n",
            "センサー訓練データ形状: (10714, 64, 332)\n",
            "Demographics訓練データ形状: (10714, 20)\n",
            "センサー検証データ形状: (2679, 64, 332)\n",
            "Demographics検証データ形状: (2679, 20)\n",
            "訓練ラベル形状: (10714,)\n",
            "検証ラベル形状: (2679,)\n",
            "Epoch 1/50\n",
            "\u001b[1m334/335\u001b[0m \u001b[32m━━━━━━━━━━━━━━━━━━━\u001b[0m\u001b[37m━\u001b[0m \u001b[1m0s\u001b[0m 38ms/step - accuracy: 0.1505 - loss: 2.8281\n",
            "Epoch 1: val_loss improved from inf to 2.30911, saving model to lstm_v2_hybrid_best.h5\n"
          ]
        },
        {
          "name": "stderr",
          "output_type": "stream",
          "text": [
            "WARNING:absl:You are saving your model as an HDF5 file via `model.save()` or `keras.saving.save_model(model)`. This file format is considered legacy. We recommend using instead the native Keras format, e.g. `model.save('my_model.keras')` or `keras.saving.save_model(model, 'my_model.keras')`. \n"
          ]
        },
        {
          "name": "stdout",
          "output_type": "stream",
          "text": [
            "\u001b[1m335/335\u001b[0m \u001b[32m━━━━━━━━━━━━━━━━━━━━\u001b[0m\u001b[37m\u001b[0m \u001b[1m20s\u001b[0m 49ms/step - accuracy: 0.1507 - loss: 2.8272 - val_accuracy: 0.2971 - val_loss: 2.3091 - learning_rate: 0.0012\n",
            "Epoch 2/50\n",
            "\u001b[1m334/335\u001b[0m \u001b[32m━━━━━━━━━━━━━━━━━━━\u001b[0m\u001b[37m━\u001b[0m \u001b[1m0s\u001b[0m 36ms/step - accuracy: 0.2616 - loss: 2.3768\n",
            "Epoch 2: val_loss improved from 2.30911 to 2.09277, saving model to lstm_v2_hybrid_best.h5\n"
          ]
        },
        {
          "name": "stderr",
          "output_type": "stream",
          "text": [
            "WARNING:absl:You are saving your model as an HDF5 file via `model.save()` or `keras.saving.save_model(model)`. This file format is considered legacy. We recommend using instead the native Keras format, e.g. `model.save('my_model.keras')` or `keras.saving.save_model(model, 'my_model.keras')`. \n"
          ]
        },
        {
          "name": "stdout",
          "output_type": "stream",
          "text": [
            "\u001b[1m335/335\u001b[0m \u001b[32m━━━━━━━━━━━━━━━━━━━━\u001b[0m\u001b[37m\u001b[0m \u001b[1m13s\u001b[0m 39ms/step - accuracy: 0.2617 - loss: 2.3765 - val_accuracy: 0.3236 - val_loss: 2.0928 - learning_rate: 0.0012\n",
            "Epoch 3/50\n",
            "\u001b[1m335/335\u001b[0m \u001b[32m━━━━━━━━━━━━━━━━━━━━\u001b[0m\u001b[37m\u001b[0m \u001b[1m0s\u001b[0m 38ms/step - accuracy: 0.3042 - loss: 2.1828\n",
            "Epoch 3: val_loss improved from 2.09277 to 2.02217, saving model to lstm_v2_hybrid_best.h5\n"
          ]
        },
        {
          "name": "stderr",
          "output_type": "stream",
          "text": [
            "WARNING:absl:You are saving your model as an HDF5 file via `model.save()` or `keras.saving.save_model(model)`. This file format is considered legacy. We recommend using instead the native Keras format, e.g. `model.save('my_model.keras')` or `keras.saving.save_model(model, 'my_model.keras')`. \n"
          ]
        },
        {
          "name": "stdout",
          "output_type": "stream",
          "text": [
            "\u001b[1m335/335\u001b[0m \u001b[32m━━━━━━━━━━━━━━━━━━━━\u001b[0m\u001b[37m\u001b[0m \u001b[1m14s\u001b[0m 41ms/step - accuracy: 0.3042 - loss: 2.1828 - val_accuracy: 0.3415 - val_loss: 2.0222 - learning_rate: 0.0012\n",
            "Epoch 4/50\n",
            "\u001b[1m335/335\u001b[0m \u001b[32m━━━━━━━━━━━━━━━━━━━━\u001b[0m\u001b[37m\u001b[0m \u001b[1m0s\u001b[0m 37ms/step - accuracy: 0.3146 - loss: 2.0775\n",
            "Epoch 4: val_loss improved from 2.02217 to 1.94177, saving model to lstm_v2_hybrid_best.h5\n"
          ]
        },
        {
          "name": "stderr",
          "output_type": "stream",
          "text": [
            "WARNING:absl:You are saving your model as an HDF5 file via `model.save()` or `keras.saving.save_model(model)`. This file format is considered legacy. We recommend using instead the native Keras format, e.g. `model.save('my_model.keras')` or `keras.saving.save_model(model, 'my_model.keras')`. \n"
          ]
        },
        {
          "name": "stdout",
          "output_type": "stream",
          "text": [
            "\u001b[1m335/335\u001b[0m \u001b[32m━━━━━━━━━━━━━━━━━━━━\u001b[0m\u001b[37m\u001b[0m \u001b[1m13s\u001b[0m 40ms/step - accuracy: 0.3146 - loss: 2.0775 - val_accuracy: 0.3714 - val_loss: 1.9418 - learning_rate: 0.0012\n",
            "Epoch 5/50\n",
            "\u001b[1m335/335\u001b[0m \u001b[32m━━━━━━━━━━━━━━━━━━━━\u001b[0m\u001b[37m\u001b[0m \u001b[1m0s\u001b[0m 37ms/step - accuracy: 0.3479 - loss: 1.9677\n",
            "Epoch 5: val_loss improved from 1.94177 to 1.91437, saving model to lstm_v2_hybrid_best.h5\n"
          ]
        },
        {
          "name": "stderr",
          "output_type": "stream",
          "text": [
            "WARNING:absl:You are saving your model as an HDF5 file via `model.save()` or `keras.saving.save_model(model)`. This file format is considered legacy. We recommend using instead the native Keras format, e.g. `model.save('my_model.keras')` or `keras.saving.save_model(model, 'my_model.keras')`. \n"
          ]
        },
        {
          "name": "stdout",
          "output_type": "stream",
          "text": [
            "\u001b[1m335/335\u001b[0m \u001b[32m━━━━━━━━━━━━━━━━━━━━\u001b[0m\u001b[37m\u001b[0m \u001b[1m14s\u001b[0m 40ms/step - accuracy: 0.3479 - loss: 1.9678 - val_accuracy: 0.3848 - val_loss: 1.9144 - learning_rate: 0.0012\n",
            "Epoch 6/50\n",
            "\u001b[1m334/335\u001b[0m \u001b[32m━━━━━━━━━━━━━━━━━━━\u001b[0m\u001b[37m━\u001b[0m \u001b[1m0s\u001b[0m 37ms/step - accuracy: 0.3720 - loss: 1.9083\n",
            "Epoch 6: val_loss improved from 1.91437 to 1.79033, saving model to lstm_v2_hybrid_best.h5\n"
          ]
        },
        {
          "name": "stderr",
          "output_type": "stream",
          "text": [
            "WARNING:absl:You are saving your model as an HDF5 file via `model.save()` or `keras.saving.save_model(model)`. This file format is considered legacy. We recommend using instead the native Keras format, e.g. `model.save('my_model.keras')` or `keras.saving.save_model(model, 'my_model.keras')`. \n"
          ]
        },
        {
          "name": "stdout",
          "output_type": "stream",
          "text": [
            "\u001b[1m335/335\u001b[0m \u001b[32m━━━━━━━━━━━━━━━━━━━━\u001b[0m\u001b[37m\u001b[0m \u001b[1m14s\u001b[0m 41ms/step - accuracy: 0.3721 - loss: 1.9083 - val_accuracy: 0.4136 - val_loss: 1.7903 - learning_rate: 0.0012\n",
            "Epoch 7/50\n",
            "\u001b[1m335/335\u001b[0m \u001b[32m━━━━━━━━━━━━━━━━━━━━\u001b[0m\u001b[37m\u001b[0m \u001b[1m0s\u001b[0m 38ms/step - accuracy: 0.4104 - loss: 1.8134\n",
            "Epoch 7: val_loss improved from 1.79033 to 1.75159, saving model to lstm_v2_hybrid_best.h5\n"
          ]
        },
        {
          "name": "stderr",
          "output_type": "stream",
          "text": [
            "WARNING:absl:You are saving your model as an HDF5 file via `model.save()` or `keras.saving.save_model(model)`. This file format is considered legacy. We recommend using instead the native Keras format, e.g. `model.save('my_model.keras')` or `keras.saving.save_model(model, 'my_model.keras')`. \n"
          ]
        },
        {
          "name": "stdout",
          "output_type": "stream",
          "text": [
            "\u001b[1m335/335\u001b[0m \u001b[32m━━━━━━━━━━━━━━━━━━━━\u001b[0m\u001b[37m\u001b[0m \u001b[1m14s\u001b[0m 41ms/step - accuracy: 0.4104 - loss: 1.8134 - val_accuracy: 0.4233 - val_loss: 1.7516 - learning_rate: 0.0012\n",
            "Epoch 8/50\n",
            "\u001b[1m334/335\u001b[0m \u001b[32m━━━━━━━━━━━━━━━━━━━\u001b[0m\u001b[37m━\u001b[0m \u001b[1m0s\u001b[0m 36ms/step - accuracy: 0.4128 - loss: 1.7985\n",
            "Epoch 8: val_loss improved from 1.75159 to 1.69129, saving model to lstm_v2_hybrid_best.h5\n"
          ]
        },
        {
          "name": "stderr",
          "output_type": "stream",
          "text": [
            "WARNING:absl:You are saving your model as an HDF5 file via `model.save()` or `keras.saving.save_model(model)`. This file format is considered legacy. We recommend using instead the native Keras format, e.g. `model.save('my_model.keras')` or `keras.saving.save_model(model, 'my_model.keras')`. \n"
          ]
        },
        {
          "name": "stdout",
          "output_type": "stream",
          "text": [
            "\u001b[1m335/335\u001b[0m \u001b[32m━━━━━━━━━━━━━━━━━━━━\u001b[0m\u001b[37m\u001b[0m \u001b[1m13s\u001b[0m 39ms/step - accuracy: 0.4128 - loss: 1.7984 - val_accuracy: 0.4442 - val_loss: 1.6913 - learning_rate: 0.0012\n",
            "Epoch 9/50\n",
            "\u001b[1m335/335\u001b[0m \u001b[32m━━━━━━━━━━━━━━━━━━━━\u001b[0m\u001b[37m\u001b[0m \u001b[1m0s\u001b[0m 36ms/step - accuracy: 0.4332 - loss: 1.7302\n",
            "Epoch 9: val_loss did not improve from 1.69129\n",
            "\u001b[1m335/335\u001b[0m \u001b[32m━━━━━━━━━━━━━━━━━━━━\u001b[0m\u001b[37m\u001b[0m \u001b[1m13s\u001b[0m 39ms/step - accuracy: 0.4332 - loss: 1.7302 - val_accuracy: 0.4416 - val_loss: 1.7092 - learning_rate: 0.0012\n",
            "Epoch 10/50\n",
            "\u001b[1m335/335\u001b[0m \u001b[32m━━━━━━━━━━━━━━━━━━━━\u001b[0m\u001b[37m\u001b[0m \u001b[1m0s\u001b[0m 37ms/step - accuracy: 0.4452 - loss: 1.6856\n",
            "Epoch 10: val_loss improved from 1.69129 to 1.68189, saving model to lstm_v2_hybrid_best.h5\n"
          ]
        },
        {
          "name": "stderr",
          "output_type": "stream",
          "text": [
            "WARNING:absl:You are saving your model as an HDF5 file via `model.save()` or `keras.saving.save_model(model)`. This file format is considered legacy. We recommend using instead the native Keras format, e.g. `model.save('my_model.keras')` or `keras.saving.save_model(model, 'my_model.keras')`. \n"
          ]
        },
        {
          "name": "stdout",
          "output_type": "stream",
          "text": [
            "\u001b[1m335/335\u001b[0m \u001b[32m━━━━━━━━━━━━━━━━━━━━\u001b[0m\u001b[37m\u001b[0m \u001b[1m14s\u001b[0m 41ms/step - accuracy: 0.4452 - loss: 1.6855 - val_accuracy: 0.4464 - val_loss: 1.6819 - learning_rate: 0.0012\n",
            "Epoch 11/50\n",
            "\u001b[1m335/335\u001b[0m \u001b[32m━━━━━━━━━━━━━━━━━━━━\u001b[0m\u001b[37m\u001b[0m \u001b[1m0s\u001b[0m 37ms/step - accuracy: 0.4645 - loss: 1.6256\n",
            "Epoch 11: val_loss improved from 1.68189 to 1.66102, saving model to lstm_v2_hybrid_best.h5\n"
          ]
        },
        {
          "name": "stderr",
          "output_type": "stream",
          "text": [
            "WARNING:absl:You are saving your model as an HDF5 file via `model.save()` or `keras.saving.save_model(model)`. This file format is considered legacy. We recommend using instead the native Keras format, e.g. `model.save('my_model.keras')` or `keras.saving.save_model(model, 'my_model.keras')`. \n"
          ]
        },
        {
          "name": "stdout",
          "output_type": "stream",
          "text": [
            "\u001b[1m335/335\u001b[0m \u001b[32m━━━━━━━━━━━━━━━━━━━━\u001b[0m\u001b[37m\u001b[0m \u001b[1m14s\u001b[0m 41ms/step - accuracy: 0.4645 - loss: 1.6256 - val_accuracy: 0.4513 - val_loss: 1.6610 - learning_rate: 0.0012\n",
            "Epoch 12/50\n",
            "\u001b[1m334/335\u001b[0m \u001b[32m━━━━━━━━━━━━━━━━━━━\u001b[0m\u001b[37m━\u001b[0m \u001b[1m0s\u001b[0m 37ms/step - accuracy: 0.4589 - loss: 1.6193\n",
            "Epoch 12: val_loss improved from 1.66102 to 1.64232, saving model to lstm_v2_hybrid_best.h5\n"
          ]
        },
        {
          "name": "stderr",
          "output_type": "stream",
          "text": [
            "WARNING:absl:You are saving your model as an HDF5 file via `model.save()` or `keras.saving.save_model(model)`. This file format is considered legacy. We recommend using instead the native Keras format, e.g. `model.save('my_model.keras')` or `keras.saving.save_model(model, 'my_model.keras')`. \n"
          ]
        },
        {
          "name": "stdout",
          "output_type": "stream",
          "text": [
            "\u001b[1m335/335\u001b[0m \u001b[32m━━━━━━━━━━━━━━━━━━━━\u001b[0m\u001b[37m\u001b[0m \u001b[1m14s\u001b[0m 41ms/step - accuracy: 0.4589 - loss: 1.6192 - val_accuracy: 0.4621 - val_loss: 1.6423 - learning_rate: 0.0012\n",
            "Epoch 13/50\n",
            "\u001b[1m334/335\u001b[0m \u001b[32m━━━━━━━━━━━━━━━━━━━\u001b[0m\u001b[37m━\u001b[0m \u001b[1m0s\u001b[0m 37ms/step - accuracy: 0.4693 - loss: 1.6079\n",
            "Epoch 13: val_loss improved from 1.64232 to 1.63633, saving model to lstm_v2_hybrid_best.h5\n"
          ]
        },
        {
          "name": "stderr",
          "output_type": "stream",
          "text": [
            "WARNING:absl:You are saving your model as an HDF5 file via `model.save()` or `keras.saving.save_model(model)`. This file format is considered legacy. We recommend using instead the native Keras format, e.g. `model.save('my_model.keras')` or `keras.saving.save_model(model, 'my_model.keras')`. \n"
          ]
        },
        {
          "name": "stdout",
          "output_type": "stream",
          "text": [
            "\u001b[1m335/335\u001b[0m \u001b[32m━━━━━━━━━━━━━━━━━━━━\u001b[0m\u001b[37m\u001b[0m \u001b[1m14s\u001b[0m 41ms/step - accuracy: 0.4694 - loss: 1.6078 - val_accuracy: 0.4629 - val_loss: 1.6363 - learning_rate: 0.0012\n",
            "Epoch 14/50\n",
            "\u001b[1m334/335\u001b[0m \u001b[32m━━━━━━━━━━━━━━━━━━━\u001b[0m\u001b[37m━\u001b[0m \u001b[1m0s\u001b[0m 38ms/step - accuracy: 0.4976 - loss: 1.5322\n",
            "Epoch 14: val_loss did not improve from 1.63633\n",
            "\u001b[1m335/335\u001b[0m \u001b[32m━━━━━━━━━━━━━━━━━━━━\u001b[0m\u001b[37m\u001b[0m \u001b[1m14s\u001b[0m 41ms/step - accuracy: 0.4975 - loss: 1.5324 - val_accuracy: 0.4617 - val_loss: 1.6443 - learning_rate: 0.0012\n",
            "Epoch 15/50\n",
            "\u001b[1m334/335\u001b[0m \u001b[32m━━━━━━━━━━━━━━━━━━━\u001b[0m\u001b[37m━\u001b[0m \u001b[1m0s\u001b[0m 37ms/step - accuracy: 0.4896 - loss: 1.5381\n",
            "Epoch 15: val_loss improved from 1.63633 to 1.58417, saving model to lstm_v2_hybrid_best.h5\n"
          ]
        },
        {
          "name": "stderr",
          "output_type": "stream",
          "text": [
            "WARNING:absl:You are saving your model as an HDF5 file via `model.save()` or `keras.saving.save_model(model)`. This file format is considered legacy. We recommend using instead the native Keras format, e.g. `model.save('my_model.keras')` or `keras.saving.save_model(model, 'my_model.keras')`. \n"
          ]
        },
        {
          "name": "stdout",
          "output_type": "stream",
          "text": [
            "\u001b[1m335/335\u001b[0m \u001b[32m━━━━━━━━━━━━━━━━━━━━\u001b[0m\u001b[37m\u001b[0m \u001b[1m14s\u001b[0m 41ms/step - accuracy: 0.4896 - loss: 1.5381 - val_accuracy: 0.4793 - val_loss: 1.5842 - learning_rate: 0.0012\n",
            "Epoch 16/50\n",
            "\u001b[1m334/335\u001b[0m \u001b[32m━━━━━━━━━━━━━━━━━━━\u001b[0m\u001b[37m━\u001b[0m \u001b[1m0s\u001b[0m 37ms/step - accuracy: 0.5152 - loss: 1.4771\n",
            "Epoch 16: val_loss improved from 1.58417 to 1.56149, saving model to lstm_v2_hybrid_best.h5\n"
          ]
        },
        {
          "name": "stderr",
          "output_type": "stream",
          "text": [
            "WARNING:absl:You are saving your model as an HDF5 file via `model.save()` or `keras.saving.save_model(model)`. This file format is considered legacy. We recommend using instead the native Keras format, e.g. `model.save('my_model.keras')` or `keras.saving.save_model(model, 'my_model.keras')`. \n"
          ]
        },
        {
          "name": "stdout",
          "output_type": "stream",
          "text": [
            "\u001b[1m335/335\u001b[0m \u001b[32m━━━━━━━━━━━━━━━━━━━━\u001b[0m\u001b[37m\u001b[0m \u001b[1m14s\u001b[0m 40ms/step - accuracy: 0.5151 - loss: 1.4772 - val_accuracy: 0.4965 - val_loss: 1.5615 - learning_rate: 0.0012\n",
            "Epoch 17/50\n",
            "\u001b[1m334/335\u001b[0m \u001b[32m━━━━━━━━━━━━━━━━━━━\u001b[0m\u001b[37m━\u001b[0m \u001b[1m0s\u001b[0m 38ms/step - accuracy: 0.5304 - loss: 1.4314\n",
            "Epoch 17: val_loss did not improve from 1.56149\n",
            "\u001b[1m335/335\u001b[0m \u001b[32m━━━━━━━━━━━━━━━━━━━━\u001b[0m\u001b[37m\u001b[0m \u001b[1m14s\u001b[0m 41ms/step - accuracy: 0.5303 - loss: 1.4315 - val_accuracy: 0.4860 - val_loss: 1.5653 - learning_rate: 0.0012\n",
            "Epoch 18/50\n",
            "\u001b[1m334/335\u001b[0m \u001b[32m━━━━━━━━━━━━━━━━━━━\u001b[0m\u001b[37m━\u001b[0m \u001b[1m0s\u001b[0m 38ms/step - accuracy: 0.5270 - loss: 1.4445\n",
            "Epoch 18: val_loss improved from 1.56149 to 1.52355, saving model to lstm_v2_hybrid_best.h5\n"
          ]
        },
        {
          "name": "stderr",
          "output_type": "stream",
          "text": [
            "WARNING:absl:You are saving your model as an HDF5 file via `model.save()` or `keras.saving.save_model(model)`. This file format is considered legacy. We recommend using instead the native Keras format, e.g. `model.save('my_model.keras')` or `keras.saving.save_model(model, 'my_model.keras')`. \n"
          ]
        },
        {
          "name": "stdout",
          "output_type": "stream",
          "text": [
            "\u001b[1m335/335\u001b[0m \u001b[32m━━━━━━━━━━━━━━━━━━━━\u001b[0m\u001b[37m\u001b[0m \u001b[1m14s\u001b[0m 41ms/step - accuracy: 0.5269 - loss: 1.4445 - val_accuracy: 0.5095 - val_loss: 1.5236 - learning_rate: 0.0012\n",
            "Epoch 19/50\n",
            "\u001b[1m334/335\u001b[0m \u001b[32m━━━━━━━━━━━━━━━━━━━\u001b[0m\u001b[37m━\u001b[0m \u001b[1m0s\u001b[0m 38ms/step - accuracy: 0.5342 - loss: 1.4186\n",
            "Epoch 19: val_loss improved from 1.52355 to 1.50819, saving model to lstm_v2_hybrid_best.h5\n"
          ]
        },
        {
          "name": "stderr",
          "output_type": "stream",
          "text": [
            "WARNING:absl:You are saving your model as an HDF5 file via `model.save()` or `keras.saving.save_model(model)`. This file format is considered legacy. We recommend using instead the native Keras format, e.g. `model.save('my_model.keras')` or `keras.saving.save_model(model, 'my_model.keras')`. \n"
          ]
        },
        {
          "name": "stdout",
          "output_type": "stream",
          "text": [
            "\u001b[1m335/335\u001b[0m \u001b[32m━━━━━━━━━━━━━━━━━━━━\u001b[0m\u001b[37m\u001b[0m \u001b[1m14s\u001b[0m 41ms/step - accuracy: 0.5342 - loss: 1.4187 - val_accuracy: 0.5147 - val_loss: 1.5082 - learning_rate: 0.0012\n",
            "Epoch 20/50\n",
            "\u001b[1m334/335\u001b[0m \u001b[32m━━━━━━━━━━━━━━━━━━━\u001b[0m\u001b[37m━\u001b[0m \u001b[1m0s\u001b[0m 38ms/step - accuracy: 0.5499 - loss: 1.3689\n",
            "Epoch 20: val_loss did not improve from 1.50819\n",
            "\u001b[1m335/335\u001b[0m \u001b[32m━━━━━━━━━━━━━━━━━━━━\u001b[0m\u001b[37m\u001b[0m \u001b[1m14s\u001b[0m 41ms/step - accuracy: 0.5499 - loss: 1.3691 - val_accuracy: 0.4953 - val_loss: 1.5912 - learning_rate: 0.0012\n",
            "Epoch 21/50\n",
            "\u001b[1m335/335\u001b[0m \u001b[32m━━━━━━━━━━━━━━━━━━━━\u001b[0m\u001b[37m\u001b[0m \u001b[1m0s\u001b[0m 37ms/step - accuracy: 0.5279 - loss: 1.4118\n",
            "Epoch 21: val_loss did not improve from 1.50819\n",
            "\u001b[1m335/335\u001b[0m \u001b[32m━━━━━━━━━━━━━━━━━━━━\u001b[0m\u001b[37m\u001b[0m \u001b[1m14s\u001b[0m 40ms/step - accuracy: 0.5279 - loss: 1.4118 - val_accuracy: 0.5315 - val_loss: 1.5108 - learning_rate: 0.0012\n",
            "Epoch 22/50\n",
            "\u001b[1m335/335\u001b[0m \u001b[32m━━━━━━━━━━━━━━━━━━━━\u001b[0m\u001b[37m\u001b[0m \u001b[1m0s\u001b[0m 37ms/step - accuracy: 0.5661 - loss: 1.2915\n",
            "Epoch 22: val_loss did not improve from 1.50819\n",
            "\u001b[1m335/335\u001b[0m \u001b[32m━━━━━━━━━━━━━━━━━━━━\u001b[0m\u001b[37m\u001b[0m \u001b[1m14s\u001b[0m 41ms/step - accuracy: 0.5661 - loss: 1.2916 - val_accuracy: 0.5237 - val_loss: 1.5277 - learning_rate: 0.0012\n",
            "Epoch 23/50\n",
            "\u001b[1m334/335\u001b[0m \u001b[32m━━━━━━━━━━━━━━━━━━━\u001b[0m\u001b[37m━\u001b[0m \u001b[1m0s\u001b[0m 37ms/step - accuracy: 0.5533 - loss: 1.3453\n",
            "Epoch 23: val_loss did not improve from 1.50819\n",
            "\u001b[1m335/335\u001b[0m \u001b[32m━━━━━━━━━━━━━━━━━━━━\u001b[0m\u001b[37m\u001b[0m \u001b[1m13s\u001b[0m 40ms/step - accuracy: 0.5534 - loss: 1.3453 - val_accuracy: 0.5133 - val_loss: 1.5525 - learning_rate: 0.0012\n",
            "Epoch 24/50\n",
            "\u001b[1m334/335\u001b[0m \u001b[32m━━━━━━━━━━━━━━━━━━━\u001b[0m\u001b[37m━\u001b[0m \u001b[1m0s\u001b[0m 38ms/step - accuracy: 0.5475 - loss: 1.4195\n",
            "Epoch 24: val_loss did not improve from 1.50819\n",
            "\u001b[1m335/335\u001b[0m \u001b[32m━━━━━━━━━━━━━━━━━━━━\u001b[0m\u001b[37m\u001b[0m \u001b[1m14s\u001b[0m 41ms/step - accuracy: 0.5475 - loss: 1.4194 - val_accuracy: 0.5151 - val_loss: 1.5181 - learning_rate: 0.0012\n",
            "Epoch 25/50\n",
            "\u001b[1m335/335\u001b[0m \u001b[32m━━━━━━━━━━━━━━━━━━━━\u001b[0m\u001b[37m\u001b[0m \u001b[1m0s\u001b[0m 38ms/step - accuracy: 0.5624 - loss: 1.3240\n",
            "Epoch 25: val_loss did not improve from 1.50819\n",
            "\u001b[1m335/335\u001b[0m \u001b[32m━━━━━━━━━━━━━━━━━━━━\u001b[0m\u001b[37m\u001b[0m \u001b[1m14s\u001b[0m 41ms/step - accuracy: 0.5624 - loss: 1.3240 - val_accuracy: 0.5207 - val_loss: 1.5694 - learning_rate: 0.0012\n",
            "Epoch 26/50\n",
            "\u001b[1m334/335\u001b[0m \u001b[32m━━━━━━━━━━━━━━━━━━━\u001b[0m\u001b[37m━\u001b[0m \u001b[1m0s\u001b[0m 38ms/step - accuracy: 0.5537 - loss: 1.3493\n",
            "Epoch 26: val_loss improved from 1.50819 to 1.50511, saving model to lstm_v2_hybrid_best.h5\n"
          ]
        },
        {
          "name": "stderr",
          "output_type": "stream",
          "text": [
            "WARNING:absl:You are saving your model as an HDF5 file via `model.save()` or `keras.saving.save_model(model)`. This file format is considered legacy. We recommend using instead the native Keras format, e.g. `model.save('my_model.keras')` or `keras.saving.save_model(model, 'my_model.keras')`. \n"
          ]
        },
        {
          "name": "stdout",
          "output_type": "stream",
          "text": [
            "\u001b[1m335/335\u001b[0m \u001b[32m━━━━━━━━━━━━━━━━━━━━\u001b[0m\u001b[37m\u001b[0m \u001b[1m14s\u001b[0m 41ms/step - accuracy: 0.5537 - loss: 1.3493 - val_accuracy: 0.5278 - val_loss: 1.5051 - learning_rate: 0.0012\n",
            "Epoch 27/50\n",
            "\u001b[1m335/335\u001b[0m \u001b[32m━━━━━━━━━━━━━━━━━━━━\u001b[0m\u001b[37m\u001b[0m \u001b[1m0s\u001b[0m 38ms/step - accuracy: 0.5795 - loss: 1.3114\n",
            "Epoch 27: val_loss improved from 1.50511 to 1.49069, saving model to lstm_v2_hybrid_best.h5\n"
          ]
        },
        {
          "name": "stderr",
          "output_type": "stream",
          "text": [
            "WARNING:absl:You are saving your model as an HDF5 file via `model.save()` or `keras.saving.save_model(model)`. This file format is considered legacy. We recommend using instead the native Keras format, e.g. `model.save('my_model.keras')` or `keras.saving.save_model(model, 'my_model.keras')`. \n"
          ]
        },
        {
          "name": "stdout",
          "output_type": "stream",
          "text": [
            "\u001b[1m335/335\u001b[0m \u001b[32m━━━━━━━━━━━━━━━━━━━━\u001b[0m\u001b[37m\u001b[0m \u001b[1m14s\u001b[0m 41ms/step - accuracy: 0.5795 - loss: 1.3113 - val_accuracy: 0.5506 - val_loss: 1.4907 - learning_rate: 0.0012\n",
            "Epoch 28/50\n",
            "\u001b[1m334/335\u001b[0m \u001b[32m━━━━━━━━━━━━━━━━━━━\u001b[0m\u001b[37m━\u001b[0m \u001b[1m0s\u001b[0m 36ms/step - accuracy: 0.5771 - loss: 1.3205\n",
            "Epoch 28: val_loss improved from 1.49069 to 1.47129, saving model to lstm_v2_hybrid_best.h5\n"
          ]
        },
        {
          "name": "stderr",
          "output_type": "stream",
          "text": [
            "WARNING:absl:You are saving your model as an HDF5 file via `model.save()` or `keras.saving.save_model(model)`. This file format is considered legacy. We recommend using instead the native Keras format, e.g. `model.save('my_model.keras')` or `keras.saving.save_model(model, 'my_model.keras')`. \n"
          ]
        },
        {
          "name": "stdout",
          "output_type": "stream",
          "text": [
            "\u001b[1m335/335\u001b[0m \u001b[32m━━━━━━━━━━━━━━━━━━━━\u001b[0m\u001b[37m\u001b[0m \u001b[1m13s\u001b[0m 39ms/step - accuracy: 0.5770 - loss: 1.3206 - val_accuracy: 0.5379 - val_loss: 1.4713 - learning_rate: 0.0012\n",
            "Epoch 29/50\n",
            "\u001b[1m335/335\u001b[0m \u001b[32m━━━━━━━━━━━━━━━━━━━━\u001b[0m\u001b[37m\u001b[0m \u001b[1m0s\u001b[0m 35ms/step - accuracy: 0.5857 - loss: 1.2722\n",
            "Epoch 29: val_loss did not improve from 1.47129\n",
            "\u001b[1m335/335\u001b[0m \u001b[32m━━━━━━━━━━━━━━━━━━━━\u001b[0m\u001b[37m\u001b[0m \u001b[1m13s\u001b[0m 38ms/step - accuracy: 0.5857 - loss: 1.2723 - val_accuracy: 0.5278 - val_loss: 1.5128 - learning_rate: 0.0012\n",
            "Epoch 30/50\n",
            "\u001b[1m335/335\u001b[0m \u001b[32m━━━━━━━━━━━━━━━━━━━━\u001b[0m\u001b[37m\u001b[0m \u001b[1m0s\u001b[0m 36ms/step - accuracy: 0.6054 - loss: 1.2301\n",
            "Epoch 30: val_loss did not improve from 1.47129\n",
            "\u001b[1m335/335\u001b[0m \u001b[32m━━━━━━━━━━━━━━━━━━━━\u001b[0m\u001b[37m\u001b[0m \u001b[1m13s\u001b[0m 38ms/step - accuracy: 0.6053 - loss: 1.2303 - val_accuracy: 0.5390 - val_loss: 1.5061 - learning_rate: 0.0012\n",
            "Epoch 31/50\n",
            "\u001b[1m334/335\u001b[0m \u001b[32m━━━━━━━━━━━━━━━━━━━\u001b[0m\u001b[37m━\u001b[0m \u001b[1m0s\u001b[0m 36ms/step - accuracy: 0.5977 - loss: 1.2673\n",
            "Epoch 31: val_loss did not improve from 1.47129\n",
            "\u001b[1m335/335\u001b[0m \u001b[32m━━━━━━━━━━━━━━━━━━━━\u001b[0m\u001b[37m\u001b[0m \u001b[1m13s\u001b[0m 39ms/step - accuracy: 0.5978 - loss: 1.2672 - val_accuracy: 0.5267 - val_loss: 1.5421 - learning_rate: 0.0012\n",
            "Epoch 32/50\n",
            "\u001b[1m335/335\u001b[0m \u001b[32m━━━━━━━━━━━━━━━━━━━━\u001b[0m\u001b[37m\u001b[0m \u001b[1m0s\u001b[0m 35ms/step - accuracy: 0.6151 - loss: 1.2149\n",
            "Epoch 32: val_loss did not improve from 1.47129\n",
            "\u001b[1m335/335\u001b[0m \u001b[32m━━━━━━━━━━━━━━━━━━━━\u001b[0m\u001b[37m\u001b[0m \u001b[1m13s\u001b[0m 38ms/step - accuracy: 0.6150 - loss: 1.2150 - val_accuracy: 0.5480 - val_loss: 1.5391 - learning_rate: 0.0012\n",
            "Epoch 33/50\n",
            "\u001b[1m335/335\u001b[0m \u001b[32m━━━━━━━━━━━━━━━━━━━━\u001b[0m\u001b[37m\u001b[0m \u001b[1m0s\u001b[0m 36ms/step - accuracy: 0.6035 - loss: 1.2460\n",
            "Epoch 33: val_loss improved from 1.47129 to 1.47103, saving model to lstm_v2_hybrid_best.h5\n"
          ]
        },
        {
          "name": "stderr",
          "output_type": "stream",
          "text": [
            "WARNING:absl:You are saving your model as an HDF5 file via `model.save()` or `keras.saving.save_model(model)`. This file format is considered legacy. We recommend using instead the native Keras format, e.g. `model.save('my_model.keras')` or `keras.saving.save_model(model, 'my_model.keras')`. \n"
          ]
        },
        {
          "name": "stdout",
          "output_type": "stream",
          "text": [
            "\u001b[1m335/335\u001b[0m \u001b[32m━━━━━━━━━━━━━━━━━━━━\u001b[0m\u001b[37m\u001b[0m \u001b[1m13s\u001b[0m 40ms/step - accuracy: 0.6035 - loss: 1.2460 - val_accuracy: 0.5483 - val_loss: 1.4710 - learning_rate: 0.0012\n",
            "Epoch 34/50\n",
            "\u001b[1m334/335\u001b[0m \u001b[32m━━━━━━━━━━━━━━━━━━━\u001b[0m\u001b[37m━\u001b[0m \u001b[1m0s\u001b[0m 37ms/step - accuracy: 0.6264 - loss: 1.1927\n",
            "Epoch 34: val_loss did not improve from 1.47103\n",
            "\u001b[1m335/335\u001b[0m \u001b[32m━━━━━━━━━━━━━━━━━━━━\u001b[0m\u001b[37m\u001b[0m \u001b[1m13s\u001b[0m 40ms/step - accuracy: 0.6264 - loss: 1.1930 - val_accuracy: 0.5349 - val_loss: 1.5189 - learning_rate: 0.0012\n",
            "Epoch 35/50\n",
            "\u001b[1m334/335\u001b[0m \u001b[32m━━━━━━━━━━━━━━━━━━━\u001b[0m\u001b[37m━\u001b[0m \u001b[1m0s\u001b[0m 37ms/step - accuracy: 0.6101 - loss: 1.2397\n",
            "Epoch 35: val_loss improved from 1.47103 to 1.44464, saving model to lstm_v2_hybrid_best.h5\n"
          ]
        },
        {
          "name": "stderr",
          "output_type": "stream",
          "text": [
            "WARNING:absl:You are saving your model as an HDF5 file via `model.save()` or `keras.saving.save_model(model)`. This file format is considered legacy. We recommend using instead the native Keras format, e.g. `model.save('my_model.keras')` or `keras.saving.save_model(model, 'my_model.keras')`. \n"
          ]
        },
        {
          "name": "stdout",
          "output_type": "stream",
          "text": [
            "\u001b[1m335/335\u001b[0m \u001b[32m━━━━━━━━━━━━━━━━━━━━\u001b[0m\u001b[37m\u001b[0m \u001b[1m14s\u001b[0m 41ms/step - accuracy: 0.6101 - loss: 1.2397 - val_accuracy: 0.5513 - val_loss: 1.4446 - learning_rate: 0.0012\n",
            "Epoch 36/50\n",
            "\u001b[1m335/335\u001b[0m \u001b[32m━━━━━━━━━━━━━━━━━━━━\u001b[0m\u001b[37m\u001b[0m \u001b[1m0s\u001b[0m 38ms/step - accuracy: 0.6182 - loss: 1.2063\n",
            "Epoch 36: val_loss did not improve from 1.44464\n",
            "\u001b[1m335/335\u001b[0m \u001b[32m━━━━━━━━━━━━━━━━━━━━\u001b[0m\u001b[37m\u001b[0m \u001b[1m14s\u001b[0m 41ms/step - accuracy: 0.6181 - loss: 1.2063 - val_accuracy: 0.5375 - val_loss: 1.5066 - learning_rate: 0.0012\n",
            "Epoch 37/50\n",
            "\u001b[1m335/335\u001b[0m \u001b[32m━━━━━━━━━━━━━━━━━━━━\u001b[0m\u001b[37m\u001b[0m \u001b[1m0s\u001b[0m 37ms/step - accuracy: 0.6252 - loss: 1.2181\n",
            "Epoch 37: val_loss did not improve from 1.44464\n",
            "\u001b[1m335/335\u001b[0m \u001b[32m━━━━━━━━━━━━━━━━━━━━\u001b[0m\u001b[37m\u001b[0m \u001b[1m14s\u001b[0m 41ms/step - accuracy: 0.6252 - loss: 1.2182 - val_accuracy: 0.5558 - val_loss: 1.4815 - learning_rate: 0.0012\n",
            "Epoch 38/50\n",
            "\u001b[1m335/335\u001b[0m \u001b[32m━━━━━━━━━━━━━━━━━━━━\u001b[0m\u001b[37m\u001b[0m \u001b[1m0s\u001b[0m 38ms/step - accuracy: 0.6306 - loss: 1.1601\n",
            "Epoch 38: val_loss did not improve from 1.44464\n",
            "\u001b[1m335/335\u001b[0m \u001b[32m━━━━━━━━━━━━━━━━━━━━\u001b[0m\u001b[37m\u001b[0m \u001b[1m14s\u001b[0m 41ms/step - accuracy: 0.6305 - loss: 1.1602 - val_accuracy: 0.5610 - val_loss: 1.4705 - learning_rate: 0.0012\n",
            "Epoch 39/50\n",
            "\u001b[1m334/335\u001b[0m \u001b[32m━━━━━━━━━━━━━━━━━━━\u001b[0m\u001b[37m━\u001b[0m \u001b[1m0s\u001b[0m 38ms/step - accuracy: 0.6343 - loss: 1.2099\n",
            "Epoch 39: val_loss did not improve from 1.44464\n",
            "\u001b[1m335/335\u001b[0m \u001b[32m━━━━━━━━━━━━━━━━━━━━\u001b[0m\u001b[37m\u001b[0m \u001b[1m14s\u001b[0m 41ms/step - accuracy: 0.6342 - loss: 1.2100 - val_accuracy: 0.5640 - val_loss: 1.4583 - learning_rate: 0.0012\n",
            "Epoch 40/50\n",
            "\u001b[1m334/335\u001b[0m \u001b[32m━━━━━━━━━━━━━━━━━━━\u001b[0m\u001b[37m━\u001b[0m \u001b[1m0s\u001b[0m 37ms/step - accuracy: 0.6350 - loss: 1.1685\n",
            "Epoch 40: val_loss did not improve from 1.44464\n",
            "\u001b[1m335/335\u001b[0m \u001b[32m━━━━━━━━━━━━━━━━━━━━\u001b[0m\u001b[37m\u001b[0m \u001b[1m13s\u001b[0m 40ms/step - accuracy: 0.6350 - loss: 1.1686 - val_accuracy: 0.5580 - val_loss: 1.5164 - learning_rate: 0.0012\n",
            "Epoch 41/50\n",
            "\u001b[1m334/335\u001b[0m \u001b[32m━━━━━━━━━━━━━━━━━━━\u001b[0m\u001b[37m━\u001b[0m \u001b[1m0s\u001b[0m 36ms/step - accuracy: 0.6362 - loss: 1.2095\n",
            "Epoch 41: val_loss did not improve from 1.44464\n",
            "\u001b[1m335/335\u001b[0m \u001b[32m━━━━━━━━━━━━━━━━━━━━\u001b[0m\u001b[37m\u001b[0m \u001b[1m13s\u001b[0m 40ms/step - accuracy: 0.6362 - loss: 1.2095 - val_accuracy: 0.5435 - val_loss: 1.5288 - learning_rate: 0.0012\n",
            "Epoch 42/50\n",
            "\u001b[1m334/335\u001b[0m \u001b[32m━━━━━━━━━━━━━━━━━━━\u001b[0m\u001b[37m━\u001b[0m \u001b[1m0s\u001b[0m 37ms/step - accuracy: 0.6469 - loss: 1.1815\n",
            "Epoch 42: val_loss did not improve from 1.44464\n",
            "\u001b[1m335/335\u001b[0m \u001b[32m━━━━━━━━━━━━━━━━━━━━\u001b[0m\u001b[37m\u001b[0m \u001b[1m13s\u001b[0m 39ms/step - accuracy: 0.6468 - loss: 1.1817 - val_accuracy: 0.5524 - val_loss: 1.4968 - learning_rate: 0.0012\n",
            "Epoch 43/50\n",
            "\u001b[1m335/335\u001b[0m \u001b[32m━━━━━━━━━━━━━━━━━━━━\u001b[0m\u001b[37m\u001b[0m \u001b[1m0s\u001b[0m 36ms/step - accuracy: 0.6514 - loss: 1.1517\n",
            "Epoch 43: val_loss did not improve from 1.44464\n",
            "\u001b[1m335/335\u001b[0m \u001b[32m━━━━━━━━━━━━━━━━━━━━\u001b[0m\u001b[37m\u001b[0m \u001b[1m13s\u001b[0m 39ms/step - accuracy: 0.6514 - loss: 1.1517 - val_accuracy: 0.5588 - val_loss: 1.4855 - learning_rate: 0.0012\n",
            "Epoch 44/50\n",
            "\u001b[1m335/335\u001b[0m \u001b[32m━━━━━━━━━━━━━━━━━━━━\u001b[0m\u001b[37m\u001b[0m \u001b[1m0s\u001b[0m 36ms/step - accuracy: 0.6482 - loss: 1.1659\n",
            "Epoch 44: val_loss did not improve from 1.44464\n",
            "\u001b[1m335/335\u001b[0m \u001b[32m━━━━━━━━━━━━━━━━━━━━\u001b[0m\u001b[37m\u001b[0m \u001b[1m13s\u001b[0m 39ms/step - accuracy: 0.6482 - loss: 1.1658 - val_accuracy: 0.5711 - val_loss: 1.4615 - learning_rate: 0.0012\n",
            "Epoch 45/50\n",
            "\u001b[1m335/335\u001b[0m \u001b[32m━━━━━━━━━━━━━━━━━━━━\u001b[0m\u001b[37m\u001b[0m \u001b[1m0s\u001b[0m 37ms/step - accuracy: 0.6572 - loss: 1.1461\n",
            "Epoch 45: val_loss did not improve from 1.44464\n",
            "\n",
            "Epoch 45: ReduceLROnPlateau reducing learning rate to 0.0005993141094222665.\n",
            "\u001b[1m335/335\u001b[0m \u001b[32m━━━━━━━━━━━━━━━━━━━━\u001b[0m\u001b[37m\u001b[0m \u001b[1m14s\u001b[0m 40ms/step - accuracy: 0.6572 - loss: 1.1461 - val_accuracy: 0.5737 - val_loss: 1.4779 - learning_rate: 0.0012\n",
            "Epoch 46/50\n",
            "\u001b[1m335/335\u001b[0m \u001b[32m━━━━━━━━━━━━━━━━━━━━\u001b[0m\u001b[37m\u001b[0m \u001b[1m0s\u001b[0m 37ms/step - accuracy: 0.6839 - loss: 1.0853\n",
            "Epoch 46: val_loss improved from 1.44464 to 1.41384, saving model to lstm_v2_hybrid_best.h5\n"
          ]
        },
        {
          "name": "stderr",
          "output_type": "stream",
          "text": [
            "WARNING:absl:You are saving your model as an HDF5 file via `model.save()` or `keras.saving.save_model(model)`. This file format is considered legacy. We recommend using instead the native Keras format, e.g. `model.save('my_model.keras')` or `keras.saving.save_model(model, 'my_model.keras')`. \n"
          ]
        },
        {
          "name": "stdout",
          "output_type": "stream",
          "text": [
            "\u001b[1m335/335\u001b[0m \u001b[32m━━━━━━━━━━━━━━━━━━━━\u001b[0m\u001b[37m\u001b[0m \u001b[1m14s\u001b[0m 40ms/step - accuracy: 0.6838 - loss: 1.0853 - val_accuracy: 0.6002 - val_loss: 1.4138 - learning_rate: 5.9931e-04\n",
            "Epoch 47/50\n",
            "\u001b[1m334/335\u001b[0m \u001b[32m━━━━━━━━━━━━━━━━━━━\u001b[0m\u001b[37m━\u001b[0m \u001b[1m0s\u001b[0m 38ms/step - accuracy: 0.6906 - loss: 1.0238\n",
            "Epoch 47: val_loss did not improve from 1.41384\n",
            "\u001b[1m335/335\u001b[0m \u001b[32m━━━━━━━━━━━━━━━━━━━━\u001b[0m\u001b[37m\u001b[0m \u001b[1m14s\u001b[0m 41ms/step - accuracy: 0.6907 - loss: 1.0237 - val_accuracy: 0.6032 - val_loss: 1.4493 - learning_rate: 5.9931e-04\n",
            "Epoch 48/50\n",
            "\u001b[1m334/335\u001b[0m \u001b[32m━━━━━━━━━━━━━━━━━━━\u001b[0m\u001b[37m━\u001b[0m \u001b[1m0s\u001b[0m 39ms/step - accuracy: 0.7006 - loss: 0.9838\n",
            "Epoch 48: val_loss did not improve from 1.41384\n",
            "\u001b[1m335/335\u001b[0m \u001b[32m━━━━━━━━━━━━━━━━━━━━\u001b[0m\u001b[37m\u001b[0m \u001b[1m14s\u001b[0m 42ms/step - accuracy: 0.7006 - loss: 0.9838 - val_accuracy: 0.5950 - val_loss: 1.4518 - learning_rate: 5.9931e-04\n",
            "Epoch 49/50\n",
            "\u001b[1m334/335\u001b[0m \u001b[32m━━━━━━━━━━━━━━━━━━━\u001b[0m\u001b[37m━\u001b[0m \u001b[1m0s\u001b[0m 38ms/step - accuracy: 0.7157 - loss: 0.9581\n",
            "Epoch 49: val_loss did not improve from 1.41384\n",
            "\u001b[1m335/335\u001b[0m \u001b[32m━━━━━━━━━━━━━━━━━━━━\u001b[0m\u001b[37m\u001b[0m \u001b[1m14s\u001b[0m 41ms/step - accuracy: 0.7156 - loss: 0.9582 - val_accuracy: 0.6054 - val_loss: 1.4499 - learning_rate: 5.9931e-04\n",
            "Epoch 50/50\n",
            "\u001b[1m335/335\u001b[0m \u001b[32m━━━━━━━━━━━━━━━━━━━━\u001b[0m\u001b[37m\u001b[0m \u001b[1m0s\u001b[0m 37ms/step - accuracy: 0.7172 - loss: 0.9582\n",
            "Epoch 50: val_loss did not improve from 1.41384\n",
            "\u001b[1m335/335\u001b[0m \u001b[32m━━━━━━━━━━━━━━━━━━━━\u001b[0m\u001b[37m\u001b[0m \u001b[1m13s\u001b[0m 40ms/step - accuracy: 0.7172 - loss: 0.9582 - val_accuracy: 0.6021 - val_loss: 1.4720 - learning_rate: 5.9931e-04\n",
            "Restoring model weights from the end of the best epoch: 46.\n",
            "学習完了！学習時間: 683.22秒\n",
            "最良検証Loss: 1.4138\n",
            "最良検証Accuracy: 0.6054\n",
            "ハイブリッドモデル評価中...\n",
            "テストLoss: 1.4138\n",
            "テストAccuracy: 0.6002\n",
            "F1-Score (macro): 0.5135\n",
            "F1-Score (weighted): 0.5737\n",
            "Trial 7 failed: 'accuracy'\n",
            "[I 2025-07-07 13:36:56,425] Trial 7 finished with value: 0.0 and parameters: {'lstm_units_1': 128, 'lstm_units_2': 56, 'dense_units': 48, 'demographics_dense_units': 32, 'fusion_dense_units': 48, 'dropout_rate': 0.1, 'dense_dropout_rate': 0.4, 'learning_rate': 0.0011986281799901185, 'batch_size': 32, 'fusion_type': 'gated', 'patience': 18, 'reduce_lr_patience': 10}. Best is trial 0 with value: 0.0.\n",
            "==================================================\n",
            "最適化完了: 2025-07-07 13:36:56.460872\n"
          ]
        }
      ],
      "source": [
        "# Optunaスタディ作成\n",
        "sampler = TPESampler(seed=42)\n",
        "pruner = MedianPruner(n_startup_trials=5, n_warmup_steps=10)\n",
        "\n",
        "study = optuna.create_study(\n",
        "    direction='maximize',\n",
        "    sampler=sampler,\n",
        "    pruner=pruner,\n",
        "    study_name=STUDY_NAME,\n",
        "    storage=STORAGE_URL,\n",
        "    load_if_exists=True\n",
        ")\n",
        "\n",
        "print(f\"最適化開始: {datetime.now()}\")\n",
        "print(f\"目標: F1-macro > {LSTM_V1_BENCHMARK['f1_macro']:.4f}\")\n",
        "print(\"=\"*50)\n",
        "\n",
        "# 最適化実行\n",
        "study.optimize(\n",
        "    objective,\n",
        "    n_trials=N_TRIALS,\n",
        "    timeout=TIMEOUT,\n",
        "    show_progress_bar=True\n",
        ")\n",
        "\n",
        "print(\"=\"*50)\n",
        "print(f\"最適化完了: {datetime.now()}\")\n"
      ]
    },
    {
      "cell_type": "code",
      "execution_count": 8,
      "metadata": {},
      "outputs": [
        {
          "name": "stdout",
          "output_type": "stream",
          "text": [
            "=== 最適化結果 ===\n",
            "試行回数: 8\n",
            "最良スコア: 0.0000\n",
            "LSTM v1ベンチマーク: 0.5200\n",
            "改善度: -0.5200\n",
            "\n",
            "=== 最良パラメータ ===\n",
            "lstm_units_1: 64\n",
            "lstm_units_2: 64\n",
            "dense_units: 56\n",
            "demographics_dense_units: 24\n",
            "fusion_dense_units: 16\n",
            "dropout_rate: 0.1\n",
            "dense_dropout_rate: 0.1\n",
            "learning_rate: 0.005399484409787433\n",
            "batch_size: 32\n",
            "fusion_type: concatenate\n",
            "patience: 12\n",
            "reduce_lr_patience: 6\n",
            "\n",
            "=== 最良試行の詳細 ===\n",
            "F1-macro: 0.0000\n"
          ]
        },
        {
          "ename": "ValueError",
          "evalue": "Unknown format code 'f' for object of type 'str'",
          "output_type": "error",
          "traceback": [
            "\u001b[31m---------------------------------------------------------------------------\u001b[39m",
            "\u001b[31mValueError\u001b[39m                                Traceback (most recent call last)",
            "\u001b[36mCell\u001b[39m\u001b[36m \u001b[39m\u001b[32mIn[8]\u001b[39m\u001b[32m, line 18\u001b[39m\n\u001b[32m     16\u001b[39m \u001b[38;5;28mprint\u001b[39m(\u001b[33m\"\u001b[39m\u001b[38;5;130;01m\\n\u001b[39;00m\u001b[33m=== 最良試行の詳細 ===\u001b[39m\u001b[33m\"\u001b[39m)\n\u001b[32m     17\u001b[39m \u001b[38;5;28mprint\u001b[39m(\u001b[33mf\u001b[39m\u001b[33m\"\u001b[39m\u001b[33mF1-macro: \u001b[39m\u001b[38;5;132;01m{\u001b[39;00mbest_trial.value\u001b[38;5;132;01m:\u001b[39;00m\u001b[33m.4f\u001b[39m\u001b[38;5;132;01m}\u001b[39;00m\u001b[33m\"\u001b[39m)\n\u001b[32m---> \u001b[39m\u001b[32m18\u001b[39m \u001b[38;5;28mprint\u001b[39m(\u001b[33mf\u001b[39m\u001b[33m\"\u001b[39m\u001b[33mAccuracy: \u001b[39m\u001b[38;5;132;01m{\u001b[39;00mbest_trial.user_attrs.get(\u001b[33m'\u001b[39m\u001b[33maccuracy\u001b[39m\u001b[33m'\u001b[39m,\u001b[38;5;250m \u001b[39m\u001b[33m'\u001b[39m\u001b[33mN/A\u001b[39m\u001b[33m'\u001b[39m)\u001b[38;5;132;01m:\u001b[39;00m\u001b[33m.4f\u001b[39m\u001b[38;5;132;01m}\u001b[39;00m\u001b[33m\"\u001b[39m)\n\u001b[32m     19\u001b[39m \u001b[38;5;28mprint\u001b[39m(\u001b[33mf\u001b[39m\u001b[33m\"\u001b[39m\u001b[33mF1-weighted: \u001b[39m\u001b[38;5;132;01m{\u001b[39;00mbest_trial.user_attrs.get(\u001b[33m'\u001b[39m\u001b[33mf1_weighted\u001b[39m\u001b[33m'\u001b[39m,\u001b[38;5;250m \u001b[39m\u001b[33m'\u001b[39m\u001b[33mN/A\u001b[39m\u001b[33m'\u001b[39m)\u001b[38;5;132;01m:\u001b[39;00m\u001b[33m.4f\u001b[39m\u001b[38;5;132;01m}\u001b[39;00m\u001b[33m\"\u001b[39m)\n\u001b[32m     20\u001b[39m \u001b[38;5;28mprint\u001b[39m(\u001b[33mf\u001b[39m\u001b[33m\"\u001b[39m\u001b[33mPrecision-macro: \u001b[39m\u001b[38;5;132;01m{\u001b[39;00mbest_trial.user_attrs.get(\u001b[33m'\u001b[39m\u001b[33mprecision_macro\u001b[39m\u001b[33m'\u001b[39m,\u001b[38;5;250m \u001b[39m\u001b[33m'\u001b[39m\u001b[33mN/A\u001b[39m\u001b[33m'\u001b[39m)\u001b[38;5;132;01m:\u001b[39;00m\u001b[33m.4f\u001b[39m\u001b[38;5;132;01m}\u001b[39;00m\u001b[33m\"\u001b[39m)\n",
            "\u001b[31mValueError\u001b[39m: Unknown format code 'f' for object of type 'str'"
          ]
        }
      ],
      "source": [
        "# 最適化結果\n",
        "print(\"=== 最適化結果 ===\")\n",
        "print(f\"試行回数: {len(study.trials)}\")\n",
        "print(f\"最良スコア: {study.best_value:.4f}\")\n",
        "print(f\"LSTM v1ベンチマーク: {LSTM_V1_BENCHMARK['f1_macro']:.4f}\")\n",
        "print(f\"改善度: {study.best_value - LSTM_V1_BENCHMARK['f1_macro']:+.4f}\")\n",
        "\n",
        "# 最良パラメータ\n",
        "print(\"\\n=== 最良パラメータ ===\")\n",
        "best_params = study.best_params\n",
        "for key, value in best_params.items():\n",
        "    print(f\"{key}: {value}\")\n",
        "\n",
        "# 最良試行の詳細\n",
        "best_trial = study.best_trial\n",
        "print(\"\\n=== 最良試行の詳細 ===\")\n",
        "print(f\"F1-macro: {best_trial.value:.4f}\")\n",
        "print(f\"Accuracy: {best_trial.user_attrs.get('accuracy', 'N/A'):.4f}\")\n",
        "print(f\"F1-weighted: {best_trial.user_attrs.get('f1_weighted', 'N/A'):.4f}\")\n",
        "print(f\"Precision-macro: {best_trial.user_attrs.get('precision_macro', 'N/A'):.4f}\")\n",
        "print(f\"Recall-macro: {best_trial.user_attrs.get('recall_macro', 'N/A'):.4f}\")\n",
        "print(f\"Training time: {best_trial.user_attrs.get('training_time', 'N/A'):.2f}s\")\n"
      ]
    },
    {
      "cell_type": "code",
      "execution_count": null,
      "metadata": {},
      "outputs": [
        {
          "name": "stdout",
          "output_type": "stream",
          "text": [
            "Mixed precision enabled for better GPU performance\n",
            "GPU利用可能: 1台\n",
            "使用GPU: PhysicalDevice(name='/physical_device:GPU:0', device_type='GPU')\n",
            "LSTM v2学習環境初期化完了\n",
            "実験名: lstm_v2\n",
            "ウィンドウ設定: w64_s16\n",
            "出力ディレクトリ: ../output/experiments/lstm_v2_w64_s16\n",
            "前処理済みデータ: ../output/experiments/lstm_v2_w64_s16/preprocessed\n",
            "GPU利用可能: True\n",
            "前処理済みデータを読み込み中...\n",
            "データ読み込み完了:\n",
            "  センサーデータ: (13393, 64, 332)\n",
            "  Demographics: (13393, 20)\n",
            "  ラベル: (13393,)\n",
            "  クラス数: 18\n",
            "ライブラリ読み込み完了\n",
            "実行時刻: 2025-07-07 11:35:12.469583\n"
          ]
        }
      ],
      "source": [
        "import sys\n",
        "import os\n",
        "import numpy as np\n",
        "import pandas as pd\n",
        "import matplotlib.pyplot as plt\n",
        "import seaborn as sns\n",
        "from datetime import datetime\n",
        "import json\n",
        "import pickle\n",
        "import warnings\n",
        "warnings.filterwarnings('ignore')\n",
        "\n",
        "# プロジェクトルートを追加\n",
        "project_root = os.path.abspath('..')\n",
        "if project_root not in sys.path:\n",
        "    sys.path.append(project_root)\n",
        "\n",
        "# Optuna関連\n",
        "import optuna\n",
        "from optuna.samplers import TPESampler\n",
        "from optuna.pruners import MedianPruner\n",
        "import optuna.visualization as vis\n",
        "\n",
        "# 自作モジュール\n",
        "from src.lstm_v2_model import LSTMv2HybridModel\n",
        "from src.lstm_v2_trainer import LSTMv2Trainer\n",
        "\n",
        "# LSTMv2Trainerクラスをインスタンス化してデータをロード\n",
        "trainer = LSTMv2Trainer()\n",
        "data = trainer.load_preprocessed_data()\n",
        "# 結果保存用ディレクトリ\n",
        "os.makedirs('../output/experiments/lstm_v2_optimization', exist_ok=True)\n",
        "os.makedirs('../output/experiments/lstm_v2_optimized', exist_ok=True)\n",
        "\n",
        "print(\"ライブラリ読み込み完了\")\n",
        "print(f\"実行時刻: {datetime.now()}\")\n"
      ]
    },
    {
      "cell_type": "code",
      "execution_count": null,
      "metadata": {},
      "outputs": [],
      "source": [
        "# 融合方式別の性能分析\n",
        "fusion_results = {}\n",
        "for trial in study.trials:\n",
        "    if trial.state == optuna.trial.TrialState.COMPLETE:\n",
        "        fusion_type = trial.params.get('fusion_type', 'unknown')\n",
        "        if fusion_type not in fusion_results:\n",
        "            fusion_results[fusion_type] = []\n",
        "        fusion_results[fusion_type].append(trial.value)\n",
        "\n",
        "# 融合方式別統計\n",
        "print(\"\\n=== 融合方式別性能 ===\")\n",
        "fusion_stats = {}\n",
        "for fusion_type, scores in fusion_results.items():\n",
        "    if scores:\n",
        "        stats = {\n",
        "            'count': len(scores),\n",
        "            'mean': np.mean(scores),\n",
        "            'std': np.std(scores),\n",
        "            'max': np.max(scores),\n",
        "            'min': np.min(scores)\n",
        "        }\n",
        "        fusion_stats[fusion_type] = stats\n",
        "        print(f\"{fusion_type}: {stats['mean']:.4f}±{stats['std']:.4f} (max: {stats['max']:.4f}, n={stats['count']})\")\n",
        "\n",
        "# 最良融合方式\n",
        "best_fusion_type = max(fusion_stats.keys(), key=lambda x: fusion_stats[x]['max'])\n",
        "print(f\"\\n最良融合方式: {best_fusion_type} (max F1-macro: {fusion_stats[best_fusion_type]['max']:.4f})\")\n"
      ]
    },
    {
      "cell_type": "code",
      "execution_count": null,
      "metadata": {},
      "outputs": [],
      "source": [
        "# 最適化履歴の可視化\n",
        "fig, axes = plt.subplots(2, 2, figsize=(15, 12))\n",
        "\n",
        "# 1. 最適化履歴\n",
        "ax1 = axes[0, 0]\n",
        "optuna.visualization.matplotlib.plot_optimization_history(study, ax=ax1)\n",
        "ax1.axhline(y=LSTM_V1_BENCHMARK['f1_macro'], color='red', linestyle='--', \n",
        "            label=f'LSTM v1 Benchmark ({LSTM_V1_BENCHMARK[\"f1_macro\"]:.4f})')\n",
        "ax1.legend()\n",
        "ax1.set_title('最適化履歴')\n",
        "\n",
        "# 2. パラメータ重要度\n",
        "ax2 = axes[0, 1]\n",
        "try:\n",
        "    optuna.visualization.matplotlib.plot_param_importances(study, ax=ax2)\n",
        "    ax2.set_title('パラメータ重要度')\n",
        "except:\n",
        "    ax2.text(0.5, 0.5, 'パラメータ重要度\\n計算不可', ha='center', va='center')\n",
        "    ax2.set_title('パラメータ重要度')\n",
        "\n",
        "# 3. 融合方式別性能\n",
        "ax3 = axes[1, 0]\n",
        "fusion_names = list(fusion_results.keys())\n",
        "fusion_scores = [fusion_results[name] for name in fusion_names]\n",
        "ax3.boxplot(fusion_scores, labels=fusion_names)\n",
        "ax3.axhline(y=LSTM_V1_BENCHMARK['f1_macro'], color='red', linestyle='--', \n",
        "            label=f'LSTM v1 Benchmark')\n",
        "ax3.set_ylabel('F1-macro Score')\n",
        "ax3.set_title('融合方式別性能')\n",
        "ax3.legend()\n",
        "ax3.grid(True, alpha=0.3)\n",
        "\n",
        "# 4. 試行回数 vs 性能\n",
        "ax4 = axes[1, 1]\n",
        "trial_numbers = [trial.number for trial in study.trials if trial.state == optuna.trial.TrialState.COMPLETE]\n",
        "trial_values = [trial.value for trial in study.trials if trial.state == optuna.trial.TrialState.COMPLETE]\n",
        "ax4.scatter(trial_numbers, trial_values, alpha=0.6)\n",
        "ax4.axhline(y=LSTM_V1_BENCHMARK['f1_macro'], color='red', linestyle='--', \n",
        "            label=f'LSTM v1 Benchmark')\n",
        "ax4.set_xlabel('Trial Number')\n",
        "ax4.set_ylabel('F1-macro Score')\n",
        "ax4.set_title('試行回数 vs 性能')\n",
        "ax4.legend()\n",
        "ax4.grid(True, alpha=0.3)\n",
        "\n",
        "plt.tight_layout()\n",
        "plt.savefig('../output/experiments/lstm_v2_optimization/optimization_analysis.png', dpi=300, bbox_inches='tight')\n",
        "plt.show()\n"
      ]
    },
    {
      "cell_type": "code",
      "execution_count": null,
      "metadata": {},
      "outputs": [],
      "source": [
        "# 最適パラメータでモデル再構築・評価\n",
        "print(\"最適モデルの詳細評価を実行中...\")\n",
        "\n",
        "# 最適パラメータでモデル作成\n",
        "optimal_model = LSTMv2HybridModel(\n",
        "    sensor_input_shape=sensor_input_shape,\n",
        "    demographics_input_shape=demographics_input_shape,\n",
        "    num_classes=num_classes,\n",
        "    **best_params,\n",
        "    epochs=50,\n",
        "    use_tqdm=True,\n",
        "    use_tensorboard=True\n",
        ")\n",
        "\n",
        "# モデル構築\n",
        "optimal_model.build_model()\n",
        "\n",
        "# 訓練\n",
        "model_save_path = '../output/experiments/lstm_v2_optimized/best_model.h5'\n",
        "history = optimal_model.train(\n",
        "    X_sensor_train, X_demographics_train, y_train,\n",
        "    X_sensor_val, X_demographics_val, y_val,\n",
        "    model_save_path=model_save_path\n",
        ")\n",
        "\n",
        "# 詳細評価\n",
        "results = optimal_model.evaluate(\n",
        "    X_sensor_val, X_demographics_val, y_val\n",
        ")\n",
        "\n",
        "print(\"\\n=== 最適モデル詳細評価結果 ===\")\n",
        "print(f\"F1-macro: {results['f1_macro']:.4f}\")\n",
        "print(f\"Accuracy: {results['accuracy']:.4f}\")\n",
        "print(f\"F1-weighted: {results['f1_weighted']:.4f}\")\n",
        "print(f\"Precision-macro: {results['precision_macro']:.4f}\")\n",
        "print(f\"Recall-macro: {results['recall_macro']:.4f}\")\n",
        "\n",
        "# LSTM v1との比較\n",
        "print(\"\\n=== LSTM v1との比較 ===\")\n",
        "print(f\"LSTM v1 F1-macro: {LSTM_V1_BENCHMARK['f1_macro']:.4f}\")\n",
        "print(f\"LSTM v2 F1-macro: {results['f1_macro']:.4f}\")\n",
        "print(f\"改善度: {results['f1_macro'] - LSTM_V1_BENCHMARK['f1_macro']:+.4f}\")\n",
        "print(f\"改善率: {(results['f1_macro'] / LSTM_V1_BENCHMARK['f1_macro'] - 1) * 100:+.2f}%\")\n"
      ]
    },
    {
      "cell_type": "code",
      "execution_count": null,
      "metadata": {},
      "outputs": [],
      "source": [
        "# 最適化結果の保存\n",
        "optimization_results = {\n",
        "    'timestamp': datetime.now().isoformat(),\n",
        "    'n_trials': len(study.trials),\n",
        "    'best_value': study.best_value,\n",
        "    'best_params': study.best_params,\n",
        "    'best_trial_attrs': best_trial.user_attrs,\n",
        "    'lstm_v1_benchmark': LSTM_V1_BENCHMARK,\n",
        "    'improvement': study.best_value - LSTM_V1_BENCHMARK['f1_macro'],\n",
        "    'improvement_rate': (study.best_value / LSTM_V1_BENCHMARK['f1_macro'] - 1) * 100,\n",
        "    'fusion_stats': fusion_stats,\n",
        "    'best_fusion_type': best_fusion_type,\n",
        "    'final_evaluation': results\n",
        "}\n",
        "\n",
        "# JSON保存\n",
        "with open('../output/experiments/lstm_v2_optimization/optimization_results.json', 'w', encoding='utf-8') as f:\n",
        "    json.dump(optimization_results, f, indent=2, ensure_ascii=False)\n",
        "\n",
        "# 最適パラメータ保存\n",
        "with open('../output/experiments/lstm_v2_optimization/best_params.json', 'w', encoding='utf-8') as f:\n",
        "    json.dump(best_params, f, indent=2, ensure_ascii=False)\n",
        "\n",
        "# 訓練履歴保存\n",
        "optimal_model.save_training_history('../output/experiments/lstm_v2_optimization/training_history.json')\n",
        "\n",
        "# モデル設定保存\n",
        "model_config = optimal_model.get_config()\n",
        "with open('../output/experiments/lstm_v2_optimization/model_config.json', 'w', encoding='utf-8') as f:\n",
        "    json.dump(model_config, f, indent=2, ensure_ascii=False)\n",
        "\n",
        "print(\"結果保存完了:\")\n",
        "print(f\"  - 最適化結果: ../output/experiments/lstm_v2_optimization/optimization_results.json\")\n",
        "print(f\"  - 最適パラメータ: ../output/experiments/lstm_v2_optimization/best_params.json\")\n",
        "print(f\"  - 訓練履歴: ../output/experiments/lstm_v2_optimization/training_history.json\")\n",
        "print(f\"  - モデル設定: ../output/experiments/lstm_v2_optimization/model_config.json\")\n",
        "print(f\"  - 最適モデル: {model_save_path}\")\n"
      ]
    },
    {
      "cell_type": "code",
      "execution_count": null,
      "metadata": {},
      "outputs": [],
      "source": [
        "print(\"\\n\" + \"=\"*60)\n",
        "print(\"LSTM v2 ハイパーパラメータ最適化 完了\")\n",
        "print(\"=\"*60)\n",
        "\n",
        "print(f\"\\n【最適化結果】\")\n",
        "print(f\"  試行回数: {len(study.trials)}\")\n",
        "print(f\"  最良F1-macro: {study.best_value:.4f}\")\n",
        "print(f\"  LSTM v1ベンチマーク: {LSTM_V1_BENCHMARK['f1_macro']:.4f}\")\n",
        "print(f\"  改善度: {study.best_value - LSTM_V1_BENCHMARK['f1_macro']:+.4f}\")\n",
        "print(f\"  改善率: {(study.best_value / LSTM_V1_BENCHMARK['f1_macro'] - 1) * 100:+.2f}%\")\n",
        "\n",
        "print(f\"\\n【最適融合方式】\")\n",
        "print(f\"  融合方式: {best_fusion_type}\")\n",
        "print(f\"  最高性能: {fusion_stats[best_fusion_type]['max']:.4f}\")\n",
        "\n",
        "print(f\"\\n【主要パラメータ】\")\n",
        "key_params = ['fusion_type', 'lstm_units_1', 'lstm_units_2', 'learning_rate', 'dropout_rate']\n",
        "for param in key_params:\n",
        "    if param in best_params:\n",
        "        print(f\"  {param}: {best_params[param]}\")\n",
        "\n",
        "# 成功判定\n",
        "success = study.best_value > LSTM_V1_BENCHMARK['f1_macro']\n",
        "print(f\"\\n【最適化成功】: {'✓' if success else '✗'}\")\n",
        "\n",
        "if success:\n",
        "    print(\"\\n✓ LSTM v2がLSTM v1の性能を上回りました！\")\n",
        "    print(\"✓ Demographics情報の統合が効果的でした\")\n",
        "    print(\"✓ ハイパーパラメータ最適化により大幅な性能向上を達成\")\n",
        "else:\n",
        "    print(\"\\n⚠ LSTM v2がLSTM v1の性能に届きませんでした\")\n",
        "    print(\"  さらなる最適化が必要です\")\n",
        "\n",
        "print(f\"\\n実行時刻: {datetime.now()}\")\n",
        "print(\"=\"*60)\n"
      ]
    }
  ],
  "metadata": {
    "kernelspec": {
      "display_name": ".venv",
      "language": "python",
      "name": "python3"
    },
    "language_info": {
      "codemirror_mode": {
        "name": "ipython",
        "version": 3
      },
      "file_extension": ".py",
      "mimetype": "text/x-python",
      "name": "python",
      "nbconvert_exporter": "python",
      "pygments_lexer": "ipython3",
      "version": "3.11.5"
    }
  },
  "nbformat": 4,
  "nbformat_minor": 2
}
