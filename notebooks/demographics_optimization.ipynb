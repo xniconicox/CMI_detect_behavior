{
  "cells": [
    {
      "cell_type": "raw",
      "metadata": {
        "vscode": {
          "languageId": "raw"
        }
      },
      "source": [
        "# Demographics特徴量最適化\n",
        "\n",
        "このノートブックでは、LSTM v2モデル用のdemographics特徴量を最適化します。\n",
        "\n",
        "## 処理内容\n",
        "1. 前処理済みdemographics特徴量の読み込み\n",
        "2. 特徴量重要度分析\n",
        "3. 特徴量選択最適化\n",
        "4. 特徴量エンジニアリング最適化\n",
        "5. 最適化された特徴量の保存\n"
      ]
    },
    {
      "cell_type": "code",
      "execution_count": null,
      "metadata": {},
      "outputs": [],
      "source": [
        "import sys\n",
        "import os\n",
        "from pathlib import Path\n",
        "import numpy as np\n",
        "import pandas as pd\n",
        "import pickle\n",
        "from datetime import datetime\n",
        "import json\n",
        "from sklearn.model_selection import train_test_split, cross_val_score\n",
        "from sklearn.feature_selection import SelectKBest, f_classif, mutual_info_classif\n",
        "from sklearn.preprocessing import PolynomialFeatures\n",
        "from sklearn.decomposition import PCA\n",
        "from sklearn.ensemble import RandomForestClassifier\n",
        "import warnings\n",
        "warnings.filterwarnings('ignore')\n",
        "\n",
        "print(\"ライブラリ読み込み完了\")\n"
      ]
    },
    {
      "cell_type": "code",
      "execution_count": null,
      "metadata": {},
      "outputs": [],
      "source": [
        "# データパス設定\n",
        "data_path = '../output/experiments/lstm_v2_w64_s16/preprocessed'\n",
        "output_path = '../results/demographics_optimization'\n",
        "\n",
        "# 出力ディレクトリ作成\n",
        "os.makedirs(output_path, exist_ok=True)\n",
        "\n",
        "print(f\"データパス: {data_path}\")\n",
        "print(f\"出力パス: {output_path}\")\n",
        "\n",
        "# 前処理済みデータの読み込み\n",
        "print(\"\\nDemographics データ読み込み中...\")\n",
        "\n",
        "# データファイルパス\n",
        "demo_path = os.path.join(data_path, 'X_demographics_windows.pkl')\n",
        "label_path = os.path.join(data_path, 'y_windows.pkl')\n",
        "\n",
        "# データ読み込み\n",
        "with open(demo_path, 'rb') as f:\n",
        "    X_demographics_all = pickle.load(f)\n",
        "\n",
        "with open(label_path, 'rb') as f:\n",
        "    y_all = pickle.load(f)\n",
        "\n",
        "# numpy配列に変換\n",
        "X_demographics_all = np.array(X_demographics_all, dtype=np.float32)\n",
        "y_all = np.array(y_all, dtype=np.int32)\n",
        "\n",
        "print(f\"全データ形状: {X_demographics_all.shape}\")\n",
        "print(f\"ラベル形状: {y_all.shape}\")\n",
        "print(f\"クラス数: {len(np.unique(y_all))}\")\n",
        "\n",
        "# 訓練・検証データに分割（8:2）\n",
        "X_demo_train, X_demo_val, y_train, y_val = train_test_split(\n",
        "    X_demographics_all, y_all, \n",
        "    test_size=0.2, \n",
        "    random_state=42,\n",
        "    stratify=y_all\n",
        ")\n",
        "\n",
        "print(f\"\\n訓練データ: {X_demo_train.shape}\")\n",
        "print(f\"検証データ: {X_demo_val.shape}\")\n",
        "print(f\"訓練ラベル: {y_train.shape}\")\n",
        "print(f\"検証ラベル: {y_val.shape}\")\n"
      ]
    },
    {
      "cell_type": "code",
      "execution_count": null,
      "metadata": {},
      "outputs": [],
      "source": [
        "print(\"Demographics特徴量最適化を開始...\")\n",
        "\n",
        "# 1. 特徴量重要度分析\n",
        "print(\"\\n1. 特徴量重要度分析中...\")\n",
        "\n",
        "# F統計量による重要度\n",
        "f_selector = SelectKBest(score_func=f_classif, k='all')\n",
        "f_selector.fit(X_demo_train, y_train)\n",
        "f_scores = f_selector.scores_\n",
        "f_pvalues = f_selector.pvalues_\n",
        "\n",
        "# 相互情報量による重要度\n",
        "mi_scores = mutual_info_classif(X_demo_train, y_train, random_state=42)\n",
        "\n",
        "# RandomForestによる重要度\n",
        "rf = RandomForestClassifier(n_estimators=100, random_state=42)\n",
        "rf.fit(X_demo_train, y_train)\n",
        "rf_importance = rf.feature_importances_\n",
        "\n",
        "# 結果統合\n",
        "n_features = X_demo_train.shape[1]\n",
        "feature_importance = pd.DataFrame({\n",
        "    'feature_idx': range(n_features),\n",
        "    'f_score': f_scores,\n",
        "    'f_pvalue': f_pvalues,\n",
        "    'mi_score': mi_scores,\n",
        "    'rf_importance': rf_importance\n",
        "})\n",
        "\n",
        "# 正規化スコア\n",
        "feature_importance['f_score_norm'] = (f_scores - f_scores.min()) / (f_scores.max() - f_scores.min())\n",
        "feature_importance['mi_score_norm'] = (mi_scores - mi_scores.min()) / (mi_scores.max() - mi_scores.min())\n",
        "feature_importance['rf_importance_norm'] = rf_importance / rf_importance.max()\n",
        "\n",
        "# 総合スコア（平均）\n",
        "feature_importance['combined_score'] = (\n",
        "    feature_importance['f_score_norm'] + \n",
        "    feature_importance['mi_score_norm'] + \n",
        "    feature_importance['rf_importance_norm']\n",
        ") / 3\n",
        "\n",
        "# 重要度順にソート\n",
        "feature_importance = feature_importance.sort_values('combined_score', ascending=False)\n",
        "\n",
        "print(\"特徴量重要度分析完了\")\n",
        "print(f\"最重要特徴量上位10: {feature_importance.head(10)['feature_idx'].tolist()}\")\n",
        "\n",
        "# 2. 特徴量選択最適化\n",
        "print(\"\\n2. 特徴量選択最適化中...\")\n",
        "\n",
        "# ベースライン性能（全特徴量）\n",
        "rf_baseline = RandomForestClassifier(n_estimators=100, random_state=42)\n",
        "baseline_scores = cross_val_score(rf_baseline, X_demo_train, y_train, cv=5, scoring='f1_macro')\n",
        "baseline_mean = baseline_scores.mean()\n",
        "baseline_std = baseline_scores.std()\n",
        "\n",
        "print(f\"ベースライン性能: {baseline_mean:.4f} ± {baseline_std:.4f}\")\n",
        "\n",
        "# 特徴量数を変えて最適化\n",
        "n_features_range = [5, 8, 10, 12, 15, 18, 20]\n",
        "n_features_range = [k for k in n_features_range if k < X_demo_train.shape[1]]\n",
        "\n",
        "selection_results = []\n",
        "best_score = 0\n",
        "best_k = 0\n",
        "best_selector = None\n",
        "\n",
        "for k in n_features_range:\n",
        "    selector = SelectKBest(score_func=f_classif, k=k)\n",
        "    X_train_selected = selector.fit_transform(X_demo_train, y_train)\n",
        "    \n",
        "    rf = RandomForestClassifier(n_estimators=100, random_state=42)\n",
        "    scores = cross_val_score(rf, X_train_selected, y_train, cv=5, scoring='f1_macro')\n",
        "    mean_score = scores.mean()\n",
        "    std_score = scores.std()\n",
        "    \n",
        "    selection_results.append({\n",
        "        'k': k,\n",
        "        'mean_score': mean_score,\n",
        "        'std_score': std_score,\n",
        "        'selected_features': selector.get_support(indices=True).tolist()\n",
        "    })\n",
        "    \n",
        "    print(f\"k={k}: {mean_score:.4f} ± {std_score:.4f}\")\n",
        "    \n",
        "    if mean_score > best_score:\n",
        "        best_score = mean_score\n",
        "        best_k = k\n",
        "        best_selector = selector\n",
        "\n",
        "print(f\"\\n最適特徴量数: {best_k}\")\n",
        "print(f\"最適性能: {best_score:.4f}\")\n",
        "print(f\"改善度: {best_score - baseline_mean:+.4f}\")\n",
        "\n",
        "# 3. 特徴量エンジニアリング最適化\n",
        "print(\"\\n3. 特徴量エンジニアリング最適化中...\")\n",
        "\n",
        "# 選択された特徴量を使用\n",
        "X_train_selected = best_selector.transform(X_demo_train)\n",
        "X_val_selected = best_selector.transform(X_demo_val)\n",
        "\n",
        "engineering_results = []\n",
        "best_eng_score = 0\n",
        "best_eng_method = 'original'\n",
        "best_transformer = None\n",
        "\n",
        "# オリジナル特徴量（ベースライン）\n",
        "rf_orig = RandomForestClassifier(n_estimators=100, random_state=42)\n",
        "orig_scores = cross_val_score(rf_orig, X_train_selected, y_train, cv=5, scoring='f1_macro')\n",
        "orig_mean = orig_scores.mean()\n",
        "orig_std = orig_scores.std()\n",
        "\n",
        "engineering_results.append({\n",
        "    'method': 'original',\n",
        "    'mean_score': orig_mean,\n",
        "    'std_score': orig_std,\n",
        "    'n_features': X_train_selected.shape[1]\n",
        "})\n",
        "\n",
        "best_eng_score = orig_mean\n",
        "print(f\"オリジナル特徴量: {orig_mean:.4f} ± {orig_std:.4f}\")\n",
        "\n",
        "# 多項式特徴量\n",
        "for degree in [2]:  # degree=3は特徴量数が多すぎるため除外\n",
        "    try:\n",
        "        poly = PolynomialFeatures(degree=degree, include_bias=False)\n",
        "        X_train_poly = poly.fit_transform(X_train_selected)\n",
        "        \n",
        "        if X_train_poly.shape[1] > 100:\n",
        "            print(f\"多項式特徴量(degree={degree}): 特徴量数が多すぎるためスキップ ({X_train_poly.shape[1]} features)\")\n",
        "            continue\n",
        "        \n",
        "        rf_poly = RandomForestClassifier(n_estimators=100, random_state=42)\n",
        "        poly_scores = cross_val_score(rf_poly, X_train_poly, y_train, cv=5, scoring='f1_macro')\n",
        "        poly_mean = poly_scores.mean()\n",
        "        poly_std = poly_scores.std()\n",
        "        \n",
        "        engineering_results.append({\n",
        "            'method': f'polynomial_{degree}',\n",
        "            'mean_score': poly_mean,\n",
        "            'std_score': poly_std,\n",
        "            'n_features': X_train_poly.shape[1]\n",
        "        })\n",
        "        \n",
        "        print(f\"多項式特徴量(degree={degree}): {poly_mean:.4f} ± {poly_std:.4f} ({X_train_poly.shape[1]} features)\")\n",
        "        \n",
        "        if poly_mean > best_eng_score:\n",
        "            best_eng_score = poly_mean\n",
        "            best_eng_method = f'polynomial_{degree}'\n",
        "            best_transformer = poly\n",
        "            \n",
        "    except Exception as e:\n",
        "        print(f\"多項式特徴量(degree={degree})でエラー: {e}\")\n",
        "\n",
        "# PCA変換\n",
        "for n_components in [5, 8, 10, 12]:\n",
        "    if n_components >= X_train_selected.shape[1]:\n",
        "        continue\n",
        "        \n",
        "    try:\n",
        "        pca = PCA(n_components=n_components, random_state=42)\n",
        "        X_train_pca = pca.fit_transform(X_train_selected)\n",
        "        \n",
        "        rf_pca = RandomForestClassifier(n_estimators=100, random_state=42)\n",
        "        pca_scores = cross_val_score(rf_pca, X_train_pca, y_train, cv=5, scoring='f1_macro')\n",
        "        pca_mean = pca_scores.mean()\n",
        "        pca_std = pca_scores.std()\n",
        "        \n",
        "        engineering_results.append({\n",
        "            'method': f'pca_{n_components}',\n",
        "            'mean_score': pca_mean,\n",
        "            'std_score': pca_std,\n",
        "            'n_features': n_components\n",
        "        })\n",
        "        \n",
        "        print(f\"PCA({n_components}): {pca_mean:.4f} ± {pca_std:.4f}\")\n",
        "        \n",
        "        if pca_mean > best_eng_score:\n",
        "            best_eng_score = pca_mean\n",
        "            best_eng_method = f'pca_{n_components}'\n",
        "            best_transformer = pca\n",
        "            \n",
        "    except Exception as e:\n",
        "        print(f\"PCA({n_components})でエラー: {e}\")\n",
        "\n",
        "print(f\"\\n最良特徴量エンジニアリング: {best_eng_method}\")\n",
        "print(f\"最良性能: {best_eng_score:.4f}\")\n",
        "print(f\"改善度: {best_eng_score - orig_mean:+.4f}\")\n"
      ]
    },
    {
      "cell_type": "code",
      "execution_count": null,
      "metadata": {},
      "outputs": [],
      "source": [
        "print(\"最適化された特徴量を作成中...\")\n",
        "\n",
        "# 最適な特徴量選択を適用\n",
        "X_train_selected = best_selector.transform(X_demo_train)\n",
        "X_val_selected = best_selector.transform(X_demo_val)\n",
        "\n",
        "# 最適な特徴量エンジニアリングを適用\n",
        "if best_eng_method == 'original':\n",
        "    X_train_final = X_train_selected\n",
        "    X_val_final = X_val_selected\n",
        "elif best_eng_method.startswith('polynomial'):\n",
        "    X_train_final = best_transformer.transform(X_train_selected)\n",
        "    X_val_final = best_transformer.transform(X_val_selected)\n",
        "elif best_eng_method.startswith('pca'):\n",
        "    X_train_final = best_transformer.transform(X_train_selected)\n",
        "    X_val_final = best_transformer.transform(X_val_selected)\n",
        "else:\n",
        "    X_train_final = X_train_selected\n",
        "    X_val_final = X_val_selected\n",
        "\n",
        "print(f\"最適化後の特徴量形状: 訓練{X_train_final.shape}, 検証{X_val_final.shape}\")\n",
        "print(f\"元の形状: {X_demo_train.shape}\")\n",
        "print(f\"最適化手法: {best_eng_method}\")\n",
        "print(f\"選択された特徴量数: {best_k}\")\n",
        "\n",
        "# 最適化された特徴量を保存\n",
        "np.save(os.path.join(output_path, 'X_demographics_train_optimized.npy'), X_train_final)\n",
        "np.save(os.path.join(output_path, 'X_demographics_val_optimized.npy'), X_val_final)\n",
        "\n",
        "# 最適化結果を保存\n",
        "optimization_results = {\n",
        "    'timestamp': datetime.now().isoformat(),\n",
        "    'data_info': {\n",
        "        'original_shape': X_demo_train.shape,\n",
        "        'optimized_shape': X_train_final.shape,\n",
        "        'n_classes': len(np.unique(y_train))\n",
        "    },\n",
        "    'feature_importance': {\n",
        "        'top_features': feature_importance.head(10)['feature_idx'].tolist(),\n",
        "        'feature_scores': feature_importance.to_dict('records')\n",
        "    },\n",
        "    'feature_selection': {\n",
        "        'baseline_score': baseline_mean,\n",
        "        'best_k': best_k,\n",
        "        'best_score': best_score,\n",
        "        'improvement': best_score - baseline_mean,\n",
        "        'selected_features': best_selector.get_support(indices=True).tolist(),\n",
        "        'all_results': selection_results\n",
        "    },\n",
        "    'feature_engineering': {\n",
        "        'best_method': best_eng_method,\n",
        "        'best_score': best_eng_score,\n",
        "        'improvement': best_eng_score - orig_mean,\n",
        "        'all_results': engineering_results\n",
        "    }\n",
        "}\n",
        "\n",
        "# JSON形式で保存\n",
        "results_file = os.path.join(output_path, 'demographics_optimization_results.json')\n",
        "with open(results_file, 'w', encoding='utf-8') as f:\n",
        "    json.dump(optimization_results, f, indent=2, ensure_ascii=False)\n",
        "\n",
        "print(f\"\\n最適化結果保存完了:\")\n",
        "print(f\"- 最適化された特徴量: {output_path}/X_demographics_*_optimized.npy\")\n",
        "print(f\"- 最適化結果: {results_file}\")\n",
        "\n",
        "# 最適化結果サマリー\n",
        "print(\"\\n\" + \"=\"*60)\n",
        "print(\"Demographics特徴量最適化結果サマリー\")\n",
        "print(\"=\"*60)\n",
        "\n",
        "print(f\"📊 データ情報:\")\n",
        "print(f\"   - 元の特徴量数: {X_demo_train.shape[1]}\")\n",
        "print(f\"   - 最適化後特徴量数: {X_train_final.shape[1]}\")\n",
        "print(f\"   - 訓練データ数: {X_train_final.shape[0]}\")\n",
        "print(f\"   - 検証データ数: {X_val_final.shape[0]}\")\n",
        "print(f\"   - クラス数: {len(np.unique(y_train))}\")\n",
        "\n",
        "print(f\"\\n🔍 特徴量選択結果:\")\n",
        "print(f\"   - ベースライン性能: {baseline_mean:.4f}\")\n",
        "print(f\"   - 最適特徴量数: {best_k}\")\n",
        "print(f\"   - 選択後性能: {best_score:.4f}\")\n",
        "print(f\"   - 改善度: {best_score - baseline_mean:+.4f}\")\n",
        "\n",
        "print(f\"\\n🛠️ 特徴量エンジニアリング結果:\")\n",
        "print(f\"   - 最良手法: {best_eng_method}\")\n",
        "print(f\"   - 最良性能: {best_eng_score:.4f}\")\n",
        "print(f\"   - 改善度: {best_eng_score - orig_mean:+.4f}\")\n",
        "\n",
        "print(f\"\\n📈 総合改善度:\")\n",
        "print(f\"   - 元の性能: {baseline_mean:.4f}\")\n",
        "print(f\"   - 最適化後性能: {best_eng_score:.4f}\")\n",
        "print(f\"   - 総合改善度: {best_eng_score - baseline_mean:+.4f}\")\n",
        "\n",
        "print(f\"\\n✅ 保存ファイル:\")\n",
        "print(f\"   - {output_path}/X_demographics_train_optimized.npy\")\n",
        "print(f\"   - {output_path}/X_demographics_val_optimized.npy\")\n",
        "print(f\"   - {output_path}/demographics_optimization_results.json\")\n",
        "\n",
        "print(\"=\"*60)\n",
        "print(\"Demographics特徴量最適化完了！\")\n",
        "print(\"=\"*60)\n"
      ]
    },
    {
      "cell_type": "code",
      "execution_count": null,
      "metadata": {},
      "outputs": [
        {
          "name": "stdout",
          "output_type": "stream",
          "text": [
            "\n",
            "=== Trial 0 ===\n",
            "パラメータ: {'lstm_units_1': 64, 'lstm_units_2': 64, 'dense_units': 56, 'demographics_dense_units': 24, 'fusion_dense_units': 16, 'dropout_rate': 0.1, 'dense_dropout_rate': 0.1, 'learning_rate': 0.005399484409787433, 'batch_size': 32, 'epochs': 20, 'patience': 10, 'reduce_lr_patience': 5, 'use_tqdm': False, 'use_tensorboard': False, 'fusion_type': 'concatenate'}\n",
            "Mixed precision enabled for better GPU performance\n",
            "GPU利用可能: 1台\n",
            "使用GPU: PhysicalDevice(name='/physical_device:GPU:0', device_type='GPU')\n",
            "LSTM v2学習環境初期化完了\n",
            "実験名: lstm_v2_hyperopt\n",
            "ウィンドウ設定: w64_s16\n",
            "出力ディレクトリ: ../output/experiments/lstm_v2_hyperopt_w64_s16\n",
            "前処理済みデータ: ../output/experiments/lstm_v2_w64_s16/preprocessed\n",
            "GPU利用可能: True\n",
            "前処理済みデータを読み込み中...\n",
            "最適化されたdemographics特徴量が見つかりません。オリジナルを使用します\n",
            "データ読み込み完了:\n",
            "  センサーデータ: (13393, 64, 332)\n",
            "  Demographics: (13393, 20)\n",
            "  ラベル: (13393,)\n",
            "  クラス数: 18\n",
            "ハイブリッドモデル学習開始 (融合方式: concatenate)...\n",
            "データ分割中...\n",
            "テストサイズ: 0.2\n",
            "検証サイズ: 0.2\n",
            "データ分割完了:\n",
            "  訓練 - センサー: (8571, 64, 332), Demographics: (8571, 20), ラベル: (8571,)\n",
            "  検証 - センサー: (2143, 64, 332), Demographics: (2143, 20), ラベル: (2143,)\n",
            "  テスト - センサー: (2679, 64, 332), Demographics: (2679, 20), ラベル: (2679,)\n",
            "入力形状:\n",
            "  センサー: (64, 332)\n",
            "  Demographics: (20,)\n",
            "  クラス数: 18\n"
          ]
        },
        {
          "name": "stderr",
          "output_type": "stream",
          "text": [
            "I0000 00:00:1751864757.791577   99602 gpu_device.cc:2019] Created device /job:localhost/replica:0/task:0/device:GPU:0 with 5660 MB memory:  -> device: 0, name: NVIDIA GeForce RTX 3050, pci bus id: 0000:01:00.0, compute capability: 8.6\n"
          ]
        },
        {
          "name": "stdout",
          "output_type": "stream",
          "text": [
            "GPU上でモデルを作成・学習します\n",
            "Mixed precision enabled for better GPU performance\n",
            "GPU利用可能: 1台\n",
            "使用GPU: PhysicalDevice(name='/physical_device:GPU:0', device_type='GPU')\n",
            "LSTM v2ハイブリッドモデル初期化完了\n",
            "センサー入力形状: (64, 332)\n",
            "Demographics入力形状: (20,)\n",
            "クラス数: 18\n",
            "融合方式: concatenate\n",
            "GPU利用可能: True\n",
            "LSTM v2ハイブリッドモデルを構築中...\n",
            "モデル構築完了\n",
            "総パラメータ数: 141,514\n",
            "\n",
            "=== モデルサマリー ===\n"
          ]
        },
        {
          "data": {
            "text/html": [
              "<pre style=\"white-space:pre;overflow-x:auto;line-height:normal;font-family:Menlo,'DejaVu Sans Mono',consolas,'Courier New',monospace\"><span style=\"font-weight: bold\">Model: \"lstm_v2_hybrid\"</span>\n",
              "</pre>\n"
            ],
            "text/plain": [
              "\u001b[1mModel: \"lstm_v2_hybrid\"\u001b[0m\n"
            ]
          },
          "metadata": {},
          "output_type": "display_data"
        },
        {
          "data": {
            "text/html": [
              "<pre style=\"white-space:pre;overflow-x:auto;line-height:normal;font-family:Menlo,'DejaVu Sans Mono',consolas,'Courier New',monospace\">┏━━━━━━━━━━━━━━━━━━━━━┳━━━━━━━━━━━━━━━━━━━┳━━━━━━━━━━━━┳━━━━━━━━━━━━━━━━━━━┓\n",
              "┃<span style=\"font-weight: bold\"> Layer (type)        </span>┃<span style=\"font-weight: bold\"> Output Shape      </span>┃<span style=\"font-weight: bold\">    Param # </span>┃<span style=\"font-weight: bold\"> Connected to      </span>┃\n",
              "┡━━━━━━━━━━━━━━━━━━━━━╇━━━━━━━━━━━━━━━━━━━╇━━━━━━━━━━━━╇━━━━━━━━━━━━━━━━━━━┩\n",
              "│ sensor_input        │ (<span style=\"color: #00d7ff; text-decoration-color: #00d7ff\">None</span>, <span style=\"color: #00af00; text-decoration-color: #00af00\">64</span>, <span style=\"color: #00af00; text-decoration-color: #00af00\">332</span>)   │          <span style=\"color: #00af00; text-decoration-color: #00af00\">0</span> │ -                 │\n",
              "│ (<span style=\"color: #0087ff; text-decoration-color: #0087ff\">InputLayer</span>)        │                   │            │                   │\n",
              "├─────────────────────┼───────────────────┼────────────┼───────────────────┤\n",
              "│ lstm_1 (<span style=\"color: #0087ff; text-decoration-color: #0087ff\">LSTM</span>)       │ (<span style=\"color: #00d7ff; text-decoration-color: #00d7ff\">None</span>, <span style=\"color: #00af00; text-decoration-color: #00af00\">64</span>, <span style=\"color: #00af00; text-decoration-color: #00af00\">64</span>)    │    <span style=\"color: #00af00; text-decoration-color: #00af00\">101,632</span> │ sensor_input[<span style=\"color: #00af00; text-decoration-color: #00af00\">0</span>][<span style=\"color: #00af00; text-decoration-color: #00af00\">…</span> │\n",
              "├─────────────────────┼───────────────────┼────────────┼───────────────────┤\n",
              "│ lstm_bn_1           │ (<span style=\"color: #00d7ff; text-decoration-color: #00d7ff\">None</span>, <span style=\"color: #00af00; text-decoration-color: #00af00\">64</span>, <span style=\"color: #00af00; text-decoration-color: #00af00\">64</span>)    │        <span style=\"color: #00af00; text-decoration-color: #00af00\">256</span> │ lstm_1[<span style=\"color: #00af00; text-decoration-color: #00af00\">0</span>][<span style=\"color: #00af00; text-decoration-color: #00af00\">0</span>]      │\n",
              "│ (<span style=\"color: #0087ff; text-decoration-color: #0087ff\">BatchNormalizatio…</span> │                   │            │                   │\n",
              "├─────────────────────┼───────────────────┼────────────┼───────────────────┤\n",
              "│ lstm_dropout_1      │ (<span style=\"color: #00d7ff; text-decoration-color: #00d7ff\">None</span>, <span style=\"color: #00af00; text-decoration-color: #00af00\">64</span>, <span style=\"color: #00af00; text-decoration-color: #00af00\">64</span>)    │          <span style=\"color: #00af00; text-decoration-color: #00af00\">0</span> │ lstm_bn_1[<span style=\"color: #00af00; text-decoration-color: #00af00\">0</span>][<span style=\"color: #00af00; text-decoration-color: #00af00\">0</span>]   │\n",
              "│ (<span style=\"color: #0087ff; text-decoration-color: #0087ff\">Dropout</span>)           │                   │            │                   │\n",
              "├─────────────────────┼───────────────────┼────────────┼───────────────────┤\n",
              "│ lstm_2 (<span style=\"color: #0087ff; text-decoration-color: #0087ff\">LSTM</span>)       │ (<span style=\"color: #00d7ff; text-decoration-color: #00d7ff\">None</span>, <span style=\"color: #00af00; text-decoration-color: #00af00\">64</span>)        │     <span style=\"color: #00af00; text-decoration-color: #00af00\">33,024</span> │ lstm_dropout_1[<span style=\"color: #00af00; text-decoration-color: #00af00\">0</span>… │\n",
              "├─────────────────────┼───────────────────┼────────────┼───────────────────┤\n",
              "│ demographics_input  │ (<span style=\"color: #00d7ff; text-decoration-color: #00d7ff\">None</span>, <span style=\"color: #00af00; text-decoration-color: #00af00\">20</span>)        │          <span style=\"color: #00af00; text-decoration-color: #00af00\">0</span> │ -                 │\n",
              "│ (<span style=\"color: #0087ff; text-decoration-color: #0087ff\">InputLayer</span>)        │                   │            │                   │\n",
              "├─────────────────────┼───────────────────┼────────────┼───────────────────┤\n",
              "│ lstm_bn_2           │ (<span style=\"color: #00d7ff; text-decoration-color: #00d7ff\">None</span>, <span style=\"color: #00af00; text-decoration-color: #00af00\">64</span>)        │        <span style=\"color: #00af00; text-decoration-color: #00af00\">256</span> │ lstm_2[<span style=\"color: #00af00; text-decoration-color: #00af00\">0</span>][<span style=\"color: #00af00; text-decoration-color: #00af00\">0</span>]      │\n",
              "│ (<span style=\"color: #0087ff; text-decoration-color: #0087ff\">BatchNormalizatio…</span> │                   │            │                   │\n",
              "├─────────────────────┼───────────────────┼────────────┼───────────────────┤\n",
              "│ demographics_dense… │ (<span style=\"color: #00d7ff; text-decoration-color: #00d7ff\">None</span>, <span style=\"color: #00af00; text-decoration-color: #00af00\">24</span>)        │        <span style=\"color: #00af00; text-decoration-color: #00af00\">504</span> │ demographics_inp… │\n",
              "│ (<span style=\"color: #0087ff; text-decoration-color: #0087ff\">Dense</span>)             │                   │            │                   │\n",
              "├─────────────────────┼───────────────────┼────────────┼───────────────────┤\n",
              "│ lstm_dropout_2      │ (<span style=\"color: #00d7ff; text-decoration-color: #00d7ff\">None</span>, <span style=\"color: #00af00; text-decoration-color: #00af00\">64</span>)        │          <span style=\"color: #00af00; text-decoration-color: #00af00\">0</span> │ lstm_bn_2[<span style=\"color: #00af00; text-decoration-color: #00af00\">0</span>][<span style=\"color: #00af00; text-decoration-color: #00af00\">0</span>]   │\n",
              "│ (<span style=\"color: #0087ff; text-decoration-color: #0087ff\">Dropout</span>)           │                   │            │                   │\n",
              "├─────────────────────┼───────────────────┼────────────┼───────────────────┤\n",
              "│ demographics_dropo… │ (<span style=\"color: #00d7ff; text-decoration-color: #00d7ff\">None</span>, <span style=\"color: #00af00; text-decoration-color: #00af00\">24</span>)        │          <span style=\"color: #00af00; text-decoration-color: #00af00\">0</span> │ demographics_den… │\n",
              "│ (<span style=\"color: #0087ff; text-decoration-color: #0087ff\">Dropout</span>)           │                   │            │                   │\n",
              "├─────────────────────┼───────────────────┼────────────┼───────────────────┤\n",
              "│ sensor_dense        │ (<span style=\"color: #00d7ff; text-decoration-color: #00d7ff\">None</span>, <span style=\"color: #00af00; text-decoration-color: #00af00\">56</span>)        │      <span style=\"color: #00af00; text-decoration-color: #00af00\">3,640</span> │ lstm_dropout_2[<span style=\"color: #00af00; text-decoration-color: #00af00\">0</span>… │\n",
              "│ (<span style=\"color: #0087ff; text-decoration-color: #0087ff\">Dense</span>)             │                   │            │                   │\n",
              "├─────────────────────┼───────────────────┼────────────┼───────────────────┤\n",
              "│ demographics_dense… │ (<span style=\"color: #00d7ff; text-decoration-color: #00d7ff\">None</span>, <span style=\"color: #00af00; text-decoration-color: #00af00\">24</span>)        │        <span style=\"color: #00af00; text-decoration-color: #00af00\">600</span> │ demographics_dro… │\n",
              "│ (<span style=\"color: #0087ff; text-decoration-color: #0087ff\">Dense</span>)             │                   │            │                   │\n",
              "├─────────────────────┼───────────────────┼────────────┼───────────────────┤\n",
              "│ sensor_dropout      │ (<span style=\"color: #00d7ff; text-decoration-color: #00d7ff\">None</span>, <span style=\"color: #00af00; text-decoration-color: #00af00\">56</span>)        │          <span style=\"color: #00af00; text-decoration-color: #00af00\">0</span> │ sensor_dense[<span style=\"color: #00af00; text-decoration-color: #00af00\">0</span>][<span style=\"color: #00af00; text-decoration-color: #00af00\">…</span> │\n",
              "│ (<span style=\"color: #0087ff; text-decoration-color: #0087ff\">Dropout</span>)           │                   │            │                   │\n",
              "├─────────────────────┼───────────────────┼────────────┼───────────────────┤\n",
              "│ demographics_dropo… │ (<span style=\"color: #00d7ff; text-decoration-color: #00d7ff\">None</span>, <span style=\"color: #00af00; text-decoration-color: #00af00\">24</span>)        │          <span style=\"color: #00af00; text-decoration-color: #00af00\">0</span> │ demographics_den… │\n",
              "│ (<span style=\"color: #0087ff; text-decoration-color: #0087ff\">Dropout</span>)           │                   │            │                   │\n",
              "├─────────────────────┼───────────────────┼────────────┼───────────────────┤\n",
              "│ feature_fusion      │ (<span style=\"color: #00d7ff; text-decoration-color: #00d7ff\">None</span>, <span style=\"color: #00af00; text-decoration-color: #00af00\">80</span>)        │          <span style=\"color: #00af00; text-decoration-color: #00af00\">0</span> │ sensor_dropout[<span style=\"color: #00af00; text-decoration-color: #00af00\">0</span>… │\n",
              "│ (<span style=\"color: #0087ff; text-decoration-color: #0087ff\">Concatenate</span>)       │                   │            │ demographics_dro… │\n",
              "├─────────────────────┼───────────────────┼────────────┼───────────────────┤\n",
              "│ fusion_dense        │ (<span style=\"color: #00d7ff; text-decoration-color: #00d7ff\">None</span>, <span style=\"color: #00af00; text-decoration-color: #00af00\">16</span>)        │      <span style=\"color: #00af00; text-decoration-color: #00af00\">1,296</span> │ feature_fusion[<span style=\"color: #00af00; text-decoration-color: #00af00\">0</span>… │\n",
              "│ (<span style=\"color: #0087ff; text-decoration-color: #0087ff\">Dense</span>)             │                   │            │                   │\n",
              "├─────────────────────┼───────────────────┼────────────┼───────────────────┤\n",
              "│ fusion_dropout      │ (<span style=\"color: #00d7ff; text-decoration-color: #00d7ff\">None</span>, <span style=\"color: #00af00; text-decoration-color: #00af00\">16</span>)        │          <span style=\"color: #00af00; text-decoration-color: #00af00\">0</span> │ fusion_dense[<span style=\"color: #00af00; text-decoration-color: #00af00\">0</span>][<span style=\"color: #00af00; text-decoration-color: #00af00\">…</span> │\n",
              "│ (<span style=\"color: #0087ff; text-decoration-color: #0087ff\">Dropout</span>)           │                   │            │                   │\n",
              "├─────────────────────┼───────────────────┼────────────┼───────────────────┤\n",
              "│ output (<span style=\"color: #0087ff; text-decoration-color: #0087ff\">Dense</span>)      │ (<span style=\"color: #00d7ff; text-decoration-color: #00d7ff\">None</span>, <span style=\"color: #00af00; text-decoration-color: #00af00\">18</span>)        │        <span style=\"color: #00af00; text-decoration-color: #00af00\">306</span> │ fusion_dropout[<span style=\"color: #00af00; text-decoration-color: #00af00\">0</span>… │\n",
              "└─────────────────────┴───────────────────┴────────────┴───────────────────┘\n",
              "</pre>\n"
            ],
            "text/plain": [
              "┏━━━━━━━━━━━━━━━━━━━━━┳━━━━━━━━━━━━━━━━━━━┳━━━━━━━━━━━━┳━━━━━━━━━━━━━━━━━━━┓\n",
              "┃\u001b[1m \u001b[0m\u001b[1mLayer (type)       \u001b[0m\u001b[1m \u001b[0m┃\u001b[1m \u001b[0m\u001b[1mOutput Shape     \u001b[0m\u001b[1m \u001b[0m┃\u001b[1m \u001b[0m\u001b[1m   Param #\u001b[0m\u001b[1m \u001b[0m┃\u001b[1m \u001b[0m\u001b[1mConnected to     \u001b[0m\u001b[1m \u001b[0m┃\n",
              "┡━━━━━━━━━━━━━━━━━━━━━╇━━━━━━━━━━━━━━━━━━━╇━━━━━━━━━━━━╇━━━━━━━━━━━━━━━━━━━┩\n",
              "│ sensor_input        │ (\u001b[38;5;45mNone\u001b[0m, \u001b[38;5;34m64\u001b[0m, \u001b[38;5;34m332\u001b[0m)   │          \u001b[38;5;34m0\u001b[0m │ -                 │\n",
              "│ (\u001b[38;5;33mInputLayer\u001b[0m)        │                   │            │                   │\n",
              "├─────────────────────┼───────────────────┼────────────┼───────────────────┤\n",
              "│ lstm_1 (\u001b[38;5;33mLSTM\u001b[0m)       │ (\u001b[38;5;45mNone\u001b[0m, \u001b[38;5;34m64\u001b[0m, \u001b[38;5;34m64\u001b[0m)    │    \u001b[38;5;34m101,632\u001b[0m │ sensor_input[\u001b[38;5;34m0\u001b[0m][\u001b[38;5;34m…\u001b[0m │\n",
              "├─────────────────────┼───────────────────┼────────────┼───────────────────┤\n",
              "│ lstm_bn_1           │ (\u001b[38;5;45mNone\u001b[0m, \u001b[38;5;34m64\u001b[0m, \u001b[38;5;34m64\u001b[0m)    │        \u001b[38;5;34m256\u001b[0m │ lstm_1[\u001b[38;5;34m0\u001b[0m][\u001b[38;5;34m0\u001b[0m]      │\n",
              "│ (\u001b[38;5;33mBatchNormalizatio…\u001b[0m │                   │            │                   │\n",
              "├─────────────────────┼───────────────────┼────────────┼───────────────────┤\n",
              "│ lstm_dropout_1      │ (\u001b[38;5;45mNone\u001b[0m, \u001b[38;5;34m64\u001b[0m, \u001b[38;5;34m64\u001b[0m)    │          \u001b[38;5;34m0\u001b[0m │ lstm_bn_1[\u001b[38;5;34m0\u001b[0m][\u001b[38;5;34m0\u001b[0m]   │\n",
              "│ (\u001b[38;5;33mDropout\u001b[0m)           │                   │            │                   │\n",
              "├─────────────────────┼───────────────────┼────────────┼───────────────────┤\n",
              "│ lstm_2 (\u001b[38;5;33mLSTM\u001b[0m)       │ (\u001b[38;5;45mNone\u001b[0m, \u001b[38;5;34m64\u001b[0m)        │     \u001b[38;5;34m33,024\u001b[0m │ lstm_dropout_1[\u001b[38;5;34m0\u001b[0m… │\n",
              "├─────────────────────┼───────────────────┼────────────┼───────────────────┤\n",
              "│ demographics_input  │ (\u001b[38;5;45mNone\u001b[0m, \u001b[38;5;34m20\u001b[0m)        │          \u001b[38;5;34m0\u001b[0m │ -                 │\n",
              "│ (\u001b[38;5;33mInputLayer\u001b[0m)        │                   │            │                   │\n",
              "├─────────────────────┼───────────────────┼────────────┼───────────────────┤\n",
              "│ lstm_bn_2           │ (\u001b[38;5;45mNone\u001b[0m, \u001b[38;5;34m64\u001b[0m)        │        \u001b[38;5;34m256\u001b[0m │ lstm_2[\u001b[38;5;34m0\u001b[0m][\u001b[38;5;34m0\u001b[0m]      │\n",
              "│ (\u001b[38;5;33mBatchNormalizatio…\u001b[0m │                   │            │                   │\n",
              "├─────────────────────┼───────────────────┼────────────┼───────────────────┤\n",
              "│ demographics_dense… │ (\u001b[38;5;45mNone\u001b[0m, \u001b[38;5;34m24\u001b[0m)        │        \u001b[38;5;34m504\u001b[0m │ demographics_inp… │\n",
              "│ (\u001b[38;5;33mDense\u001b[0m)             │                   │            │                   │\n",
              "├─────────────────────┼───────────────────┼────────────┼───────────────────┤\n",
              "│ lstm_dropout_2      │ (\u001b[38;5;45mNone\u001b[0m, \u001b[38;5;34m64\u001b[0m)        │          \u001b[38;5;34m0\u001b[0m │ lstm_bn_2[\u001b[38;5;34m0\u001b[0m][\u001b[38;5;34m0\u001b[0m]   │\n",
              "│ (\u001b[38;5;33mDropout\u001b[0m)           │                   │            │                   │\n",
              "├─────────────────────┼───────────────────┼────────────┼───────────────────┤\n",
              "│ demographics_dropo… │ (\u001b[38;5;45mNone\u001b[0m, \u001b[38;5;34m24\u001b[0m)        │          \u001b[38;5;34m0\u001b[0m │ demographics_den… │\n",
              "│ (\u001b[38;5;33mDropout\u001b[0m)           │                   │            │                   │\n",
              "├─────────────────────┼───────────────────┼────────────┼───────────────────┤\n",
              "│ sensor_dense        │ (\u001b[38;5;45mNone\u001b[0m, \u001b[38;5;34m56\u001b[0m)        │      \u001b[38;5;34m3,640\u001b[0m │ lstm_dropout_2[\u001b[38;5;34m0\u001b[0m… │\n",
              "│ (\u001b[38;5;33mDense\u001b[0m)             │                   │            │                   │\n",
              "├─────────────────────┼───────────────────┼────────────┼───────────────────┤\n",
              "│ demographics_dense… │ (\u001b[38;5;45mNone\u001b[0m, \u001b[38;5;34m24\u001b[0m)        │        \u001b[38;5;34m600\u001b[0m │ demographics_dro… │\n",
              "│ (\u001b[38;5;33mDense\u001b[0m)             │                   │            │                   │\n",
              "├─────────────────────┼───────────────────┼────────────┼───────────────────┤\n",
              "│ sensor_dropout      │ (\u001b[38;5;45mNone\u001b[0m, \u001b[38;5;34m56\u001b[0m)        │          \u001b[38;5;34m0\u001b[0m │ sensor_dense[\u001b[38;5;34m0\u001b[0m][\u001b[38;5;34m…\u001b[0m │\n",
              "│ (\u001b[38;5;33mDropout\u001b[0m)           │                   │            │                   │\n",
              "├─────────────────────┼───────────────────┼────────────┼───────────────────┤\n",
              "│ demographics_dropo… │ (\u001b[38;5;45mNone\u001b[0m, \u001b[38;5;34m24\u001b[0m)        │          \u001b[38;5;34m0\u001b[0m │ demographics_den… │\n",
              "│ (\u001b[38;5;33mDropout\u001b[0m)           │                   │            │                   │\n",
              "├─────────────────────┼───────────────────┼────────────┼───────────────────┤\n",
              "│ feature_fusion      │ (\u001b[38;5;45mNone\u001b[0m, \u001b[38;5;34m80\u001b[0m)        │          \u001b[38;5;34m0\u001b[0m │ sensor_dropout[\u001b[38;5;34m0\u001b[0m… │\n",
              "│ (\u001b[38;5;33mConcatenate\u001b[0m)       │                   │            │ demographics_dro… │\n",
              "├─────────────────────┼───────────────────┼────────────┼───────────────────┤\n",
              "│ fusion_dense        │ (\u001b[38;5;45mNone\u001b[0m, \u001b[38;5;34m16\u001b[0m)        │      \u001b[38;5;34m1,296\u001b[0m │ feature_fusion[\u001b[38;5;34m0\u001b[0m… │\n",
              "│ (\u001b[38;5;33mDense\u001b[0m)             │                   │            │                   │\n",
              "├─────────────────────┼───────────────────┼────────────┼───────────────────┤\n",
              "│ fusion_dropout      │ (\u001b[38;5;45mNone\u001b[0m, \u001b[38;5;34m16\u001b[0m)        │          \u001b[38;5;34m0\u001b[0m │ fusion_dense[\u001b[38;5;34m0\u001b[0m][\u001b[38;5;34m…\u001b[0m │\n",
              "│ (\u001b[38;5;33mDropout\u001b[0m)           │                   │            │                   │\n",
              "├─────────────────────┼───────────────────┼────────────┼───────────────────┤\n",
              "│ output (\u001b[38;5;33mDense\u001b[0m)      │ (\u001b[38;5;45mNone\u001b[0m, \u001b[38;5;34m18\u001b[0m)        │        \u001b[38;5;34m306\u001b[0m │ fusion_dropout[\u001b[38;5;34m0\u001b[0m… │\n",
              "└─────────────────────┴───────────────────┴────────────┴───────────────────┘\n"
            ]
          },
          "metadata": {},
          "output_type": "display_data"
        },
        {
          "data": {
            "text/html": [
              "<pre style=\"white-space:pre;overflow-x:auto;line-height:normal;font-family:Menlo,'DejaVu Sans Mono',consolas,'Courier New',monospace\"><span style=\"font-weight: bold\"> Total params: </span><span style=\"color: #00af00; text-decoration-color: #00af00\">141,514</span> (552.79 KB)\n",
              "</pre>\n"
            ],
            "text/plain": [
              "\u001b[1m Total params: \u001b[0m\u001b[38;5;34m141,514\u001b[0m (552.79 KB)\n"
            ]
          },
          "metadata": {},
          "output_type": "display_data"
        },
        {
          "data": {
            "text/html": [
              "<pre style=\"white-space:pre;overflow-x:auto;line-height:normal;font-family:Menlo,'DejaVu Sans Mono',consolas,'Courier New',monospace\"><span style=\"font-weight: bold\"> Trainable params: </span><span style=\"color: #00af00; text-decoration-color: #00af00\">141,258</span> (551.79 KB)\n",
              "</pre>\n"
            ],
            "text/plain": [
              "\u001b[1m Trainable params: \u001b[0m\u001b[38;5;34m141,258\u001b[0m (551.79 KB)\n"
            ]
          },
          "metadata": {},
          "output_type": "display_data"
        },
        {
          "data": {
            "text/html": [
              "<pre style=\"white-space:pre;overflow-x:auto;line-height:normal;font-family:Menlo,'DejaVu Sans Mono',consolas,'Courier New',monospace\"><span style=\"font-weight: bold\"> Non-trainable params: </span><span style=\"color: #00af00; text-decoration-color: #00af00\">256</span> (1.00 KB)\n",
              "</pre>\n"
            ],
            "text/plain": [
              "\u001b[1m Non-trainable params: \u001b[0m\u001b[38;5;34m256\u001b[0m (1.00 KB)\n"
            ]
          },
          "metadata": {},
          "output_type": "display_data"
        },
        {
          "name": "stdout",
          "output_type": "stream",
          "text": [
            "ハイブリッドモデル学習開始...\n",
            "センサー訓練データ形状: (8571, 64, 332)\n",
            "Demographics訓練データ形状: (8571, 20)\n",
            "センサー検証データ形状: (2143, 64, 332)\n",
            "Demographics検証データ形状: (2143, 20)\n",
            "訓練ラベル形状: (8571,)\n",
            "検証ラベル形状: (2143,)\n",
            "Epoch 1/20\n"
          ]
        },
        {
          "name": "stderr",
          "output_type": "stream",
          "text": [
            "2025-07-07 14:06:05.484056: E tensorflow/core/util/util.cc:131] oneDNN supports DT_HALF only on platforms with AVX-512. Falling back to the default Eigen-based implementation if present.\n",
            "I0000 00:00:1751864766.410146   99936 cuda_dnn.cc:529] Loaded cuDNN version 90501\n"
          ]
        },
        {
          "name": "stdout",
          "output_type": "stream",
          "text": [
            "\u001b[1m268/268\u001b[0m \u001b[32m━━━━━━━━━━━━━━━━━━━━\u001b[0m\u001b[37m\u001b[0m \u001b[1m0s\u001b[0m 39ms/step - accuracy: 0.1817 - loss: 2.6840\n",
            "Epoch 1: val_loss improved from inf to 2.29892, saving model to ../output/experiments/lstm_v2_hyperopt_w64_s16/models/lstm_v2_hybrid_concatenate_best.h5\n"
          ]
        },
        {
          "name": "stderr",
          "output_type": "stream",
          "text": [
            "WARNING:absl:You are saving your model as an HDF5 file via `model.save()` or `keras.saving.save_model(model)`. This file format is considered legacy. We recommend using instead the native Keras format, e.g. `model.save('my_model.keras')` or `keras.saving.save_model(model, 'my_model.keras')`. \n"
          ]
        },
        {
          "name": "stdout",
          "output_type": "stream",
          "text": [
            "\u001b[1m268/268\u001b[0m \u001b[32m━━━━━━━━━━━━━━━━━━━━\u001b[0m\u001b[37m\u001b[0m \u001b[1m18s\u001b[0m 45ms/step - accuracy: 0.1819 - loss: 2.6834 - val_accuracy: 0.2828 - val_loss: 2.2989 - learning_rate: 0.0054\n",
            "Epoch 2/20\n",
            "\u001b[1m267/268\u001b[0m \u001b[32m━━━━━━━━━━━━━━━━━━━\u001b[0m\u001b[37m━\u001b[0m \u001b[1m0s\u001b[0m 38ms/step - accuracy: 0.2851 - loss: 2.3350\n",
            "Epoch 2: val_loss improved from 2.29892 to 2.27581, saving model to ../output/experiments/lstm_v2_hyperopt_w64_s16/models/lstm_v2_hybrid_concatenate_best.h5\n"
          ]
        },
        {
          "name": "stderr",
          "output_type": "stream",
          "text": [
            "WARNING:absl:You are saving your model as an HDF5 file via `model.save()` or `keras.saving.save_model(model)`. This file format is considered legacy. We recommend using instead the native Keras format, e.g. `model.save('my_model.keras')` or `keras.saving.save_model(model, 'my_model.keras')`. \n"
          ]
        },
        {
          "name": "stdout",
          "output_type": "stream",
          "text": [
            "\u001b[1m268/268\u001b[0m \u001b[32m━━━━━━━━━━━━━━━━━━━━\u001b[0m\u001b[37m\u001b[0m \u001b[1m11s\u001b[0m 42ms/step - accuracy: 0.2851 - loss: 2.3351 - val_accuracy: 0.3122 - val_loss: 2.2758 - learning_rate: 0.0054\n",
            "Epoch 3/20\n",
            "\u001b[1m268/268\u001b[0m \u001b[32m━━━━━━━━━━━━━━━━━━━━\u001b[0m\u001b[37m\u001b[0m \u001b[1m0s\u001b[0m 44ms/step - accuracy: 0.2882 - loss: 2.3165\n",
            "Epoch 3: val_loss did not improve from 2.27581\n",
            "\u001b[1m268/268\u001b[0m \u001b[32m━━━━━━━━━━━━━━━━━━━━\u001b[0m\u001b[37m\u001b[0m \u001b[1m13s\u001b[0m 47ms/step - accuracy: 0.2883 - loss: 2.3165 - val_accuracy: 0.3056 - val_loss: 2.3093 - learning_rate: 0.0054\n",
            "Epoch 4/20\n",
            "\u001b[1m267/268\u001b[0m \u001b[32m━━━━━━━━━━━━━━━━━━━\u001b[0m\u001b[37m━\u001b[0m \u001b[1m0s\u001b[0m 39ms/step - accuracy: 0.3033 - loss: 2.3202\n",
            "Epoch 4: val_loss improved from 2.27581 to 2.24704, saving model to ../output/experiments/lstm_v2_hyperopt_w64_s16/models/lstm_v2_hybrid_concatenate_best.h5\n"
          ]
        },
        {
          "name": "stderr",
          "output_type": "stream",
          "text": [
            "WARNING:absl:You are saving your model as an HDF5 file via `model.save()` or `keras.saving.save_model(model)`. This file format is considered legacy. We recommend using instead the native Keras format, e.g. `model.save('my_model.keras')` or `keras.saving.save_model(model, 'my_model.keras')`. \n"
          ]
        },
        {
          "name": "stdout",
          "output_type": "stream",
          "text": [
            "\u001b[1m268/268\u001b[0m \u001b[32m━━━━━━━━━━━━━━━━━━━━\u001b[0m\u001b[37m\u001b[0m \u001b[1m11s\u001b[0m 42ms/step - accuracy: 0.3033 - loss: 2.3202 - val_accuracy: 0.3154 - val_loss: 2.2470 - learning_rate: 0.0054\n",
            "Epoch 5/20\n",
            "\u001b[1m267/268\u001b[0m \u001b[32m━━━━━━━━━━━━━━━━━━━\u001b[0m\u001b[37m━\u001b[0m \u001b[1m0s\u001b[0m 36ms/step - accuracy: 0.3323 - loss: 2.2780\n",
            "Epoch 5: val_loss did not improve from 2.24704\n",
            "\u001b[1m268/268\u001b[0m \u001b[32m━━━━━━━━━━━━━━━━━━━━\u001b[0m\u001b[37m\u001b[0m \u001b[1m10s\u001b[0m 39ms/step - accuracy: 0.3323 - loss: 2.2781 - val_accuracy: 0.3313 - val_loss: 2.3105 - learning_rate: 0.0054\n",
            "Epoch 6/20\n",
            "\u001b[1m268/268\u001b[0m \u001b[32m━━━━━━━━━━━━━━━━━━━━\u001b[0m\u001b[37m\u001b[0m \u001b[1m0s\u001b[0m 38ms/step - accuracy: 0.3288 - loss: 2.3092\n",
            "Epoch 6: val_loss did not improve from 2.24704\n",
            "\u001b[1m268/268\u001b[0m \u001b[32m━━━━━━━━━━━━━━━━━━━━\u001b[0m\u001b[37m\u001b[0m \u001b[1m11s\u001b[0m 40ms/step - accuracy: 0.3288 - loss: 2.3092 - val_accuracy: 0.3360 - val_loss: 2.3117 - learning_rate: 0.0054\n",
            "Epoch 7/20\n",
            "\u001b[1m267/268\u001b[0m \u001b[32m━━━━━━━━━━━━━━━━━━━\u001b[0m\u001b[37m━\u001b[0m \u001b[1m0s\u001b[0m 37ms/step - accuracy: 0.3508 - loss: 2.3009\n",
            "Epoch 7: val_loss did not improve from 2.24704\n",
            "\u001b[1m268/268\u001b[0m \u001b[32m━━━━━━━━━━━━━━━━━━━━\u001b[0m\u001b[37m\u001b[0m \u001b[1m11s\u001b[0m 40ms/step - accuracy: 0.3507 - loss: 2.3010 - val_accuracy: 0.3406 - val_loss: 2.3517 - learning_rate: 0.0054\n",
            "Epoch 8/20\n",
            "\u001b[1m267/268\u001b[0m \u001b[32m━━━━━━━━━━━━━━━━━━━\u001b[0m\u001b[37m━\u001b[0m \u001b[1m0s\u001b[0m 40ms/step - accuracy: 0.3470 - loss: 2.2977\n",
            "Epoch 8: val_loss did not improve from 2.24704\n",
            "\u001b[1m268/268\u001b[0m \u001b[32m━━━━━━━━━━━━━━━━━━━━\u001b[0m\u001b[37m\u001b[0m \u001b[1m12s\u001b[0m 43ms/step - accuracy: 0.3470 - loss: 2.2979 - val_accuracy: 0.3411 - val_loss: 2.3038 - learning_rate: 0.0054\n",
            "Epoch 9/20\n",
            "\u001b[1m268/268\u001b[0m \u001b[32m━━━━━━━━━━━━━━━━━━━━\u001b[0m\u001b[37m\u001b[0m \u001b[1m0s\u001b[0m 38ms/step - accuracy: 0.3693 - loss: 2.2929\n",
            "Epoch 9: val_loss improved from 2.24704 to 2.23892, saving model to ../output/experiments/lstm_v2_hyperopt_w64_s16/models/lstm_v2_hybrid_concatenate_best.h5\n"
          ]
        },
        {
          "name": "stderr",
          "output_type": "stream",
          "text": [
            "WARNING:absl:You are saving your model as an HDF5 file via `model.save()` or `keras.saving.save_model(model)`. This file format is considered legacy. We recommend using instead the native Keras format, e.g. `model.save('my_model.keras')` or `keras.saving.save_model(model, 'my_model.keras')`. \n"
          ]
        },
        {
          "name": "stdout",
          "output_type": "stream",
          "text": [
            "\u001b[1m268/268\u001b[0m \u001b[32m━━━━━━━━━━━━━━━━━━━━\u001b[0m\u001b[37m\u001b[0m \u001b[1m11s\u001b[0m 42ms/step - accuracy: 0.3692 - loss: 2.2930 - val_accuracy: 0.3602 - val_loss: 2.2389 - learning_rate: 0.0054\n",
            "Epoch 10/20\n",
            "\u001b[1m268/268\u001b[0m \u001b[32m━━━━━━━━━━━━━━━━━━━━\u001b[0m\u001b[37m\u001b[0m \u001b[1m0s\u001b[0m 38ms/step - accuracy: 0.3674 - loss: 2.2785\n",
            "Epoch 10: val_loss did not improve from 2.23892\n",
            "\u001b[1m268/268\u001b[0m \u001b[32m━━━━━━━━━━━━━━━━━━━━\u001b[0m\u001b[37m\u001b[0m \u001b[1m11s\u001b[0m 41ms/step - accuracy: 0.3674 - loss: 2.2786 - val_accuracy: 0.3630 - val_loss: 2.2827 - learning_rate: 0.0054\n",
            "Epoch 11/20\n",
            "\u001b[1m268/268\u001b[0m \u001b[32m━━━━━━━━━━━━━━━━━━━━\u001b[0m\u001b[37m\u001b[0m \u001b[1m0s\u001b[0m 38ms/step - accuracy: 0.3702 - loss: 2.2868\n",
            "Epoch 11: val_loss did not improve from 2.23892\n",
            "\u001b[1m268/268\u001b[0m \u001b[32m━━━━━━━━━━━━━━━━━━━━\u001b[0m\u001b[37m\u001b[0m \u001b[1m11s\u001b[0m 41ms/step - accuracy: 0.3702 - loss: 2.2869 - val_accuracy: 0.3593 - val_loss: 2.2595 - learning_rate: 0.0054\n",
            "Epoch 12/20\n",
            "\u001b[1m268/268\u001b[0m \u001b[32m━━━━━━━━━━━━━━━━━━━━\u001b[0m\u001b[37m\u001b[0m \u001b[1m0s\u001b[0m 39ms/step - accuracy: 0.3678 - loss: 2.2567\n",
            "Epoch 12: val_loss improved from 2.23892 to 2.22251, saving model to ../output/experiments/lstm_v2_hyperopt_w64_s16/models/lstm_v2_hybrid_concatenate_best.h5\n"
          ]
        },
        {
          "name": "stderr",
          "output_type": "stream",
          "text": [
            "WARNING:absl:You are saving your model as an HDF5 file via `model.save()` or `keras.saving.save_model(model)`. This file format is considered legacy. We recommend using instead the native Keras format, e.g. `model.save('my_model.keras')` or `keras.saving.save_model(model, 'my_model.keras')`. \n"
          ]
        },
        {
          "name": "stdout",
          "output_type": "stream",
          "text": [
            "\u001b[1m268/268\u001b[0m \u001b[32m━━━━━━━━━━━━━━━━━━━━\u001b[0m\u001b[37m\u001b[0m \u001b[1m11s\u001b[0m 42ms/step - accuracy: 0.3678 - loss: 2.2567 - val_accuracy: 0.3901 - val_loss: 2.2225 - learning_rate: 0.0054\n",
            "Epoch 13/20\n",
            "\u001b[1m268/268\u001b[0m \u001b[32m━━━━━━━━━━━━━━━━━━━━\u001b[0m\u001b[37m\u001b[0m \u001b[1m0s\u001b[0m 38ms/step - accuracy: 0.3899 - loss: 2.2138\n",
            "Epoch 13: val_loss did not improve from 2.22251\n",
            "\u001b[1m268/268\u001b[0m \u001b[32m━━━━━━━━━━━━━━━━━━━━\u001b[0m\u001b[37m\u001b[0m \u001b[1m11s\u001b[0m 41ms/step - accuracy: 0.3899 - loss: 2.2140 - val_accuracy: 0.3598 - val_loss: 2.2832 - learning_rate: 0.0054\n",
            "Epoch 14/20\n",
            "\u001b[1m268/268\u001b[0m \u001b[32m━━━━━━━━━━━━━━━━━━━━\u001b[0m\u001b[37m\u001b[0m \u001b[1m0s\u001b[0m 38ms/step - accuracy: 0.3828 - loss: 2.2726\n",
            "Epoch 14: val_loss did not improve from 2.22251\n",
            "\u001b[1m268/268\u001b[0m \u001b[32m━━━━━━━━━━━━━━━━━━━━\u001b[0m\u001b[37m\u001b[0m \u001b[1m11s\u001b[0m 41ms/step - accuracy: 0.3827 - loss: 2.2727 - val_accuracy: 0.3831 - val_loss: 2.2317 - learning_rate: 0.0054\n",
            "Epoch 15/20\n",
            "\u001b[1m267/268\u001b[0m \u001b[32m━━━━━━━━━━━━━━━━━━━\u001b[0m\u001b[37m━\u001b[0m \u001b[1m0s\u001b[0m 36ms/step - accuracy: 0.3935 - loss: 2.2661\n",
            "Epoch 15: val_loss did not improve from 2.22251\n",
            "\u001b[1m268/268\u001b[0m \u001b[32m━━━━━━━━━━━━━━━━━━━━\u001b[0m\u001b[37m\u001b[0m \u001b[1m10s\u001b[0m 39ms/step - accuracy: 0.3935 - loss: 2.2659 - val_accuracy: 0.3920 - val_loss: 2.2529 - learning_rate: 0.0054\n",
            "Epoch 16/20\n",
            "\u001b[1m268/268\u001b[0m \u001b[32m━━━━━━━━━━━━━━━━━━━━\u001b[0m\u001b[37m\u001b[0m \u001b[1m0s\u001b[0m 37ms/step - accuracy: 0.3919 - loss: 2.2484\n",
            "Epoch 16: val_loss improved from 2.22251 to 2.18939, saving model to ../output/experiments/lstm_v2_hyperopt_w64_s16/models/lstm_v2_hybrid_concatenate_best.h5\n"
          ]
        },
        {
          "name": "stderr",
          "output_type": "stream",
          "text": [
            "WARNING:absl:You are saving your model as an HDF5 file via `model.save()` or `keras.saving.save_model(model)`. This file format is considered legacy. We recommend using instead the native Keras format, e.g. `model.save('my_model.keras')` or `keras.saving.save_model(model, 'my_model.keras')`. \n"
          ]
        },
        {
          "name": "stdout",
          "output_type": "stream",
          "text": [
            "\u001b[1m268/268\u001b[0m \u001b[32m━━━━━━━━━━━━━━━━━━━━\u001b[0m\u001b[37m\u001b[0m \u001b[1m11s\u001b[0m 40ms/step - accuracy: 0.3919 - loss: 2.2485 - val_accuracy: 0.4032 - val_loss: 2.1894 - learning_rate: 0.0054\n",
            "Epoch 17/20\n",
            "\u001b[1m267/268\u001b[0m \u001b[32m━━━━━━━━━━━━━━━━━━━\u001b[0m\u001b[37m━\u001b[0m \u001b[1m0s\u001b[0m 36ms/step - accuracy: 0.4084 - loss: 2.2154\n",
            "Epoch 17: val_loss did not improve from 2.18939\n",
            "\u001b[1m268/268\u001b[0m \u001b[32m━━━━━━━━━━━━━━━━━━━━\u001b[0m\u001b[37m\u001b[0m \u001b[1m10s\u001b[0m 38ms/step - accuracy: 0.4084 - loss: 2.2156 - val_accuracy: 0.3920 - val_loss: 2.2199 - learning_rate: 0.0054\n",
            "Epoch 18/20\n",
            "\u001b[1m267/268\u001b[0m \u001b[32m━━━━━━━━━━━━━━━━━━━\u001b[0m\u001b[37m━\u001b[0m \u001b[1m0s\u001b[0m 36ms/step - accuracy: 0.3845 - loss: 2.2431\n",
            "Epoch 18: val_loss did not improve from 2.18939\n",
            "\u001b[1m268/268\u001b[0m \u001b[32m━━━━━━━━━━━━━━━━━━━━\u001b[0m\u001b[37m\u001b[0m \u001b[1m10s\u001b[0m 38ms/step - accuracy: 0.3845 - loss: 2.2433 - val_accuracy: 0.3906 - val_loss: 2.2765 - learning_rate: 0.0054\n",
            "Epoch 19/20\n",
            "\u001b[1m268/268\u001b[0m \u001b[32m━━━━━━━━━━━━━━━━━━━━\u001b[0m\u001b[37m\u001b[0m \u001b[1m0s\u001b[0m 37ms/step - accuracy: 0.3817 - loss: 2.2507\n",
            "Epoch 19: val_loss did not improve from 2.18939\n",
            "\u001b[1m268/268\u001b[0m \u001b[32m━━━━━━━━━━━━━━━━━━━━\u001b[0m\u001b[37m\u001b[0m \u001b[1m11s\u001b[0m 39ms/step - accuracy: 0.3817 - loss: 2.2508 - val_accuracy: 0.3901 - val_loss: 2.2463 - learning_rate: 0.0054\n",
            "Epoch 20/20\n",
            "\u001b[1m268/268\u001b[0m \u001b[32m━━━━━━━━━━━━━━━━━━━━\u001b[0m\u001b[37m\u001b[0m \u001b[1m0s\u001b[0m 38ms/step - accuracy: 0.3941 - loss: 2.2486\n",
            "Epoch 20: val_loss did not improve from 2.18939\n",
            "\u001b[1m268/268\u001b[0m \u001b[32m━━━━━━━━━━━━━━━━━━━━\u001b[0m\u001b[37m\u001b[0m \u001b[1m11s\u001b[0m 41ms/step - accuracy: 0.3941 - loss: 2.2486 - val_accuracy: 0.3994 - val_loss: 2.2608 - learning_rate: 0.0054\n",
            "Restoring model weights from the end of the best epoch: 16.\n",
            "学習完了！学習時間: 228.73秒\n",
            "最良検証Loss: 2.1894\n",
            "最良検証Accuracy: 0.4032\n",
            "ハイブリッドモデル評価中...\n",
            "テストLoss: 2.2504\n",
            "テストAccuracy: 0.4050\n",
            "F1-Score (macro): 0.3597\n",
            "F1-Score (weighted): 0.3756\n",
            "結果保存中...\n",
            "学習履歴保存完了: ../output/experiments/lstm_v2_hyperopt_w64_s16/results/training_history_concatenate.json\n"
          ]
        },
        {
          "name": "stderr",
          "output_type": "stream",
          "text": [
            "[I 2025-07-07 14:09:57,773] Trial 0 finished with value: 0.0 and parameters: {'lstm_units_1': 64, 'lstm_units_2': 64, 'dense_units': 56, 'demographics_dense_units': 24, 'fusion_dense_units': 16, 'dropout_rate': 0.1, 'dense_dropout_rate': 0.1, 'learning_rate': 0.005399484409787433, 'batch_size': 32, 'fusion_type': 'concatenate'}. Best is trial 0 with value: 0.0.\n"
          ]
        },
        {
          "name": "stdout",
          "output_type": "stream",
          "text": [
            "結果保存完了: ../output/experiments/lstm_v2_hyperopt_w64_s16/results\n",
            "評価結果の取得に失敗しました\n",
            "Results keys: ['model', 'history', 'results', 'test_data']\n",
            "Eval results keys: ['test_loss', 'test_accuracy', 'f1_macro', 'f1_weighted', 'predictions', 'probabilities', 'confusion_matrix', 'classification_report']\n",
            "\n",
            "=== Trial 1 ===\n",
            "パラメータ: {'lstm_units_1': 48, 'lstm_units_2': 24, 'dense_units': 32, 'demographics_dense_units': 20, 'fusion_dense_units': 32, 'dropout_rate': 0.2, 'dense_dropout_rate': 0.30000000000000004, 'learning_rate': 0.00019010245319870352, 'batch_size': 64, 'epochs': 20, 'patience': 10, 'reduce_lr_patience': 5, 'use_tqdm': False, 'use_tensorboard': False, 'fusion_type': 'concatenate'}\n",
            "Mixed precision enabled for better GPU performance\n",
            "GPU利用可能: 1台\n",
            "使用GPU: PhysicalDevice(name='/physical_device:GPU:0', device_type='GPU')\n",
            "LSTM v2学習環境初期化完了\n",
            "実験名: lstm_v2_hyperopt\n",
            "ウィンドウ設定: w64_s16\n",
            "出力ディレクトリ: ../output/experiments/lstm_v2_hyperopt_w64_s16\n",
            "前処理済みデータ: ../output/experiments/lstm_v2_w64_s16/preprocessed\n",
            "GPU利用可能: True\n",
            "前処理済みデータを読み込み中...\n",
            "最適化されたdemographics特徴量が見つかりません。オリジナルを使用します\n",
            "データ読み込み完了:\n",
            "  センサーデータ: (13393, 64, 332)\n",
            "  Demographics: (13393, 20)\n",
            "  ラベル: (13393,)\n",
            "  クラス数: 18\n",
            "ハイブリッドモデル学習開始 (融合方式: concatenate)...\n",
            "データ分割中...\n",
            "テストサイズ: 0.2\n",
            "検証サイズ: 0.2\n",
            "データ分割完了:\n",
            "  訓練 - センサー: (8571, 64, 332), Demographics: (8571, 20), ラベル: (8571,)\n",
            "  検証 - センサー: (2143, 64, 332), Demographics: (2143, 20), ラベル: (2143,)\n",
            "  テスト - センサー: (2679, 64, 332), Demographics: (2679, 20), ラベル: (2679,)\n",
            "入力形状:\n",
            "  センサー: (64, 332)\n",
            "  Demographics: (20,)\n",
            "  クラス数: 18\n",
            "GPU上でモデルを作成・学習します\n",
            "Mixed precision enabled for better GPU performance\n",
            "GPU利用可能: 1台\n",
            "使用GPU: PhysicalDevice(name='/physical_device:GPU:0', device_type='GPU')\n",
            "LSTM v2ハイブリッドモデル初期化完了\n",
            "センサー入力形状: (64, 332)\n",
            "Demographics入力形状: (20,)\n",
            "クラス数: 18\n",
            "融合方式: concatenate\n",
            "GPU利用可能: True\n",
            "LSTM v2ハイブリッドモデルを構築中...\n",
            "モデル構築完了\n",
            "総パラメータ数: 84,378\n",
            "\n",
            "=== モデルサマリー ===\n"
          ]
        },
        {
          "data": {
            "text/html": [
              "<pre style=\"white-space:pre;overflow-x:auto;line-height:normal;font-family:Menlo,'DejaVu Sans Mono',consolas,'Courier New',monospace\"><span style=\"font-weight: bold\">Model: \"lstm_v2_hybrid\"</span>\n",
              "</pre>\n"
            ],
            "text/plain": [
              "\u001b[1mModel: \"lstm_v2_hybrid\"\u001b[0m\n"
            ]
          },
          "metadata": {},
          "output_type": "display_data"
        },
        {
          "data": {
            "text/html": [
              "<pre style=\"white-space:pre;overflow-x:auto;line-height:normal;font-family:Menlo,'DejaVu Sans Mono',consolas,'Courier New',monospace\">┏━━━━━━━━━━━━━━━━━━━━━┳━━━━━━━━━━━━━━━━━━━┳━━━━━━━━━━━━┳━━━━━━━━━━━━━━━━━━━┓\n",
              "┃<span style=\"font-weight: bold\"> Layer (type)        </span>┃<span style=\"font-weight: bold\"> Output Shape      </span>┃<span style=\"font-weight: bold\">    Param # </span>┃<span style=\"font-weight: bold\"> Connected to      </span>┃\n",
              "┡━━━━━━━━━━━━━━━━━━━━━╇━━━━━━━━━━━━━━━━━━━╇━━━━━━━━━━━━╇━━━━━━━━━━━━━━━━━━━┩\n",
              "│ sensor_input        │ (<span style=\"color: #00d7ff; text-decoration-color: #00d7ff\">None</span>, <span style=\"color: #00af00; text-decoration-color: #00af00\">64</span>, <span style=\"color: #00af00; text-decoration-color: #00af00\">332</span>)   │          <span style=\"color: #00af00; text-decoration-color: #00af00\">0</span> │ -                 │\n",
              "│ (<span style=\"color: #0087ff; text-decoration-color: #0087ff\">InputLayer</span>)        │                   │            │                   │\n",
              "├─────────────────────┼───────────────────┼────────────┼───────────────────┤\n",
              "│ lstm_1 (<span style=\"color: #0087ff; text-decoration-color: #0087ff\">LSTM</span>)       │ (<span style=\"color: #00d7ff; text-decoration-color: #00d7ff\">None</span>, <span style=\"color: #00af00; text-decoration-color: #00af00\">64</span>, <span style=\"color: #00af00; text-decoration-color: #00af00\">48</span>)    │     <span style=\"color: #00af00; text-decoration-color: #00af00\">73,152</span> │ sensor_input[<span style=\"color: #00af00; text-decoration-color: #00af00\">0</span>][<span style=\"color: #00af00; text-decoration-color: #00af00\">…</span> │\n",
              "├─────────────────────┼───────────────────┼────────────┼───────────────────┤\n",
              "│ lstm_bn_1           │ (<span style=\"color: #00d7ff; text-decoration-color: #00d7ff\">None</span>, <span style=\"color: #00af00; text-decoration-color: #00af00\">64</span>, <span style=\"color: #00af00; text-decoration-color: #00af00\">48</span>)    │        <span style=\"color: #00af00; text-decoration-color: #00af00\">192</span> │ lstm_1[<span style=\"color: #00af00; text-decoration-color: #00af00\">0</span>][<span style=\"color: #00af00; text-decoration-color: #00af00\">0</span>]      │\n",
              "│ (<span style=\"color: #0087ff; text-decoration-color: #0087ff\">BatchNormalizatio…</span> │                   │            │                   │\n",
              "├─────────────────────┼───────────────────┼────────────┼───────────────────┤\n",
              "│ lstm_dropout_1      │ (<span style=\"color: #00d7ff; text-decoration-color: #00d7ff\">None</span>, <span style=\"color: #00af00; text-decoration-color: #00af00\">64</span>, <span style=\"color: #00af00; text-decoration-color: #00af00\">48</span>)    │          <span style=\"color: #00af00; text-decoration-color: #00af00\">0</span> │ lstm_bn_1[<span style=\"color: #00af00; text-decoration-color: #00af00\">0</span>][<span style=\"color: #00af00; text-decoration-color: #00af00\">0</span>]   │\n",
              "│ (<span style=\"color: #0087ff; text-decoration-color: #0087ff\">Dropout</span>)           │                   │            │                   │\n",
              "├─────────────────────┼───────────────────┼────────────┼───────────────────┤\n",
              "│ lstm_2 (<span style=\"color: #0087ff; text-decoration-color: #0087ff\">LSTM</span>)       │ (<span style=\"color: #00d7ff; text-decoration-color: #00d7ff\">None</span>, <span style=\"color: #00af00; text-decoration-color: #00af00\">24</span>)        │      <span style=\"color: #00af00; text-decoration-color: #00af00\">7,008</span> │ lstm_dropout_1[<span style=\"color: #00af00; text-decoration-color: #00af00\">0</span>… │\n",
              "├─────────────────────┼───────────────────┼────────────┼───────────────────┤\n",
              "│ demographics_input  │ (<span style=\"color: #00d7ff; text-decoration-color: #00d7ff\">None</span>, <span style=\"color: #00af00; text-decoration-color: #00af00\">20</span>)        │          <span style=\"color: #00af00; text-decoration-color: #00af00\">0</span> │ -                 │\n",
              "│ (<span style=\"color: #0087ff; text-decoration-color: #0087ff\">InputLayer</span>)        │                   │            │                   │\n",
              "├─────────────────────┼───────────────────┼────────────┼───────────────────┤\n",
              "│ lstm_bn_2           │ (<span style=\"color: #00d7ff; text-decoration-color: #00d7ff\">None</span>, <span style=\"color: #00af00; text-decoration-color: #00af00\">24</span>)        │         <span style=\"color: #00af00; text-decoration-color: #00af00\">96</span> │ lstm_2[<span style=\"color: #00af00; text-decoration-color: #00af00\">0</span>][<span style=\"color: #00af00; text-decoration-color: #00af00\">0</span>]      │\n",
              "│ (<span style=\"color: #0087ff; text-decoration-color: #0087ff\">BatchNormalizatio…</span> │                   │            │                   │\n",
              "├─────────────────────┼───────────────────┼────────────┼───────────────────┤\n",
              "│ demographics_dense… │ (<span style=\"color: #00d7ff; text-decoration-color: #00d7ff\">None</span>, <span style=\"color: #00af00; text-decoration-color: #00af00\">20</span>)        │        <span style=\"color: #00af00; text-decoration-color: #00af00\">420</span> │ demographics_inp… │\n",
              "│ (<span style=\"color: #0087ff; text-decoration-color: #0087ff\">Dense</span>)             │                   │            │                   │\n",
              "├─────────────────────┼───────────────────┼────────────┼───────────────────┤\n",
              "│ lstm_dropout_2      │ (<span style=\"color: #00d7ff; text-decoration-color: #00d7ff\">None</span>, <span style=\"color: #00af00; text-decoration-color: #00af00\">24</span>)        │          <span style=\"color: #00af00; text-decoration-color: #00af00\">0</span> │ lstm_bn_2[<span style=\"color: #00af00; text-decoration-color: #00af00\">0</span>][<span style=\"color: #00af00; text-decoration-color: #00af00\">0</span>]   │\n",
              "│ (<span style=\"color: #0087ff; text-decoration-color: #0087ff\">Dropout</span>)           │                   │            │                   │\n",
              "├─────────────────────┼───────────────────┼────────────┼───────────────────┤\n",
              "│ demographics_dropo… │ (<span style=\"color: #00d7ff; text-decoration-color: #00d7ff\">None</span>, <span style=\"color: #00af00; text-decoration-color: #00af00\">20</span>)        │          <span style=\"color: #00af00; text-decoration-color: #00af00\">0</span> │ demographics_den… │\n",
              "│ (<span style=\"color: #0087ff; text-decoration-color: #0087ff\">Dropout</span>)           │                   │            │                   │\n",
              "├─────────────────────┼───────────────────┼────────────┼───────────────────┤\n",
              "│ sensor_dense        │ (<span style=\"color: #00d7ff; text-decoration-color: #00d7ff\">None</span>, <span style=\"color: #00af00; text-decoration-color: #00af00\">32</span>)        │        <span style=\"color: #00af00; text-decoration-color: #00af00\">800</span> │ lstm_dropout_2[<span style=\"color: #00af00; text-decoration-color: #00af00\">0</span>… │\n",
              "│ (<span style=\"color: #0087ff; text-decoration-color: #0087ff\">Dense</span>)             │                   │            │                   │\n",
              "├─────────────────────┼───────────────────┼────────────┼───────────────────┤\n",
              "│ demographics_dense… │ (<span style=\"color: #00d7ff; text-decoration-color: #00d7ff\">None</span>, <span style=\"color: #00af00; text-decoration-color: #00af00\">20</span>)        │        <span style=\"color: #00af00; text-decoration-color: #00af00\">420</span> │ demographics_dro… │\n",
              "│ (<span style=\"color: #0087ff; text-decoration-color: #0087ff\">Dense</span>)             │                   │            │                   │\n",
              "├─────────────────────┼───────────────────┼────────────┼───────────────────┤\n",
              "│ sensor_dropout      │ (<span style=\"color: #00d7ff; text-decoration-color: #00d7ff\">None</span>, <span style=\"color: #00af00; text-decoration-color: #00af00\">32</span>)        │          <span style=\"color: #00af00; text-decoration-color: #00af00\">0</span> │ sensor_dense[<span style=\"color: #00af00; text-decoration-color: #00af00\">0</span>][<span style=\"color: #00af00; text-decoration-color: #00af00\">…</span> │\n",
              "│ (<span style=\"color: #0087ff; text-decoration-color: #0087ff\">Dropout</span>)           │                   │            │                   │\n",
              "├─────────────────────┼───────────────────┼────────────┼───────────────────┤\n",
              "│ demographics_dropo… │ (<span style=\"color: #00d7ff; text-decoration-color: #00d7ff\">None</span>, <span style=\"color: #00af00; text-decoration-color: #00af00\">20</span>)        │          <span style=\"color: #00af00; text-decoration-color: #00af00\">0</span> │ demographics_den… │\n",
              "│ (<span style=\"color: #0087ff; text-decoration-color: #0087ff\">Dropout</span>)           │                   │            │                   │\n",
              "├─────────────────────┼───────────────────┼────────────┼───────────────────┤\n",
              "│ feature_fusion      │ (<span style=\"color: #00d7ff; text-decoration-color: #00d7ff\">None</span>, <span style=\"color: #00af00; text-decoration-color: #00af00\">52</span>)        │          <span style=\"color: #00af00; text-decoration-color: #00af00\">0</span> │ sensor_dropout[<span style=\"color: #00af00; text-decoration-color: #00af00\">0</span>… │\n",
              "│ (<span style=\"color: #0087ff; text-decoration-color: #0087ff\">Concatenate</span>)       │                   │            │ demographics_dro… │\n",
              "├─────────────────────┼───────────────────┼────────────┼───────────────────┤\n",
              "│ fusion_dense        │ (<span style=\"color: #00d7ff; text-decoration-color: #00d7ff\">None</span>, <span style=\"color: #00af00; text-decoration-color: #00af00\">32</span>)        │      <span style=\"color: #00af00; text-decoration-color: #00af00\">1,696</span> │ feature_fusion[<span style=\"color: #00af00; text-decoration-color: #00af00\">0</span>… │\n",
              "│ (<span style=\"color: #0087ff; text-decoration-color: #0087ff\">Dense</span>)             │                   │            │                   │\n",
              "├─────────────────────┼───────────────────┼────────────┼───────────────────┤\n",
              "│ fusion_dropout      │ (<span style=\"color: #00d7ff; text-decoration-color: #00d7ff\">None</span>, <span style=\"color: #00af00; text-decoration-color: #00af00\">32</span>)        │          <span style=\"color: #00af00; text-decoration-color: #00af00\">0</span> │ fusion_dense[<span style=\"color: #00af00; text-decoration-color: #00af00\">0</span>][<span style=\"color: #00af00; text-decoration-color: #00af00\">…</span> │\n",
              "│ (<span style=\"color: #0087ff; text-decoration-color: #0087ff\">Dropout</span>)           │                   │            │                   │\n",
              "├─────────────────────┼───────────────────┼────────────┼───────────────────┤\n",
              "│ output (<span style=\"color: #0087ff; text-decoration-color: #0087ff\">Dense</span>)      │ (<span style=\"color: #00d7ff; text-decoration-color: #00d7ff\">None</span>, <span style=\"color: #00af00; text-decoration-color: #00af00\">18</span>)        │        <span style=\"color: #00af00; text-decoration-color: #00af00\">594</span> │ fusion_dropout[<span style=\"color: #00af00; text-decoration-color: #00af00\">0</span>… │\n",
              "└─────────────────────┴───────────────────┴────────────┴───────────────────┘\n",
              "</pre>\n"
            ],
            "text/plain": [
              "┏━━━━━━━━━━━━━━━━━━━━━┳━━━━━━━━━━━━━━━━━━━┳━━━━━━━━━━━━┳━━━━━━━━━━━━━━━━━━━┓\n",
              "┃\u001b[1m \u001b[0m\u001b[1mLayer (type)       \u001b[0m\u001b[1m \u001b[0m┃\u001b[1m \u001b[0m\u001b[1mOutput Shape     \u001b[0m\u001b[1m \u001b[0m┃\u001b[1m \u001b[0m\u001b[1m   Param #\u001b[0m\u001b[1m \u001b[0m┃\u001b[1m \u001b[0m\u001b[1mConnected to     \u001b[0m\u001b[1m \u001b[0m┃\n",
              "┡━━━━━━━━━━━━━━━━━━━━━╇━━━━━━━━━━━━━━━━━━━╇━━━━━━━━━━━━╇━━━━━━━━━━━━━━━━━━━┩\n",
              "│ sensor_input        │ (\u001b[38;5;45mNone\u001b[0m, \u001b[38;5;34m64\u001b[0m, \u001b[38;5;34m332\u001b[0m)   │          \u001b[38;5;34m0\u001b[0m │ -                 │\n",
              "│ (\u001b[38;5;33mInputLayer\u001b[0m)        │                   │            │                   │\n",
              "├─────────────────────┼───────────────────┼────────────┼───────────────────┤\n",
              "│ lstm_1 (\u001b[38;5;33mLSTM\u001b[0m)       │ (\u001b[38;5;45mNone\u001b[0m, \u001b[38;5;34m64\u001b[0m, \u001b[38;5;34m48\u001b[0m)    │     \u001b[38;5;34m73,152\u001b[0m │ sensor_input[\u001b[38;5;34m0\u001b[0m][\u001b[38;5;34m…\u001b[0m │\n",
              "├─────────────────────┼───────────────────┼────────────┼───────────────────┤\n",
              "│ lstm_bn_1           │ (\u001b[38;5;45mNone\u001b[0m, \u001b[38;5;34m64\u001b[0m, \u001b[38;5;34m48\u001b[0m)    │        \u001b[38;5;34m192\u001b[0m │ lstm_1[\u001b[38;5;34m0\u001b[0m][\u001b[38;5;34m0\u001b[0m]      │\n",
              "│ (\u001b[38;5;33mBatchNormalizatio…\u001b[0m │                   │            │                   │\n",
              "├─────────────────────┼───────────────────┼────────────┼───────────────────┤\n",
              "│ lstm_dropout_1      │ (\u001b[38;5;45mNone\u001b[0m, \u001b[38;5;34m64\u001b[0m, \u001b[38;5;34m48\u001b[0m)    │          \u001b[38;5;34m0\u001b[0m │ lstm_bn_1[\u001b[38;5;34m0\u001b[0m][\u001b[38;5;34m0\u001b[0m]   │\n",
              "│ (\u001b[38;5;33mDropout\u001b[0m)           │                   │            │                   │\n",
              "├─────────────────────┼───────────────────┼────────────┼───────────────────┤\n",
              "│ lstm_2 (\u001b[38;5;33mLSTM\u001b[0m)       │ (\u001b[38;5;45mNone\u001b[0m, \u001b[38;5;34m24\u001b[0m)        │      \u001b[38;5;34m7,008\u001b[0m │ lstm_dropout_1[\u001b[38;5;34m0\u001b[0m… │\n",
              "├─────────────────────┼───────────────────┼────────────┼───────────────────┤\n",
              "│ demographics_input  │ (\u001b[38;5;45mNone\u001b[0m, \u001b[38;5;34m20\u001b[0m)        │          \u001b[38;5;34m0\u001b[0m │ -                 │\n",
              "│ (\u001b[38;5;33mInputLayer\u001b[0m)        │                   │            │                   │\n",
              "├─────────────────────┼───────────────────┼────────────┼───────────────────┤\n",
              "│ lstm_bn_2           │ (\u001b[38;5;45mNone\u001b[0m, \u001b[38;5;34m24\u001b[0m)        │         \u001b[38;5;34m96\u001b[0m │ lstm_2[\u001b[38;5;34m0\u001b[0m][\u001b[38;5;34m0\u001b[0m]      │\n",
              "│ (\u001b[38;5;33mBatchNormalizatio…\u001b[0m │                   │            │                   │\n",
              "├─────────────────────┼───────────────────┼────────────┼───────────────────┤\n",
              "│ demographics_dense… │ (\u001b[38;5;45mNone\u001b[0m, \u001b[38;5;34m20\u001b[0m)        │        \u001b[38;5;34m420\u001b[0m │ demographics_inp… │\n",
              "│ (\u001b[38;5;33mDense\u001b[0m)             │                   │            │                   │\n",
              "├─────────────────────┼───────────────────┼────────────┼───────────────────┤\n",
              "│ lstm_dropout_2      │ (\u001b[38;5;45mNone\u001b[0m, \u001b[38;5;34m24\u001b[0m)        │          \u001b[38;5;34m0\u001b[0m │ lstm_bn_2[\u001b[38;5;34m0\u001b[0m][\u001b[38;5;34m0\u001b[0m]   │\n",
              "│ (\u001b[38;5;33mDropout\u001b[0m)           │                   │            │                   │\n",
              "├─────────────────────┼───────────────────┼────────────┼───────────────────┤\n",
              "│ demographics_dropo… │ (\u001b[38;5;45mNone\u001b[0m, \u001b[38;5;34m20\u001b[0m)        │          \u001b[38;5;34m0\u001b[0m │ demographics_den… │\n",
              "│ (\u001b[38;5;33mDropout\u001b[0m)           │                   │            │                   │\n",
              "├─────────────────────┼───────────────────┼────────────┼───────────────────┤\n",
              "│ sensor_dense        │ (\u001b[38;5;45mNone\u001b[0m, \u001b[38;5;34m32\u001b[0m)        │        \u001b[38;5;34m800\u001b[0m │ lstm_dropout_2[\u001b[38;5;34m0\u001b[0m… │\n",
              "│ (\u001b[38;5;33mDense\u001b[0m)             │                   │            │                   │\n",
              "├─────────────────────┼───────────────────┼────────────┼───────────────────┤\n",
              "│ demographics_dense… │ (\u001b[38;5;45mNone\u001b[0m, \u001b[38;5;34m20\u001b[0m)        │        \u001b[38;5;34m420\u001b[0m │ demographics_dro… │\n",
              "│ (\u001b[38;5;33mDense\u001b[0m)             │                   │            │                   │\n",
              "├─────────────────────┼───────────────────┼────────────┼───────────────────┤\n",
              "│ sensor_dropout      │ (\u001b[38;5;45mNone\u001b[0m, \u001b[38;5;34m32\u001b[0m)        │          \u001b[38;5;34m0\u001b[0m │ sensor_dense[\u001b[38;5;34m0\u001b[0m][\u001b[38;5;34m…\u001b[0m │\n",
              "│ (\u001b[38;5;33mDropout\u001b[0m)           │                   │            │                   │\n",
              "├─────────────────────┼───────────────────┼────────────┼───────────────────┤\n",
              "│ demographics_dropo… │ (\u001b[38;5;45mNone\u001b[0m, \u001b[38;5;34m20\u001b[0m)        │          \u001b[38;5;34m0\u001b[0m │ demographics_den… │\n",
              "│ (\u001b[38;5;33mDropout\u001b[0m)           │                   │            │                   │\n",
              "├─────────────────────┼───────────────────┼────────────┼───────────────────┤\n",
              "│ feature_fusion      │ (\u001b[38;5;45mNone\u001b[0m, \u001b[38;5;34m52\u001b[0m)        │          \u001b[38;5;34m0\u001b[0m │ sensor_dropout[\u001b[38;5;34m0\u001b[0m… │\n",
              "│ (\u001b[38;5;33mConcatenate\u001b[0m)       │                   │            │ demographics_dro… │\n",
              "├─────────────────────┼───────────────────┼────────────┼───────────────────┤\n",
              "│ fusion_dense        │ (\u001b[38;5;45mNone\u001b[0m, \u001b[38;5;34m32\u001b[0m)        │      \u001b[38;5;34m1,696\u001b[0m │ feature_fusion[\u001b[38;5;34m0\u001b[0m… │\n",
              "│ (\u001b[38;5;33mDense\u001b[0m)             │                   │            │                   │\n",
              "├─────────────────────┼───────────────────┼────────────┼───────────────────┤\n",
              "│ fusion_dropout      │ (\u001b[38;5;45mNone\u001b[0m, \u001b[38;5;34m32\u001b[0m)        │          \u001b[38;5;34m0\u001b[0m │ fusion_dense[\u001b[38;5;34m0\u001b[0m][\u001b[38;5;34m…\u001b[0m │\n",
              "│ (\u001b[38;5;33mDropout\u001b[0m)           │                   │            │                   │\n",
              "├─────────────────────┼───────────────────┼────────────┼───────────────────┤\n",
              "│ output (\u001b[38;5;33mDense\u001b[0m)      │ (\u001b[38;5;45mNone\u001b[0m, \u001b[38;5;34m18\u001b[0m)        │        \u001b[38;5;34m594\u001b[0m │ fusion_dropout[\u001b[38;5;34m0\u001b[0m… │\n",
              "└─────────────────────┴───────────────────┴────────────┴───────────────────┘\n"
            ]
          },
          "metadata": {},
          "output_type": "display_data"
        },
        {
          "data": {
            "text/html": [
              "<pre style=\"white-space:pre;overflow-x:auto;line-height:normal;font-family:Menlo,'DejaVu Sans Mono',consolas,'Courier New',monospace\"><span style=\"font-weight: bold\"> Total params: </span><span style=\"color: #00af00; text-decoration-color: #00af00\">84,378</span> (329.60 KB)\n",
              "</pre>\n"
            ],
            "text/plain": [
              "\u001b[1m Total params: \u001b[0m\u001b[38;5;34m84,378\u001b[0m (329.60 KB)\n"
            ]
          },
          "metadata": {},
          "output_type": "display_data"
        },
        {
          "data": {
            "text/html": [
              "<pre style=\"white-space:pre;overflow-x:auto;line-height:normal;font-family:Menlo,'DejaVu Sans Mono',consolas,'Courier New',monospace\"><span style=\"font-weight: bold\"> Trainable params: </span><span style=\"color: #00af00; text-decoration-color: #00af00\">84,234</span> (329.04 KB)\n",
              "</pre>\n"
            ],
            "text/plain": [
              "\u001b[1m Trainable params: \u001b[0m\u001b[38;5;34m84,234\u001b[0m (329.04 KB)\n"
            ]
          },
          "metadata": {},
          "output_type": "display_data"
        },
        {
          "data": {
            "text/html": [
              "<pre style=\"white-space:pre;overflow-x:auto;line-height:normal;font-family:Menlo,'DejaVu Sans Mono',consolas,'Courier New',monospace\"><span style=\"font-weight: bold\"> Non-trainable params: </span><span style=\"color: #00af00; text-decoration-color: #00af00\">144</span> (576.00 B)\n",
              "</pre>\n"
            ],
            "text/plain": [
              "\u001b[1m Non-trainable params: \u001b[0m\u001b[38;5;34m144\u001b[0m (576.00 B)\n"
            ]
          },
          "metadata": {},
          "output_type": "display_data"
        },
        {
          "name": "stdout",
          "output_type": "stream",
          "text": [
            "ハイブリッドモデル学習開始...\n",
            "センサー訓練データ形状: (8571, 64, 332)\n",
            "Demographics訓練データ形状: (8571, 20)\n",
            "センサー検証データ形状: (2143, 64, 332)\n",
            "Demographics検証データ形状: (2143, 20)\n",
            "訓練ラベル形状: (8571,)\n",
            "検証ラベル形状: (2143,)\n",
            "Epoch 1/20\n",
            "\u001b[1m133/134\u001b[0m \u001b[32m━━━━━━━━━━━━━━━━━━━\u001b[0m\u001b[37m━\u001b[0m \u001b[1m0s\u001b[0m 35ms/step - accuracy: 0.0861 - loss: 3.1615\n",
            "Epoch 1: val_loss improved from inf to 2.87626, saving model to ../output/experiments/lstm_v2_hyperopt_w64_s16/models/lstm_v2_hybrid_concatenate_best.h5\n"
          ]
        },
        {
          "name": "stderr",
          "output_type": "stream",
          "text": [
            "WARNING:absl:You are saving your model as an HDF5 file via `model.save()` or `keras.saving.save_model(model)`. This file format is considered legacy. We recommend using instead the native Keras format, e.g. `model.save('my_model.keras')` or `keras.saving.save_model(model, 'my_model.keras')`. \n"
          ]
        },
        {
          "name": "stdout",
          "output_type": "stream",
          "text": [
            "\u001b[1m134/134\u001b[0m \u001b[32m━━━━━━━━━━━━━━━━━━━━\u001b[0m\u001b[37m\u001b[0m \u001b[1m9s\u001b[0m 45ms/step - accuracy: 0.0862 - loss: 3.1601 - val_accuracy: 0.1251 - val_loss: 2.8763 - learning_rate: 1.9010e-04\n",
            "Epoch 2/20\n",
            "\u001b[1m133/134\u001b[0m \u001b[32m━━━━━━━━━━━━━━━━━━━\u001b[0m\u001b[37m━\u001b[0m \u001b[1m0s\u001b[0m 32ms/step - accuracy: 0.1215 - loss: 2.9112\n",
            "Epoch 2: val_loss improved from 2.87626 to 2.78032, saving model to ../output/experiments/lstm_v2_hyperopt_w64_s16/models/lstm_v2_hybrid_concatenate_best.h5\n"
          ]
        },
        {
          "name": "stderr",
          "output_type": "stream",
          "text": [
            "WARNING:absl:You are saving your model as an HDF5 file via `model.save()` or `keras.saving.save_model(model)`. This file format is considered legacy. We recommend using instead the native Keras format, e.g. `model.save('my_model.keras')` or `keras.saving.save_model(model, 'my_model.keras')`. \n"
          ]
        },
        {
          "name": "stdout",
          "output_type": "stream",
          "text": [
            "\u001b[1m134/134\u001b[0m \u001b[32m━━━━━━━━━━━━━━━━━━━━\u001b[0m\u001b[37m\u001b[0m \u001b[1m5s\u001b[0m 36ms/step - accuracy: 0.1215 - loss: 2.9108 - val_accuracy: 0.1755 - val_loss: 2.7803 - learning_rate: 1.9010e-04\n",
            "Epoch 3/20\n",
            "\u001b[1m134/134\u001b[0m \u001b[32m━━━━━━━━━━━━━━━━━━━━\u001b[0m\u001b[37m\u001b[0m \u001b[1m0s\u001b[0m 32ms/step - accuracy: 0.1429 - loss: 2.8189\n",
            "Epoch 3: val_loss improved from 2.78032 to 2.66881, saving model to ../output/experiments/lstm_v2_hyperopt_w64_s16/models/lstm_v2_hybrid_concatenate_best.h5\n"
          ]
        },
        {
          "name": "stderr",
          "output_type": "stream",
          "text": [
            "WARNING:absl:You are saving your model as an HDF5 file via `model.save()` or `keras.saving.save_model(model)`. This file format is considered legacy. We recommend using instead the native Keras format, e.g. `model.save('my_model.keras')` or `keras.saving.save_model(model, 'my_model.keras')`. \n"
          ]
        },
        {
          "name": "stdout",
          "output_type": "stream",
          "text": [
            "\u001b[1m134/134\u001b[0m \u001b[32m━━━━━━━━━━━━━━━━━━━━\u001b[0m\u001b[37m\u001b[0m \u001b[1m5s\u001b[0m 36ms/step - accuracy: 0.1430 - loss: 2.8187 - val_accuracy: 0.2184 - val_loss: 2.6688 - learning_rate: 1.9010e-04\n",
            "Epoch 4/20\n",
            "\u001b[1m133/134\u001b[0m \u001b[32m━━━━━━━━━━━━━━━━━━━\u001b[0m\u001b[37m━\u001b[0m \u001b[1m0s\u001b[0m 31ms/step - accuracy: 0.1698 - loss: 2.7144\n",
            "Epoch 4: val_loss improved from 2.66881 to 2.56381, saving model to ../output/experiments/lstm_v2_hyperopt_w64_s16/models/lstm_v2_hybrid_concatenate_best.h5\n"
          ]
        },
        {
          "name": "stderr",
          "output_type": "stream",
          "text": [
            "WARNING:absl:You are saving your model as an HDF5 file via `model.save()` or `keras.saving.save_model(model)`. This file format is considered legacy. We recommend using instead the native Keras format, e.g. `model.save('my_model.keras')` or `keras.saving.save_model(model, 'my_model.keras')`. \n"
          ]
        },
        {
          "name": "stdout",
          "output_type": "stream",
          "text": [
            "\u001b[1m134/134\u001b[0m \u001b[32m━━━━━━━━━━━━━━━━━━━━\u001b[0m\u001b[37m\u001b[0m \u001b[1m5s\u001b[0m 34ms/step - accuracy: 0.1699 - loss: 2.7143 - val_accuracy: 0.2389 - val_loss: 2.5638 - learning_rate: 1.9010e-04\n",
            "Epoch 5/20\n",
            "\u001b[1m134/134\u001b[0m \u001b[32m━━━━━━━━━━━━━━━━━━━━\u001b[0m\u001b[37m\u001b[0m \u001b[1m0s\u001b[0m 31ms/step - accuracy: 0.1754 - loss: 2.6538\n",
            "Epoch 5: val_loss improved from 2.56381 to 2.47721, saving model to ../output/experiments/lstm_v2_hyperopt_w64_s16/models/lstm_v2_hybrid_concatenate_best.h5\n"
          ]
        },
        {
          "name": "stderr",
          "output_type": "stream",
          "text": [
            "WARNING:absl:You are saving your model as an HDF5 file via `model.save()` or `keras.saving.save_model(model)`. This file format is considered legacy. We recommend using instead the native Keras format, e.g. `model.save('my_model.keras')` or `keras.saving.save_model(model, 'my_model.keras')`. \n"
          ]
        },
        {
          "name": "stdout",
          "output_type": "stream",
          "text": [
            "\u001b[1m134/134\u001b[0m \u001b[32m━━━━━━━━━━━━━━━━━━━━\u001b[0m\u001b[37m\u001b[0m \u001b[1m5s\u001b[0m 35ms/step - accuracy: 0.1755 - loss: 2.6537 - val_accuracy: 0.2352 - val_loss: 2.4772 - learning_rate: 1.9010e-04\n",
            "Epoch 6/20\n",
            "\u001b[1m133/134\u001b[0m \u001b[32m━━━━━━━━━━━━━━━━━━━\u001b[0m\u001b[37m━\u001b[0m \u001b[1m0s\u001b[0m 32ms/step - accuracy: 0.1985 - loss: 2.5969\n",
            "Epoch 6: val_loss improved from 2.47721 to 2.38006, saving model to ../output/experiments/lstm_v2_hyperopt_w64_s16/models/lstm_v2_hybrid_concatenate_best.h5\n"
          ]
        },
        {
          "name": "stderr",
          "output_type": "stream",
          "text": [
            "WARNING:absl:You are saving your model as an HDF5 file via `model.save()` or `keras.saving.save_model(model)`. This file format is considered legacy. We recommend using instead the native Keras format, e.g. `model.save('my_model.keras')` or `keras.saving.save_model(model, 'my_model.keras')`. \n"
          ]
        },
        {
          "name": "stdout",
          "output_type": "stream",
          "text": [
            "\u001b[1m134/134\u001b[0m \u001b[32m━━━━━━━━━━━━━━━━━━━━\u001b[0m\u001b[37m\u001b[0m \u001b[1m5s\u001b[0m 36ms/step - accuracy: 0.1987 - loss: 2.5965 - val_accuracy: 0.2650 - val_loss: 2.3801 - learning_rate: 1.9010e-04\n",
            "Epoch 7/20\n",
            "\u001b[1m134/134\u001b[0m \u001b[32m━━━━━━━━━━━━━━━━━━━━\u001b[0m\u001b[37m\u001b[0m \u001b[1m0s\u001b[0m 32ms/step - accuracy: 0.2306 - loss: 2.5023\n",
            "Epoch 7: val_loss improved from 2.38006 to 2.30479, saving model to ../output/experiments/lstm_v2_hyperopt_w64_s16/models/lstm_v2_hybrid_concatenate_best.h5\n"
          ]
        },
        {
          "name": "stderr",
          "output_type": "stream",
          "text": [
            "WARNING:absl:You are saving your model as an HDF5 file via `model.save()` or `keras.saving.save_model(model)`. This file format is considered legacy. We recommend using instead the native Keras format, e.g. `model.save('my_model.keras')` or `keras.saving.save_model(model, 'my_model.keras')`. \n"
          ]
        },
        {
          "name": "stdout",
          "output_type": "stream",
          "text": [
            "\u001b[1m134/134\u001b[0m \u001b[32m━━━━━━━━━━━━━━━━━━━━\u001b[0m\u001b[37m\u001b[0m \u001b[1m5s\u001b[0m 36ms/step - accuracy: 0.2306 - loss: 2.5023 - val_accuracy: 0.2804 - val_loss: 2.3048 - learning_rate: 1.9010e-04\n",
            "Epoch 8/20\n",
            "\u001b[1m133/134\u001b[0m \u001b[32m━━━━━━━━━━━━━━━━━━━\u001b[0m\u001b[37m━\u001b[0m \u001b[1m0s\u001b[0m 32ms/step - accuracy: 0.2476 - loss: 2.4035\n",
            "Epoch 8: val_loss improved from 2.30479 to 2.25818, saving model to ../output/experiments/lstm_v2_hyperopt_w64_s16/models/lstm_v2_hybrid_concatenate_best.h5\n"
          ]
        },
        {
          "name": "stderr",
          "output_type": "stream",
          "text": [
            "WARNING:absl:You are saving your model as an HDF5 file via `model.save()` or `keras.saving.save_model(model)`. This file format is considered legacy. We recommend using instead the native Keras format, e.g. `model.save('my_model.keras')` or `keras.saving.save_model(model, 'my_model.keras')`. \n"
          ]
        },
        {
          "name": "stdout",
          "output_type": "stream",
          "text": [
            "\u001b[1m134/134\u001b[0m \u001b[32m━━━━━━━━━━━━━━━━━━━━\u001b[0m\u001b[37m\u001b[0m \u001b[1m5s\u001b[0m 35ms/step - accuracy: 0.2475 - loss: 2.4039 - val_accuracy: 0.2772 - val_loss: 2.2582 - learning_rate: 1.9010e-04\n",
            "Epoch 9/20\n",
            "\u001b[1m133/134\u001b[0m \u001b[32m━━━━━━━━━━━━━━━━━━━\u001b[0m\u001b[37m━\u001b[0m \u001b[1m0s\u001b[0m 31ms/step - accuracy: 0.2495 - loss: 2.3762\n",
            "Epoch 9: val_loss improved from 2.25818 to 2.19752, saving model to ../output/experiments/lstm_v2_hyperopt_w64_s16/models/lstm_v2_hybrid_concatenate_best.h5\n"
          ]
        },
        {
          "name": "stderr",
          "output_type": "stream",
          "text": [
            "WARNING:absl:You are saving your model as an HDF5 file via `model.save()` or `keras.saving.save_model(model)`. This file format is considered legacy. We recommend using instead the native Keras format, e.g. `model.save('my_model.keras')` or `keras.saving.save_model(model, 'my_model.keras')`. \n"
          ]
        },
        {
          "name": "stdout",
          "output_type": "stream",
          "text": [
            "\u001b[1m134/134\u001b[0m \u001b[32m━━━━━━━━━━━━━━━━━━━━\u001b[0m\u001b[37m\u001b[0m \u001b[1m5s\u001b[0m 34ms/step - accuracy: 0.2495 - loss: 2.3762 - val_accuracy: 0.2832 - val_loss: 2.1975 - learning_rate: 1.9010e-04\n",
            "Epoch 10/20\n",
            "\u001b[1m134/134\u001b[0m \u001b[32m━━━━━━━━━━━━━━━━━━━━\u001b[0m\u001b[37m\u001b[0m \u001b[1m0s\u001b[0m 31ms/step - accuracy: 0.2590 - loss: 2.3516\n",
            "Epoch 10: val_loss improved from 2.19752 to 2.16166, saving model to ../output/experiments/lstm_v2_hyperopt_w64_s16/models/lstm_v2_hybrid_concatenate_best.h5\n"
          ]
        },
        {
          "name": "stderr",
          "output_type": "stream",
          "text": [
            "WARNING:absl:You are saving your model as an HDF5 file via `model.save()` or `keras.saving.save_model(model)`. This file format is considered legacy. We recommend using instead the native Keras format, e.g. `model.save('my_model.keras')` or `keras.saving.save_model(model, 'my_model.keras')`. \n"
          ]
        },
        {
          "name": "stdout",
          "output_type": "stream",
          "text": [
            "\u001b[1m134/134\u001b[0m \u001b[32m━━━━━━━━━━━━━━━━━━━━\u001b[0m\u001b[37m\u001b[0m \u001b[1m5s\u001b[0m 35ms/step - accuracy: 0.2590 - loss: 2.3514 - val_accuracy: 0.2982 - val_loss: 2.1617 - learning_rate: 1.9010e-04\n",
            "Epoch 11/20\n",
            "\u001b[1m134/134\u001b[0m \u001b[32m━━━━━━━━━━━━━━━━━━━━\u001b[0m\u001b[37m\u001b[0m \u001b[1m0s\u001b[0m 32ms/step - accuracy: 0.2672 - loss: 2.2970\n",
            "Epoch 11: val_loss improved from 2.16166 to 2.12803, saving model to ../output/experiments/lstm_v2_hyperopt_w64_s16/models/lstm_v2_hybrid_concatenate_best.h5\n"
          ]
        },
        {
          "name": "stderr",
          "output_type": "stream",
          "text": [
            "WARNING:absl:You are saving your model as an HDF5 file via `model.save()` or `keras.saving.save_model(model)`. This file format is considered legacy. We recommend using instead the native Keras format, e.g. `model.save('my_model.keras')` or `keras.saving.save_model(model, 'my_model.keras')`. \n"
          ]
        },
        {
          "name": "stdout",
          "output_type": "stream",
          "text": [
            "\u001b[1m134/134\u001b[0m \u001b[32m━━━━━━━━━━━━━━━━━━━━\u001b[0m\u001b[37m\u001b[0m \u001b[1m5s\u001b[0m 36ms/step - accuracy: 0.2672 - loss: 2.2969 - val_accuracy: 0.2996 - val_loss: 2.1280 - learning_rate: 1.9010e-04\n",
            "Epoch 12/20\n",
            "\u001b[1m133/134\u001b[0m \u001b[32m━━━━━━━━━━━━━━━━━━━\u001b[0m\u001b[37m━\u001b[0m \u001b[1m0s\u001b[0m 31ms/step - accuracy: 0.2766 - loss: 2.2368\n",
            "Epoch 12: val_loss improved from 2.12803 to 2.08301, saving model to ../output/experiments/lstm_v2_hyperopt_w64_s16/models/lstm_v2_hybrid_concatenate_best.h5\n"
          ]
        },
        {
          "name": "stderr",
          "output_type": "stream",
          "text": [
            "WARNING:absl:You are saving your model as an HDF5 file via `model.save()` or `keras.saving.save_model(model)`. This file format is considered legacy. We recommend using instead the native Keras format, e.g. `model.save('my_model.keras')` or `keras.saving.save_model(model, 'my_model.keras')`. \n"
          ]
        },
        {
          "name": "stdout",
          "output_type": "stream",
          "text": [
            "\u001b[1m134/134\u001b[0m \u001b[32m━━━━━━━━━━━━━━━━━━━━\u001b[0m\u001b[37m\u001b[0m \u001b[1m5s\u001b[0m 35ms/step - accuracy: 0.2765 - loss: 2.2370 - val_accuracy: 0.3136 - val_loss: 2.0830 - learning_rate: 1.9010e-04\n",
            "Epoch 13/20\n",
            "\u001b[1m134/134\u001b[0m \u001b[32m━━━━━━━━━━━━━━━━━━━━\u001b[0m\u001b[37m\u001b[0m \u001b[1m0s\u001b[0m 31ms/step - accuracy: 0.2844 - loss: 2.2170\n",
            "Epoch 13: val_loss improved from 2.08301 to 2.05592, saving model to ../output/experiments/lstm_v2_hyperopt_w64_s16/models/lstm_v2_hybrid_concatenate_best.h5\n"
          ]
        },
        {
          "name": "stderr",
          "output_type": "stream",
          "text": [
            "WARNING:absl:You are saving your model as an HDF5 file via `model.save()` or `keras.saving.save_model(model)`. This file format is considered legacy. We recommend using instead the native Keras format, e.g. `model.save('my_model.keras')` or `keras.saving.save_model(model, 'my_model.keras')`. \n"
          ]
        },
        {
          "name": "stdout",
          "output_type": "stream",
          "text": [
            "\u001b[1m134/134\u001b[0m \u001b[32m━━━━━━━━━━━━━━━━━━━━\u001b[0m\u001b[37m\u001b[0m \u001b[1m5s\u001b[0m 34ms/step - accuracy: 0.2844 - loss: 2.2169 - val_accuracy: 0.3220 - val_loss: 2.0559 - learning_rate: 1.9010e-04\n",
            "Epoch 14/20\n",
            "\u001b[1m 54/134\u001b[0m \u001b[32m━━━━━━━━\u001b[0m\u001b[37m━━━━━━━━━━━━\u001b[0m \u001b[1m2s\u001b[0m 34ms/step - accuracy: 0.2989 - loss: 2.1505"
          ]
        },
        {
          "name": "stderr",
          "output_type": "stream",
          "text": [
            "[W 2025-07-07 14:11:22,158] Trial 1 failed with parameters: {'lstm_units_1': 48, 'lstm_units_2': 24, 'dense_units': 32, 'demographics_dense_units': 20, 'fusion_dense_units': 32, 'dropout_rate': 0.2, 'dense_dropout_rate': 0.30000000000000004, 'learning_rate': 0.00019010245319870352, 'batch_size': 64, 'fusion_type': 'concatenate'} because of the following error: KeyboardInterrupt().\n",
            "Traceback (most recent call last):\n",
            "  File \"/mnt/c/Users/ShunK/works/CMI_comp/.venv/lib/python3.11/site-packages/optuna/study/_optimize.py\", line 201, in _run_trial\n",
            "    value_or_values = func(trial)\n",
            "                      ^^^^^^^^^^^\n",
            "  File \"/tmp/ipykernel_99602/2320217177.py\", line 60, in objective\n",
            "    results = trainer.train_model(data, model_params, fusion_type)\n",
            "              ^^^^^^^^^^^^^^^^^^^^^^^^^^^^^^^^^^^^^^^^^^^^^^^^^^^^\n",
            "  File \"/mnt/c/Users/ShunK/works/CMI_comp/notebooks/../src/lstm_v2_trainer.py\", line 324, in train_model\n",
            "    history = model.train(\n",
            "              ^^^^^^^^^^^^\n",
            "  File \"/mnt/c/Users/ShunK/works/CMI_comp/notebooks/../src/lstm_v2_model.py\", line 377, in train\n",
            "    self.history = self.model.fit(\n",
            "                   ^^^^^^^^^^^^^^^\n",
            "  File \"/mnt/c/Users/ShunK/works/CMI_comp/.venv/lib/python3.11/site-packages/keras/src/utils/traceback_utils.py\", line 117, in error_handler\n",
            "    return fn(*args, **kwargs)\n",
            "           ^^^^^^^^^^^^^^^^^^^\n",
            "  File \"/mnt/c/Users/ShunK/works/CMI_comp/.venv/lib/python3.11/site-packages/keras/src/backend/tensorflow/trainer.py\", line 378, in fit\n",
            "    callbacks.on_train_batch_end(step, logs)\n",
            "  File \"/mnt/c/Users/ShunK/works/CMI_comp/.venv/lib/python3.11/site-packages/keras/src/callbacks/callback_list.py\", line 172, in on_train_batch_end\n",
            "    self._on_train_batch_end(batch, logs)\n",
            "  File \"/mnt/c/Users/ShunK/works/CMI_comp/.venv/lib/python3.11/site-packages/keras/src/callbacks/callback_list.py\", line 194, in _on_train_batch_end\n",
            "    callback.on_train_batch_end(batch, logs=logs)\n",
            "  File \"/mnt/c/Users/ShunK/works/CMI_comp/.venv/lib/python3.11/site-packages/keras/src/callbacks/progbar_logger.py\", line 58, in on_train_batch_end\n",
            "    self._update_progbar(batch, logs)\n",
            "  File \"/mnt/c/Users/ShunK/works/CMI_comp/.venv/lib/python3.11/site-packages/keras/src/callbacks/progbar_logger.py\", line 95, in _update_progbar\n",
            "    self.progbar.update(self.seen, list(logs.items()), finalize=False)\n",
            "  File \"/mnt/c/Users/ShunK/works/CMI_comp/.venv/lib/python3.11/site-packages/keras/src/utils/progbar.py\", line 182, in update\n",
            "    io_utils.print_msg(message, line_break=False)\n",
            "  File \"/mnt/c/Users/ShunK/works/CMI_comp/.venv/lib/python3.11/site-packages/keras/src/utils/io_utils.py\", line 107, in print_msg\n",
            "    sys.stdout.flush()\n",
            "  File \"/mnt/c/Users/ShunK/works/CMI_comp/.venv/lib/python3.11/site-packages/ipykernel/iostream.py\", line 606, in flush\n",
            "    evt = threading.Event()\n",
            "          ^^^^^^^^^^^^^^^^^\n",
            "  File \"/home/kimura/miniconda3/lib/python3.11/threading.py\", line 556, in __init__\n",
            "    self._cond = Condition(Lock())\n",
            "                 ^^^^^^^^^^^^^^^^^\n",
            "  File \"/home/kimura/miniconda3/lib/python3.11/threading.py\", line 258, in __init__\n",
            "    self._waiters = _deque()\n",
            "                    ^^^^^^^^\n",
            "KeyboardInterrupt\n",
            "[W 2025-07-07 14:11:22,264] Trial 1 failed with value None.\n"
          ]
        }
      ],
      "source": []
    }
  ],
  "metadata": {
    "kernelspec": {
      "display_name": ".venv",
      "language": "python",
      "name": "python3"
    },
    "language_info": {
      "name": "python",
      "version": "3.11.5"
    }
  },
  "nbformat": 4,
  "nbformat_minor": 2
}
