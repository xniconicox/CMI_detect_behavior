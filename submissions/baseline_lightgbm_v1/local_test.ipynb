{
  "cells": [
    {
      "cell_type": "raw",
      "metadata": {
        "vscode": {
          "languageId": "raw"
        }
      },
      "source": [
        "# CMIコンペ ローカルテスト用ノートブック\n",
        "\n",
        "このノートブックは、Kaggleに提出する前にローカルで推論をテストするためのものです。\n",
        "\n",
        "## 機能\n",
        "- 学習済みモデルの読み込み\n",
        "- テストデータでの推論実行\n",
        "- CMI評価システムを使ったローカルテスト\n",
        "- 結果の確認と分析\n",
        "\n",
        "## 前提条件\n",
        "- 学習済みモデルが `../../output/experiments/baseline_lightgbm_v1/models/` に保存されている\n",
        "- テストデータが `../../data/test.csv` に配置されている\n"
      ]
    },
    {
      "cell_type": "raw",
      "metadata": {
        "vscode": {
          "languageId": "raw"
        }
      },
      "source": [
        "## 1. 環境設定とライブラリのインポート\n"
      ]
    },
    {
      "cell_type": "code",
      "execution_count": null,
      "metadata": {},
      "outputs": [],
      "source": [
        "import os\n",
        "import sys\n",
        "import pandas as pd\n",
        "import numpy as np\n",
        "import polars as pl\n",
        "import lightgbm as lgb\n",
        "from sklearn.preprocessing import LabelEncoder\n",
        "import pickle\n",
        "import warnings\n",
        "warnings.filterwarnings('ignore')\n",
        "\n",
        "# パスの設定\n",
        "print(f\"現在のディレクトリ: {os.getcwd()}\")\n",
        "sys.path.append(os.getcwd())\n",
        "sys.path.append('../../data')\n",
        "\n",
        "print(\"ライブラリのインポート完了\")\n"
      ]
    },
    {
      "cell_type": "raw",
      "metadata": {
        "vscode": {
          "languageId": "raw"
        }
      },
      "source": [
        "## 2. 学習済みモデルの読み込み\n"
      ]
    },
    {
      "cell_type": "code",
      "execution_count": null,
      "metadata": {},
      "outputs": [],
      "source": [
        "# グローバル変数の初期化\n",
        "global_models = None\n",
        "global_le = None\n",
        "global_feature_cols = None\n",
        "\n",
        "def load_saved_model():\n",
        "    \"\"\"\n",
        "    保存されたモデルを読み込み\n",
        "    \"\"\"\n",
        "    global global_models, global_le, global_feature_cols\n",
        "    \n",
        "    # モデルファイルのパスを設定\n",
        "    model_dir = '../../output/experiments/baseline_lightgbm_v1/models/'\n",
        "    \n",
        "    print(f\"モデルディレクトリ: {model_dir}\")\n",
        "    \n",
        "    try:\n",
        "        # 保存されたモデルを読み込み\n",
        "        with open(os.path.join(model_dir, 'trained_models.pkl'), 'rb') as f:\n",
        "            global_models = pickle.load(f)\n",
        "        \n",
        "        # ラベルエンコーダーを読み込み\n",
        "        with open(os.path.join(model_dir, 'label_encoder.pkl'), 'rb') as f:\n",
        "            global_le = pickle.load(f)\n",
        "        \n",
        "        # 特徴量カラムを読み込み\n",
        "        with open(os.path.join(model_dir, 'feature_cols.pkl'), 'rb') as f:\n",
        "            global_feature_cols = pickle.load(f)\n",
        "        \n",
        "        print(\"保存されたモデルの読み込み完了\")\n",
        "        print(f\"モデル数: {len(global_models)}\")\n",
        "        print(f\"クラス数: {len(global_le.classes_)}\")\n",
        "        print(f\"特徴量数: {len(global_feature_cols)}\")\n",
        "        \n",
        "        # クラス名を表示\n",
        "        print(\"\\n予測可能なジェスチャー:\")\n",
        "        for i, class_name in enumerate(global_le.classes_):\n",
        "            print(f\"  {i:2d}: {class_name}\")\n",
        "        \n",
        "    except FileNotFoundError as e:\n",
        "        print(f\"モデルファイルが見つかりません: {e}\")\n",
        "        print(\"事前にモデルを学習・保存してください\")\n",
        "        raise e\n",
        "\n",
        "# モデルを読み込み\n",
        "load_saved_model()\n"
      ]
    },
    {
      "cell_type": "raw",
      "metadata": {
        "vscode": {
          "languageId": "raw"
        }
      },
      "source": [
        "## 3. 特徴量抽出関数の定義\n"
      ]
    },
    {
      "cell_type": "code",
      "execution_count": null,
      "metadata": {},
      "outputs": [],
      "source": [
        "def extract_features(df):\n",
        "    \"\"\"\n",
        "    シーケンス単位の特徴量抽出\n",
        "    \"\"\"\n",
        "    # センサーデータのカラムを特定\n",
        "    sensor_cols = [col for col in df.columns if any(sensor in col for sensor in ['acc_', 'rot_', 'tof_', 'thm_'])]\n",
        "    \n",
        "    # シーケンス単位で統計量を計算\n",
        "    features = {}\n",
        "    \n",
        "    for col in sensor_cols:\n",
        "        if df[col].dtype in ['float64', 'int64']:\n",
        "            # 基本統計量\n",
        "            features[f'{col}_mean'] = df[col].mean()\n",
        "            features[f'{col}_std'] = df[col].std()\n",
        "            features[f'{col}_min'] = df[col].min()\n",
        "            features[f'{col}_max'] = df[col].max()\n",
        "            features[f'{col}_median'] = df[col].median()\n",
        "            \n",
        "            # 分位数\n",
        "            features[f'{col}_q25'] = df[col].quantile(0.25)\n",
        "            features[f'{col}_q75'] = df[col].quantile(0.75)\n",
        "            \n",
        "            # 範囲\n",
        "            features[f'{col}_range'] = df[col].max() - df[col].min()\n",
        "            \n",
        "            # 歪度と尖度\n",
        "            features[f'{col}_skew'] = df[col].skew()\n",
        "            features[f'{col}_kurtosis'] = df[col].kurtosis()\n",
        "    \n",
        "    return features\n",
        "\n",
        "print(\"特徴量抽出関数の定義完了\")\n"
      ]
    },
    {
      "cell_type": "raw",
      "metadata": {
        "vscode": {
          "languageId": "raw"
        }
      },
      "source": [
        "## 4. 推論関数の定義\n"
      ]
    },
    {
      "cell_type": "code",
      "execution_count": null,
      "metadata": {},
      "outputs": [],
      "source": [
        "def predict_gesture(sequence_df):\n",
        "    \"\"\"\n",
        "    シーケンスデータからジェスチャーを予測\n",
        "    \"\"\"\n",
        "    global global_models, global_le, global_feature_cols\n",
        "    \n",
        "    # モデルが正しく読み込まれているかチェック\n",
        "    if global_models is None or global_le is None or global_feature_cols is None:\n",
        "        raise ValueError(\"モデルの読み込みに失敗しました\")\n",
        "    \n",
        "    # 特徴量抽出\n",
        "    features = extract_features(sequence_df)\n",
        "    \n",
        "    # 特徴量をDataFrameに変換\n",
        "    feature_df = pd.DataFrame([features])\n",
        "    \n",
        "    # 必要な特徴量カラムのみ選択\n",
        "    feature_df = feature_df[global_feature_cols]\n",
        "    \n",
        "    # 予測（アンサンブル）\n",
        "    predictions = []\n",
        "    for model in global_models:\n",
        "        pred = model.predict(feature_df, num_iteration=model.best_iteration)\n",
        "        predictions.append(pred)\n",
        "    \n",
        "    # 平均予測\n",
        "    avg_pred = np.mean(predictions, axis=0)\n",
        "    predicted_class = np.argmax(avg_pred)\n",
        "    \n",
        "    # クラス名に変換\n",
        "    predicted_gesture = global_le.inverse_transform([predicted_class])[0]\n",
        "    \n",
        "    return predicted_gesture, avg_pred\n",
        "\n",
        "print(\"推論関数の定義完了\")\n"
      ]
    },
    {
      "cell_type": "raw",
      "metadata": {
        "vscode": {
          "languageId": "raw"
        }
      },
      "source": [
        "## 5. テストデータの読み込み\n"
      ]
    },
    {
      "cell_type": "code",
      "execution_count": null,
      "metadata": {},
      "outputs": [],
      "source": [
        "# テストデータの読み込み\n",
        "test_data = pd.read_csv('../../data/test.csv')\n",
        "test_demographics = pd.read_csv('../../data/test_demographics.csv')\n",
        "\n",
        "print(f\"テストデータの形状: {test_data.shape}\")\n",
        "print(f\"テスト人口統計データの形状: {test_demographics.shape}\")\n",
        "\n",
        "# シーケンスIDを確認\n",
        "test_sequence_ids = test_data['sequence_id'].unique()\n",
        "print(f\"テストシーケンス数: {len(test_sequence_ids)}\")\n",
        "print(f\"テストシーケンスID: {test_sequence_ids}\")\n",
        "\n",
        "# データの基本情報を表示\n",
        "print(\"\\nテストデータの基本情報:\")\n",
        "print(test_data.head())\n"
      ]
    },
    {
      "cell_type": "raw",
      "metadata": {
        "vscode": {
          "languageId": "raw"
        }
      },
      "source": [
        "## 6. 個別シーケンスでの推論テスト\n"
      ]
    },
    {
      "cell_type": "code",
      "execution_count": null,
      "metadata": {},
      "outputs": [],
      "source": [
        "# 各テストシーケンスで推論をテスト\n",
        "test_results = []\n",
        "\n",
        "for sequence_id in test_sequence_ids:\n",
        "    print(f\"\\n=== シーケンス {sequence_id} の推論テスト ===\")\n",
        "    \n",
        "    # 該当シーケンスのデータを取得\n",
        "    sequence_data = test_data[test_data['sequence_id'] == sequence_id]\n",
        "    \n",
        "    print(f\"シーケンスデータ数: {len(sequence_data)}\")\n",
        "    \n",
        "    # 推論実行\n",
        "    try:\n",
        "        predicted_gesture, prediction_probs = predict_gesture(sequence_data)\n",
        "        \n",
        "        print(f\"予測結果: {predicted_gesture}\")\n",
        "        print(f\"予測確率: {prediction_probs.max():.4f}\")\n",
        "        \n",
        "        # 結果を保存\n",
        "        test_results.append({\n",
        "            'sequence_id': sequence_id,\n",
        "            'predicted_gesture': predicted_gesture,\n",
        "            'confidence': prediction_probs.max(),\n",
        "            'prediction_probs': prediction_probs\n",
        "        })\n",
        "        \n",
        "        # 上位3の予測を表示\n",
        "        top_3_indices = np.argsort(prediction_probs)[-3:][::-1]\n",
        "        print(\"予測トップ3:\")\n",
        "        for i, idx in enumerate(top_3_indices):\n",
        "            gesture_name = global_le.inverse_transform([idx])[0]\n",
        "            prob = prediction_probs[idx]\n",
        "            print(f\"  {i+1}: {gesture_name} ({prob:.4f})\")\n",
        "        \n",
        "    except Exception as e:\n",
        "        print(f\"エラーが発生しました: {e}\")\n",
        "        test_results.append({\n",
        "            'sequence_id': sequence_id,\n",
        "            'predicted_gesture': 'ERROR',\n",
        "            'confidence': 0.0,\n",
        "            'error': str(e)\n",
        "        })\n",
        "\n",
        "print(\"\\n=== 全シーケンスの推論テスト完了 ===\")\n"
      ]
    },
    {
      "cell_type": "raw",
      "metadata": {
        "vscode": {
          "languageId": "raw"
        }
      },
      "source": [
        "## 7. 結果の確認と分析\n"
      ]
    },
    {
      "cell_type": "code",
      "execution_count": null,
      "metadata": {},
      "outputs": [],
      "source": [
        "# 結果をDataFrameに変換\n",
        "results_df = pd.DataFrame(test_results)\n",
        "print(\"推論結果の概要:\")\n",
        "print(results_df[['sequence_id', 'predicted_gesture', 'confidence']])\n",
        "\n",
        "# 提出ファイル形式の作成\n",
        "submission_df = results_df[['sequence_id', 'predicted_gesture']].copy()\n",
        "submission_df.columns = ['sequence_id', 'gesture']\n",
        "\n",
        "print(\"\\n提出ファイル形式:\")\n",
        "print(submission_df)\n",
        "\n",
        "# 提出ファイルを保存\n",
        "submission_df.to_csv('local_test_submission.csv', index=False)\n",
        "print(\"\\n提出ファイルを 'local_test_submission.csv' に保存しました\")\n"
      ]
    },
    {
      "cell_type": "raw",
      "metadata": {
        "vscode": {
          "languageId": "raw"
        }
      },
      "source": [
        "## 8. 最終確認\n"
      ]
    },
    {
      "cell_type": "code",
      "execution_count": null,
      "metadata": {},
      "outputs": [],
      "source": [
        "print(\"=== ローカルテスト完了 ===\")\n",
        "print(f\"✅ 学習済みモデルの読み込み: 成功 ({len(global_models)}個のモデル)\")\n",
        "print(f\"✅ 特徴量抽出: 成功 ({len(global_feature_cols)}個の特徴量)\")\n",
        "print(f\"✅ 推論テスト: 成功 ({len(test_results)}個のシーケンス)\")\n",
        "print(f\"✅ 提出ファイル作成: 成功 (local_test_submission.csv)\")\n",
        "\n",
        "# エラーがあった場合の報告\n",
        "error_count = sum(1 for result in test_results if result['predicted_gesture'] == 'ERROR')\n",
        "if error_count > 0:\n",
        "    print(f\"⚠️  エラーが発生したシーケンス: {error_count}個\")\n",
        "else:\n",
        "    print(\"✅ 全シーケンスで正常に推論完了\")\n",
        "\n",
        "print(\"\\n次のステップ:\")\n",
        "print(\"1. 結果を確認し、推論が正常に動作することを確認\")\n",
        "print(\"2. cmi-2025-baseline-submission-final.ipynb を Kaggle に提出\")\n",
        "print(\"3. Kaggle環境でのテストを実行\")\n",
        "\n",
        "print(\"\\n🎉 ローカルテストが完了しました！\")\n"
      ]
    }
  ],
  "metadata": {
    "kernelspec": {
      "display_name": ".venv",
      "language": "python",
      "name": "python3"
    },
    "language_info": {
      "codemirror_mode": {
        "name": "ipython",
        "version": 3
      },
      "file_extension": ".py",
      "mimetype": "text/x-python",
      "name": "python",
      "nbconvert_exporter": "python",
      "pygments_lexer": "ipython3",
      "version": "3.11.5"
    }
  },
  "nbformat": 4,
  "nbformat_minor": 2
}
