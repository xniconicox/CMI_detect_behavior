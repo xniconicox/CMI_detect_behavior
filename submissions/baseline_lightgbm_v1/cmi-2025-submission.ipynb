{
  "cells": [
    {
      "cell_type": "markdown",
      "metadata": {
        "vscode": {
          "languageId": "raw"
        }
      },
      "source": [
        "# CMI Competition - Submission Notebook\n",
        "\n",
        "This notebook is for the final submission to the CMI Competition: \"Detecting Behavior with Sensor Data\".\n",
        "\n",
        "## Overview\n",
        "- **Algorithm**: LightGBM (Multi-class Classification)\n",
        "- **Features**: Statistical features from sensor data (mean, std, quantiles, etc.)\n",
        "- **Model**: 5-fold CV ensemble\n",
        "- **Target**: 18-class gesture classification\n",
        "\n",
        "## Model Performance\n",
        "- **Cross-validation F1 Score**: 0.5890 (macro average)\n",
        "- **Training samples**: 102,040 sequences\n",
        "- **Features**: 2,324 statistical features\n",
        "\n",
        "## Required Data Sources\n",
        "- `cmi-baseline-models`: Pre-trained model files\n",
        "- `cmi-detect-behavior-with-sensor-data`: Competition data\n"
      ]
    },
    {
      "cell_type": "code",
      "execution_count": 1,
      "metadata": {},
      "outputs": [
        {
          "name": "stdout",
          "output_type": "stream",
          "text": [
            "Libraries imported successfully\n"
          ]
        }
      ],
      "source": [
        "import os\n",
        "import polars as pl\n",
        "\n",
        "# Import CMI evaluation system\n",
        "import kaggle_evaluation.cmi_inference_server\n",
        "\n",
        "# Import our inference module\n",
        "from model_inference import predict_gesture\n",
        "\n",
        "print(\"Libraries imported successfully\")\n"
      ]
    },
    {
      "cell_type": "markdown",
      "metadata": {
        "vscode": {
          "languageId": "raw"
        }
      },
      "source": [
        "The evaluation API requires that you set up a server which will respond to inference requests. We have already defined the server; you just need write the predict function. When we evaluate your submission on the hidden test set the client defined in the gateway will run in a different container with direct access to the hidden test set and hand off the one sequence at a time.\n",
        "\n",
        "Your code will always have access to the published copies of the files.\n"
      ]
    },
    {
      "cell_type": "code",
      "execution_count": null,
      "metadata": {},
      "outputs": [
        {
          "name": "stdout",
          "output_type": "stream",
          "text": [
            "Kaggle evaluation prediction function defined\n"
          ]
        }
      ],
      "source": [
        "def predict(sequence: pl.DataFrame, demographics: pl.DataFrame) -> str:\n",
        "    \"\"\"\n",
        "    Main prediction function for Kaggle evaluation system\n",
        "    \n",
        "    Args:\n",
        "        sequence: Polars DataFrame containing sensor data sequence\n",
        "        demographics: Polars DataFrame containing participant demographics\n",
        "    \n",
        "    Returns:\n",
        "        str: Predicted gesture name\n",
        "    \"\"\"\n",
        "    # Convert Polars DataFrame to Pandas DataFrame\n",
        "    sequence_df = sequence.to_pandas()\n",
        "    \n",
        "    # Predict gesture using our trained models\n",
        "    gesture = predict_gesture(sequence_df)\n",
        "    \n",
        "    return gesture\n",
        "\n",
        "\n",
        "print(\"Kaggle evaluation prediction function defined\")\n"
      ]
    },
    {
      "cell_type": "code",
      "execution_count": 3,
      "metadata": {},
      "outputs": [
        {
          "name": "stdout",
          "output_type": "stream",
          "text": [
            "Pre-trained models loaded successfully\n",
            "Number of models: 5\n",
            "Number of classes: 18\n",
            "Number of features: 2324\n"
          ]
        }
      ],
      "source": [
        "# Initialize the inference server\n",
        "inference_server = kaggle_evaluation.cmi_inference_server.CMIInferenceServer(predict)\n",
        "\n",
        "# Start the server\n",
        "if os.getenv('KAGGLE_IS_COMPETITION_RERUN'):\n",
        "    # Competition evaluation mode\n",
        "    inference_server.serve()\n",
        "else:\n",
        "    # Local testing mode\n",
        "    inference_server.run_local_gateway(\n",
        "        data_paths=(\n",
        "        # '/kaggle/input/cmi-detect-behavior-with-sensor-data/test.csv',\n",
        "        # '/kaggle/input/cmi-detect-behavior-with-sensor-data/test_demographics.csv',\n",
        "        '../../data/test.csv',\n",
        "        '../../data/test_demographics.csv',\n",
        "        )\n",
        "    )\n"
      ]
    },
    {
      "cell_type": "raw",
      "metadata": {
        "vscode": {
          "languageId": "raw"
        }
      },
      "source": [
        "## Submission Instructions\n",
        "\n",
        "### 1. Upload Pre-trained Models as Kaggle Dataset\n",
        "- Compress the following files from `output/experiments/baseline_lightgbm_v1/models/`:\n",
        "  - `trained_models.pkl` (5-fold CV ensemble)\n",
        "  - `label_encoder.pkl` (gesture label encoder)\n",
        "  - `feature_cols.pkl` (feature column names)\n",
        "- Create a new Kaggle dataset named `cmi-baseline-models` and upload the compressed file\n",
        "\n",
        "### 2. Setup Notebook Data Sources\n",
        "- Add the following data sources to your Kaggle notebook:\n",
        "  - `cmi-detect-behavior-with-sensor-data` (competition data)\n",
        "  - `cmi-baseline-models` (your pre-trained models)\n",
        "\n",
        "### 3. Submit to Competition\n",
        "- Save the notebook\n",
        "- Click \"Submit to Competition\"\n",
        "- Wait for evaluation results\n"
      ]
    }
  ],
  "metadata": {
    "kernelspec": {
      "display_name": ".venv",
      "language": "python",
      "name": "python3"
    },
    "language_info": {
      "codemirror_mode": {
        "name": "ipython",
        "version": 3
      },
      "file_extension": ".py",
      "mimetype": "text/x-python",
      "name": "python",
      "nbconvert_exporter": "python",
      "pygments_lexer": "ipython3",
      "version": "3.11.5"
    }
  },
  "nbformat": 4,
  "nbformat_minor": 2
}
