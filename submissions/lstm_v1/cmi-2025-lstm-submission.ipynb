{
  "cells": [
    {
      "cell_type": "raw",
      "metadata": {
        "vscode": {
          "languageId": "raw"
        }
      },
      "source": [
        "# CMI Competition - LSTM Submission Notebook\n",
        "\n",
        "This notebook is for the final submission to the CMI Competition: \"Detecting Behavior with Sensor Data\".\n",
        "\n",
        "## Overview\n",
        "- **Algorithm**: LSTM (Long Short-Term Memory)\n",
        "- **Features**: Raw sensor data with sliding windows\n",
        "- **Window Size**: 64 timesteps\n",
        "- **Stride**: 16 timesteps\n",
        "- **Target**: 18-class gesture classification\n",
        "\n",
        "## Model Performance\n",
        "- **F1-macro Score**: 0.5200\n",
        "- **Accuracy**: 0.5558\n",
        "- **Window Configuration**: w64_s16\n",
        "- **Training Data**: 13,393 windows from sensor sequences\n",
        "\n",
        "## Required Data Sources\n",
        "- `cmi-lstm-models-v1`: Pre-trained LSTM model files\n",
        "- `cmi-detect-behavior-with-sensor-data`: Competition data\n",
        "\n",
        "## License Information\n",
        "All libraries used are free and open-source:\n",
        "- TensorFlow/Keras: Apache 2.0 License\n",
        "- NumPy, Pandas, Scikit-learn: BSD License\n",
        "- Polars: MIT License\n"
      ]
    },
    {
      "cell_type": "code",
      "execution_count": null,
      "metadata": {},
      "outputs": [],
      "source": [
        "import os\n",
        "import polars as pl\n",
        "import tensorflow as tf\n",
        "\n",
        "# Import CMI evaluation system\n",
        "import kaggle_evaluation.cmi_inference_server\n",
        "\n",
        "# Import our inference module\n",
        "from model_inference import predict_gesture\n",
        "\n",
        "print(\"Libraries imported successfully\")\n",
        "print(f\"TensorFlow version: {tf.__version__}\")\n"
      ]
    },
    {
      "cell_type": "code",
      "execution_count": null,
      "metadata": {},
      "outputs": [],
      "source": [
        "def predict(sequence: pl.DataFrame, demographics: pl.DataFrame) -> str:\n",
        "    \"\"\"\n",
        "    Main prediction function for Kaggle evaluation system\n",
        "    \n",
        "    Args:\n",
        "        sequence: Polars DataFrame containing sensor data sequence\n",
        "        demographics: Polars DataFrame containing participant demographics\n",
        "    \n",
        "    Returns:\n",
        "        str: Predicted gesture name\n",
        "    \"\"\"\n",
        "    # Convert Polars DataFrame to Pandas DataFrame\n",
        "    sequence_df = sequence.to_pandas()\n",
        "    \n",
        "    # Predict gesture using our trained LSTM model\n",
        "    gesture = predict_gesture(sequence_df)\n",
        "    \n",
        "    return gesture\n",
        "\n",
        "\n",
        "print(\"Kaggle evaluation prediction function defined\")\n"
      ]
    },
    {
      "cell_type": "code",
      "execution_count": null,
      "metadata": {},
      "outputs": [],
      "source": [
        "# Initialize the inference server\n",
        "inference_server = kaggle_evaluation.cmi_inference_server.CMIInferenceServer(predict)\n",
        "\n",
        "# Start the server\n",
        "if os.getenv('KAGGLE_IS_COMPETITION_RERUN'):\n",
        "    # Competition evaluation mode\n",
        "    inference_server.serve()\n",
        "else:\n",
        "    # Local testing mode (fallback)\n",
        "    inference_server.run_local_gateway(\n",
        "        data_paths=(\n",
        "            '/kaggle/input/cmi-detect-behavior-with-sensor-data/test.csv',\n",
        "            '/kaggle/input/cmi-detect-behavior-with-sensor-data/test_demographics.csv',\n",
        "        )\n",
        "    )\n"
      ]
    },
    {
      "cell_type": "raw",
      "metadata": {
        "vscode": {
          "languageId": "raw"
        }
      },
      "source": [
        "## Submission Instructions\n",
        "\n",
        "### 1. Upload Pre-trained Models as Kaggle Dataset\n",
        "- Compress the following files from `output/experiments/lstm_w64_s16_final_model/models/`:\n",
        "  - `lstm_best.h5` (trained LSTM model)\n",
        "  - `lstm_best_architecture.json` (model architecture)\n",
        "  - `scaler.pkl` (feature scaler)\n",
        "  - `label_encoder.pkl` (gesture label encoder)\n",
        "  - `config.json` (model configuration)\n",
        "  - `meta.json` (metadata)\n",
        "- Create a new Kaggle dataset named `cmi-lstm-models-v1` and upload the compressed file\n",
        "\n",
        "### 2. Setup Notebook Data Sources\n",
        "- Add the following data sources to your Kaggle notebook:\n",
        "  - `cmi-detect-behavior-with-sensor-data` (competition data)\n",
        "  - `cmi-lstm-models-v1` (your pre-trained LSTM models)\n",
        "\n",
        "### 3. Submit to Competition\n",
        "- Save the notebook\n",
        "- Click \"Submit to Competition\"\n",
        "- Wait for evaluation results\n",
        "\n",
        "### 4. Model Details\n",
        "- **Architecture**: Bidirectional LSTM with 2 layers\n",
        "- **Input**: (batch_size, 64, 332) - 64 timesteps, 332 sensor features\n",
        "- **Output**: 18 gesture classes\n",
        "- **Preprocessing**: StandardScaler normalization\n",
        "- **Inference**: Sliding window approach with majority voting\n"
      ]
    }
  ],
  "metadata": {
    "kernelspec": {
      "display_name": ".venv",
      "language": "python",
      "name": "python3"
    },
    "language_info": {
      "codemirror_mode": {
        "name": "ipython",
        "version": 3
      },
      "file_extension": ".py",
      "mimetype": "text/x-python",
      "name": "python",
      "nbconvert_exporter": "python",
      "pygments_lexer": "ipython3",
      "version": "3.11.5"
    }
  },
  "nbformat": 4,
  "nbformat_minor": 2
}
