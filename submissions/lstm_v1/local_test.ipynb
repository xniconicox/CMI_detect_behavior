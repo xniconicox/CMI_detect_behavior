{
  "cells": [
    {
      "cell_type": "markdown",
      "metadata": {
        "vscode": {
          "languageId": "raw"
        }
      },
      "source": [
        "# LSTM Model Local Testing\n",
        "\n",
        "This notebook is for local testing of the LSTM model before Kaggle submission.\n",
        "\n",
        "## Purpose\n",
        "- Test model loading and inference\n",
        "- Verify prediction functionality\n",
        "- Check performance with local test data\n",
        "- Validate the submission pipeline locally\n"
      ]
    },
    {
      "cell_type": "code",
      "execution_count": 2,
      "metadata": {},
      "outputs": [
        {
          "name": "stdout",
          "output_type": "stream",
          "text": [
            "Libraries imported successfully\n",
            "TensorFlow version: 2.19.0\n"
          ]
        }
      ],
      "source": [
        "import os\n",
        "import polars as pl\n",
        "import tensorflow as tf\n",
        "import sys\n",
        "\n",
        "# Add the kaggle_evaluation directory to the path\n",
        "sys.path.append('../../data/')\n",
        "\n",
        "# Import CMI evaluation system\n",
        "import kaggle_evaluation.cmi_inference_server\n",
        "\n",
        "# Import our inference module\n",
        "from model_inference import predict_gesture\n",
        "\n",
        "print(\"Libraries imported successfully\")\n",
        "print(f\"TensorFlow version: {tf.__version__}\")\n"
      ]
    },
    {
      "cell_type": "code",
      "execution_count": 3,
      "metadata": {},
      "outputs": [
        {
          "name": "stdout",
          "output_type": "stream",
          "text": [
            "Local prediction function defined\n"
          ]
        }
      ],
      "source": [
        "def predict(sequence: pl.DataFrame, demographics: pl.DataFrame) -> str:\n",
        "    \"\"\"\n",
        "    Main prediction function for local testing\n",
        "    \n",
        "    Args:\n",
        "        sequence: Polars DataFrame containing sensor data sequence\n",
        "        demographics: Polars DataFrame containing participant demographics\n",
        "    \n",
        "    Returns:\n",
        "        str: Predicted gesture name\n",
        "    \"\"\"\n",
        "    # Convert Polars DataFrame to Pandas DataFrame\n",
        "    sequence_df = sequence.to_pandas()\n",
        "    \n",
        "    # Predict gesture using our trained LSTM model\n",
        "    gesture = predict_gesture(sequence_df)\n",
        "    \n",
        "    return gesture\n",
        "\n",
        "\n",
        "print(\"Local prediction function defined\")\n"
      ]
    },
    {
      "cell_type": "code",
      "execution_count": 4,
      "metadata": {},
      "outputs": [
        {
          "name": "stdout",
          "output_type": "stream",
          "text": [
            "Starting local testing...\n"
          ]
        },
        {
          "name": "stderr",
          "output_type": "stream",
          "text": [
            "I0000 00:00:1751798779.551584  123502 gpu_device.cc:2019] Created device /job:localhost/replica:0/task:0/device:GPU:0 with 5660 MB memory:  -> device: 0, name: NVIDIA GeForce RTX 3050, pci bus id: 0000:01:00.0, compute capability: 8.6\n",
            "WARNING:absl:Compiled the loaded model, but the compiled metrics have yet to be built. `model.compile_metrics` will be empty until you train or evaluate the model.\n"
          ]
        },
        {
          "name": "stdout",
          "output_type": "stream",
          "text": [
            "Pre-trained LSTM model loaded successfully\n",
            "Model input shape: (None, 64, 332)\n",
            "Model output shape: (None, 18)\n",
            "Number of classes: 18\n",
            "Window size: 64\n"
          ]
        },
        {
          "name": "stderr",
          "output_type": "stream",
          "text": [
            "I0000 00:00:1751798781.497863  123533 cuda_dnn.cc:529] Loaded cuDNN version 90501\n"
          ]
        }
      ],
      "source": [
        "# Initialize the inference server for local testing\n",
        "inference_server = kaggle_evaluation.cmi_inference_server.CMIInferenceServer(predict)\n",
        "\n",
        "# Run local testing\n",
        "print(\"Starting local testing...\")\n",
        "inference_server.run_local_gateway(\n",
        "    data_paths=(\n",
        "        '../../data/test.csv',\n",
        "        '../../data/test_demographics.csv',\n",
        "    )\n",
        ")\n"
      ]
    },
    {
      "cell_type": "code",
      "execution_count": 7,
      "metadata": {},
      "outputs": [
        {
          "name": "stdout",
          "output_type": "stream",
          "text": [
            "Shape: (2, 2)\n",
            "Columns: ['sequence_id', 'gesture']\n",
            "First 10 rows:\n",
            "  sequence_id              gesture\n",
            "0  SEQ_000001    Neck - pinch skin\n",
            "1  SEQ_000011  Eyelash - pull hair\n",
            "Value counts:\n",
            "gesture\n",
            "Neck - pinch skin      1\n",
            "Eyelash - pull hair    1\n",
            "Name: count, dtype: int64\n"
          ]
        }
      ],
      "source": [
        "import pandas as pd\n",
        "df = pd.read_parquet('submission.parquet')\n",
        "print('Shape:', df.shape)\n",
        "print('Columns:', df.columns.tolist())\n",
        "print('First 10 rows:')\n",
        "print(df.head(10))\n",
        "print('Value counts:')\n",
        "print(df['gesture'].value_counts())"
      ]
    },
    {
      "cell_type": "code",
      "execution_count": null,
      "metadata": {},
      "outputs": [],
      "source": []
    }
  ],
  "metadata": {
    "kernelspec": {
      "display_name": ".venv",
      "language": "python",
      "name": "python3"
    },
    "language_info": {
      "codemirror_mode": {
        "name": "ipython",
        "version": 3
      },
      "file_extension": ".py",
      "mimetype": "text/x-python",
      "name": "python",
      "nbconvert_exporter": "python",
      "pygments_lexer": "ipython3",
      "version": "3.11.5"
    }
  },
  "nbformat": 4,
  "nbformat_minor": 2
}
