{
  "cells": [
    {
      "cell_type": "code",
      "execution_count": null,
      "metadata": {},
      "outputs": [],
      "source": [
        "import os\n",
        "import pandas as pd\n",
        "import polars as pl\n",
        "\n",
        "import kaggle_evaluation.cmi_inference_server\n"
      ]
    },
    {
      "cell_type": "code",
      "execution_count": null,
      "metadata": {},
      "outputs": [],
      "source": [
        "# LSTM推論モジュールをインポート\n",
        "from lstm_inference import predict_gesture\n"
      ]
    },
    {
      "cell_type": "code",
      "execution_count": null,
      "metadata": {},
      "outputs": [],
      "source": [
        "def predict(sequence: pl.DataFrame, demographics: pl.DataFrame) -> str:\n",
        "    \"\"\"\n",
        "    Kaggle評価用の予測関数\n",
        "    \n",
        "    Parameters:\n",
        "    -----------\n",
        "    sequence : pl.DataFrame\n",
        "        センサーデータのシーケンス\n",
        "    demographics : pl.DataFrame\n",
        "        Demographics情報\n",
        "    \n",
        "    Returns:\n",
        "    --------\n",
        "    str : 予測されたジェスチャー名\n",
        "    \"\"\"\n",
        "    # LSTM推論モジュールの関数を呼び出し\n",
        "    return predict_gesture(sequence, demographics)\n"
      ]
    },
    {
      "cell_type": "code",
      "execution_count": null,
      "metadata": {},
      "outputs": [],
      "source": [
        "inference_server = kaggle_evaluation.cmi_inference_server.CMIInferenceServer(predict)\n",
        "\n",
        "if os.getenv('KAGGLE_IS_COMPETITION_RERUN'):\n",
        "    inference_server.serve()\n",
        "else:\n",
        "    inference_server.run_local_gateway(\n",
        "        data_paths=(\n",
        "            '/kaggle/input/cmi-detect-behavior-with-sensor-data/test.csv',\n",
        "            '/kaggle/input/cmi-detect-behavior-with-sensor-data/test_demographics.csv',\n",
        "        )\n",
        "    )\n"
      ]
    }
  ],
  "metadata": {
    "language_info": {
      "name": "python"
    }
  },
  "nbformat": 4,
  "nbformat_minor": 2
}
