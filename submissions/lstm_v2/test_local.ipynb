{
  "cells": [
    {
      "cell_type": "code",
      "execution_count": 6,
      "metadata": {},
      "outputs": [],
      "source": [
        "import os\n",
        "import sys\n",
        "import pandas as pd\n",
        "import polars as pl\n",
        "\n",
        "sys.path.append('../../data')\n",
        "import kaggle_evaluation.cmi_inference_server\n",
        "from preprocessing import CMIPreprocessor\n"
      ]
    },
    {
      "cell_type": "code",
      "execution_count": 7,
      "metadata": {},
      "outputs": [
        {
          "name": "stdout",
          "output_type": "stream",
          "text": [
            "GPU利用可能: 1台\n",
            "✅ センサーScaler読み込み完了\n",
            "✅ DemographicsScaler読み込み完了\n",
            "✅ PCA Transformer作成完了\n",
            "  元の次元数: 18\n",
            "  変換後次元数: 18\n",
            "  累積寄与率: 1.0000\n",
            "モデル読み込み中: /mnt/c/Users/ShunK/works/CMI_comp/submissions/lstm_v2/final_model_20250709_085324.keras\n",
            "✅ モデル読み込み完了\n",
            "✅ 前処理器の初期化が完了しました\n"
          ]
        },
        {
          "name": "stderr",
          "output_type": "stream",
          "text": [
            "/mnt/c/Users/ShunK/works/CMI_comp/.venv/lib/python3.11/site-packages/keras/src/saving/saving_lib.py:802: UserWarning: Skipping variable loading for optimizer 'rmsprop', because it has 26 variables whereas the saved optimizer has 54 variables. \n",
            "  saveable.load_own_variables(weights_store.get(inner_path))\n"
          ]
        }
      ],
      "source": [
        "# 前処理器を初期化\n",
        "preprocessor = CMIPreprocessor()\n",
        "preprocessor.load_preprocessors()\n",
        "preprocessor.load_model()\n",
        "\n",
        "print(\"✅ 前処理器の初期化が完了しました\")\n"
      ]
    },
    {
      "cell_type": "code",
      "execution_count": 8,
      "metadata": {},
      "outputs": [],
      "source": [
        "def predict(sequence: pl.DataFrame, demographics: pl.DataFrame) -> str:\n",
        "    \"\"\"\n",
        "    テスト用の予測関数\n",
        "    \n",
        "    Parameters:\n",
        "    -----------\n",
        "    sequence : pl.DataFrame\n",
        "        センサーデータのシーケンス\n",
        "    demographics : pl.DataFrame\n",
        "        Demographics情報\n",
        "    \n",
        "    Returns:\n",
        "    --------\n",
        "    str : 予測されたジェスチャー名\n",
        "    \"\"\"\n",
        "    # Polars DataFrameをPandas DataFrameに変換\n",
        "    sequence_df = sequence.to_pandas()\n",
        "    demographics_df = demographics.to_pandas()\n",
        "    \n",
        "    # 前処理器を使用して予測\n",
        "    return preprocessor.predict_gesture(sequence_df, demographics_df)\n"
      ]
    },
    {
      "cell_type": "code",
      "execution_count": 9,
      "metadata": {},
      "outputs": [
        {
          "name": "stdout",
          "output_type": "stream",
          "text": [
            "推論開始: sequence_id=SEQ_000011\n",
            "  センサーデータ形状: (51, 332)\n",
            "  センサーカラム数: 332\n",
            "⚠️  シーケンスが短いため、パディングを追加します。\n",
            "  作成されたウィンドウ数: 1\n",
            "  ウィンドウ形状: (1, 64, 332)\n",
            "  正規化後センサーデータ形状: (1, 64, 332)\n",
            "  Demographics特徴量形状: (20,)\n",
            "  18特徴量に削減: (18,)\n",
            "  PCA変換後形状: (1, 18)\n",
            "  正規化後形状: (1, 18)\n",
            "  Demographics特徴量形状: (1, 18)\n",
            "  推論前センサーデータ統計:\n",
            "    - 最小値: -3.449285\n",
            "    - 最大値: 4.365560\n",
            "    - 平均値: -0.420792\n",
            "    - 標準偏差: 0.748877\n",
            "  推論前Demographics統計:\n",
            "    - 最小値: -4018.913574\n",
            "    - 最大値: 275120.812500\n",
            "    - 平均値: 16141.713867\n",
            "    - 標準偏差: 63000.281250\n",
            "⚠️  予測結果にNaN/Infが含まれています\n",
            "  NaN数: 18\n",
            "  Inf数: 0\n",
            "  予測結果の形状: (1, 18)\n",
            "  予測結果の最初の値: [nan nan nan nan nan]\n",
            "  NaN対策: デフォルト予測を使用します\n",
            "  修正後予測結果: [0.05555556 0.05555556 0.05555556 0.05555556 0.05555556]\n",
            "  単一ウィンドウ予測信頼度: 0.0556\n",
            "  予測結果: Above ear - pull hair\n",
            "推論開始: sequence_id=SEQ_000001\n",
            "  センサーデータ形状: (56, 332)\n",
            "  センサーカラム数: 332\n",
            "⚠️  シーケンスが短いため、パディングを追加します。\n",
            "  作成されたウィンドウ数: 1\n",
            "  ウィンドウ形状: (1, 64, 332)\n",
            "  正規化後センサーデータ形状: (1, 64, 332)\n",
            "  Demographics特徴量形状: (20,)\n",
            "  18特徴量に削減: (18,)\n",
            "  PCA変換後形状: (1, 18)\n",
            "  正規化後形状: (1, 18)\n",
            "  Demographics特徴量形状: (1, 18)\n",
            "  推論前センサーデータ統計:\n",
            "    - 最小値: -3.449285\n",
            "    - 最大値: 3.667695\n",
            "    - 平均値: 0.231377\n",
            "    - 標準偏差: 1.132804\n",
            "  推論前Demographics統計:\n",
            "    - 最小値: -4407.560547\n",
            "    - 最大値: 358905.937500\n",
            "    - 平均値: 23975.339844\n",
            "    - 標準偏差: 83244.578125\n",
            "⚠️  予測結果にNaN/Infが含まれています\n",
            "  NaN数: 18\n",
            "  Inf数: 0\n",
            "  予測結果の形状: (1, 18)\n",
            "  予測結果の最初の値: [nan nan nan nan nan]\n",
            "  NaN対策: デフォルト予測を使用します\n",
            "  修正後予測結果: [0.05555556 0.05555556 0.05555556 0.05555556 0.05555556]\n",
            "  単一ウィンドウ予測信頼度: 0.0556\n",
            "  予測結果: Above ear - pull hair\n"
          ]
        }
      ],
      "source": [
        "inference_server = kaggle_evaluation.cmi_inference_server.CMIInferenceServer(predict)\n",
        "\n",
        "if os.getenv('KAGGLE_IS_COMPETITION_RERUN'):\n",
        "    inference_server.serve()\n",
        "else:\n",
        "    # ローカル環境用のパス設定\n",
        "    from pathlib import Path\n",
        "    \n",
        "    current_dir = Path(__file__).parent if '__file__' in globals() else Path('.')\n",
        "    data_dir = current_dir.parent.parent / 'data'\n",
        "    \n",
        "    inference_server.run_local_gateway(\n",
        "        data_paths=(\n",
        "            '../../data/test.csv',\n",
        "            '../../data/test_demographics.csv',\n",
        "        )\n",
        "    )\n"
      ]
    },
    {
      "cell_type": "code",
      "execution_count": 10,
      "metadata": {},
      "outputs": [
        {
          "name": "stdout",
          "output_type": "stream",
          "text": [
            "Shape: (2, 2)\n",
            "Columns: ['sequence_id', 'gesture']\n",
            "First 10 rows:\n",
            "  sequence_id                gesture\n",
            "0  SEQ_000011  Above ear - pull hair\n",
            "1  SEQ_000001  Above ear - pull hair\n",
            "Value counts:\n",
            "gesture\n",
            "Above ear - pull hair    2\n",
            "Name: count, dtype: int64\n"
          ]
        }
      ],
      "source": [
        "import pandas as pd\n",
        "df = pd.read_parquet('submission.parquet')\n",
        "print('Shape:', df.shape)\n",
        "print('Columns:', df.columns.tolist())\n",
        "print('First 10 rows:')\n",
        "print(df.head(10))\n",
        "print('Value counts:')\n",
        "print(df['gesture'].value_counts())"
      ]
    }
  ],
  "metadata": {
    "kernelspec": {
      "display_name": ".venv",
      "language": "python",
      "name": "python3"
    },
    "language_info": {
      "name": "python",
      "version": "3.11.5"
    }
  },
  "nbformat": 4,
  "nbformat_minor": 2
}
